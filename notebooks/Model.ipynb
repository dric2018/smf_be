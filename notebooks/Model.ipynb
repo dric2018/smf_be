{
 "cells": [
  {
   "cell_type": "markdown",
   "id": "11449575-6314-4708-9193-b279891e836c",
   "metadata": {},
   "source": [
    "## Device check"
   ]
  },
  {
   "cell_type": "code",
   "execution_count": 1,
   "id": "2f302c0d-40f1-4bac-bf57-df54c89e72f1",
   "metadata": {},
   "outputs": [
    {
     "name": "stdout",
     "output_type": "stream",
     "text": [
      "Fri Oct 27 01:29:12 2023       \n",
      "+-----------------------------------------------------------------------------+\n",
      "| NVIDIA-SMI 525.60.13    Driver Version: 525.60.13    CUDA Version: 12.0     |\n",
      "|-------------------------------+----------------------+----------------------+\n",
      "| GPU  Name        Persistence-M| Bus-Id        Disp.A | Volatile Uncorr. ECC |\n",
      "| Fan  Temp  Perf  Pwr:Usage/Cap|         Memory-Usage | GPU-Util  Compute M. |\n",
      "|                               |                      |               MIG M. |\n",
      "|===============================+======================+======================|\n",
      "|   0  Tesla V100-SXM2...  On   | 00000000:15:00.0 Off |                    0 |\n",
      "| N/A   27C    P0    40W / 300W |      0MiB / 32768MiB |      0%      Default |\n",
      "|                               |                      |                  N/A |\n",
      "+-------------------------------+----------------------+----------------------+\n",
      "                                                                               \n",
      "+-----------------------------------------------------------------------------+\n",
      "| Processes:                                                                  |\n",
      "|  GPU   GI   CI        PID   Type   Process name                  GPU Memory |\n",
      "|        ID   ID                                                   Usage      |\n",
      "|=============================================================================|\n",
      "|  No running processes found                                                 |\n",
      "+-----------------------------------------------------------------------------+\n"
     ]
    }
   ],
   "source": [
    "!nvidia-smi"
   ]
  },
  {
   "cell_type": "markdown",
   "id": "c33ee382-8c34-4130-99d3-80d5abdfbf1a",
   "metadata": {},
   "source": [
    "## Packages"
   ]
  },
  {
   "cell_type": "code",
   "execution_count": 2,
   "id": "5d150586-d672-4999-9a7f-743a7d0d3854",
   "metadata": {},
   "outputs": [],
   "source": [
    "import warnings\n",
    "warnings.filterwarnings(action=\"ignore\")"
   ]
  },
  {
   "cell_type": "code",
   "execution_count": 68,
   "id": "e2664559-8789-4785-83d6-26327fe5ed23",
   "metadata": {},
   "outputs": [],
   "source": [
    "\n",
    "import lightning.pytorch as pl\n",
    "import logging\n",
    "logging.basicConfig(level=\"INFO\")\n",
    "\n",
    "import math\n",
    "from matplotlib import pyplot\n",
    "\n",
    "import numpy as np\n",
    "\n",
    "import os\n",
    "\n",
    "import pandas as pd\n",
    "from pprint import pprint\n",
    "\n",
    "import sys\n",
    "sys.path.append(\"../src\")\n",
    "\n",
    "import timm\n",
    "from tqdm import tqdm\n",
    "import torch\n",
    "import torch.nn as nn\n",
    "import torch.nn.functional as F\n",
    "from torchinfo import summary"
   ]
  },
  {
   "cell_type": "code",
   "execution_count": 4,
   "id": "b09a35d4-17a4-437a-ad75-cfdbf9215827",
   "metadata": {},
   "outputs": [],
   "source": [
    "os.environ[\"TOKENIZERS_PARALLELISM\"] = \"false\"\n",
    "%load_ext autoreload\n",
    "%autoreload 2"
   ]
  },
  {
   "cell_type": "code",
   "execution_count": 5,
   "id": "5273f979-011c-4122-930a-126665f3c088",
   "metadata": {},
   "outputs": [],
   "source": [
    "from einops import pack, unpack, repeat, reduce, rearrange"
   ]
  },
  {
   "cell_type": "code",
   "execution_count": 50,
   "id": "2ef863cc-4128-49a3-a156-fbdc859a9fd2",
   "metadata": {},
   "outputs": [],
   "source": [
    "import config\n",
    "from dataloader import BEDataset, BEDataModule\n",
    "import token_learner\n",
    "from transformer import PositionalEncoder, MultiHeadSelfAttention, MultiHeadCrossAttention, FeedFowardLayer, LayerNormalization, generate_masks, generate_causal_attention_mask\n",
    "\n",
    "from film_layers import FiLMBlockV2, FiLMEncoder, ResBlockDWConv\n",
    "from rt1 import RT1Encoder\n",
    "from utils.data_utils import History\n",
    "from utils.model_utils import TextEncoder, ImageFeatureExtractor, plot_self_attention, plot_cross_attention\n"
   ]
  },
  {
   "cell_type": "markdown",
   "id": "e425b526-43d7-483b-b3bc-02028bfb4b7b",
   "metadata": {
    "tags": []
   },
   "source": [
    "## Data Module"
   ]
  },
  {
   "cell_type": "code",
   "execution_count": 7,
   "id": "820bb68f-3341-4d6e-9cea-80dbdf2de002",
   "metadata": {},
   "outputs": [
    {
     "name": "stdout",
     "output_type": "stream",
     "text": [
      "Total # examples: 4876\n"
     ]
    },
    {
     "name": "stderr",
     "output_type": "stream",
     "text": [
      "INFO:root:Training on 3915 samples.\n",
      "INFO:root:Validating on 961 samples.\n"
     ]
    }
   ],
   "source": [
    "dm = BEDataModule()\n",
    "dm.setup()"
   ]
  },
  {
   "cell_type": "markdown",
   "id": "fd6bfcb6-3d67-4d4a-934d-95af834e1a07",
   "metadata": {
    "tags": []
   },
   "source": [
    "## Fetch batch"
   ]
  },
  {
   "cell_type": "code",
   "execution_count": 8,
   "id": "e7c22a7a-16f8-4411-8839-8b724fc29869",
   "metadata": {},
   "outputs": [
    {
     "name": "stdout",
     "output_type": "stream",
     "text": [
      "CPU times: user 939 ms, sys: 930 ms, total: 1.87 s\n",
      "Wall time: 4.91 s\n"
     ]
    },
    {
     "data": {
      "text/plain": [
       "torch.Size([4, 3, 288, 288])"
      ]
     },
     "execution_count": 8,
     "metadata": {},
     "output_type": "execute_result"
    }
   ],
   "source": [
    "%%time\n",
    "sample = next(iter(dm.train_dataloader()))\n",
    "sample[\"in_state\"].shape"
   ]
  },
  {
   "cell_type": "markdown",
   "id": "59b32ff7-02ee-4fa3-b3b9-7885f558072b",
   "metadata": {},
   "source": [
    "## Model Design"
   ]
  },
  {
   "cell_type": "markdown",
   "id": "52bcf1ad-8562-458b-b07c-226d1ed3dbe0",
   "metadata": {},
   "source": [
    "<!-- ![RT1 model architecture](../../imgs/rt1+.png) -->\n",
    "<center>\n",
    "    <img src=\"../imgs/rt1+.png\" alt=\"RT1 model architecture\" width=\"300\" height=\"400\">\n",
    "\n",
    "<center>"
   ]
  },
  {
   "cell_type": "markdown",
   "id": "130cea30-c012-4a53-a94b-7651270e4c38",
   "metadata": {},
   "source": [
    "### Encoder"
   ]
  },
  {
   "cell_type": "markdown",
   "id": "2c4d547d-b935-42b3-bafa-ded2cddaec51",
   "metadata": {
    "jp-MarkdownHeadingCollapsed": true,
    "tags": []
   },
   "source": [
    "#### Test Text Encoder"
   ]
  },
  {
   "cell_type": "code",
   "execution_count": 110,
   "id": "2cbe10a4-0a68-429f-a18c-dfb4012920ff",
   "metadata": {},
   "outputs": [],
   "source": [
    "# te = TextEncoder(freeze=True).cuda()\n",
    "# summary(model=te, col_names=[\"num_params\", \"trainable\"])"
   ]
  },
  {
   "cell_type": "code",
   "execution_count": 109,
   "id": "1790e904-591d-4ee3-8ae3-f9ee204dbe31",
   "metadata": {
    "tags": []
   },
   "outputs": [
    {
     "data": {
      "text/plain": [
       "torch.Size([4, 512])"
      ]
     },
     "execution_count": 109,
     "metadata": {},
     "output_type": "execute_result"
    }
   ],
   "source": [
    "# emb = te(\n",
    "#     inp_ids=sample[\"action_desc\"][\"ids\"].cuda(),\n",
    "#     mask=sample[\"action_desc\"][\"mask\"].cuda(),\n",
    "#     tok_type_ids=sample[\"action_desc\"][\"token_type_ids\"].cuda()\n",
    "# )\n",
    "\n",
    "# emb.shape"
   ]
  },
  {
   "cell_type": "markdown",
   "id": "491611ae-2f70-404b-b04c-a401bad6fc56",
   "metadata": {
    "jp-MarkdownHeadingCollapsed": true,
    "tags": []
   },
   "source": [
    "#### Test Img Feature Extractor"
   ]
  },
  {
   "cell_type": "code",
   "execution_count": null,
   "id": "d55d73ba-efef-4d32-81cb-520974830c74",
   "metadata": {
    "tags": []
   },
   "outputs": [],
   "source": [
    "# fe = ImageFeatureExtractor(pretrained=True, arch=\"efficientnet_b3\").cuda()\n",
    "\n",
    "# summary(fe, col_names=[\"num_params\", \"trainable\"])"
   ]
  },
  {
   "cell_type": "code",
   "execution_count": null,
   "id": "34e9d6e5-ca31-4b20-8fe1-07412fcb4f33",
   "metadata": {},
   "outputs": [],
   "source": [
    "# img_ftrs = fe(sample[\"in_state\"].cuda())\n",
    "\n",
    "# img_ftrs.shape"
   ]
  },
  {
   "cell_type": "code",
   "execution_count": null,
   "id": "d0654b94-9396-49ca-8708-5018cce9eb70",
   "metadata": {},
   "outputs": [],
   "source": []
  },
  {
   "cell_type": "markdown",
   "id": "beea6fe0-fc93-4c1d-9f7d-ae8194f9bb29",
   "metadata": {
    "jp-MarkdownHeadingCollapsed": true,
    "tags": []
   },
   "source": [
    "#### Test FiLM Block"
   ]
  },
  {
   "cell_type": "code",
   "execution_count": 16,
   "id": "b36b8d53-a51d-4dfd-9cd6-0dabc3e1b614",
   "metadata": {},
   "outputs": [],
   "source": [
    "# film_block = FiLMBlockV2().cuda()\n",
    "# print(film_block)\n",
    "# summary(model=film_block)"
   ]
  },
  {
   "cell_type": "code",
   "execution_count": 17,
   "id": "ab1a5658-8b44-4fd9-8a3e-e2c3f2380864",
   "metadata": {},
   "outputs": [],
   "source": [
    "# text_cond_ftrs = film_block(\n",
    "#     img_features=img_ftrs, \n",
    "#     conditioning=emb\n",
    "# )\n",
    "\n",
    "# text_cond_ftrs.shape"
   ]
  },
  {
   "cell_type": "markdown",
   "id": "15e75562-714a-480f-9b03-be898c3aebd4",
   "metadata": {
    "jp-MarkdownHeadingCollapsed": true,
    "tags": []
   },
   "source": [
    "#### Test Residual FiLM Block"
   ]
  },
  {
   "cell_type": "code",
   "execution_count": 18,
   "id": "2ca31d01-12cd-4fbf-af23-1dbecfe2b4d1",
   "metadata": {},
   "outputs": [],
   "source": [
    "# dw_res = ResBlockDWConv(512, 512).cuda()\n",
    "# summary(model=dw_res)"
   ]
  },
  {
   "cell_type": "code",
   "execution_count": 19,
   "id": "f44cd288-29c5-41ef-be96-72a066bfbeaf",
   "metadata": {},
   "outputs": [],
   "source": [
    "# text_cond_ftrs_res = dw_res(\n",
    "#     img_features=img_ftrs, \n",
    "#     conditioning=emb\n",
    "# )\n",
    "\n",
    "# text_cond_ftrs_res.shape"
   ]
  },
  {
   "cell_type": "markdown",
   "id": "00506f45-07c7-40fc-927c-3e307e91b23f",
   "metadata": {
    "jp-MarkdownHeadingCollapsed": true,
    "tags": []
   },
   "source": [
    "#### Test FiLM Encoder"
   ]
  },
  {
   "cell_type": "code",
   "execution_count": 20,
   "id": "09a904d1-b1ef-40b2-9344-f2580105ee41",
   "metadata": {
    "tags": []
   },
   "outputs": [],
   "source": [
    "# film_encoder = FiLMEncoder(\n",
    "#     arch=\"resnet34\",\n",
    "#     n_res_blocks=6,\n",
    "# ).cuda()\n",
    "\n",
    "# # print(film_encoder)\n",
    "# summary(model=film_encoder)"
   ]
  },
  {
   "cell_type": "code",
   "execution_count": 21,
   "id": "2b70f6a7-c6b5-4743-8ecf-9cfa122dd7ea",
   "metadata": {},
   "outputs": [],
   "source": [
    "# %%time\n",
    "\n",
    "# out = film_encoder(\n",
    "#     x= sample[\"in_state\"].cuda(),\n",
    "#     conditioning= emb\n",
    "# )\n",
    "\n",
    "# out.shape"
   ]
  },
  {
   "cell_type": "markdown",
   "id": "d217cc28-4eb7-4f76-86ee-51dd6ae8f248",
   "metadata": {
    "jp-MarkdownHeadingCollapsed": true,
    "tags": []
   },
   "source": [
    "#### Token Learner"
   ]
  },
  {
   "cell_type": "code",
   "execution_count": 22,
   "id": "8f2da760-c2ee-4ff1-97bd-8859562a484a",
   "metadata": {},
   "outputs": [],
   "source": [
    "# N, C, H_W = out.shape\n",
    "# N, C, H_W"
   ]
  },
  {
   "cell_type": "code",
   "execution_count": 23,
   "id": "cb960649-ad52-4a6f-be9a-279263b0ae0a",
   "metadata": {},
   "outputs": [],
   "source": [
    "# tokL_v11 = token_learner.TokenLearnerModuleV11(feature_shape=(N, H_W, C)).cuda()\n",
    "# print(tokL_v11)\n",
    "# summary(model=tokL_v11)"
   ]
  },
  {
   "cell_type": "code",
   "execution_count": 24,
   "id": "cb43cec1-32e2-4f1d-bb5a-3ba026a57fa4",
   "metadata": {},
   "outputs": [],
   "source": [
    "# learned_tokens = tokL_v11(out.view(N, H_W, C))\n",
    "# learned_tokens.shape"
   ]
  },
  {
   "cell_type": "code",
   "execution_count": null,
   "id": "6e045e3a-4d75-454a-9fdd-c5205f332a2b",
   "metadata": {},
   "outputs": [],
   "source": []
  },
  {
   "cell_type": "code",
   "execution_count": 154,
   "id": "3ad67e60-baf3-449f-83f7-ad5256cbcda3",
   "metadata": {},
   "outputs": [
    {
     "data": {
      "text/plain": [
       "torch.Size([8, 6, 512, 8])"
      ]
     },
     "execution_count": 154,
     "metadata": {},
     "output_type": "execute_result"
    }
   ],
   "source": [
    "tokenized_inputs = torch.empty((B, config.NUM_HISTORY+1, config.D_MODEL, config.NUM_LEARNED_TOKENS))\n",
    "tokenized_inputs.shape"
   ]
  },
  {
   "cell_type": "markdown",
   "id": "21ce81c2-ecfd-49cf-8613-b806d585dfb0",
   "metadata": {
    "jp-MarkdownHeadingCollapsed": true,
    "tags": []
   },
   "source": [
    "#### RT-1 Encoder"
   ]
  },
  {
   "cell_type": "code",
   "execution_count": 10,
   "id": "d56dd9db-abff-4cb9-b8af-b1b68e3e7ced",
   "metadata": {
    "tags": []
   },
   "outputs": [
    {
     "name": "stderr",
     "output_type": "stream",
     "text": [
      "INFO:timm.models._builder:Loading pretrained weights from Hugging Face hub (timm/efficientnet_b3.ra2_in1k)\n",
      "INFO:timm.models._hub:[timm/efficientnet_b3.ra2_in1k] Safe alternative available for 'pytorch_model.bin' (as 'model.safetensors'). Loading weights using safetensors.\n"
     ]
    },
    {
     "data": {
      "text/plain": [
       "==============================================================================================================\n",
       "Layer (type:depth-idx)                                       Param #                   Trainable\n",
       "==============================================================================================================\n",
       "RT1Encoder                                                   --                        Partial\n",
       "├─TextEncoder: 1-1                                           --                        False\n",
       "│    └─BertModel: 2-1                                        --                        False\n",
       "│    │    └─BertEmbeddings: 3-1                              (15,891,456)              False\n",
       "│    │    └─BertEncoder: 3-2                                 (12,609,536)              False\n",
       "│    │    └─BertPooler: 3-3                                  (262,656)                 False\n",
       "│    └─Dropout: 2-2                                          --                        --\n",
       "├─FiLMEncoder: 1-2                                           --                        Partial\n",
       "│    └─ImageFeatureExtractor: 2-3                            --                        Partial\n",
       "│    │    └─EfficientNetFeatures: 3-4                        (10,103,336)              False\n",
       "│    │    └─VisionLanguageHead: 3-5                          197,120                   True\n",
       "│    └─ModuleList: 2-4                                       --                        True\n",
       "│    │    └─ResBlockDWConv: 3-6                              1,056,768                 True\n",
       "│    │    └─ResBlockDWConv: 3-7                              1,056,768                 True\n",
       "│    │    └─ResBlockDWConv: 3-8                              1,056,768                 True\n",
       "│    │    └─ResBlockDWConv: 3-9                              1,056,768                 True\n",
       "│    │    └─ResBlockDWConv: 3-10                             1,056,768                 True\n",
       "│    │    └─ResBlockDWConv: 3-11                             1,056,768                 True\n",
       "├─TokenLearnerModuleV11: 1-3                                 --                        True\n",
       "│    └─LayerNormalization: 2-5                               --                        True\n",
       "│    │    └─LayerNorm: 3-12                                  1,024                     True\n",
       "│    └─FeedFowardLayer: 2-6                                  --                        True\n",
       "│    │    └─Linear: 3-13                                     65,664                    True\n",
       "│    │    └─GELU: 3-14                                       --                        --\n",
       "│    │    └─Linear: 3-15                                     1,032                     True\n",
       "│    │    └─Dropout: 3-16                                    --                        --\n",
       "==============================================================================================================\n",
       "Total params: 45,472,432\n",
       "Trainable params: 6,605,448\n",
       "Non-trainable params: 38,866,984\n",
       "=============================================================================================================="
      ]
     },
     "execution_count": 10,
     "metadata": {},
     "output_type": "execute_result"
    }
   ],
   "source": [
    "encoder = RT1Encoder(\n",
    "    cnn_bacnbone=\"efficientnet_b3\", \n",
    "    num_res_blocks=6, \n",
    "    freeze_cnn_backbone=True\n",
    ").to(config.DEVICE)\n",
    "\n",
    "summary(model=encoder, col_names=[\"num_params\", \"trainable\"])"
   ]
  },
  {
   "cell_type": "code",
   "execution_count": 11,
   "id": "7405de1c-ea97-4908-aa25-7858478627c0",
   "metadata": {},
   "outputs": [
    {
     "name": "stdout",
     "output_type": "stream",
     "text": [
      "CPU times: user 965 ms, sys: 975 ms, total: 1.94 s\n",
      "Wall time: 12.8 s\n"
     ]
    },
    {
     "data": {
      "text/plain": [
       "(torch.Size([4, 512]), torch.Size([4, 512, 8]))"
      ]
     },
     "execution_count": 11,
     "metadata": {},
     "output_type": "execute_result"
    }
   ],
   "source": [
    "%%time \n",
    "\n",
    "src_enc, tokens = encoder._encode(\n",
    "    input_ids=sample[\"action_desc\"][\"ids\"].cuda(),\n",
    "    attn_mask=sample[\"action_desc\"][\"mask\"].cuda(),\n",
    "    token_type_ids=sample[\"action_desc\"][\"token_type_ids\"].cuda(),\n",
    "    imgs=sample[\"in_state\"].cuda()\n",
    ")\n",
    "\n",
    "src_enc.shape, tokens.shape"
   ]
  },
  {
   "cell_type": "code",
   "execution_count": 12,
   "id": "59c4bf9c-28e7-4034-815e-cdea7826c2ef",
   "metadata": {},
   "outputs": [
    {
     "name": "stdout",
     "output_type": "stream",
     "text": [
      "CPU times: user 202 ms, sys: 51.3 ms, total: 253 ms\n",
      "Wall time: 1.15 s\n"
     ]
    },
    {
     "data": {
      "text/plain": [
       "(torch.Size([4, 48, 512]), device(type='cuda', index=0))"
      ]
     },
     "execution_count": 12,
     "metadata": {},
     "output_type": "execute_result"
    }
   ],
   "source": [
    "%%time\n",
    "\n",
    "src_enc, tokenized_inputs = encoder(\n",
    "    input_ids=sample[\"action_desc\"][\"ids\"].cuda(),\n",
    "    attn_mask=sample[\"action_desc\"][\"mask\"].cuda(),\n",
    "    token_type_ids=sample[\"action_desc\"][\"token_type_ids\"].cuda(),\n",
    "    imgs=sample[\"in_state\"].cuda()\n",
    ")\n",
    "\n",
    "tokenized_inputs.shape, tokenized_inputs.device"
   ]
  },
  {
   "cell_type": "markdown",
   "id": "029e620f-5541-4a49-acdf-43ec4b3cce02",
   "metadata": {},
   "source": [
    "### Decoder"
   ]
  },
  {
   "cell_type": "code",
   "execution_count": 13,
   "id": "113b0f75-f651-49bb-bf86-f8a6e7ed8ec1",
   "metadata": {},
   "outputs": [],
   "source": [
    "pos_encoding = PositionalEncoder(seq_len=config.NUM_TOKENIZED_INPUTS).cuda()"
   ]
  },
  {
   "cell_type": "code",
   "execution_count": 14,
   "id": "4234188a-1349-4007-998a-ef75ab9e0bf4",
   "metadata": {},
   "outputs": [
    {
     "name": "stdout",
     "output_type": "stream",
     "text": [
      "torch.Size([4, 48, 512])\n"
     ]
    }
   ],
   "source": [
    "pos_enc = pos_encoding(tokenized_inputs)\n",
    "print(pos_enc.shape)\n",
    "\n",
    "learned_tokens = tokenized_inputs + pos_enc"
   ]
  },
  {
   "cell_type": "markdown",
   "id": "998a4574-0dde-433d-8a5d-f1a76bf4c54d",
   "metadata": {
    "tags": []
   },
   "source": [
    "#### Test Cross Attention Layer"
   ]
  },
  {
   "cell_type": "code",
   "execution_count": 73,
   "id": "386858f0-9d60-483e-8d2e-bb67b8d4246a",
   "metadata": {
    "scrolled": true,
    "tags": []
   },
   "outputs": [
    {
     "name": "stdout",
     "output_type": "stream",
     "text": [
      "MultiHeadCrossAttention(\n",
      "  (attention_heads): ModuleList(\n",
      "    (0-3): 4 x CrossAttentionHead(\n",
      "      (w_k_input): Linear(in_features=512, out_features=512, bias=False)\n",
      "      (w_v_input): Linear(in_features=512, out_features=512, bias=False)\n",
      "      (w_q_output): Linear(in_features=512, out_features=512, bias=False)\n",
      "      (dropout): Dropout(p=0.15, inplace=False)\n",
      "      (_softmax): Softmax(dim=-1)\n",
      "    )\n",
      "  )\n",
      "  (dropout): Dropout(p=0.1, inplace=False)\n",
      "  (_softmax): Softmax(dim=-1)\n",
      ")\n"
     ]
    },
    {
     "data": {
      "text/plain": [
       "=================================================================\n",
       "Layer (type:depth-idx)                   Param #\n",
       "=================================================================\n",
       "MultiHeadCrossAttention                  --\n",
       "├─ModuleList: 1-1                        --\n",
       "│    └─CrossAttentionHead: 2-1           --\n",
       "│    │    └─Linear: 3-1                  262,144\n",
       "│    │    └─Linear: 3-2                  262,144\n",
       "│    │    └─Linear: 3-3                  262,144\n",
       "│    │    └─Dropout: 3-4                 --\n",
       "│    │    └─Softmax: 3-5                 --\n",
       "│    └─CrossAttentionHead: 2-2           --\n",
       "│    │    └─Linear: 3-6                  262,144\n",
       "│    │    └─Linear: 3-7                  262,144\n",
       "│    │    └─Linear: 3-8                  262,144\n",
       "│    │    └─Dropout: 3-9                 --\n",
       "│    │    └─Softmax: 3-10                --\n",
       "│    └─CrossAttentionHead: 2-3           --\n",
       "│    │    └─Linear: 3-11                 262,144\n",
       "│    │    └─Linear: 3-12                 262,144\n",
       "│    │    └─Linear: 3-13                 262,144\n",
       "│    │    └─Dropout: 3-14                --\n",
       "│    │    └─Softmax: 3-15                --\n",
       "│    └─CrossAttentionHead: 2-4           --\n",
       "│    │    └─Linear: 3-16                 262,144\n",
       "│    │    └─Linear: 3-17                 262,144\n",
       "│    │    └─Linear: 3-18                 262,144\n",
       "│    │    └─Dropout: 3-19                --\n",
       "│    │    └─Softmax: 3-20                --\n",
       "├─Dropout: 1-2                           --\n",
       "├─Softmax: 1-3                           --\n",
       "=================================================================\n",
       "Total params: 3,145,728\n",
       "Trainable params: 3,145,728\n",
       "Non-trainable params: 0\n",
       "================================================================="
      ]
     },
     "execution_count": 73,
     "metadata": {},
     "output_type": "execute_result"
    }
   ],
   "source": [
    "num_heads = 4\n",
    "cross_attention = MultiHeadCrossAttention(\n",
    "    embed_dim=512, \n",
    "    num_heads=num_heads, \n",
    "    dropout_rate=0.1\n",
    ").cuda()\n",
    "\n",
    "print(cross_attention)\n",
    "summary(cross_attention)"
   ]
  },
  {
   "cell_type": "code",
   "execution_count": 52,
   "id": "c936bae6-7033-41b0-b8bb-d852c0bfe194",
   "metadata": {},
   "outputs": [
    {
     "name": "stdout",
     "output_type": "stream",
     "text": [
      "BertEmbeddings(\n",
      "  (word_embeddings): Embedding(30522, 512, padding_idx=0)\n",
      "  (position_embeddings): Embedding(512, 512)\n",
      "  (token_type_embeddings): Embedding(2, 512)\n",
      "  (LayerNorm): LayerNorm((512,), eps=1e-12, elementwise_affine=True)\n",
      "  (dropout): Dropout(p=0.1, inplace=False)\n",
      ")\n"
     ]
    },
    {
     "data": {
      "text/plain": [
       "=================================================================\n",
       "Layer (type:depth-idx)                   Param #\n",
       "=================================================================\n",
       "BertEmbeddings                           --\n",
       "├─Embedding: 1-1                         (15,627,264)\n",
       "├─Embedding: 1-2                         (262,144)\n",
       "├─Embedding: 1-3                         (1,024)\n",
       "├─LayerNorm: 1-4                         (1,024)\n",
       "├─Dropout: 1-5                           --\n",
       "=================================================================\n",
       "Total params: 15,891,456\n",
       "Trainable params: 0\n",
       "Non-trainable params: 15,891,456\n",
       "================================================================="
      ]
     },
     "execution_count": 52,
     "metadata": {},
     "output_type": "execute_result"
    }
   ],
   "source": [
    "input_seq_embedding = encoder.text_encoder.text_encoder.embeddings.cuda()\n",
    "\n",
    "print(input_seq_embedding)\n",
    "summary(input_seq_embedding)"
   ]
  },
  {
   "cell_type": "code",
   "execution_count": 53,
   "id": "17b02e0c-2d3a-4cb0-8630-f9f4114edf4c",
   "metadata": {},
   "outputs": [
    {
     "name": "stdout",
     "output_type": "stream",
     "text": [
      "Sequential(\n",
      "  (0): Embedding(52, 512, padding_idx=2)\n",
      "  (1): LayerNormalization(\n",
      "    (layer): LayerNorm((512,), eps=1e-06, elementwise_affine=True)\n",
      "  )\n",
      "  (2): Dropout(p=0.1, inplace=False)\n",
      ")\n"
     ]
    },
    {
     "data": {
      "text/plain": [
       "=================================================================\n",
       "Layer (type:depth-idx)                   Param #\n",
       "=================================================================\n",
       "Sequential                               --\n",
       "├─Embedding: 1-1                         26,624\n",
       "├─LayerNormalization: 1-2                --\n",
       "│    └─LayerNorm: 2-1                    1,024\n",
       "├─Dropout: 1-3                           --\n",
       "=================================================================\n",
       "Total params: 27,648\n",
       "Trainable params: 27,648\n",
       "Non-trainable params: 0\n",
       "================================================================="
      ]
     },
     "execution_count": 53,
     "metadata": {},
     "output_type": "execute_result"
    }
   ],
   "source": [
    "target_seq_embedding = nn.Sequential(\n",
    "    nn.Embedding(\n",
    "        num_embeddings=config.TARGET_VOCAB_SIZE, \n",
    "        embedding_dim=config.EMBEDDING_DIM, \n",
    "        padding_idx=config.TGT_PAD_TOK_ID\n",
    "    ),\n",
    "    LayerNormalization(),\n",
    "    nn.Dropout(p=.1)\n",
    "    \n",
    ").cuda()\n",
    "cross_attention.eval()\n",
    "\n",
    "print(target_seq_embedding)\n",
    "summary(target_seq_embedding)\n"
   ]
  },
  {
   "cell_type": "code",
   "execution_count": 54,
   "id": "c2ada45d-974d-4c17-a52f-38a662a1665a",
   "metadata": {},
   "outputs": [
    {
     "data": {
      "text/plain": [
       "(torch.Size([4, 16, 512]),\n",
       " torch.Size([4, 16, 512]),\n",
       " tensor([7, 4, 7, 8]),\n",
       " tensor([11,  8, 11, 11]))"
      ]
     },
     "execution_count": 54,
     "metadata": {},
     "output_type": "execute_result"
    }
   ],
   "source": [
    "inp = sample[\"action_desc\"][\"ids\"]\n",
    "outp = sample[\"motor_cmd\"][\"ids\"]\n",
    "\n",
    "inp_seq = input_seq_embedding(inp.cuda())\n",
    "outp_seq = target_seq_embedding(outp.cuda())\n",
    "inp_seq_lens = sample[\"action_desc\"][\"length\"]\n",
    "outp_seq_lens = sample[\"motor_cmd\"][\"length\"]\n",
    "\n",
    "inp_seq.shape, outp_seq.shape,inp_seq_lens, outp_seq_lens"
   ]
  },
  {
   "cell_type": "code",
   "execution_count": 55,
   "id": "9ae0a268-c712-45be-bf96-21f3586e6837",
   "metadata": {},
   "outputs": [
    {
     "data": {
      "text/plain": [
       "(tensor([[  101,  2404,  1996,  9292,  1999,  2392,  1997,  4605,   102,     0,\n",
       "              0,     0,     0,     0,     0,     0],\n",
       "         [  101,  2693,  1996,  5835,  2157,   102,     0,     0,     0,     0,\n",
       "              0,     0,     0,     0,     0,     0],\n",
       "         [  101,  2404,  1996,  2452,  2006,  2327,  1997,  2630,  1011,  3384,\n",
       "           1011,  5127,   102,     0,     0,     0],\n",
       "         [  101,  2404,  1996,  5835,  2000,  1996,  2187,  1997,  6350,  1011,\n",
       "          20943,   102,     0,     0,     0,     0]]),\n",
       " torch.Size([4, 16]))"
      ]
     },
     "execution_count": 55,
     "metadata": {},
     "output_type": "execute_result"
    }
   ],
   "source": [
    "inp, inp.shape"
   ]
  },
  {
   "cell_type": "code",
   "execution_count": 56,
   "id": "f0d9ad26-0645-4ba0-9235-a1ce5a582f5b",
   "metadata": {},
   "outputs": [
    {
     "data": {
      "text/plain": [
       "(tensor([[ 0,  7, 31, 50, 21, 41, 36,  7, 44, 21,  2,  2,  2,  2,  2,  2],\n",
       "         [ 0,  8, 41, 51,  8, 48,  8,  2,  2,  2,  2,  2,  2,  2,  2,  2],\n",
       "         [ 0, 25, 41, 30,  4, 31, 36, 25, 42,  4,  2,  2,  2,  2,  2,  2],\n",
       "         [ 0,  8, 31, 50, 13, 46, 36,  8, 43, 13,  2,  2,  2,  2,  2,  2]]),\n",
       " torch.Size([4, 16]))"
      ]
     },
     "execution_count": 56,
     "metadata": {},
     "output_type": "execute_result"
    }
   ],
   "source": [
    "outp, outp.shape"
   ]
  },
  {
   "cell_type": "code",
   "execution_count": 77,
   "id": "ca69d5f6-a9b8-4694-8641-e3dbdfaf6102",
   "metadata": {},
   "outputs": [
    {
     "name": "stdout",
     "output_type": "stream",
     "text": [
      "attn scores:  torch.Size([4, 16, 16])\n",
      "inp mask:  torch.Size([4, 16])\n",
      "attn scores:  torch.Size([4, 16, 16])\n",
      "inp mask:  torch.Size([4, 16])\n",
      "attn scores:  torch.Size([4, 16, 16])\n",
      "inp mask:  torch.Size([4, 16])\n",
      "attn scores:  torch.Size([4, 16, 16])\n",
      "inp mask:  torch.Size([4, 16])\n"
     ]
    },
    {
     "data": {
      "text/plain": [
       "(torch.Size([4, 16, 4, 512]), torch.Size([4, 4, 16, 16]))"
      ]
     },
     "execution_count": 77,
     "metadata": {},
     "output_type": "execute_result"
    }
   ],
   "source": [
    "attention_output, attention_w = cross_attention(inp_seq, inp_seq_lens, outp_seq)\n",
    "\n",
    "attention_output.shape, attention_w.shape"
   ]
  },
  {
   "cell_type": "markdown",
   "id": "da189f62-b8fd-4688-83f6-870d4bcb51ca",
   "metadata": {
    "tags": []
   },
   "source": [
    "#### Plot Cross attention weights"
   ]
  },
  {
   "cell_type": "code",
   "execution_count": 78,
   "id": "782318f8-4fea-43eb-b30d-b6e3af2ae026",
   "metadata": {},
   "outputs": [
    {
     "data": {
      "image/png": "[encoded data removed]",
      "text/plain": [
       "<Figure size 1500x500 with 4 Axes>"
      ]
     },
     "metadata": {},
     "output_type": "display_data"
    }
   ],
   "source": [
    "# plot_cross_attention(attention_w, inp_seq_lens=inp_seq_lens, outp_seq_lens=outp_seq_lens)\n",
    "plot_cross_attention(attention_w, inp_seq_lens=inp_seq_lens, outp_seq_lens=outp_seq_lens, example_idx=2)"
   ]
  },
  {
   "cell_type": "markdown",
   "id": "3ae3f321-d559-4e51-be2f-49145979574e",
   "metadata": {
    "jp-MarkdownHeadingCollapsed": true,
    "tags": []
   },
   "source": [
    "#### Test MultiHeadAttention Layer"
   ]
  },
  {
   "cell_type": "code",
   "execution_count": 33,
   "id": "8e1ff1f4-1702-476f-bc0a-0e9c73b7c3d9",
   "metadata": {
    "scrolled": true,
    "tags": []
   },
   "outputs": [
    {
     "name": "stdout",
     "output_type": "stream",
     "text": [
      "MultiHeadSelfAttention(\n",
      "  (attention_heads): ModuleList(\n",
      "    (0-7): 8 x SelfAttentionHead(\n",
      "      (dropout): Dropout(p=0.15, inplace=False)\n",
      "      (_softmax): Softmax(dim=-1)\n",
      "      (w_q): Linear(in_features=512, out_features=512, bias=False)\n",
      "      (w_k): Linear(in_features=512, out_features=512, bias=False)\n",
      "      (w_v): Linear(in_features=512, out_features=512, bias=False)\n",
      "    )\n",
      "  )\n",
      "  (output_layer): Sequential(\n",
      "    (0): Linear(in_features=4096, out_features=512, bias=False)\n",
      "    (1): Dropout(p=0.15, inplace=False)\n",
      "  )\n",
      ")\n"
     ]
    },
    {
     "data": {
      "text/plain": [
       "=================================================================\n",
       "Layer (type:depth-idx)                   Param #\n",
       "=================================================================\n",
       "MultiHeadSelfAttention                   --\n",
       "├─ModuleList: 1-1                        --\n",
       "│    └─SelfAttentionHead: 2-1            --\n",
       "│    │    └─Dropout: 3-1                 --\n",
       "│    │    └─Softmax: 3-2                 --\n",
       "│    │    └─Linear: 3-3                  262,144\n",
       "│    │    └─Linear: 3-4                  262,144\n",
       "│    │    └─Linear: 3-5                  262,144\n",
       "│    └─SelfAttentionHead: 2-2            --\n",
       "│    │    └─Dropout: 3-6                 --\n",
       "│    │    └─Softmax: 3-7                 --\n",
       "│    │    └─Linear: 3-8                  262,144\n",
       "│    │    └─Linear: 3-9                  262,144\n",
       "│    │    └─Linear: 3-10                 262,144\n",
       "│    └─SelfAttentionHead: 2-3            --\n",
       "│    │    └─Dropout: 3-11                --\n",
       "│    │    └─Softmax: 3-12                --\n",
       "│    │    └─Linear: 3-13                 262,144\n",
       "│    │    └─Linear: 3-14                 262,144\n",
       "│    │    └─Linear: 3-15                 262,144\n",
       "│    └─SelfAttentionHead: 2-4            --\n",
       "│    │    └─Dropout: 3-16                --\n",
       "│    │    └─Softmax: 3-17                --\n",
       "│    │    └─Linear: 3-18                 262,144\n",
       "│    │    └─Linear: 3-19                 262,144\n",
       "│    │    └─Linear: 3-20                 262,144\n",
       "│    └─SelfAttentionHead: 2-5            --\n",
       "│    │    └─Dropout: 3-21                --\n",
       "│    │    └─Softmax: 3-22                --\n",
       "│    │    └─Linear: 3-23                 262,144\n",
       "│    │    └─Linear: 3-24                 262,144\n",
       "│    │    └─Linear: 3-25                 262,144\n",
       "│    └─SelfAttentionHead: 2-6            --\n",
       "│    │    └─Dropout: 3-26                --\n",
       "│    │    └─Softmax: 3-27                --\n",
       "│    │    └─Linear: 3-28                 262,144\n",
       "│    │    └─Linear: 3-29                 262,144\n",
       "│    │    └─Linear: 3-30                 262,144\n",
       "│    └─SelfAttentionHead: 2-7            --\n",
       "│    │    └─Dropout: 3-31                --\n",
       "│    │    └─Softmax: 3-32                --\n",
       "│    │    └─Linear: 3-33                 262,144\n",
       "│    │    └─Linear: 3-34                 262,144\n",
       "│    │    └─Linear: 3-35                 262,144\n",
       "│    └─SelfAttentionHead: 2-8            --\n",
       "│    │    └─Dropout: 3-36                --\n",
       "│    │    └─Softmax: 3-37                --\n",
       "│    │    └─Linear: 3-38                 262,144\n",
       "│    │    └─Linear: 3-39                 262,144\n",
       "│    │    └─Linear: 3-40                 262,144\n",
       "├─Sequential: 1-2                        --\n",
       "│    └─Linear: 2-9                       2,097,152\n",
       "│    └─Dropout: 2-10                     --\n",
       "=================================================================\n",
       "Total params: 8,388,608\n",
       "Trainable params: 8,388,608\n",
       "Non-trainable params: 0\n",
       "================================================================="
      ]
     },
     "execution_count": 33,
     "metadata": {},
     "output_type": "execute_result"
    }
   ],
   "source": [
    "mhsa = MultiHeadSelfAttention().cuda()\n",
    "print(mhsa)\n",
    "summary(mhsa)"
   ]
  },
  {
   "cell_type": "code",
   "execution_count": 34,
   "id": "04796d95-349d-4d81-817a-7f23d8f15541",
   "metadata": {},
   "outputs": [
    {
     "name": "stdout",
     "output_type": "stream",
     "text": [
      "Concat in: torch.Size([4, 48, 8, 512])\n",
      "Concat flat: torch.Size([4, 48, 4096])\n"
     ]
    },
    {
     "data": {
      "text/plain": [
       "(torch.Size([4, 48, 512]), torch.Size([4, 8, 48, 48]))"
      ]
     },
     "execution_count": 34,
     "metadata": {},
     "output_type": "execute_result"
    }
   ],
   "source": [
    "mem, attn_w = mhsa(inp=learned_tokens, return_weights=True)\n",
    "\n",
    "mem.shape, attn_w.shape"
   ]
  },
  {
   "cell_type": "markdown",
   "id": "80bfd9d2-386f-463d-884a-2a35f748142b",
   "metadata": {
    "jp-MarkdownHeadingCollapsed": true,
    "tags": []
   },
   "source": [
    "#### Plot Self-attention weights"
   ]
  },
  {
   "cell_type": "code",
   "execution_count": 35,
   "id": "9a90db1a-ba0d-44c1-bd01-09f08133fb4a",
   "metadata": {},
   "outputs": [
    {
     "data": {
      "image/png": "[encoded data removed]",
      "text/plain": [
       "<Figure size 1500x500 with 8 Axes>"
      ]
     },
     "metadata": {},
     "output_type": "display_data"
    }
   ],
   "source": [
    "# plot_self_attention(attn_w)\n",
    "plot_self_attention(attn_w, example_idx=2)"
   ]
  },
  {
   "cell_type": "markdown",
   "id": "4ce2c336-d441-4f0d-a879-e4337d2abc7e",
   "metadata": {
    "tags": []
   },
   "source": [
    "#### Transformer Decoder Layer"
   ]
  },
  {
   "cell_type": "code",
   "execution_count": 116,
   "id": "9ed6e737-6829-499b-adf5-a4424f253444",
   "metadata": {},
   "outputs": [],
   "source": [
    "class TransformerDecoderLayer(nn.Module):\n",
    "    def __init__(\n",
    "        self, \n",
    "        d_model:int=config.D_MODEL, \n",
    "        n_selfattention_heads:int=config.N_HEADS, \n",
    "        n_crossattention_heads:int=config.N_HEADS,\n",
    "        dim_feedforward:int=config.D_FF, \n",
    "        dropout:float=config.DECODER_DROPOUT_RATE\n",
    "    ):\n",
    "        super().__init__()\n",
    "\n",
    "        # Multi-head self-attention\n",
    "        self.self_attn = MultiHeadSelfAttention(num_heads=n_selfattention_heads)\n",
    "        \n",
    "        # Multi-head Cross-attention\n",
    "        self.cross_attn = MultiHeadCrossAttention(num_heads=n_crossattention_heads)\n",
    "        \n",
    "        # Layer normalization 1\n",
    "        self.norm1 = LayerNormalization()\n",
    "        \n",
    "        # Layer normalization 2\n",
    "        self.norm2 = LayerNormalization()\n",
    "        \n",
    "        # Position-wise feed-forward network\n",
    "        self.ff = nn.Sequential(\n",
    "            nn.Linear(d_model, dim_feedforward),\n",
    "            nn.GELU(),\n",
    "            nn.Linear(dim_feedforward, d_model)\n",
    "        )\n",
    "        \n",
    "        # Layer normalization after feed-forward\n",
    "        self.norm3 = nn.LayerNorm(d_model)\n",
    "        \n",
    "        # Dropout\n",
    "        self.dropout = nn.Dropout(dropout)\n",
    "\n",
    "    def forward(\n",
    "        self, \n",
    "        tokens:torch.Tensor, \n",
    "        inp_lens:torch.Tensor,\n",
    "        self_mask:torch.Tensor=None, \n",
    "        cross_mask:torch.tensor=None,\n",
    "        return_weights:bool=True,\n",
    "        debug:bool=False\n",
    "    ):\n",
    "        \n",
    "        inp = tokens # reserve this for cross attention\n",
    "        \n",
    "        if debug:\n",
    "            print(f\"inp shape: {inp.shape}\")\n",
    "        # Layer normalization 1\n",
    "        inp_ = self.norm1(inp)\n",
    "        if debug:\n",
    "            print(f\"LN 1 out shape: {inp_.shape}\")\n",
    "\n",
    "        # Multi-head self-attention\n",
    "        self_attn_W = None\n",
    "        self_attn_output = self.self_attn(inp_, mask=self_mask)\n",
    "        \n",
    "        if return_weights:\n",
    "            inp_, self_attn_W = self_attn_output\n",
    "        else:\n",
    "            inp_ = self_attn_output\n",
    "        \n",
    "        if debug:\n",
    "            print(f\"MHSA out : {inp_.shape}\")\n",
    "        # Apply dropout and add the residual connection\n",
    "        tokens = tokens + self.dropout(inp_)\n",
    "        \n",
    "        # Layer normalization 2\n",
    "        out = self.norm2(tokens)\n",
    "        if debug:\n",
    "            print(f\"LN 2 out shape: {out.shape}\")\n",
    "        # Apply FF\n",
    "        ff_out = self.dropout(self.ff(out))\n",
    "        if debug:\n",
    "            print(f\"FF out shape: {ff_out.shape}\")\n",
    "        # Add the residual connection\n",
    "        tokens = tokens + ff_out\n",
    "        \n",
    "        # compute cross attention between encoder's outputs and decoder's prev. hidden states\n",
    "        cross_attn_out, cross_attn_W = self.cross_attn(inp, inp_lens, tokens, apply_mask=cross_mask)\n",
    "        \n",
    "        if debug:\n",
    "            print(f\"MHCA out : {cross_attn_out.shape}\")\n",
    "        \n",
    "        if debug:\n",
    "            print(f\"Final out shape: {tokens.shape}\")\n",
    "            \n",
    "        return tokens, self_attn_W, cross_attn_W\n"
   ]
  },
  {
   "cell_type": "markdown",
   "id": "210efe9b-24f9-4e1a-a115-29347d9849eb",
   "metadata": {
    "tags": []
   },
   "source": [
    "#### Test Transformer decoder layer"
   ]
  },
  {
   "cell_type": "code",
   "execution_count": 117,
   "id": "4897d643-f2b1-4d58-9803-cd3de1251543",
   "metadata": {},
   "outputs": [
    {
     "name": "stdout",
     "output_type": "stream",
     "text": [
      "TransformerDecoderLayer(\n",
      "  (self_attn): MultiHeadSelfAttention(\n",
      "    (attention_heads): ModuleList(\n",
      "      (0-7): 8 x SelfAttentionHead(\n",
      "        (dropout): Dropout(p=0.15, inplace=False)\n",
      "        (_softmax): Softmax(dim=-1)\n",
      "        (w_q): Linear(in_features=512, out_features=512, bias=False)\n",
      "        (w_k): Linear(in_features=512, out_features=512, bias=False)\n",
      "        (w_v): Linear(in_features=512, out_features=512, bias=False)\n",
      "      )\n",
      "    )\n",
      "    (output_layer): Sequential(\n",
      "      (0): Linear(in_features=4096, out_features=512, bias=False)\n",
      "      (1): Dropout(p=0.15, inplace=False)\n",
      "    )\n",
      "  )\n",
      "  (cross_attn): MultiHeadCrossAttention(\n",
      "    (attention_heads): ModuleList(\n",
      "      (0-7): 8 x CrossAttentionHead(\n",
      "        (w_k_input): Linear(in_features=512, out_features=512, bias=False)\n",
      "        (w_v_input): Linear(in_features=512, out_features=512, bias=False)\n",
      "        (w_q_output): Linear(in_features=512, out_features=512, bias=False)\n",
      "        (dropout): Dropout(p=0.15, inplace=False)\n",
      "        (_softmax): Softmax(dim=-1)\n",
      "      )\n",
      "    )\n",
      "    (dropout): Dropout(p=0.15, inplace=False)\n",
      "    (_softmax): Softmax(dim=-1)\n",
      "  )\n",
      "  (norm1): LayerNormalization(\n",
      "    (layer): LayerNorm((512,), eps=1e-06, elementwise_affine=True)\n",
      "  )\n",
      "  (norm2): LayerNormalization(\n",
      "    (layer): LayerNorm((512,), eps=1e-06, elementwise_affine=True)\n",
      "  )\n",
      "  (ff): Sequential(\n",
      "    (0): Linear(in_features=512, out_features=2048, bias=True)\n",
      "    (1): GELU(approximate='none')\n",
      "    (2): Linear(in_features=2048, out_features=512, bias=True)\n",
      "  )\n",
      "  (norm3): LayerNorm((512,), eps=1e-05, elementwise_affine=True)\n",
      "  (dropout): Dropout(p=0.1, inplace=False)\n",
      ")\n"
     ]
    },
    {
     "data": {
      "text/plain": [
       "=================================================================\n",
       "Layer (type:depth-idx)                   Param #\n",
       "=================================================================\n",
       "TransformerDecoderLayer                  --\n",
       "├─MultiHeadSelfAttention: 1-1            --\n",
       "│    └─ModuleList: 2-1                   --\n",
       "│    │    └─SelfAttentionHead: 3-1       786,432\n",
       "│    │    └─SelfAttentionHead: 3-2       786,432\n",
       "│    │    └─SelfAttentionHead: 3-3       786,432\n",
       "│    │    └─SelfAttentionHead: 3-4       786,432\n",
       "│    │    └─SelfAttentionHead: 3-5       786,432\n",
       "│    │    └─SelfAttentionHead: 3-6       786,432\n",
       "│    │    └─SelfAttentionHead: 3-7       786,432\n",
       "│    │    └─SelfAttentionHead: 3-8       786,432\n",
       "│    └─Sequential: 2-2                   --\n",
       "│    │    └─Linear: 3-9                  2,097,152\n",
       "│    │    └─Dropout: 3-10                --\n",
       "├─MultiHeadCrossAttention: 1-2           --\n",
       "│    └─ModuleList: 2-3                   --\n",
       "│    │    └─CrossAttentionHead: 3-11     786,432\n",
       "│    │    └─CrossAttentionHead: 3-12     786,432\n",
       "│    │    └─CrossAttentionHead: 3-13     786,432\n",
       "│    │    └─CrossAttentionHead: 3-14     786,432\n",
       "│    │    └─CrossAttentionHead: 3-15     786,432\n",
       "│    │    └─CrossAttentionHead: 3-16     786,432\n",
       "│    │    └─CrossAttentionHead: 3-17     786,432\n",
       "│    │    └─CrossAttentionHead: 3-18     786,432\n",
       "│    └─Dropout: 2-4                      --\n",
       "│    └─Softmax: 2-5                      --\n",
       "├─LayerNormalization: 1-3                --\n",
       "│    └─LayerNorm: 2-6                    1,024\n",
       "├─LayerNormalization: 1-4                --\n",
       "│    └─LayerNorm: 2-7                    1,024\n",
       "├─Sequential: 1-5                        --\n",
       "│    └─Linear: 2-8                       1,050,624\n",
       "│    └─GELU: 2-9                         --\n",
       "│    └─Linear: 2-10                      1,049,088\n",
       "├─LayerNorm: 1-6                         1,024\n",
       "├─Dropout: 1-7                           --\n",
       "=================================================================\n",
       "Total params: 16,782,848\n",
       "Trainable params: 16,782,848\n",
       "Non-trainable params: 0\n",
       "================================================================="
      ]
     },
     "execution_count": 117,
     "metadata": {},
     "output_type": "execute_result"
    }
   ],
   "source": [
    "dec_layer = TransformerDecoderLayer().cuda()\n",
    "print(dec_layer)\n",
    "summary(dec_layer)"
   ]
  },
  {
   "cell_type": "code",
   "execution_count": 118,
   "id": "bcce6003-ae85-4ab6-987b-a48bc6065ede",
   "metadata": {},
   "outputs": [
    {
     "data": {
      "text/plain": [
       "(torch.Size([4, 48, 512]),\n",
       " torch.Size([4, 8, 48, 48]),\n",
       " torch.Size([4, 8, 48, 48]))"
      ]
     },
     "execution_count": 118,
     "metadata": {},
     "output_type": "execute_result"
    }
   ],
   "source": [
    "dec_out, self_attn_w, cross_attn_w = dec_layer(learned_tokens, inp_lens=inp_seq_lens, debug=False)\n",
    "dec_out.shape, self_attn_w.shape, cross_attn_w.shape"
   ]
  },
  {
   "cell_type": "code",
   "execution_count": 119,
   "id": "b40adf66-9db3-48af-887a-accf56026b39",
   "metadata": {},
   "outputs": [
    {
     "data": {
      "image/png": "[encoded data removed]",
      "text/plain": [
       "<Figure size 1500x500 with 8 Axes>"
      ]
     },
     "metadata": {},
     "output_type": "display_data"
    },
    {
     "data": {
      "image/png": "[encoded data removed]",
      "text/plain": [
       "<Figure size 1500x500 with 8 Axes>"
      ]
     },
     "metadata": {},
     "output_type": "display_data"
    }
   ],
   "source": [
    "plot_cross_attention(cross_attn_w, inp_seq_lens=inp_seq_lens, outp_seq_lens=outp_seq_lens)\n",
    "plot_cross_attention(cross_attn_w)"
   ]
  },
  {
   "cell_type": "markdown",
   "id": "13a36ee2-523e-40db-b52f-b1aa1e97e82d",
   "metadata": {},
   "source": [
    "#### Transformer decoder"
   ]
  },
  {
   "cell_type": "code",
   "execution_count": 120,
   "id": "6c0f66be-135f-4fbe-8e7e-e3be6374fabd",
   "metadata": {},
   "outputs": [],
   "source": [
    "class TransformerDecoder(nn.Module):\n",
    "    def __init__(\n",
    "        self, \n",
    "        num_layers:int=config.N_DECODER_LAYERS\n",
    "    ):\n",
    "        super().__init__()\n",
    "        \n",
    "        self.num_layers = num_layers\n",
    "\n",
    "        # token embedding\n",
    "        self.token_embedding = nn.Linear(\n",
    "            in_features=config.NUM_TOKENIZED_INPUTS, \n",
    "            out_features=config.EMBEDDING_DIM\n",
    "        )\n",
    "               \n",
    "        # transformer layers\n",
    "        self.layers = nn.ModuleList([\n",
    "            TransformerDecoderLayer()\n",
    "            for _ in range(num_layers)\n",
    "        ])\n",
    "        \n",
    "        self._initialize()\n",
    "    \n",
    "    def _initialize(self):\n",
    "        \n",
    "        # Glorot / fan_avg. Initialization\n",
    "        for p in self.parameters():\n",
    "            if p.dim() > 1:\n",
    "                nn.init.xavier_uniform(p)\n",
    "            \n",
    "    def forward(\n",
    "        self, \n",
    "        inp:torch.Tensor, \n",
    "        self_mask:torch.Tensor=None, \n",
    "        cross_mask:torch.Tensor=None, \n",
    "        debug:bool=False\n",
    "    ):\n",
    "        \n",
    "        B, T, D = inp.shape\n",
    "        \n",
    "        # positions = torch.eye(T).repeat(B, 1, 1)\n",
    "        \n",
    "        # embed tokens\n",
    "        inp = self.token_embedding(inp)\n",
    "        \n",
    "        # run attention self-attention modules\n",
    "        attn_Ws = []\n",
    "        for layer in self.layers:\n",
    "            inp, attn_W = layer(inp, mask=mask)\n",
    "            if attn_W is not None:\n",
    "                attn_Ws.append(attn_W)\n",
    "                \n",
    "        return inp, attn_Ws"
   ]
  },
  {
   "cell_type": "markdown",
   "id": "2ecee6b6-431b-4a64-a958-296b07ff4022",
   "metadata": {},
   "source": [
    "#### Test Transformer decoder"
   ]
  },
  {
   "cell_type": "code",
   "execution_count": null,
   "id": "a5ebf21e-d456-4f85-bb0c-fd1056c517f3",
   "metadata": {
    "tags": []
   },
   "outputs": [
    {
     "data": {
      "text/plain": [
       "===========================================================================\n",
       "Layer (type:depth-idx)                             Param #\n",
       "===========================================================================\n",
       "TransformerDecoder                                 --\n",
       "├─Linear: 1-1                                      25,088\n",
       "├─ModuleList: 1-2                                  --\n",
       "│    └─TransformerDecoderLayer: 2-1                --\n",
       "│    │    └─MultiHeadSelfAttention: 3-1            8,388,608\n",
       "│    │    └─MultiHeadCrossAttention: 3-2           6,291,456\n",
       "│    │    └─LayerNormalization: 3-3                1,024\n",
       "│    │    └─LayerNormalization: 3-4                1,024\n",
       "│    │    └─Sequential: 3-5                        2,099,712\n",
       "│    │    └─LayerNorm: 3-6                         1,024\n",
       "│    │    └─Dropout: 3-7                           --\n",
       "===========================================================================\n",
       "Total params: 16,807,936\n",
       "Trainable params: 16,807,936\n",
       "Non-trainable params: 0\n",
       "==========================================================================="
      ]
     },
     "execution_count": 121,
     "metadata": {},
     "output_type": "execute_result"
    }
   ],
   "source": [
    "dec = TransformerDecoder(num_layers=1)\n",
    "summary(model=dec)"
   ]
  },
  {
   "cell_type": "code",
   "execution_count": null,
   "id": "82d5c74e-2650-4978-9a38-9fe1ffd2d551",
   "metadata": {},
   "outputs": [],
   "source": []
  },
  {
   "cell_type": "code",
   "execution_count": null,
   "id": "1d7c0b4a-b55e-48dd-b02e-a06f74701258",
   "metadata": {},
   "outputs": [],
   "source": []
  },
  {
   "cell_type": "markdown",
   "id": "e752f70e-c412-41b4-9131-f53d563a6f27",
   "metadata": {},
   "source": [
    "#### Test Transformer Decoder"
   ]
  },
  {
   "cell_type": "code",
   "execution_count": null,
   "id": "4eab8990-184b-4854-980e-ef4887300b2d",
   "metadata": {},
   "outputs": [],
   "source": [
    "dec_out = dec(\n",
    "    src=src_enc, \n",
    "    encoder_outputs=tokens,\n",
    "    y=None #sample[\"motor_cmd\"][\"ids\"].cuda()\n",
    ")"
   ]
  },
  {
   "cell_type": "code",
   "execution_count": null,
   "id": "3f252ad6-5c3a-44ce-ab3d-4d4d75d1960a",
   "metadata": {},
   "outputs": [],
   "source": [
    "src_enc.shape"
   ]
  },
  {
   "cell_type": "markdown",
   "id": "2e365900-13ff-4dd8-b789-6f45b15c0564",
   "metadata": {
    "jp-MarkdownHeadingCollapsed": true,
    "tags": []
   },
   "source": [
    "#### Action Generator"
   ]
  },
  {
   "cell_type": "code",
   "execution_count": 251,
   "id": "929f0bc4-3be4-4b84-a52a-7235e9af947e",
   "metadata": {},
   "outputs": [],
   "source": [
    "class ActionGenerator(nn.Module):\n",
    "    def __init__(\n",
    "        self,\n",
    "        d_model:int=config.D_MODEL, \n",
    "        vocab_size:int=len(config.TARGETS),\n",
    "        action_bins:int=config.ACTION_BINS,\n",
    "        num_actons:int=config.NUM_ACTION_SLOTS\n",
    "    ):\n",
    "        super().__init__()\n",
    "        \n",
    "        # attrs\n",
    "        self.action_bins = action_bins\n",
    "        \n",
    "        # layers\n",
    "        self.norm = LayerNormalization()\n",
    "        self.proj = nn.Linear(in_features=d_model, out_features=vocab_size)\n",
    "        self._softmax = nn.LogSoftmax(dim=-1)\n",
    "\n",
    "    def forward(self, tokens):\n",
    "        \n",
    "        out = self.norm(tokens)\n",
    "        out = self.proj(out)\n",
    "        out = self._softmax(out)\n",
    "        \n",
    "        return out\n",
    "    "
   ]
  },
  {
   "cell_type": "code",
   "execution_count": 252,
   "id": "a9fef7ba-432f-448c-bac6-c3651e1f1203",
   "metadata": {},
   "outputs": [
    {
     "name": "stdout",
     "output_type": "stream",
     "text": [
      "ActionGenerator(\n",
      "  (norm): LayerNormalization(\n",
      "    (layer): LayerNorm((512,), eps=1e-06, elementwise_affine=True)\n",
      "  )\n",
      "  (proj): Linear(in_features=512, out_features=52, bias=True)\n",
      "  (_softmax): LogSoftmax(dim=-1)\n",
      ")\n"
     ]
    },
    {
     "data": {
      "text/plain": [
       "=================================================================\n",
       "Layer (type:depth-idx)                   Param #\n",
       "=================================================================\n",
       "ActionGenerator                          --\n",
       "├─LayerNormalization: 1-1                --\n",
       "│    └─LayerNorm: 2-1                    1,024\n",
       "├─Linear: 1-2                            26,676\n",
       "├─LogSoftmax: 1-3                        --\n",
       "=================================================================\n",
       "Total params: 27,700\n",
       "Trainable params: 27,700\n",
       "Non-trainable params: 0\n",
       "================================================================="
      ]
     },
     "execution_count": 252,
     "metadata": {},
     "output_type": "execute_result"
    }
   ],
   "source": [
    "generator = ActionGenerator().cuda()\n",
    "print(generator)\n",
    "summary(generator)"
   ]
  },
  {
   "cell_type": "code",
   "execution_count": null,
   "id": "1013f117-e5e3-4b2c-b14b-d2260e40f351",
   "metadata": {},
   "outputs": [],
   "source": [
    "N, C, T = tokens.shape\n",
    "\n",
    "N, C, T"
   ]
  },
  {
   "cell_type": "code",
   "execution_count": null,
   "id": "ce3a76ea-ae3b-403a-b8e2-a817f50498fa",
   "metadata": {},
   "outputs": [],
   "source": [
    "actions = generator(tokens.view(N, T, C))\n",
    "\n",
    "actions.shape"
   ]
  },
  {
   "cell_type": "markdown",
   "id": "bb14293b-b031-477b-a643-3811927b1bb1",
   "metadata": {
    "jp-MarkdownHeadingCollapsed": true,
    "tags": []
   },
   "source": [
    "### RT-1 Decoder"
   ]
  },
  {
   "cell_type": "code",
   "execution_count": null,
   "id": "ba0ec749-1fbf-4072-b191-b6e3ad2f243f",
   "metadata": {},
   "outputs": [],
   "source": [
    "class RT1Decoder(nn.Module):\n",
    "    def __init__(self):\n",
    "        super().__init__()\n",
    "        \n",
    "        self.positional_encoder = PositionalEncoder()\n",
    "        self.transformer = TransformerDecoder()\n",
    "        self.action_generator = ActionGenerator()\n",
    "        \n",
    "    def _decode_predictions(self, preds, method:str=\"greedy\"):\n",
    "        \"\"\"\n",
    "            Args:\n",
    "                preds: predictions (logits)\n",
    "                method: decoding strategy. one of [\"greedy\", \"beam-search\"]\n",
    "                \n",
    "            Returns:\n",
    "                actions: decoded predictions as sequence of actions.\n",
    "            \n",
    "        \"\"\"\n",
    "        pass\n",
    "    \n",
    "    def forward(self, learned_tokens):\n",
    "        \n",
    "        # positional encoding\n",
    "        pos_enc = self.positional_encoder(imgs)\n",
    "        \n",
    "        # Generate attention mask\n",
    "        attention_mask = generate_causal_attention_mask()\n",
    "        # Add positional encoding\n",
    "        pos_enc = pos_encoding(learned_tokens)\n",
    "        # print(pos_enc.shape)\n",
    "        learned_tokens = learned_tokens + pos_enc\n",
    "        # Attend to learned tokens\n",
    "        attended_tokens = self.transformer(learned_tokens, mask = ~attention_mask)\n",
    "        out = reduce(attended_tokens, 'b (f n) d -> b f d', 'mean', f = (config.NUM_HISTORY + 1))\n",
    "        \n",
    "        # generate outputs\n",
    "        logits = self.action_generator(out)\n",
    "        \n",
    "        return logits"
   ]
  },
  {
   "cell_type": "code",
   "execution_count": null,
   "id": "86f893fa-9324-4244-aad2-a66db2243700",
   "metadata": {},
   "outputs": [],
   "source": []
  },
  {
   "cell_type": "markdown",
   "id": "3cde5f94-8a3c-458d-94da-9655d7ddb2d6",
   "metadata": {
    "jp-MarkdownHeadingCollapsed": true,
    "tags": []
   },
   "source": [
    "### RT-1 "
   ]
  },
  {
   "cell_type": "code",
   "execution_count": null,
   "id": "f033aac5-7312-47d8-8ff8-8044ebb2fd8f",
   "metadata": {},
   "outputs": [],
   "source": [
    "class RT1(pl.LightningModule):\n",
    "    def __init__(\n",
    "        self\n",
    "    ):\n",
    "        super().__init__()\n",
    "        self.encoder = RT1Encder()\n",
    "        self.decoder = RT1Decoder()\n",
    "        self.input_seq_embedding = self.encoder.text_encoder.text_encoder.embeddings\n",
    "        # freeze BERT Embedding layer\n",
    "        for param in self.input_seq_embedding.parameters():\n",
    "            param.requires_grad = False \n",
    "            \n",
    "        self.target_seq_embedding = nn.Sequential(\n",
    "            nn.Embedding(\n",
    "                num_embeddings=config.TARGET_VOCAB_SIZE, \n",
    "                embedding_dim=config.EMBEDDING_DIM, \n",
    "                padding_idx=config.TGT_PAD_TOK_ID\n",
    "            ),\n",
    "            LayerNormalization(),\n",
    "            nn.Dropout(p=.1)\n",
    "\n",
    "        )\n",
    "        self.cross_attention_module = MultiHeadCrossAttention(num_heads=4)\n",
    "        \n",
    "    def forward(self, input_ids, attn_mask, token_type_ids, imgs):\n",
    "        \n",
    "        tokens = self.encode(input_ids, attn_mask, token_type_ids, imgs)\n",
    "        out = self.decode(tokens, )\n",
    "    \n",
    "    def encode(self, input_ids, attn_mask, token_type_ids, imgs):\n",
    "        return self.encoder(input_ids, attn_mask, token_type_ids, imgs)\n",
    "    \n",
    "    def decode(self, enc_outputs, x_mask, y, y_mask):\n",
    "        return self.decoder(y, enc_outputs, src_mask, tgt_mask)\n",
    "    \n",
    "    def configure_optimizers(self):\n",
    "        pass\n",
    "    \n",
    "    def training_step(self, batch, batch_idx):\n",
    "        pass\n",
    "    \n",
    "    def validation_step(self, batch, batch_idx):\n",
    "        pass\n",
    "    \n",
    "    def test_step(self, batch, batch_idx):\n",
    "        pass\n",
    "    \n",
    "    def compute_loss(self, outputs, targets):\n",
    "        pass"
   ]
  },
  {
   "cell_type": "code",
   "execution_count": null,
   "id": "715fd461-7028-49de-bcb9-e8464433f548",
   "metadata": {},
   "outputs": [],
   "source": []
  },
  {
   "cell_type": "code",
   "execution_count": null,
   "id": "4a346bbe-d174-40a9-a807-e2cd63665ec6",
   "metadata": {},
   "outputs": [],
   "source": []
  },
  {
   "cell_type": "code",
   "execution_count": null,
   "id": "3e2bebcb-a94a-4272-b68d-5eeee9dbd638",
   "metadata": {},
   "outputs": [],
   "source": []
  }
 ],
 "metadata": {
  "kernelspec": {
   "display_name": "SMF-BE",
   "language": "python",
   "name": "smf-be"
  },
  "language_info": {
   "codemirror_mode": {
    "name": "ipython",
    "version": 3
   },
   "file_extension": ".py",
   "mimetype": "text/x-python",
   "name": "python",
   "nbconvert_exporter": "python",
   "pygments_lexer": "ipython3",
   "version": "3.10.4"
  }
 },
 "nbformat": 4,
 "nbformat_minor": 5
}
