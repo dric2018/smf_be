{
 "cells": [
  {
   "cell_type": "markdown",
   "id": "11449575-6314-4708-9193-b279891e836c",
   "metadata": {},
   "source": [
    "## Device check"
   ]
  },
  {
   "cell_type": "code",
   "execution_count": 1,
   "id": "2f302c0d-40f1-4bac-bf57-df54c89e72f1",
   "metadata": {},
   "outputs": [
    {
     "name": "stdout",
     "output_type": "stream",
     "text": [
      "Tue Oct 24 02:12:38 2023       \n",
      "+-----------------------------------------------------------------------------+\n",
      "| NVIDIA-SMI 525.60.13    Driver Version: 525.60.13    CUDA Version: 12.0     |\n",
      "|-------------------------------+----------------------+----------------------+\n",
      "| GPU  Name        Persistence-M| Bus-Id        Disp.A | Volatile Uncorr. ECC |\n",
      "| Fan  Temp  Perf  Pwr:Usage/Cap|         Memory-Usage | GPU-Util  Compute M. |\n",
      "|                               |                      |               MIG M. |\n",
      "|===============================+======================+======================|\n",
      "|   0  Tesla V100-SXM2...  On   | 00000000:15:00.0 Off |                    0 |\n",
      "| N/A   27C    P0    40W / 300W |      0MiB / 32768MiB |      0%      Default |\n",
      "|                               |                      |                  N/A |\n",
      "+-------------------------------+----------------------+----------------------+\n",
      "                                                                               \n",
      "+-----------------------------------------------------------------------------+\n",
      "| Processes:                                                                  |\n",
      "|  GPU   GI   CI        PID   Type   Process name                  GPU Memory |\n",
      "|        ID   ID                                                   Usage      |\n",
      "|=============================================================================|\n",
      "|  No running processes found                                                 |\n",
      "+-----------------------------------------------------------------------------+\n"
     ]
    }
   ],
   "source": [
    "!nvidia-smi"
   ]
  },
  {
   "cell_type": "markdown",
   "id": "c33ee382-8c34-4130-99d3-80d5abdfbf1a",
   "metadata": {},
   "source": [
    "## Packages"
   ]
  },
  {
   "cell_type": "code",
   "execution_count": 2,
   "id": "5d150586-d672-4999-9a7f-743a7d0d3854",
   "metadata": {},
   "outputs": [],
   "source": [
    "import warnings\n",
    "warnings.filterwarnings(action=\"ignore\")"
   ]
  },
  {
   "cell_type": "code",
   "execution_count": 194,
   "id": "e2664559-8789-4785-83d6-26327fe5ed23",
   "metadata": {},
   "outputs": [],
   "source": [
    "from einops import pack, unpack, repeat, reduce, rearrange\n",
    "from einops.layers.torch import Rearrange, Reduce\n",
    "\n",
    "import numpy as np\n",
    "\n",
    "import logging\n",
    "logging.basicConfig(level=\"INFO\")\n",
    "import os\n",
    "\n",
    "import pandas as pd\n",
    "from pprint import pprint\n",
    "\n",
    "import sys\n",
    "sys.path.append(\"../src\")\n",
    "\n",
    "import torch\n",
    "import torch.nn as nn\n",
    "import torch.nn.functional as F\n",
    "\n",
    "from torchinfo import summary\n",
    "\n",
    "import lightning.pytorch as pl"
   ]
  },
  {
   "cell_type": "code",
   "execution_count": 4,
   "id": "b09a35d4-17a4-437a-ad75-cfdbf9215827",
   "metadata": {},
   "outputs": [],
   "source": [
    "os.environ[\"TOKENIZERS_PARALLELISM\"] = \"false\"\n",
    "%load_ext autoreload\n",
    "%autoreload 2"
   ]
  },
  {
   "cell_type": "code",
   "execution_count": 212,
   "id": "2ef863cc-4128-49a3-a156-fbdc859a9fd2",
   "metadata": {},
   "outputs": [],
   "source": [
    "import config\n",
    "from dataloader import BEDataset, BEDataModule\n",
    "import token_learner\n",
    "from transformer import PositionalEncoder, TransformerDecoder, LayerNormalization, FeedFowardLayer\n",
    "\n",
    "from film_layers import FiLMBlockV2, FiLMEncoder, ResBlockDWConv\n",
    "from utils.model_utils import TextEncoder, ImageFeatureExtractor"
   ]
  },
  {
   "cell_type": "markdown",
   "id": "c23b26cc-b5a8-4a5a-9e6c-6d2721d34c58",
   "metadata": {
    "jp-MarkdownHeadingCollapsed": true,
    "tags": []
   },
   "source": [
    "## Load data summary"
   ]
  },
  {
   "cell_type": "code",
   "execution_count": 7,
   "id": "9e68541d-e1c2-48df-a18d-c37c9da42002",
   "metadata": {},
   "outputs": [
    {
     "data": {
      "text/html": [
       "<div>\n",
       "<style scoped>\n",
       "    .dataframe tbody tr th:only-of-type {\n",
       "        vertical-align: middle;\n",
       "    }\n",
       "\n",
       "    .dataframe tbody tr th {\n",
       "        vertical-align: top;\n",
       "    }\n",
       "\n",
       "    .dataframe thead th {\n",
       "        text-align: right;\n",
       "    }\n",
       "</style>\n",
       "<table border=\"1\" class=\"dataframe\">\n",
       "  <thead>\n",
       "    <tr style=\"text-align: right;\">\n",
       "      <th></th>\n",
       "      <th>sample_ID</th>\n",
       "      <th>in_state</th>\n",
       "      <th>goal_state</th>\n",
       "      <th>action_description</th>\n",
       "      <th>motor_cmd</th>\n",
       "      <th>len_action_desc</th>\n",
       "      <th>len_motor_cmd</th>\n",
       "      <th>version</th>\n",
       "    </tr>\n",
       "  </thead>\n",
       "  <tbody>\n",
       "    <tr>\n",
       "      <th>0</th>\n",
       "      <td>7294</td>\n",
       "      <td>0</td>\n",
       "      <td>10</td>\n",
       "      <td>put the fork to the right of buttermilk</td>\n",
       "      <td>:FORK GREEN POSE-9 :BUTTERMILK GREEN POSE-2 :F...</td>\n",
       "      <td>8</td>\n",
       "      <td>11</td>\n",
       "      <td>v2</td>\n",
       "    </tr>\n",
       "    <tr>\n",
       "      <th>1</th>\n",
       "      <td>405</td>\n",
       "      <td>0</td>\n",
       "      <td>8</td>\n",
       "      <td>move the bottle backwards</td>\n",
       "      <td>:BOTTLE RED POSE-2 :BOTTLE  #'*backward-transf...</td>\n",
       "      <td>4</td>\n",
       "      <td>8</td>\n",
       "      <td>v1</td>\n",
       "    </tr>\n",
       "    <tr>\n",
       "      <th>2</th>\n",
       "      <td>4235</td>\n",
       "      <td>0</td>\n",
       "      <td>10</td>\n",
       "      <td>put the bottle to the left of breakfast-cereal</td>\n",
       "      <td>:BOTTLE RED POSE-7 :BREAKFAST-CEREAL BLUE POSE...</td>\n",
       "      <td>8</td>\n",
       "      <td>11</td>\n",
       "      <td>v2</td>\n",
       "    </tr>\n",
       "    <tr>\n",
       "      <th>3</th>\n",
       "      <td>6990</td>\n",
       "      <td>0</td>\n",
       "      <td>10</td>\n",
       "      <td>put the milk in front of bottle</td>\n",
       "      <td>:MILK BLUE POSE-8 :BOTTLE RED POSE-4 :MILK  #'...</td>\n",
       "      <td>7</td>\n",
       "      <td>11</td>\n",
       "      <td>v2</td>\n",
       "    </tr>\n",
       "    <tr>\n",
       "      <th>4</th>\n",
       "      <td>7096</td>\n",
       "      <td>0</td>\n",
       "      <td>10</td>\n",
       "      <td>put the cup in front of glasses</td>\n",
       "      <td>:CUP GREEN POSE-6 :GLASSES RED POSE-2 :CUP  #'...</td>\n",
       "      <td>7</td>\n",
       "      <td>11</td>\n",
       "      <td>v2</td>\n",
       "    </tr>\n",
       "  </tbody>\n",
       "</table>\n",
       "</div>"
      ],
      "text/plain": [
       "   sample_ID  in_state  goal_state  \\\n",
       "0       7294         0          10   \n",
       "1        405         0           8   \n",
       "2       4235         0          10   \n",
       "3       6990         0          10   \n",
       "4       7096         0          10   \n",
       "\n",
       "                               action_description  \\\n",
       "0         put the fork to the right of buttermilk   \n",
       "1                       move the bottle backwards   \n",
       "2  put the bottle to the left of breakfast-cereal   \n",
       "3                 put the milk in front of bottle   \n",
       "4                 put the cup in front of glasses   \n",
       "\n",
       "                                           motor_cmd  len_action_desc  \\\n",
       "0  :FORK GREEN POSE-9 :BUTTERMILK GREEN POSE-2 :F...                8   \n",
       "1  :BOTTLE RED POSE-2 :BOTTLE  #'*backward-transf...                4   \n",
       "2  :BOTTLE RED POSE-7 :BREAKFAST-CEREAL BLUE POSE...                8   \n",
       "3  :MILK BLUE POSE-8 :BOTTLE RED POSE-4 :MILK  #'...                7   \n",
       "4  :CUP GREEN POSE-6 :GLASSES RED POSE-2 :CUP  #'...                7   \n",
       "\n",
       "   len_motor_cmd version  \n",
       "0             11      v2  \n",
       "1              8      v1  \n",
       "2             11      v2  \n",
       "3             11      v2  \n",
       "4             11      v2  "
      ]
     },
     "execution_count": 7,
     "metadata": {},
     "output_type": "execute_result"
    }
   ],
   "source": [
    "csv = pd.read_csv(os.path.join(config.DATASET_PATH, \"train.csv\"))\n",
    "\n",
    "csv.head()"
   ]
  },
  {
   "cell_type": "code",
   "execution_count": 8,
   "id": "5e7cd7ee-95e6-450a-b7bf-35a626daf357",
   "metadata": {},
   "outputs": [
    {
     "data": {
      "text/plain": [
       "4876"
      ]
     },
     "execution_count": 8,
     "metadata": {},
     "output_type": "execute_result"
    }
   ],
   "source": [
    "# building data object\n",
    "ds = BEDataset(\n",
    "    df=csv    \n",
    ")\n",
    "\n",
    "len(ds)"
   ]
  },
  {
   "cell_type": "code",
   "execution_count": 9,
   "id": "28ccf421-7092-4d19-b7a8-84d4864f34c3",
   "metadata": {},
   "outputs": [
    {
     "name": "stdout",
     "output_type": "stream",
     "text": [
      "Dataset size:  4876\n",
      "====================================================================================================\n",
      "ID\t:  9401\n",
      ">> InState\t:  torch.Size([3, 224, 224])\n",
      ">> Desc\t:\n",
      "{'ids': tensor([  101,  2404,  1996,  5442,  2000,  1996,  2157,  1997, 12256, 17130,\n",
      "         2378,   102,     0,     0,     0,     0]),\n",
      " 'length': 8,\n",
      " 'mask': tensor([1, 1, 1, 1, 1, 1, 1, 1, 1, 1, 1, 1, 0, 0, 0, 0]),\n",
      " 'raw': 'put the knife to the right of mondamin',\n",
      " 'token_type_ids': tensor([0, 0, 0, 0, 0, 0, 0, 0, 0, 0, 0, 0, 0, 0, 0, 0])}\n",
      ">> Cmd\t:\n",
      "{'ids': tensor([ 0, 17, 41, 30, 18, 41, 36, 17, 48, 18,  2,  2,  2,  2,  2,  2]),\n",
      " 'length': 11,\n",
      " 'mask': tensor([1, 1, 1, 1, 1, 1, 1, 1, 1, 1, 1, 0, 0, 0, 0, 0]),\n",
      " 'raw': ':KNIFE GREEN POSE-10 :MONDAMIN GREEN POSE-3 :KNIFE  '\n",
      "        \"#'*rightward-transformation*  :MONDAMIN\"}\n",
      "====================================================================================================\n"
     ]
    }
   ],
   "source": [
    "# fetching example\n",
    "rand_idx = np.random.randint(low=0, high=len(ds))\n",
    "ex = ds[rand_idx]\n",
    "\n",
    "print(\"Dataset size: \", len(ds))\n",
    "print(\"=\"*100)\n",
    "print(\"ID\\t: \", ex[\"sample_id\"])\n",
    "print(\">> InState\\t: \", ex[\"in_state\"].shape)\n",
    "print(\">> Desc\\t:\")\n",
    "pprint(ex[\"action_desc\"])\n",
    "print(\">> Cmd\\t:\")\n",
    "pprint(ex[\"motor_cmd\"])\n",
    "print(\"=\"*100)"
   ]
  },
  {
   "cell_type": "markdown",
   "id": "e425b526-43d7-483b-b3bc-02028bfb4b7b",
   "metadata": {
    "tags": []
   },
   "source": [
    "## Data Module"
   ]
  },
  {
   "cell_type": "code",
   "execution_count": 84,
   "id": "820bb68f-3341-4d6e-9cea-80dbdf2de002",
   "metadata": {},
   "outputs": [
    {
     "name": "stdout",
     "output_type": "stream",
     "text": [
      "Total # examples: 4876\n"
     ]
    },
    {
     "name": "stderr",
     "output_type": "stream",
     "text": [
      "INFO:root:Training on 3610 samples.\n",
      "INFO:root:Validating on 1266 samples.\n"
     ]
    }
   ],
   "source": [
    "dm = BEDataModule()\n",
    "dm.setup()"
   ]
  },
  {
   "cell_type": "code",
   "execution_count": 85,
   "id": "383eaa10-47d7-4620-928e-8fbcd6889d89",
   "metadata": {},
   "outputs": [],
   "source": [
    "# print(\"=\"*100)\n",
    "# logging.info(\"\\n>> train data loader\")\n",
    "# print(f\"# train batches\\t: {len(dm.train_dataloader())}\")\n",
    "# for data in dm.train_dataloader():\n",
    "#     # pprint(data)\n",
    "#     sample_id, in_state, ad, cmd = data[\"sample_id\"], data[\"in_state\"], data[\"action_desc\"], data[\"motor_cmd\"]\n",
    "#     print(\"In \\t\\t\\t: \", in_state.shape)\n",
    "#     print(\"Action desc \\t\\t: \", ad[\"ids\"].shape)\n",
    "#     print(\"Action desc (len) \\t: \", ad[\"length\"].shape)\n",
    "#     print(\"CMD \\t\\t\\t: \", cmd[\"ids\"].shape)\n",
    "#     print(\"CMD(len) \\t\\t: \", cmd[\"length\"].shape)\n",
    "#     break\n",
    "\n",
    "# print(\"\\nIDs & decided tokens\")\n",
    "# for data in dm.train_dataloader():\n",
    "#     print(data[\"action_desc\"][\"ids\"][0].tolist())\n",
    "#     print(dm.train_ds._decode_inputs(data[\"action_desc\"][\"ids\"][0].tolist()))\n",
    "#     print()\n",
    "#     print(data[\"motor_cmd\"][\"ids\"][0].tolist())\n",
    "#     print(dm.train_ds._decode_outputs(data[\"motor_cmd\"][\"ids\"][0].tolist()))\n",
    "\n",
    "#     break\n",
    "    \n",
    "# print(\"=\"*100)"
   ]
  },
  {
   "cell_type": "markdown",
   "id": "fd6bfcb6-3d67-4d4a-934d-95af834e1a07",
   "metadata": {},
   "source": [
    "## Fetch batch"
   ]
  },
  {
   "cell_type": "code",
   "execution_count": 86,
   "id": "e7c22a7a-16f8-4411-8839-8b724fc29869",
   "metadata": {},
   "outputs": [
    {
     "name": "stdout",
     "output_type": "stream",
     "text": [
      "CPU times: user 15.9 ms, sys: 271 ms, total: 287 ms\n",
      "Wall time: 1.71 s\n"
     ]
    },
    {
     "data": {
      "text/plain": [
       "torch.Size([8, 3, 224, 224])"
      ]
     },
     "execution_count": 86,
     "metadata": {},
     "output_type": "execute_result"
    }
   ],
   "source": [
    "%%time\n",
    "sample = next(iter(dm.train_dataloader()))\n",
    "sample[\"in_state\"].shape"
   ]
  },
  {
   "cell_type": "markdown",
   "id": "59b32ff7-02ee-4fa3-b3b9-7885f558072b",
   "metadata": {},
   "source": [
    "## Model Design"
   ]
  },
  {
   "cell_type": "markdown",
   "id": "52bcf1ad-8562-458b-b07c-226d1ed3dbe0",
   "metadata": {},
   "source": [
    "<!-- ![RT1 model architecture](../../imgs/rt1+.png) -->\n",
    "<center>\n",
    "    <img src=\"../imgs/rt1+.png\" alt=\"RT1 model architecture\" width=\"300\" height=\"400\">\n",
    "\n",
    "<center>"
   ]
  },
  {
   "cell_type": "markdown",
   "id": "130cea30-c012-4a53-a94b-7651270e4c38",
   "metadata": {},
   "source": [
    "### Encoder"
   ]
  },
  {
   "cell_type": "markdown",
   "id": "2c4d547d-b935-42b3-bafa-ded2cddaec51",
   "metadata": {
    "jp-MarkdownHeadingCollapsed": true,
    "tags": []
   },
   "source": [
    "#### Test Text Encoder"
   ]
  },
  {
   "cell_type": "code",
   "execution_count": 195,
   "id": "2cbe10a4-0a68-429f-a18c-dfb4012920ff",
   "metadata": {},
   "outputs": [
    {
     "data": {
      "text/plain": [
       "=========================================================================================================\n",
       "Layer (type:depth-idx)                                  Param #                   Trainable\n",
       "=========================================================================================================\n",
       "TextEncoder                                             --                        False\n",
       "├─BertModel: 1-1                                        --                        False\n",
       "│    └─BertEmbeddings: 2-1                              --                        False\n",
       "│    │    └─Embedding: 3-1                              (15,627,264)              False\n",
       "│    │    └─Embedding: 3-2                              (262,144)                 False\n",
       "│    │    └─Embedding: 3-3                              (1,024)                   False\n",
       "│    │    └─LayerNorm: 3-4                              (1,024)                   False\n",
       "│    │    └─Dropout: 3-5                                --                        --\n",
       "│    └─BertEncoder: 2-2                                 --                        False\n",
       "│    │    └─ModuleList: 3-6                             (12,609,536)              False\n",
       "│    └─BertPooler: 2-3                                  --                        False\n",
       "│    │    └─Linear: 3-7                                 (262,656)                 False\n",
       "│    │    └─Tanh: 3-8                                   --                        --\n",
       "├─Dropout: 1-2                                          --                        --\n",
       "=========================================================================================================\n",
       "Total params: 28,763,648\n",
       "Trainable params: 0\n",
       "Non-trainable params: 28,763,648\n",
       "========================================================================================================="
      ]
     },
     "execution_count": 195,
     "metadata": {},
     "output_type": "execute_result"
    }
   ],
   "source": [
    "te = TextEncoder(freeze=True).cuda()\n",
    "summary(model=te, col_names=[\"num_params\", \"trainable\"])"
   ]
  },
  {
   "cell_type": "code",
   "execution_count": 196,
   "id": "1790e904-591d-4ee3-8ae3-f9ee204dbe31",
   "metadata": {
    "tags": []
   },
   "outputs": [
    {
     "data": {
      "text/plain": [
       "torch.Size([8, 512])"
      ]
     },
     "execution_count": 196,
     "metadata": {},
     "output_type": "execute_result"
    }
   ],
   "source": [
    "emb = te(\n",
    "    inp_ids=sample[\"action_desc\"][\"ids\"].cuda(),\n",
    "    mask=sample[\"action_desc\"][\"mask\"].cuda(),\n",
    "    tok_type_ids=sample[\"action_desc\"][\"token_type_ids\"].cuda()\n",
    ")\n",
    "\n",
    "emb.shape"
   ]
  },
  {
   "cell_type": "markdown",
   "id": "491611ae-2f70-404b-b04c-a401bad6fc56",
   "metadata": {
    "jp-MarkdownHeadingCollapsed": true,
    "tags": []
   },
   "source": [
    "#### Test Img Feature Extractor"
   ]
  },
  {
   "cell_type": "code",
   "execution_count": 201,
   "id": "d55d73ba-efef-4d32-81cb-520974830c74",
   "metadata": {
    "tags": []
   },
   "outputs": [
    {
     "data": {
      "text/plain": [
       "===============================================================================================\n",
       "Layer (type:depth-idx)                        Param #                   Trainable\n",
       "===============================================================================================\n",
       "ImageFeatureExtractor                         --                        Partial\n",
       "├─ResNet: 1-1                                 --                        Partial\n",
       "│    └─Conv2d: 2-1                            (9,408)                   False\n",
       "│    └─BatchNorm2d: 2-2                       (128)                     False\n",
       "│    └─ReLU: 2-3                              --                        --\n",
       "│    └─MaxPool2d: 2-4                         --                        --\n",
       "│    └─Sequential: 2-5                        --                        False\n",
       "│    │    └─BasicBlock: 3-1                   (73,984)                  False\n",
       "│    │    └─BasicBlock: 3-2                   (73,984)                  False\n",
       "│    │    └─BasicBlock: 3-3                   (73,984)                  False\n",
       "│    └─Sequential: 2-6                        --                        False\n",
       "│    │    └─BasicBlock: 3-4                   (230,144)                 False\n",
       "│    │    └─BasicBlock: 3-5                   (295,424)                 False\n",
       "│    │    └─BasicBlock: 3-6                   (295,424)                 False\n",
       "│    │    └─BasicBlock: 3-7                   (295,424)                 False\n",
       "│    └─Sequential: 2-7                        --                        False\n",
       "│    │    └─BasicBlock: 3-8                   (919,040)                 False\n",
       "│    │    └─BasicBlock: 3-9                   (1,180,672)               False\n",
       "│    │    └─BasicBlock: 3-10                  (1,180,672)               False\n",
       "│    │    └─BasicBlock: 3-11                  (1,180,672)               False\n",
       "│    │    └─BasicBlock: 3-12                  (1,180,672)               False\n",
       "│    │    └─BasicBlock: 3-13                  (1,180,672)               False\n",
       "│    └─Sequential: 2-8                        --                        False\n",
       "│    │    └─BasicBlock: 3-14                  (3,673,088)               False\n",
       "│    │    └─BasicBlock: 3-15                  (4,720,640)               False\n",
       "│    │    └─BasicBlock: 3-16                  (4,720,640)               False\n",
       "│    └─AdaptiveAvgPool2d: 2-9                 --                        --\n",
       "│    └─Linear: 2-10                           513,000                   True\n",
       "├─Sequential: 1-2                             21,284,672                False\n",
       "│    └─Conv2d: 2-11                           (recursive)               False\n",
       "│    └─BatchNorm2d: 2-12                      (recursive)               False\n",
       "│    └─ReLU: 2-13                             --                        --\n",
       "│    └─MaxPool2d: 2-14                        --                        --\n",
       "│    └─Sequential: 2-15                       (recursive)               False\n",
       "│    │    └─BasicBlock: 3-17                  (recursive)               False\n",
       "│    │    └─BasicBlock: 3-18                  (recursive)               False\n",
       "│    │    └─BasicBlock: 3-19                  (recursive)               False\n",
       "│    └─Sequential: 2-16                       (recursive)               False\n",
       "│    │    └─BasicBlock: 3-20                  (recursive)               False\n",
       "│    │    └─BasicBlock: 3-21                  (recursive)               False\n",
       "│    │    └─BasicBlock: 3-22                  (recursive)               False\n",
       "│    │    └─BasicBlock: 3-23                  (recursive)               False\n",
       "│    └─Sequential: 2-17                       (recursive)               False\n",
       "│    │    └─BasicBlock: 3-24                  (recursive)               False\n",
       "│    │    └─BasicBlock: 3-25                  (recursive)               False\n",
       "│    │    └─BasicBlock: 3-26                  (recursive)               False\n",
       "│    │    └─BasicBlock: 3-27                  (recursive)               False\n",
       "│    │    └─BasicBlock: 3-28                  (recursive)               False\n",
       "│    │    └─BasicBlock: 3-29                  (recursive)               False\n",
       "│    └─Sequential: 2-18                       (recursive)               False\n",
       "│    │    └─BasicBlock: 3-30                  (recursive)               False\n",
       "│    │    └─BasicBlock: 3-31                  (recursive)               False\n",
       "│    │    └─BasicBlock: 3-32                  (recursive)               False\n",
       "===============================================================================================\n",
       "Total params: 43,082,344\n",
       "Trainable params: 513,000\n",
       "Non-trainable params: 42,569,344\n",
       "==============================================================================================="
      ]
     },
     "execution_count": 201,
     "metadata": {},
     "output_type": "execute_result"
    }
   ],
   "source": [
    "fe = ImageFeatureExtractor(pretrained=True, arch=\"resnet34\").cuda()\n",
    "\n",
    "summary(fe, col_names=[\"num_params\", \"trainable\"])"
   ]
  },
  {
   "cell_type": "code",
   "execution_count": 127,
   "id": "34e9d6e5-ca31-4b20-8fe1-07412fcb4f33",
   "metadata": {},
   "outputs": [
    {
     "data": {
      "text/plain": [
       "torch.Size([8, 512, 7, 7])"
      ]
     },
     "execution_count": 127,
     "metadata": {},
     "output_type": "execute_result"
    }
   ],
   "source": [
    "img_ftrs = fe(sample[\"in_state\"].cuda())\n",
    "\n",
    "img_ftrs.shape"
   ]
  },
  {
   "cell_type": "markdown",
   "id": "beea6fe0-fc93-4c1d-9f7d-ae8194f9bb29",
   "metadata": {
    "jp-MarkdownHeadingCollapsed": true,
    "tags": []
   },
   "source": [
    "#### Test FiLM Block"
   ]
  },
  {
   "cell_type": "code",
   "execution_count": 205,
   "id": "b36b8d53-a51d-4dfd-9cd6-0dabc3e1b614",
   "metadata": {},
   "outputs": [
    {
     "name": "stdout",
     "output_type": "stream",
     "text": [
      "FiLMBlockV2(\n",
      "  (projection_add): Linear(in_features=512, out_features=512, bias=True)\n",
      "  (projection_mult): Linear(in_features=512, out_features=512, bias=True)\n",
      ")\n"
     ]
    },
    {
     "data": {
      "text/plain": [
       "=================================================================\n",
       "Layer (type:depth-idx)                   Param #\n",
       "=================================================================\n",
       "FiLMBlockV2                              --\n",
       "├─Linear: 1-1                            262,656\n",
       "├─Linear: 1-2                            262,656\n",
       "=================================================================\n",
       "Total params: 525,312\n",
       "Trainable params: 525,312\n",
       "Non-trainable params: 0\n",
       "================================================================="
      ]
     },
     "execution_count": 205,
     "metadata": {},
     "output_type": "execute_result"
    }
   ],
   "source": [
    "film_block = FiLMBlockV2().cuda()\n",
    "print(film_block)\n",
    "summary(model=film_block)"
   ]
  },
  {
   "cell_type": "code",
   "execution_count": 206,
   "id": "ab1a5658-8b44-4fd9-8a3e-e2c3f2380864",
   "metadata": {},
   "outputs": [
    {
     "data": {
      "text/plain": [
       "torch.Size([8, 512, 7, 7])"
      ]
     },
     "execution_count": 206,
     "metadata": {},
     "output_type": "execute_result"
    }
   ],
   "source": [
    "text_cond_ftrs = film_block(\n",
    "    img_features=img_ftrs, \n",
    "    conditioning=emb\n",
    ")\n",
    "\n",
    "text_cond_ftrs.shape"
   ]
  },
  {
   "cell_type": "markdown",
   "id": "15e75562-714a-480f-9b03-be898c3aebd4",
   "metadata": {
    "jp-MarkdownHeadingCollapsed": true,
    "tags": []
   },
   "source": [
    "#### Test Residual FiLM Block"
   ]
  },
  {
   "cell_type": "code",
   "execution_count": 208,
   "id": "2ca31d01-12cd-4fbf-af23-1dbecfe2b4d1",
   "metadata": {},
   "outputs": [
    {
     "data": {
      "text/plain": [
       "=================================================================\n",
       "Layer (type:depth-idx)                   Param #\n",
       "=================================================================\n",
       "ResBlockDWConv                           --\n",
       "├─Conv2d: 1-1                            262,656\n",
       "├─ReLU: 1-2                              --\n",
       "├─Conv2d: 1-3                            5,120\n",
       "├─Conv2d: 1-4                            262,656\n",
       "├─BatchNorm2d: 1-5                       1,024\n",
       "├─FiLMBlockV2: 1-6                       --\n",
       "│    └─Linear: 2-1                       262,656\n",
       "│    └─Linear: 2-2                       262,656\n",
       "├─ReLU: 1-7                              --\n",
       "=================================================================\n",
       "Total params: 1,056,768\n",
       "Trainable params: 1,056,768\n",
       "Non-trainable params: 0\n",
       "================================================================="
      ]
     },
     "execution_count": 208,
     "metadata": {},
     "output_type": "execute_result"
    }
   ],
   "source": [
    "dw_res = ResBlockDWConv(512, 512).cuda()\n",
    "summary(model=dw_res)"
   ]
  },
  {
   "cell_type": "code",
   "execution_count": 209,
   "id": "f44cd288-29c5-41ef-be96-72a066bfbeaf",
   "metadata": {},
   "outputs": [
    {
     "data": {
      "text/plain": [
       "torch.Size([8, 512, 7, 7])"
      ]
     },
     "execution_count": 209,
     "metadata": {},
     "output_type": "execute_result"
    }
   ],
   "source": [
    "text_cond_ftrs_res = dw_res(\n",
    "    img_features=img_ftrs, \n",
    "    conditioning=emb\n",
    ")\n",
    "\n",
    "text_cond_ftrs_res.shape"
   ]
  },
  {
   "cell_type": "markdown",
   "id": "00506f45-07c7-40fc-927c-3e307e91b23f",
   "metadata": {
    "tags": []
   },
   "source": [
    "#### Test FiLM Encoder"
   ]
  },
  {
   "cell_type": "code",
   "execution_count": 213,
   "id": "09a904d1-b1ef-40b2-9344-f2580105ee41",
   "metadata": {
    "tags": []
   },
   "outputs": [
    {
     "data": {
      "text/plain": [
       "===========================================================================\n",
       "Layer (type:depth-idx)                             Param #\n",
       "===========================================================================\n",
       "FiLMEncoder                                        --\n",
       "├─ImageFeatureExtractor: 1-1                       --\n",
       "│    └─ResNet: 2-1                                 --\n",
       "│    │    └─Conv2d: 3-1                            (9,408)\n",
       "│    │    └─BatchNorm2d: 3-2                       (128)\n",
       "│    │    └─ReLU: 3-3                              --\n",
       "│    │    └─MaxPool2d: 3-4                         --\n",
       "│    │    └─Sequential: 3-5                        (221,952)\n",
       "│    │    └─Sequential: 3-6                        (1,116,416)\n",
       "│    │    └─Sequential: 3-7                        (6,822,400)\n",
       "│    │    └─Sequential: 3-8                        (13,114,368)\n",
       "│    │    └─AdaptiveAvgPool2d: 3-9                 --\n",
       "│    │    └─Linear: 3-10                           513,000\n",
       "│    └─Sequential: 2-2                             21,284,672\n",
       "│    │    └─Conv2d: 3-11                           (recursive)\n",
       "│    │    └─BatchNorm2d: 3-12                      (recursive)\n",
       "│    │    └─ReLU: 3-13                             --\n",
       "│    │    └─MaxPool2d: 3-14                        --\n",
       "│    │    └─Sequential: 3-15                       (recursive)\n",
       "│    │    └─Sequential: 3-16                       (recursive)\n",
       "│    │    └─Sequential: 3-17                       (recursive)\n",
       "│    │    └─Sequential: 3-18                       (recursive)\n",
       "├─ModuleList: 1-2                                  --\n",
       "│    └─ResBlockDWConv: 2-3                         --\n",
       "│    │    └─Conv2d: 3-19                           262,656\n",
       "│    │    └─ReLU: 3-20                             --\n",
       "│    │    └─Conv2d: 3-21                           5,120\n",
       "│    │    └─Conv2d: 3-22                           262,656\n",
       "│    │    └─BatchNorm2d: 3-23                      1,024\n",
       "│    │    └─FiLMBlockV2: 3-24                      525,312\n",
       "│    │    └─ReLU: 3-25                             --\n",
       "│    └─ResBlockDWConv: 2-4                         --\n",
       "│    │    └─Conv2d: 3-26                           262,656\n",
       "│    │    └─ReLU: 3-27                             --\n",
       "│    │    └─Conv2d: 3-28                           5,120\n",
       "│    │    └─Conv2d: 3-29                           262,656\n",
       "│    │    └─BatchNorm2d: 3-30                      1,024\n",
       "│    │    └─FiLMBlockV2: 3-31                      525,312\n",
       "│    │    └─ReLU: 3-32                             --\n",
       "│    └─ResBlockDWConv: 2-5                         --\n",
       "│    │    └─Conv2d: 3-33                           262,656\n",
       "│    │    └─ReLU: 3-34                             --\n",
       "│    │    └─Conv2d: 3-35                           5,120\n",
       "│    │    └─Conv2d: 3-36                           262,656\n",
       "│    │    └─BatchNorm2d: 3-37                      1,024\n",
       "│    │    └─FiLMBlockV2: 3-38                      525,312\n",
       "│    │    └─ReLU: 3-39                             --\n",
       "│    └─ResBlockDWConv: 2-6                         --\n",
       "│    │    └─Conv2d: 3-40                           262,656\n",
       "│    │    └─ReLU: 3-41                             --\n",
       "│    │    └─Conv2d: 3-42                           5,120\n",
       "│    │    └─Conv2d: 3-43                           262,656\n",
       "│    │    └─BatchNorm2d: 3-44                      1,024\n",
       "│    │    └─FiLMBlockV2: 3-45                      525,312\n",
       "│    │    └─ReLU: 3-46                             --\n",
       "│    └─ResBlockDWConv: 2-7                         --\n",
       "│    │    └─Conv2d: 3-47                           262,656\n",
       "│    │    └─ReLU: 3-48                             --\n",
       "│    │    └─Conv2d: 3-49                           5,120\n",
       "│    │    └─Conv2d: 3-50                           262,656\n",
       "│    │    └─BatchNorm2d: 3-51                      1,024\n",
       "│    │    └─FiLMBlockV2: 3-52                      525,312\n",
       "│    │    └─ReLU: 3-53                             --\n",
       "│    └─ResBlockDWConv: 2-8                         --\n",
       "│    │    └─Conv2d: 3-54                           262,656\n",
       "│    │    └─ReLU: 3-55                             --\n",
       "│    │    └─Conv2d: 3-56                           5,120\n",
       "│    │    └─Conv2d: 3-57                           262,656\n",
       "│    │    └─BatchNorm2d: 3-58                      1,024\n",
       "│    │    └─FiLMBlockV2: 3-59                      525,312\n",
       "│    │    └─ReLU: 3-60                             --\n",
       "===========================================================================\n",
       "Total params: 49,422,952\n",
       "Trainable params: 6,853,608\n",
       "Non-trainable params: 42,569,344\n",
       "==========================================================================="
      ]
     },
     "execution_count": 213,
     "metadata": {},
     "output_type": "execute_result"
    }
   ],
   "source": [
    "film_encoder = FiLMEncoder(\n",
    "    arch=\"resnet34\",\n",
    "    n_res_blocks=6,\n",
    ").cuda()\n",
    "\n",
    "# print(film_encoder)\n",
    "summary(model=film_encoder)"
   ]
  },
  {
   "cell_type": "code",
   "execution_count": 214,
   "id": "2b70f6a7-c6b5-4743-8ecf-9cfa122dd7ea",
   "metadata": {},
   "outputs": [
    {
     "name": "stdout",
     "output_type": "stream",
     "text": [
      "CPU times: user 13.2 ms, sys: 13.2 ms, total: 26.4 ms\n",
      "Wall time: 632 ms\n"
     ]
    },
    {
     "data": {
      "text/plain": [
       "torch.Size([8, 512, 7, 7])"
      ]
     },
     "execution_count": 214,
     "metadata": {},
     "output_type": "execute_result"
    }
   ],
   "source": [
    "%%time\n",
    "\n",
    "out = film_encoder(\n",
    "    x= sample[\"in_state\"].cuda(),\n",
    "    conditioning= emb\n",
    ")\n",
    "\n",
    "out.shape"
   ]
  },
  {
   "cell_type": "markdown",
   "id": "8d46d723-4c8e-4e69-9d4b-7f0e75aa13f2",
   "metadata": {},
   "source": [
    "#### Vision-Language Token Extraction"
   ]
  },
  {
   "cell_type": "code",
   "execution_count": 234,
   "id": "e2696e7b-5907-461b-b6aa-15a1ca393fec",
   "metadata": {},
   "outputs": [
    {
     "name": "stdout",
     "output_type": "stream",
     "text": [
      "Sequential(\n",
      "  (0): Conv2d(512, 1, kernel_size=(1, 1), stride=(1, 1))\n",
      "  (1): GELU(approximate='none')\n",
      "  (2): BatchNorm2d(1, eps=1e-05, momentum=0.1, affine=True, track_running_stats=True)\n",
      ")\n"
     ]
    },
    {
     "data": {
      "text/plain": [
       "=================================================================\n",
       "Layer (type:depth-idx)                   Param #\n",
       "=================================================================\n",
       "Sequential                               --\n",
       "├─Conv2d: 1-1                            513\n",
       "├─GELU: 1-2                              --\n",
       "├─BatchNorm2d: 1-3                       2\n",
       "=================================================================\n",
       "Total params: 515\n",
       "Trainable params: 515\n",
       "Non-trainable params: 0\n",
       "================================================================="
      ]
     },
     "execution_count": 234,
     "metadata": {},
     "output_type": "execute_result"
    }
   ],
   "source": [
    "vl_conv = conv(config.EMBEDDING_DIM, 1, 1, 1, 0).cuda()\n",
    "print(vl_conv)\n",
    "summary(vl_conv)"
   ]
  },
  {
   "cell_type": "code",
   "execution_count": 236,
   "id": "fb599ea6-e7c3-482b-b27b-079dc69501f7",
   "metadata": {},
   "outputs": [
    {
     "data": {
      "text/plain": [
       "torch.Size([8, 1, 7, 7])"
      ]
     },
     "execution_count": 236,
     "metadata": {},
     "output_type": "execute_result"
    }
   ],
   "source": [
    "vl_tokens = vl_conv(out)\n",
    "vl_tokens.shape"
   ]
  },
  {
   "cell_type": "code",
   "execution_count": null,
   "id": "d4fe68b1-24ef-4699-a9e5-565a73670d06",
   "metadata": {},
   "outputs": [],
   "source": []
  },
  {
   "cell_type": "markdown",
   "id": "d217cc28-4eb7-4f76-86ee-51dd6ae8f248",
   "metadata": {
    "tags": []
   },
   "source": [
    "#### Token Learner"
   ]
  },
  {
   "cell_type": "code",
   "execution_count": 215,
   "id": "363d5aca-4d00-4bfa-808a-b9ce8c89ce16",
   "metadata": {},
   "outputs": [
    {
     "data": {
      "text/plain": [
       "(8, 512, 7, 7)"
      ]
     },
     "execution_count": 215,
     "metadata": {},
     "output_type": "execute_result"
    }
   ],
   "source": [
    "N, C, H, W = out.shape\n",
    "\n",
    "N, C, H, W"
   ]
  },
  {
   "cell_type": "code",
   "execution_count": 232,
   "id": "cb960649-ad52-4a6f-be9a-279263b0ae0a",
   "metadata": {},
   "outputs": [
    {
     "name": "stdout",
     "output_type": "stream",
     "text": [
      "TokenLearnerModuleV11(\n",
      "  (layer_norm): LayerNormalization(\n",
      "    (layer): LayerNorm((512,), eps=1e-06, elementwise_affine=True)\n",
      "  )\n",
      "  (token_masking): FeedFowardLayer(\n",
      "    (linear_1): Linear(in_features=512, out_features=64, bias=True)\n",
      "    (activation): GELU(approximate='none')\n",
      "    (linear_2): Linear(in_features=64, out_features=8, bias=True)\n",
      "    (dropout): Dropout(p=0.2, inplace=False)\n",
      "  )\n",
      ")\n"
     ]
    },
    {
     "data": {
      "text/plain": [
       "=================================================================\n",
       "Layer (type:depth-idx)                   Param #\n",
       "=================================================================\n",
       "TokenLearnerModuleV11                    --\n",
       "├─LayerNormalization: 1-1                --\n",
       "│    └─LayerNorm: 2-1                    1,024\n",
       "├─FeedFowardLayer: 1-2                   --\n",
       "│    └─Linear: 2-2                       32,832\n",
       "│    └─GELU: 2-3                         --\n",
       "│    └─Linear: 2-4                       520\n",
       "│    └─Dropout: 2-5                      --\n",
       "=================================================================\n",
       "Total params: 34,376\n",
       "Trainable params: 34,376\n",
       "Non-trainable params: 0\n",
       "================================================================="
      ]
     },
     "execution_count": 232,
     "metadata": {},
     "output_type": "execute_result"
    }
   ],
   "source": [
    "tokL_v11 = token_learner.TokenLearnerModuleV11(feature_shape=(N, H*W, C))\n",
    "print(tokL_v11)\n",
    "summary(model=tokL_v11)"
   ]
  },
  {
   "cell_type": "code",
   "execution_count": 233,
   "id": "cb43cec1-32e2-4f1d-bb5a-3ba026a57fa4",
   "metadata": {},
   "outputs": [
    {
     "name": "stdout",
     "output_type": "stream",
     "text": [
      "Output shape: torch.Size([8, 512, 8])\n"
     ]
    }
   ],
   "source": [
    "# Create a dummy input tensor with the shape [batch_size, height, width, channels]\n",
    "dummy_input = torch.randn(N, H * W, C)\n",
    "\n",
    "# Set the model to evaluation mode\n",
    "tokL_v11.eval()\n",
    "\n",
    "# Pass the dummy input through the model\n",
    "with torch.no_grad():\n",
    "    output = tokL_v11(dummy_input)\n",
    "\n",
    "# Print the shape of the output\n",
    "print(\"Output shape:\", output.shape)"
   ]
  },
  {
   "cell_type": "code",
   "execution_count": null,
   "id": "6e045e3a-4d75-454a-9fdd-c5205f332a2b",
   "metadata": {},
   "outputs": [],
   "source": []
  },
  {
   "cell_type": "markdown",
   "id": "21ce81c2-ecfd-49cf-8613-b806d585dfb0",
   "metadata": {
    "tags": []
   },
   "source": [
    "#### RT-1 Encoder"
   ]
  },
  {
   "cell_type": "code",
   "execution_count": 74,
   "id": "4840f4a2-f578-4816-b623-c1d12cee41b4",
   "metadata": {},
   "outputs": [],
   "source": [
    "class RT1Encoder(nn.Module):\n",
    "    def __init__(\n",
    "        self,\n",
    "        cnn_bacnbone:str=\"resnet18\"\n",
    "    ):\n",
    "        super().__init__()\n",
    "        \n",
    "        # Text encoder\n",
    "        self.text_encoder = TextEncoder()\n",
    "        \n",
    "        # Image encoder\n",
    "        self.image_encoder = FiLMEncoder()\n",
    "        \n",
    "        # Vision-Language tokens extractor\n",
    "        self.vl_conv = conv(self.image_encoder.n_channels, 1, 1, 1, 0)\n",
    "        \n",
    "        # Token Learner\n",
    "        self.token_learner = TokenLearner()\n",
    "        \n",
    "        # Transformer decoder\n",
    "        self.transformer = TransformerDecoder()\n",
    "\n",
    "    def forward(self, input_ids, attn_mask, token_type_ids, imgs):\n",
    "        \"\"\"\n",
    "        \"\"\"\n",
    "        text_enc = self.text_encoder(\n",
    "            inp_ids=input_ids,\n",
    "            mask=attn_mask,\n",
    "            tok_type_ids=token_type_ids\n",
    "        )\n",
    "        \n",
    "        # Generage image tokens\n",
    "        img_tokens = self.image_encoder(\n",
    "            x= imgs,\n",
    "            description= text_enc\n",
    "        )\n",
    "        \n",
    "        # Vision-Language tokens extractor\n",
    "        img_tokens = self.vl_conv(img_tokens)\n",
    "        \n",
    "        # Extract learned tokens\n",
    "        learned_tokens  = self.tok(img_tokens)\n",
    "        \n",
    "        return learned_tokens\n",
    "        "
   ]
  },
  {
   "cell_type": "code",
   "execution_count": 81,
   "id": "d56dd9db-abff-4cb9-b8af-b1b68e3e7ced",
   "metadata": {
    "tags": []
   },
   "outputs": [
    {
     "data": {
      "text/plain": [
       "==============================================================================================================\n",
       "Layer (type:depth-idx)                                       Param #                   Trainable\n",
       "==============================================================================================================\n",
       "RT1Encoder                                                   --                        Partial\n",
       "├─TextEncoder: 1-1                                           --                        False\n",
       "│    └─BertModel: 2-1                                        --                        False\n",
       "│    │    └─BertEmbeddings: 3-1                              (7,945,728)               False\n",
       "│    │    └─BertEncoder: 3-2                                 (3,159,040)               False\n",
       "│    │    └─BertPooler: 3-3                                  (65,792)                  False\n",
       "│    └─Dropout: 2-2                                          --                        --\n",
       "├─FiLMEncoder: 1-2                                           --                        Partial\n",
       "│    └─Linear: 2-3                                           101,376                   True\n",
       "│    └─FeatureExtractor: 2-4                                 --                        Partial\n",
       "│    │    └─ResNet: 3-4                                      11,689,512                Partial\n",
       "│    │    └─Sequential: 3-5                                  (11,176,512)              False\n",
       "│    └─ModuleList: 2-5                                       --                        True\n",
       "│    │    └─ResBlock: 3-6                                    2,624,512                 True\n",
       "│    │    └─ResBlock: 3-7                                    2,624,512                 True\n",
       "│    │    └─ResBlock: 3-8                                    2,624,512                 True\n",
       "├─Sequential: 1-3                                            --                        True\n",
       "│    └─Conv2d: 2-6                                           513                       True\n",
       "│    └─GELU: 2-7                                             --                        --\n",
       "│    └─BatchNorm2d: 2-8                                      2                         True\n",
       "├─TokenLearner: 1-4                                          --                        True\n",
       "│    └─Sequential: 2-9                                       --                        True\n",
       "│    │    └─Conv2d: 3-9                                      4,284,896                 True\n",
       "│    │    └─GELU: 3-10                                       --                        --\n",
       "│    │    └─Conv2d: 3-11                                     8,280                     True\n",
       "├─TransformerDecoder: 1-5                                    --                        True\n",
       "│    └─ModuleList: 2-10                                      --                        True\n",
       "│    │    └─TransformerDecoderLayer: 3-12                    3,154,432                 True\n",
       "│    │    └─TransformerDecoderLayer: 3-13                    3,154,432                 True\n",
       "│    │    └─TransformerDecoderLayer: 3-14                    3,154,432                 True\n",
       "│    │    └─TransformerDecoderLayer: 3-15                    3,154,432                 True\n",
       "│    │    └─TransformerDecoderLayer: 3-16                    3,154,432                 True\n",
       "│    │    └─TransformerDecoderLayer: 3-17                    3,154,432                 True\n",
       "│    └─LayerNormalization: 2-11                              --                        True\n",
       "│    │    └─LayerNorm: 3-18                                  1,024                     True\n",
       "==============================================================================================================\n",
       "Total params: 65,232,803\n",
       "Trainable params: 31,709,219\n",
       "Non-trainable params: 33,523,584\n",
       "=============================================================================================================="
      ]
     },
     "execution_count": 81,
     "metadata": {},
     "output_type": "execute_result"
    }
   ],
   "source": [
    "encoder = RT1Encoder()\n",
    "summary(model=encoder, col_names=[\"num_params\", \"trainable\"])"
   ]
  },
  {
   "cell_type": "code",
   "execution_count": null,
   "id": "7405de1c-ea97-4908-aa25-7858478627c0",
   "metadata": {},
   "outputs": [],
   "source": []
  },
  {
   "cell_type": "code",
   "execution_count": null,
   "id": "706a8bea-a4ac-45a1-affd-5047ff76e85d",
   "metadata": {},
   "outputs": [],
   "source": []
  },
  {
   "cell_type": "markdown",
   "id": "029e620f-5541-4a49-acdf-43ec4b3cce02",
   "metadata": {},
   "source": [
    "### RT-1 Decoder"
   ]
  },
  {
   "cell_type": "markdown",
   "id": "4ce2c336-d441-4f0d-a879-e4337d2abc7e",
   "metadata": {
    "jp-MarkdownHeadingCollapsed": true,
    "tags": []
   },
   "source": [
    "#### Transformer Decoder"
   ]
  },
  {
   "cell_type": "code",
   "execution_count": 52,
   "id": "a5ebf21e-d456-4f85-bb0c-fd1056c517f3",
   "metadata": {
    "scrolled": true,
    "tags": []
   },
   "outputs": [
    {
     "data": {
      "text/plain": [
       "=================================================================\n",
       "Layer (type:depth-idx)                   Param #\n",
       "=================================================================\n",
       "TransformerDecoder                       --\n",
       "├─ModuleList: 1-1                        --\n",
       "│    └─TransformerDecoderLayer: 2-1      --\n",
       "│    │    └─LayerNormalization: 3-1      1,024\n",
       "│    │    └─MultiheadAttention: 3-2      1,050,624\n",
       "│    │    └─Dropout: 3-3                 --\n",
       "│    │    └─LayerNormalization: 3-4      1,024\n",
       "│    │    └─MultiheadAttention: 3-5      1,050,624\n",
       "│    │    └─Dropout: 3-6                 --\n",
       "│    │    └─LayerNormalization: 3-7      1,024\n",
       "│    │    └─FeedFowardLayer: 3-8         1,050,112\n",
       "│    │    └─Dropout: 3-9                 --\n",
       "│    └─TransformerDecoderLayer: 2-2      --\n",
       "│    │    └─LayerNormalization: 3-10     1,024\n",
       "│    │    └─MultiheadAttention: 3-11     1,050,624\n",
       "│    │    └─Dropout: 3-12                --\n",
       "│    │    └─LayerNormalization: 3-13     1,024\n",
       "│    │    └─MultiheadAttention: 3-14     1,050,624\n",
       "│    │    └─Dropout: 3-15                --\n",
       "│    │    └─LayerNormalization: 3-16     1,024\n",
       "│    │    └─FeedFowardLayer: 3-17        1,050,112\n",
       "│    │    └─Dropout: 3-18                --\n",
       "│    └─TransformerDecoderLayer: 2-3      --\n",
       "│    │    └─LayerNormalization: 3-19     1,024\n",
       "│    │    └─MultiheadAttention: 3-20     1,050,624\n",
       "│    │    └─Dropout: 3-21                --\n",
       "│    │    └─LayerNormalization: 3-22     1,024\n",
       "│    │    └─MultiheadAttention: 3-23     1,050,624\n",
       "│    │    └─Dropout: 3-24                --\n",
       "│    │    └─LayerNormalization: 3-25     1,024\n",
       "│    │    └─FeedFowardLayer: 3-26        1,050,112\n",
       "│    │    └─Dropout: 3-27                --\n",
       "│    └─TransformerDecoderLayer: 2-4      --\n",
       "│    │    └─LayerNormalization: 3-28     1,024\n",
       "│    │    └─MultiheadAttention: 3-29     1,050,624\n",
       "│    │    └─Dropout: 3-30                --\n",
       "│    │    └─LayerNormalization: 3-31     1,024\n",
       "│    │    └─MultiheadAttention: 3-32     1,050,624\n",
       "│    │    └─Dropout: 3-33                --\n",
       "│    │    └─LayerNormalization: 3-34     1,024\n",
       "│    │    └─FeedFowardLayer: 3-35        1,050,112\n",
       "│    │    └─Dropout: 3-36                --\n",
       "│    └─TransformerDecoderLayer: 2-5      --\n",
       "│    │    └─LayerNormalization: 3-37     1,024\n",
       "│    │    └─MultiheadAttention: 3-38     1,050,624\n",
       "│    │    └─Dropout: 3-39                --\n",
       "│    │    └─LayerNormalization: 3-40     1,024\n",
       "│    │    └─MultiheadAttention: 3-41     1,050,624\n",
       "│    │    └─Dropout: 3-42                --\n",
       "│    │    └─LayerNormalization: 3-43     1,024\n",
       "│    │    └─FeedFowardLayer: 3-44        1,050,112\n",
       "│    │    └─Dropout: 3-45                --\n",
       "│    └─TransformerDecoderLayer: 2-6      --\n",
       "│    │    └─LayerNormalization: 3-46     1,024\n",
       "│    │    └─MultiheadAttention: 3-47     1,050,624\n",
       "│    │    └─Dropout: 3-48                --\n",
       "│    │    └─LayerNormalization: 3-49     1,024\n",
       "│    │    └─MultiheadAttention: 3-50     1,050,624\n",
       "│    │    └─Dropout: 3-51                --\n",
       "│    │    └─LayerNormalization: 3-52     1,024\n",
       "│    │    └─FeedFowardLayer: 3-53        1,050,112\n",
       "│    │    └─Dropout: 3-54                --\n",
       "├─LayerNormalization: 1-2                --\n",
       "│    └─LayerNorm: 2-7                    1,024\n",
       "=================================================================\n",
       "Total params: 18,927,616\n",
       "Trainable params: 18,927,616\n",
       "Non-trainable params: 0\n",
       "================================================================="
      ]
     },
     "execution_count": 52,
     "metadata": {},
     "output_type": "execute_result"
    }
   ],
   "source": [
    "dec = TransformerDecoder()\n",
    "summary(model=dec)"
   ]
  },
  {
   "cell_type": "code",
   "execution_count": null,
   "id": "4eab8990-184b-4854-980e-ef4887300b2d",
   "metadata": {},
   "outputs": [],
   "source": []
  },
  {
   "cell_type": "code",
   "execution_count": null,
   "id": "3f252ad6-5c3a-44ce-ab3d-4d4d75d1960a",
   "metadata": {},
   "outputs": [],
   "source": []
  },
  {
   "cell_type": "markdown",
   "id": "2e365900-13ff-4dd8-b789-6f45b15c0564",
   "metadata": {
    "jp-MarkdownHeadingCollapsed": true,
    "tags": []
   },
   "source": [
    "#### Action Generator"
   ]
  },
  {
   "cell_type": "code",
   "execution_count": null,
   "id": "929f0bc4-3be4-4b84-a52a-7235e9af947e",
   "metadata": {},
   "outputs": [],
   "source": [
    "class ActionGenerator(nn.Module):\n",
    "    def __init__(\n",
    "        self\n",
    "    ):\n",
    "        super().__init__()\n",
    "    \n",
    "    def forward(self, tokens):\n",
    "        pass"
   ]
  },
  {
   "cell_type": "markdown",
   "id": "bb14293b-b031-477b-a643-3811927b1bb1",
   "metadata": {
    "jp-MarkdownHeadingCollapsed": true,
    "tags": []
   },
   "source": [
    "#### Decoder"
   ]
  },
  {
   "cell_type": "code",
   "execution_count": null,
   "id": "ba0ec749-1fbf-4072-b191-b6e3ad2f243f",
   "metadata": {},
   "outputs": [],
   "source": [
    "class RT1Decoder(nn.Module):\n",
    "    def __init__(self):\n",
    "        super().__init__()\n",
    "        \n",
    "        self.positional_encoder = PositionalEncoder()\n",
    "        self.transformer = TransformerDecoder()\n",
    "        # \n",
    "        self.action_generator = ActionGenerator()\n",
    "        \n",
    "\n",
    "    def _positional_encoding(\n",
    "        self,\n",
    "        seq, \n",
    "        dim, \n",
    "        temperature = 10000, \n",
    "        device = None, \n",
    "        dtype = torch.float32\n",
    "    ):\n",
    "        n = torch.arange(seq, device = device)\n",
    "        omega = torch.arange(dim // 2, device = device) / (dim // 2 - 1)\n",
    "        omega = 1. / (temperature ** omega)\n",
    "\n",
    "        n = n[:, None] * omega[None, :]\n",
    "        pos_emb = torch.cat((n.sin(), n.cos()), dim = 1)\n",
    "        \n",
    "        return pos_emb.type(dtype)\n",
    "\n",
    "    \n",
    "    def forward(self, instructions, imgs):\n",
    "        pass"
   ]
  },
  {
   "cell_type": "code",
   "execution_count": null,
   "id": "86f893fa-9324-4244-aad2-a66db2243700",
   "metadata": {},
   "outputs": [],
   "source": []
  },
  {
   "cell_type": "markdown",
   "id": "3cde5f94-8a3c-458d-94da-9655d7ddb2d6",
   "metadata": {
    "jp-MarkdownHeadingCollapsed": true,
    "tags": []
   },
   "source": [
    "### RT-1 "
   ]
  },
  {
   "cell_type": "code",
   "execution_count": null,
   "id": "f033aac5-7312-47d8-8ff8-8044ebb2fd8f",
   "metadata": {},
   "outputs": [],
   "source": [
    "class RT1(pl.LightningModule):\n",
    "    def __init__(\n",
    "        self\n",
    "    ):\n",
    "        super().__init__()\n",
    "        self.encoder = RT1Encder()\n",
    "        self.decoder = RT1Decoder()\n",
    "        \n",
    "    def forward(self, imgs, instruction):\n",
    "        pass\n",
    "    \n",
    "    def configure_optimizers(self):\n",
    "        pass\n",
    "    \n",
    "    def training_step(self, batch, batch_idx):\n",
    "        pass\n",
    "    \n",
    "    def validation_step(self, batch, batch_idx):\n",
    "        pass\n",
    "    \n",
    "    def test_step(self, batch, batch_idx):\n",
    "        pass\n",
    "    \n",
    "    def compute_loss(self, outputs, targets):\n",
    "        pass"
   ]
  },
  {
   "cell_type": "code",
   "execution_count": null,
   "id": "715fd461-7028-49de-bcb9-e8464433f548",
   "metadata": {},
   "outputs": [],
   "source": []
  },
  {
   "cell_type": "code",
   "execution_count": null,
   "id": "4a346bbe-d174-40a9-a807-e2cd63665ec6",
   "metadata": {},
   "outputs": [],
   "source": []
  },
  {
   "cell_type": "code",
   "execution_count": null,
   "id": "3e2bebcb-a94a-4272-b68d-5eeee9dbd638",
   "metadata": {},
   "outputs": [],
   "source": []
  }
 ],
 "metadata": {
  "kernelspec": {
   "display_name": "SMF-BE",
   "language": "python",
   "name": "smf-be"
  },
  "language_info": {
   "codemirror_mode": {
    "name": "ipython",
    "version": 3
   },
   "file_extension": ".py",
   "mimetype": "text/x-python",
   "name": "python",
   "nbconvert_exporter": "python",
   "pygments_lexer": "ipython3",
   "version": "3.10.4"
  }
 },
 "nbformat": 4,
 "nbformat_minor": 5
}
