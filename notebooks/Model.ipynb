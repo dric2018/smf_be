{
 "cells": [
  {
   "cell_type": "markdown",
   "id": "11449575-6314-4708-9193-b279891e836c",
   "metadata": {},
   "source": [
    "## Device check"
   ]
  },
  {
   "cell_type": "code",
   "execution_count": 1,
   "id": "2f302c0d-40f1-4bac-bf57-df54c89e72f1",
   "metadata": {},
   "outputs": [
    {
     "name": "stdout",
     "output_type": "stream",
     "text": [
      "Sun Oct 29 11:08:43 2023       \n",
      "+-----------------------------------------------------------------------------+\n",
      "| NVIDIA-SMI 525.60.13    Driver Version: 525.60.13    CUDA Version: 12.0     |\n",
      "|-------------------------------+----------------------+----------------------+\n",
      "| GPU  Name        Persistence-M| Bus-Id        Disp.A | Volatile Uncorr. ECC |\n",
      "| Fan  Temp  Perf  Pwr:Usage/Cap|         Memory-Usage | GPU-Util  Compute M. |\n",
      "|                               |                      |               MIG M. |\n",
      "|===============================+======================+======================|\n",
      "|   0  Tesla V100-SXM2...  On   | 00000000:15:00.0 Off |                    0 |\n",
      "| N/A   29C    P0    41W / 300W |      0MiB / 32768MiB |      0%      Default |\n",
      "|                               |                      |                  N/A |\n",
      "+-------------------------------+----------------------+----------------------+\n",
      "                                                                               \n",
      "+-----------------------------------------------------------------------------+\n",
      "| Processes:                                                                  |\n",
      "|  GPU   GI   CI        PID   Type   Process name                  GPU Memory |\n",
      "|        ID   ID                                                   Usage      |\n",
      "|=============================================================================|\n",
      "|  No running processes found                                                 |\n",
      "+-----------------------------------------------------------------------------+\n"
     ]
    }
   ],
   "source": [
    "!nvidia-smi"
   ]
  },
  {
   "cell_type": "markdown",
   "id": "c33ee382-8c34-4130-99d3-80d5abdfbf1a",
   "metadata": {},
   "source": [
    "## Packages"
   ]
  },
  {
   "cell_type": "code",
   "execution_count": 2,
   "id": "5d150586-d672-4999-9a7f-743a7d0d3854",
   "metadata": {},
   "outputs": [],
   "source": [
    "import warnings\n",
    "warnings.filterwarnings(action=\"ignore\")"
   ]
  },
  {
   "cell_type": "code",
   "execution_count": 3,
   "id": "e2664559-8789-4785-83d6-26327fe5ed23",
   "metadata": {},
   "outputs": [],
   "source": [
    "\n",
    "import lightning.pytorch as pl\n",
    "import logging\n",
    "logging.basicConfig(level=\"INFO\")\n",
    "\n",
    "import math\n",
    "from matplotlib import pyplot\n",
    "\n",
    "import numpy as np\n",
    "\n",
    "import os\n",
    "\n",
    "import pandas as pd\n",
    "from pprint import pprint\n",
    "\n",
    "import sys\n",
    "sys.path.append(\"../src\")\n",
    "\n",
    "import timm\n",
    "from tqdm import tqdm\n",
    "import torch\n",
    "import torch.nn as nn\n",
    "import torch.nn.functional as F\n",
    "from torchinfo import summary"
   ]
  },
  {
   "cell_type": "code",
   "execution_count": 4,
   "id": "b09a35d4-17a4-437a-ad75-cfdbf9215827",
   "metadata": {},
   "outputs": [],
   "source": [
    "os.environ[\"TOKENIZERS_PARALLELISM\"] = \"false\"\n",
    "%load_ext autoreload\n",
    "%autoreload 2"
   ]
  },
  {
   "cell_type": "code",
   "execution_count": 398,
   "id": "2ef863cc-4128-49a3-a156-fbdc859a9fd2",
   "metadata": {},
   "outputs": [],
   "source": [
    "import config\n",
    "from dataloader import BEDataset, BEDataModule\n",
    "import token_learner\n",
    "from transformer import PositionalEncoder, SelfAttentionHead, MultiHeadSelfAttention, FeedFowardLayer, LayerNormalization, TransformerDecoderLayer, TransformerDecoder, generate_causal_attention_mask\n",
    "\n",
    "from film_layers import FiLMBlockV2, FiLMEncoder, ResBlockDWConv\n",
    "from rt1 import RT1Encoder, RT1Decoder, ActionGenerator\n",
    "from utils.data_utils import History\n",
    "from utils.model_utils import TextEncoder, ImageFeatureExtractor, plot_attention\n"
   ]
  },
  {
   "cell_type": "markdown",
   "id": "e425b526-43d7-483b-b3bc-02028bfb4b7b",
   "metadata": {
    "tags": []
   },
   "source": [
    "## Data Module"
   ]
  },
  {
   "cell_type": "code",
   "execution_count": 232,
   "id": "820bb68f-3341-4d6e-9cea-80dbdf2de002",
   "metadata": {},
   "outputs": [
    {
     "name": "stderr",
     "output_type": "stream",
     "text": [
      "INFO:root:Training on 3915 samples.\n",
      "INFO:root:Validating on 961 samples.\n",
      "INFO:root:Testing on 250 samples.\n"
     ]
    },
    {
     "name": "stdout",
     "output_type": "stream",
     "text": [
      "Total # examples: 5126\n"
     ]
    }
   ],
   "source": [
    "dm = BEDataModule()\n",
    "dm.setup()"
   ]
  },
  {
   "cell_type": "markdown",
   "id": "fd6bfcb6-3d67-4d4a-934d-95af834e1a07",
   "metadata": {
    "tags": []
   },
   "source": [
    "## Fetch batch"
   ]
  },
  {
   "cell_type": "code",
   "execution_count": 276,
   "id": "e3619546-136e-4e56-a9dd-5b8b3673aebb",
   "metadata": {},
   "outputs": [
    {
     "name": "stdout",
     "output_type": "stream",
     "text": [
      "dict_keys(['sample_id', 'in_state', 'action_desc', 'source_mask'])\n"
     ]
    },
    {
     "data": {
      "text/plain": [
       "torch.Size([4, 3, 288, 288])"
      ]
     },
     "execution_count": 276,
     "metadata": {},
     "output_type": "execute_result"
    }
   ],
   "source": [
    "sample = next(iter(dm.test_dataloader()))\n",
    "print(sample.keys())\n",
    "sample[\"in_state\"].shape"
   ]
  },
  {
   "cell_type": "code",
   "execution_count": 277,
   "id": "e7c22a7a-16f8-4411-8839-8b724fc29869",
   "metadata": {},
   "outputs": [
    {
     "name": "stdout",
     "output_type": "stream",
     "text": [
      "dict_keys(['sample_id', 'in_state', 'action_desc', 'source_mask', 'motor_cmd', 'target_mask'])\n",
      "CPU times: user 15.1 ms, sys: 192 ms, total: 207 ms\n",
      "Wall time: 798 ms\n"
     ]
    },
    {
     "data": {
      "text/plain": [
       "torch.Size([4, 3, 288, 288])"
      ]
     },
     "execution_count": 277,
     "metadata": {},
     "output_type": "execute_result"
    }
   ],
   "source": [
    "%%time\n",
    "sample = next(iter(dm.train_dataloader()))\n",
    "print(sample.keys())\n",
    "sample[\"in_state\"].shape"
   ]
  },
  {
   "cell_type": "code",
   "execution_count": 278,
   "id": "e24a210e-e0a6-42ec-bbb7-d374c7138a2c",
   "metadata": {},
   "outputs": [
    {
     "data": {
      "text/plain": [
       "(torch.Size([4, 1, 48]), torch.Size([4, 1, 16, 16]))"
      ]
     },
     "execution_count": 278,
     "metadata": {},
     "output_type": "execute_result"
    }
   ],
   "source": [
    "sample[\"source_mask\"].shape, sample[\"target_mask\"].shape"
   ]
  },
  {
   "cell_type": "markdown",
   "id": "59b32ff7-02ee-4fa3-b3b9-7885f558072b",
   "metadata": {},
   "source": [
    "## Model Design"
   ]
  },
  {
   "cell_type": "markdown",
   "id": "52bcf1ad-8562-458b-b07c-226d1ed3dbe0",
   "metadata": {},
   "source": [
    "<!-- ![RT1 model architecture](../../imgs/rt1+.png) -->\n",
    "<center>\n",
    "    <img src=\"../imgs/rt1+.png\" alt=\"RT1 model architecture\" width=\"300\" height=\"400\">\n",
    "\n",
    "<center>"
   ]
  },
  {
   "cell_type": "markdown",
   "id": "130cea30-c012-4a53-a94b-7651270e4c38",
   "metadata": {},
   "source": [
    "### Encoder"
   ]
  },
  {
   "cell_type": "markdown",
   "id": "2c4d547d-b935-42b3-bafa-ded2cddaec51",
   "metadata": {
    "jp-MarkdownHeadingCollapsed": true,
    "tags": []
   },
   "source": [
    "#### Test Text Encoder"
   ]
  },
  {
   "cell_type": "code",
   "execution_count": 110,
   "id": "2cbe10a4-0a68-429f-a18c-dfb4012920ff",
   "metadata": {},
   "outputs": [],
   "source": [
    "# te = TextEncoder(freeze=True).cuda()\n",
    "# summary(model=te, col_names=[\"num_params\", \"trainable\"])"
   ]
  },
  {
   "cell_type": "code",
   "execution_count": 109,
   "id": "1790e904-591d-4ee3-8ae3-f9ee204dbe31",
   "metadata": {
    "tags": []
   },
   "outputs": [
    {
     "data": {
      "text/plain": [
       "torch.Size([4, 512])"
      ]
     },
     "execution_count": 109,
     "metadata": {},
     "output_type": "execute_result"
    }
   ],
   "source": [
    "# emb = te(\n",
    "#     inp_ids=sample[\"action_desc\"][\"ids\"].cuda(),\n",
    "#     mask=sample[\"action_desc\"][\"mask\"].cuda(),\n",
    "#     tok_type_ids=sample[\"action_desc\"][\"token_type_ids\"].cuda()\n",
    "# )\n",
    "\n",
    "# emb.shape"
   ]
  },
  {
   "cell_type": "markdown",
   "id": "491611ae-2f70-404b-b04c-a401bad6fc56",
   "metadata": {
    "jp-MarkdownHeadingCollapsed": true,
    "tags": []
   },
   "source": [
    "#### Test Img Feature Extractor"
   ]
  },
  {
   "cell_type": "code",
   "execution_count": null,
   "id": "d55d73ba-efef-4d32-81cb-520974830c74",
   "metadata": {
    "tags": []
   },
   "outputs": [],
   "source": [
    "# fe = ImageFeatureExtractor(pretrained=True, arch=\"efficientnet_b3\").cuda()\n",
    "\n",
    "# summary(fe, col_names=[\"num_params\", \"trainable\"])"
   ]
  },
  {
   "cell_type": "code",
   "execution_count": null,
   "id": "34e9d6e5-ca31-4b20-8fe1-07412fcb4f33",
   "metadata": {},
   "outputs": [],
   "source": [
    "# img_ftrs = fe(sample[\"in_state\"].cuda())\n",
    "\n",
    "# img_ftrs.shape"
   ]
  },
  {
   "cell_type": "code",
   "execution_count": null,
   "id": "d0654b94-9396-49ca-8708-5018cce9eb70",
   "metadata": {},
   "outputs": [],
   "source": []
  },
  {
   "cell_type": "markdown",
   "id": "beea6fe0-fc93-4c1d-9f7d-ae8194f9bb29",
   "metadata": {
    "jp-MarkdownHeadingCollapsed": true,
    "tags": []
   },
   "source": [
    "#### Test FiLM Block"
   ]
  },
  {
   "cell_type": "code",
   "execution_count": 16,
   "id": "b36b8d53-a51d-4dfd-9cd6-0dabc3e1b614",
   "metadata": {},
   "outputs": [],
   "source": [
    "# film_block = FiLMBlockV2().cuda()\n",
    "# print(film_block)\n",
    "# summary(model=film_block)"
   ]
  },
  {
   "cell_type": "code",
   "execution_count": 17,
   "id": "ab1a5658-8b44-4fd9-8a3e-e2c3f2380864",
   "metadata": {},
   "outputs": [],
   "source": [
    "# text_cond_ftrs = film_block(\n",
    "#     img_features=img_ftrs, \n",
    "#     conditioning=emb\n",
    "# )\n",
    "\n",
    "# text_cond_ftrs.shape"
   ]
  },
  {
   "cell_type": "markdown",
   "id": "15e75562-714a-480f-9b03-be898c3aebd4",
   "metadata": {
    "jp-MarkdownHeadingCollapsed": true,
    "tags": []
   },
   "source": [
    "#### Test Residual FiLM Block"
   ]
  },
  {
   "cell_type": "code",
   "execution_count": 18,
   "id": "2ca31d01-12cd-4fbf-af23-1dbecfe2b4d1",
   "metadata": {},
   "outputs": [],
   "source": [
    "# dw_res = ResBlockDWConv(512, 512).cuda()\n",
    "# summary(model=dw_res)"
   ]
  },
  {
   "cell_type": "code",
   "execution_count": 19,
   "id": "f44cd288-29c5-41ef-be96-72a066bfbeaf",
   "metadata": {},
   "outputs": [],
   "source": [
    "# text_cond_ftrs_res = dw_res(\n",
    "#     img_features=img_ftrs, \n",
    "#     conditioning=emb\n",
    "# )\n",
    "\n",
    "# text_cond_ftrs_res.shape"
   ]
  },
  {
   "cell_type": "markdown",
   "id": "00506f45-07c7-40fc-927c-3e307e91b23f",
   "metadata": {
    "jp-MarkdownHeadingCollapsed": true,
    "tags": []
   },
   "source": [
    "#### Test FiLM Encoder"
   ]
  },
  {
   "cell_type": "code",
   "execution_count": 20,
   "id": "09a904d1-b1ef-40b2-9344-f2580105ee41",
   "metadata": {
    "tags": []
   },
   "outputs": [],
   "source": [
    "# film_encoder = FiLMEncoder(\n",
    "#     arch=\"resnet34\",\n",
    "#     n_res_blocks=6,\n",
    "# ).cuda()\n",
    "\n",
    "# # print(film_encoder)\n",
    "# summary(model=film_encoder)"
   ]
  },
  {
   "cell_type": "code",
   "execution_count": 21,
   "id": "2b70f6a7-c6b5-4743-8ecf-9cfa122dd7ea",
   "metadata": {},
   "outputs": [],
   "source": [
    "# %%time\n",
    "\n",
    "# out = film_encoder(\n",
    "#     x= sample[\"in_state\"].cuda(),\n",
    "#     conditioning= emb\n",
    "# )\n",
    "\n",
    "# out.shape"
   ]
  },
  {
   "cell_type": "markdown",
   "id": "d217cc28-4eb7-4f76-86ee-51dd6ae8f248",
   "metadata": {
    "jp-MarkdownHeadingCollapsed": true,
    "tags": []
   },
   "source": [
    "#### Token Learner"
   ]
  },
  {
   "cell_type": "code",
   "execution_count": 22,
   "id": "8f2da760-c2ee-4ff1-97bd-8859562a484a",
   "metadata": {},
   "outputs": [],
   "source": [
    "# N, C, H_W = out.shape\n",
    "# N, C, H_W"
   ]
  },
  {
   "cell_type": "code",
   "execution_count": 23,
   "id": "cb960649-ad52-4a6f-be9a-279263b0ae0a",
   "metadata": {},
   "outputs": [],
   "source": [
    "# tokL_v11 = token_learner.TokenLearnerModuleV11(feature_shape=(N, H_W, C)).cuda()\n",
    "# print(tokL_v11)\n",
    "# summary(model=tokL_v11)"
   ]
  },
  {
   "cell_type": "code",
   "execution_count": 24,
   "id": "cb43cec1-32e2-4f1d-bb5a-3ba026a57fa4",
   "metadata": {},
   "outputs": [],
   "source": [
    "# learned_tokens = tokL_v11(out.view(N, H_W, C))\n",
    "# learned_tokens.shape"
   ]
  },
  {
   "cell_type": "code",
   "execution_count": null,
   "id": "6e045e3a-4d75-454a-9fdd-c5205f332a2b",
   "metadata": {},
   "outputs": [],
   "source": []
  },
  {
   "cell_type": "code",
   "execution_count": 154,
   "id": "3ad67e60-baf3-449f-83f7-ad5256cbcda3",
   "metadata": {},
   "outputs": [
    {
     "data": {
      "text/plain": [
       "torch.Size([8, 6, 512, 8])"
      ]
     },
     "execution_count": 154,
     "metadata": {},
     "output_type": "execute_result"
    }
   ],
   "source": [
    "tokenized_inputs = torch.empty((B, config.NUM_HISTORY+1, config.D_MODEL, config.NUM_LEARNED_TOKENS))\n",
    "tokenized_inputs.shape"
   ]
  },
  {
   "cell_type": "markdown",
   "id": "21ce81c2-ecfd-49cf-8613-b806d585dfb0",
   "metadata": {
    "jp-MarkdownHeadingCollapsed": true,
    "tags": []
   },
   "source": [
    "#### RT-1 Encoder"
   ]
  },
  {
   "cell_type": "code",
   "execution_count": 14,
   "id": "d56dd9db-abff-4cb9-b8af-b1b68e3e7ced",
   "metadata": {
    "tags": []
   },
   "outputs": [
    {
     "name": "stderr",
     "output_type": "stream",
     "text": [
      "INFO:timm.models._builder:Loading pretrained weights from Hugging Face hub (timm/efficientnet_b3.ra2_in1k)\n",
      "INFO:timm.models._hub:[timm/efficientnet_b3.ra2_in1k] Safe alternative available for 'pytorch_model.bin' (as 'model.safetensors'). Loading weights using safetensors.\n"
     ]
    },
    {
     "data": {
      "text/plain": [
       "==============================================================================================================\n",
       "Layer (type:depth-idx)                                       Param #                   Trainable\n",
       "==============================================================================================================\n",
       "RT1Encoder                                                   --                        Partial\n",
       "├─TextEncoder: 1-1                                           --                        False\n",
       "│    └─BertModel: 2-1                                        --                        False\n",
       "│    │    └─BertEmbeddings: 3-1                              (15,891,456)              False\n",
       "│    │    └─BertEncoder: 3-2                                 (12,609,536)              False\n",
       "│    │    └─BertPooler: 3-3                                  (262,656)                 False\n",
       "│    └─Dropout: 2-2                                          --                        --\n",
       "├─FiLMEncoder: 1-2                                           --                        Partial\n",
       "│    └─ImageFeatureExtractor: 2-3                            --                        Partial\n",
       "│    │    └─EfficientNetFeatures: 3-4                        (10,103,336)              False\n",
       "│    │    └─VisionLanguageHead: 3-5                          197,120                   True\n",
       "│    └─ModuleList: 2-4                                       --                        True\n",
       "│    │    └─ResBlockDWConv: 3-6                              1,056,768                 True\n",
       "│    │    └─ResBlockDWConv: 3-7                              1,056,768                 True\n",
       "│    │    └─ResBlockDWConv: 3-8                              1,056,768                 True\n",
       "│    │    └─ResBlockDWConv: 3-9                              1,056,768                 True\n",
       "│    │    └─ResBlockDWConv: 3-10                             1,056,768                 True\n",
       "│    │    └─ResBlockDWConv: 3-11                             1,056,768                 True\n",
       "├─TokenLearnerModuleV11: 1-3                                 --                        True\n",
       "│    └─LayerNormalization: 2-5                               --                        True\n",
       "│    │    └─LayerNorm: 3-12                                  1,024                     True\n",
       "│    └─FeedFowardLayer: 2-6                                  --                        True\n",
       "│    │    └─Linear: 3-13                                     65,664                    True\n",
       "│    │    └─GELU: 3-14                                       --                        --\n",
       "│    │    └─Linear: 3-15                                     1,032                     True\n",
       "│    │    └─Dropout: 3-16                                    --                        --\n",
       "==============================================================================================================\n",
       "Total params: 45,472,432\n",
       "Trainable params: 6,605,448\n",
       "Non-trainable params: 38,866,984\n",
       "=============================================================================================================="
      ]
     },
     "execution_count": 14,
     "metadata": {},
     "output_type": "execute_result"
    }
   ],
   "source": [
    "encoder = RT1Encoder(\n",
    "    cnn_bacnbone=\"efficientnet_b3\", \n",
    "    num_res_blocks=6, \n",
    "    freeze_cnn_backbone=True\n",
    ").to(config.DEVICE)\n",
    "\n",
    "summary(model=encoder, col_names=[\"num_params\", \"trainable\"])"
   ]
  },
  {
   "cell_type": "code",
   "execution_count": 15,
   "id": "7405de1c-ea97-4908-aa25-7858478627c0",
   "metadata": {},
   "outputs": [
    {
     "name": "stdout",
     "output_type": "stream",
     "text": [
      "CPU times: user 842 ms, sys: 944 ms, total: 1.79 s\n",
      "Wall time: 9.13 s\n"
     ]
    },
    {
     "data": {
      "text/plain": [
       "(torch.Size([4, 512]), torch.Size([4, 512, 8]))"
      ]
     },
     "execution_count": 15,
     "metadata": {},
     "output_type": "execute_result"
    }
   ],
   "source": [
    "%%time \n",
    "\n",
    "src_enc, tokens = encoder._encode(\n",
    "    input_ids=sample[\"action_desc\"][\"ids\"].cuda(),\n",
    "    attn_mask=sample[\"action_desc\"][\"mask\"].cuda(),\n",
    "    token_type_ids=sample[\"action_desc\"][\"token_type_ids\"].cuda(),\n",
    "    imgs=sample[\"in_state\"].cuda()\n",
    ")\n",
    "\n",
    "src_enc.shape, tokens.shape"
   ]
  },
  {
   "cell_type": "code",
   "execution_count": 16,
   "id": "59c4bf9c-28e7-4034-815e-cdea7826c2ef",
   "metadata": {},
   "outputs": [
    {
     "name": "stdout",
     "output_type": "stream",
     "text": [
      "CPU times: user 199 ms, sys: 41.8 ms, total: 241 ms\n",
      "Wall time: 1.24 s\n"
     ]
    },
    {
     "data": {
      "text/plain": [
       "(torch.Size([4, 48, 512]), device(type='cuda', index=0))"
      ]
     },
     "execution_count": 16,
     "metadata": {},
     "output_type": "execute_result"
    }
   ],
   "source": [
    "%%time\n",
    "\n",
    "src_enc, tokenized_inputs = encoder(\n",
    "    input_ids=sample[\"action_desc\"][\"ids\"].cuda(),\n",
    "    attn_mask=sample[\"action_desc\"][\"mask\"].cuda(),\n",
    "    token_type_ids=sample[\"action_desc\"][\"token_type_ids\"].cuda(),\n",
    "    imgs=sample[\"in_state\"].cuda()\n",
    ")\n",
    "\n",
    "tokenized_inputs.shape, tokenized_inputs.device"
   ]
  },
  {
   "cell_type": "code",
   "execution_count": null,
   "id": "1c672a02-582b-4245-8b6c-c972c2ccb069",
   "metadata": {},
   "outputs": [],
   "source": []
  },
  {
   "cell_type": "markdown",
   "id": "029e620f-5541-4a49-acdf-43ec4b3cce02",
   "metadata": {},
   "source": [
    "### Decoder"
   ]
  },
  {
   "cell_type": "code",
   "execution_count": 17,
   "id": "113b0f75-f651-49bb-bf86-f8a6e7ed8ec1",
   "metadata": {},
   "outputs": [],
   "source": [
    "pos_encoding = PositionalEncoder(seq_len=config.NUM_TOKENIZED_INPUTS).cuda()"
   ]
  },
  {
   "cell_type": "code",
   "execution_count": 18,
   "id": "4234188a-1349-4007-998a-ef75ab9e0bf4",
   "metadata": {},
   "outputs": [
    {
     "name": "stdout",
     "output_type": "stream",
     "text": [
      "torch.Size([4, 48, 512])\n"
     ]
    }
   ],
   "source": [
    "pos_enc = pos_encoding(tokenized_inputs)\n",
    "print(pos_enc.shape)\n",
    "\n",
    "learned_tokens = tokenized_inputs + pos_enc"
   ]
  },
  {
   "cell_type": "code",
   "execution_count": 74,
   "id": "da8c4d1e-32e8-423c-bb02-f13f8b20e663",
   "metadata": {},
   "outputs": [],
   "source": [
    "inp_embedding = encoder.text_encoder.text_encoder.embeddings\n",
    "\n",
    "target_embedding = nn.Embedding(\n",
    "    num_embeddings=config.TARGET_VOCAB_SIZE, \n",
    "    embedding_dim=config.EMBEDDING_DIM, \n",
    "    padding_idx=config.TGT_PAD_TOK_ID\n",
    ").cuda()"
   ]
  },
  {
   "cell_type": "code",
   "execution_count": 75,
   "id": "c2ada45d-974d-4c17-a52f-38a662a1665a",
   "metadata": {},
   "outputs": [
    {
     "data": {
      "text/plain": [
       "(torch.Size([4, 16, 512]), torch.Size([4, 16, 512]))"
      ]
     },
     "execution_count": 75,
     "metadata": {},
     "output_type": "execute_result"
    }
   ],
   "source": [
    "inp = sample[\"action_desc\"][\"ids\"].cuda()\n",
    "outp = sample[\"motor_cmd\"][\"decoder_inp_ids\"].cuda()\n",
    "\n",
    "inp_emb = inp_embedding(inp)\n",
    "outp_emb = target_embedding(outp)\n",
    "\n",
    "inp_emb.shape, outp_emb.shape"
   ]
  },
  {
   "cell_type": "markdown",
   "id": "3ae3f321-d559-4e51-be2f-49145979574e",
   "metadata": {
    "jp-MarkdownHeadingCollapsed": true,
    "tags": []
   },
   "source": [
    "#### Test MultiHead Self-Attention Layer"
   ]
  },
  {
   "cell_type": "code",
   "execution_count": 248,
   "id": "5173814d-d16e-41a3-9cc2-9b65b0af018a",
   "metadata": {},
   "outputs": [],
   "source": [
    "# sa = SelfAttentionHead().cuda()\n",
    "# sa.eval()\n",
    "# print(sa)\n",
    "# summary(sa)"
   ]
  },
  {
   "cell_type": "code",
   "execution_count": 298,
   "id": "f43e798d-9066-40e8-a07d-38bf6d553873",
   "metadata": {},
   "outputs": [
    {
     "name": "stdout",
     "output_type": "stream",
     "text": [
      "CPU times: user 2.38 ms, sys: 5 ms, total: 7.38 ms\n",
      "Wall time: 209 ms\n"
     ]
    },
    {
     "data": {
      "text/plain": [
       "(torch.Size([4, 16, 512]), torch.Size([4, 16, 16]))"
      ]
     },
     "execution_count": 298,
     "metadata": {},
     "output_type": "execute_result"
    }
   ],
   "source": [
    "# %%time\n",
    "\n",
    "# mem, attn_w = sa(\n",
    "#     q=inp_emb, \n",
    "#     k=inp_emb, \n",
    "#     v=inp_emb, \n",
    "#     mask=sample[\"target_mask\"].cuda(),\n",
    "#     return_weights=True\n",
    "# )\n",
    "\n",
    "# mem.shape, attn_w.shape"
   ]
  },
  {
   "cell_type": "code",
   "execution_count": 250,
   "id": "2f07f71f-b32c-4860-a718-97a67fe16ecb",
   "metadata": {},
   "outputs": [],
   "source": [
    "# plot_attention(attn_w)"
   ]
  },
  {
   "cell_type": "code",
   "execution_count": 251,
   "id": "8e1ff1f4-1702-476f-bc0a-0e9c73b7c3d9",
   "metadata": {
    "scrolled": true,
    "tags": []
   },
   "outputs": [
    {
     "name": "stdout",
     "output_type": "stream",
     "text": [
      "MultiHeadSelfAttention(\n",
      "  (attention_heads): ModuleList(\n",
      "    (0-3): 4 x SelfAttentionHead(\n",
      "      (dropout): Dropout(p=0.1, inplace=False)\n",
      "      (_softmax): Softmax(dim=-1)\n",
      "      (w_q): Linear(in_features=512, out_features=512, bias=False)\n",
      "      (w_k): Linear(in_features=512, out_features=512, bias=False)\n",
      "      (w_v): Linear(in_features=512, out_features=512, bias=False)\n",
      "    )\n",
      "  )\n",
      "  (output_layer): Sequential(\n",
      "    (0): Linear(in_features=2048, out_features=512, bias=False)\n",
      "    (1): Dropout(p=0.1, inplace=False)\n",
      "  )\n",
      ")\n"
     ]
    },
    {
     "data": {
      "text/plain": [
       "=================================================================\n",
       "Layer (type:depth-idx)                   Param #\n",
       "=================================================================\n",
       "MultiHeadSelfAttention                   --\n",
       "├─ModuleList: 1-1                        --\n",
       "│    └─SelfAttentionHead: 2-1            --\n",
       "│    │    └─Dropout: 3-1                 --\n",
       "│    │    └─Softmax: 3-2                 --\n",
       "│    │    └─Linear: 3-3                  262,144\n",
       "│    │    └─Linear: 3-4                  262,144\n",
       "│    │    └─Linear: 3-5                  262,144\n",
       "│    └─SelfAttentionHead: 2-2            --\n",
       "│    │    └─Dropout: 3-6                 --\n",
       "│    │    └─Softmax: 3-7                 --\n",
       "│    │    └─Linear: 3-8                  262,144\n",
       "│    │    └─Linear: 3-9                  262,144\n",
       "│    │    └─Linear: 3-10                 262,144\n",
       "│    └─SelfAttentionHead: 2-3            --\n",
       "│    │    └─Dropout: 3-11                --\n",
       "│    │    └─Softmax: 3-12                --\n",
       "│    │    └─Linear: 3-13                 262,144\n",
       "│    │    └─Linear: 3-14                 262,144\n",
       "│    │    └─Linear: 3-15                 262,144\n",
       "│    └─SelfAttentionHead: 2-4            --\n",
       "│    │    └─Dropout: 3-16                --\n",
       "│    │    └─Softmax: 3-17                --\n",
       "│    │    └─Linear: 3-18                 262,144\n",
       "│    │    └─Linear: 3-19                 262,144\n",
       "│    │    └─Linear: 3-20                 262,144\n",
       "├─Sequential: 1-2                        --\n",
       "│    └─Linear: 2-5                       1,048,576\n",
       "│    └─Dropout: 2-6                      --\n",
       "=================================================================\n",
       "Total params: 4,194,304\n",
       "Trainable params: 4,194,304\n",
       "Non-trainable params: 0\n",
       "================================================================="
      ]
     },
     "execution_count": 251,
     "metadata": {},
     "output_type": "execute_result"
    }
   ],
   "source": [
    "mhsa = MultiHeadSelfAttention(num_heads=4).cuda()\n",
    "mhsa.eval()\n",
    "print(mhsa)\n",
    "summary(mhsa)"
   ]
  },
  {
   "cell_type": "code",
   "execution_count": 279,
   "id": "04796d95-349d-4d81-817a-7f23d8f15541",
   "metadata": {},
   "outputs": [
    {
     "name": "stdout",
     "output_type": "stream",
     "text": [
      "CPU times: user 2.73 ms, sys: 79 µs, total: 2.81 ms\n",
      "Wall time: 2.28 ms\n"
     ]
    },
    {
     "data": {
      "text/plain": [
       "(torch.Size([4, 16, 512]), torch.Size([4, 4, 16, 16]))"
      ]
     },
     "execution_count": 279,
     "metadata": {},
     "output_type": "execute_result"
    }
   ],
   "source": [
    "%%time\n",
    "\n",
    "mem, attn_w = mhsa(\n",
    "    q=inp_emb, \n",
    "    k=inp_emb, \n",
    "    v=inp_emb, \n",
    "    mask=sample[\"target_mask\"].cuda(),\n",
    "    return_weights=True\n",
    ")\n",
    "\n",
    "mem.shape, attn_w.shape"
   ]
  },
  {
   "cell_type": "code",
   "execution_count": 280,
   "id": "3d39539d-1cba-49f5-964b-b607a7da31ac",
   "metadata": {},
   "outputs": [
    {
     "data": {
      "text/plain": [
       "tensor([0.0606, 0.0543, 0.0559, 0.0649, 0.0481, 0.0547, 0.0406, 0.0551, 0.0659,\n",
       "        0.0666, 0.0759, 0.0744, 0.0740, 0.0715, 0.0697, 0.0679],\n",
       "       device='cuda:0', grad_fn=<SelectBackward0>)"
      ]
     },
     "execution_count": 280,
     "metadata": {},
     "output_type": "execute_result"
    }
   ],
   "source": [
    "attn_w[0, 0, 0]"
   ]
  },
  {
   "cell_type": "markdown",
   "id": "80bfd9d2-386f-463d-884a-2a35f748142b",
   "metadata": {
    "jp-MarkdownHeadingCollapsed": true,
    "tags": []
   },
   "source": [
    "#### Plot Self-attention weights"
   ]
  },
  {
   "cell_type": "code",
   "execution_count": 281,
   "id": "9a90db1a-ba0d-44c1-bd01-09f08133fb4a",
   "metadata": {},
   "outputs": [
    {
     "data": {
      "image/png": "[encoded data removed]",
      "text/plain": [
       "<Figure size 1500x500 with 4 Axes>"
      ]
     },
     "metadata": {},
     "output_type": "display_data"
    }
   ],
   "source": [
    "plot_attention(attn_w)\n",
    "# plot_attention(attn_w, example_idx=2)"
   ]
  },
  {
   "cell_type": "markdown",
   "id": "998a4574-0dde-433d-8a5d-f1a76bf4c54d",
   "metadata": {
    "jp-MarkdownHeadingCollapsed": true,
    "tags": []
   },
   "source": [
    "#### Test Cross Attention Layer"
   ]
  },
  {
   "cell_type": "code",
   "execution_count": 282,
   "id": "386858f0-9d60-483e-8d2e-bb67b8d4246a",
   "metadata": {
    "scrolled": true,
    "tags": []
   },
   "outputs": [
    {
     "name": "stdout",
     "output_type": "stream",
     "text": [
      "MultiHeadSelfAttention(\n",
      "  (attention_heads): ModuleList(\n",
      "    (0-1): 2 x SelfAttentionHead(\n",
      "      (dropout): Dropout(p=0.1, inplace=False)\n",
      "      (_softmax): Softmax(dim=-1)\n",
      "      (w_q): Linear(in_features=512, out_features=512, bias=False)\n",
      "      (w_k): Linear(in_features=512, out_features=512, bias=False)\n",
      "      (w_v): Linear(in_features=512, out_features=512, bias=False)\n",
      "    )\n",
      "  )\n",
      "  (output_layer): Sequential(\n",
      "    (0): Linear(in_features=1024, out_features=512, bias=False)\n",
      "    (1): Dropout(p=0.1, inplace=False)\n",
      "  )\n",
      ")\n"
     ]
    },
    {
     "data": {
      "text/plain": [
       "=================================================================\n",
       "Layer (type:depth-idx)                   Param #\n",
       "=================================================================\n",
       "MultiHeadSelfAttention                   --\n",
       "├─ModuleList: 1-1                        --\n",
       "│    └─SelfAttentionHead: 2-1            --\n",
       "│    │    └─Dropout: 3-1                 --\n",
       "│    │    └─Softmax: 3-2                 --\n",
       "│    │    └─Linear: 3-3                  262,144\n",
       "│    │    └─Linear: 3-4                  262,144\n",
       "│    │    └─Linear: 3-5                  262,144\n",
       "│    └─SelfAttentionHead: 2-2            --\n",
       "│    │    └─Dropout: 3-6                 --\n",
       "│    │    └─Softmax: 3-7                 --\n",
       "│    │    └─Linear: 3-8                  262,144\n",
       "│    │    └─Linear: 3-9                  262,144\n",
       "│    │    └─Linear: 3-10                 262,144\n",
       "├─Sequential: 1-2                        --\n",
       "│    └─Linear: 2-3                       524,288\n",
       "│    └─Dropout: 2-4                      --\n",
       "=================================================================\n",
       "Total params: 2,097,152\n",
       "Trainable params: 2,097,152\n",
       "Non-trainable params: 0\n",
       "================================================================="
      ]
     },
     "execution_count": 282,
     "metadata": {},
     "output_type": "execute_result"
    }
   ],
   "source": [
    "num_heads = 2\n",
    "\n",
    "cross_attention = MultiHeadSelfAttention(\n",
    "    num_heads=num_heads\n",
    ").cuda()\n",
    "\n",
    "cross_attention.eval()\n",
    "print(cross_attention)\n",
    "summary(cross_attention)"
   ]
  },
  {
   "cell_type": "code",
   "execution_count": 283,
   "id": "9e352088-bc4b-4e6a-905c-d012d8c70f8f",
   "metadata": {},
   "outputs": [
    {
     "name": "stdout",
     "output_type": "stream",
     "text": [
      "CPU times: user 793 µs, sys: 864 µs, total: 1.66 ms\n",
      "Wall time: 1.33 ms\n"
     ]
    },
    {
     "data": {
      "text/plain": [
       "(torch.Size([4, 16, 512]), torch.Size([4, 2, 16, 48]))"
      ]
     },
     "execution_count": 283,
     "metadata": {},
     "output_type": "execute_result"
    }
   ],
   "source": [
    "%%time\n",
    "\n",
    "cross_attn_mem, cross_attn_w = cross_attention(\n",
    "    q=inp_emb, \n",
    "    k=learned_tokens, \n",
    "    v=learned_tokens, \n",
    "    mask=sample[\"source_mask\"].cuda(),\n",
    "    return_weights=True\n",
    ")\n",
    "\n",
    "cross_attn_mem.shape, cross_attn_w.shape"
   ]
  },
  {
   "cell_type": "markdown",
   "id": "da189f62-b8fd-4688-83f6-870d4bcb51ca",
   "metadata": {
    "jp-MarkdownHeadingCollapsed": true,
    "tags": []
   },
   "source": [
    "#### Plot Cross attention weights"
   ]
  },
  {
   "cell_type": "code",
   "execution_count": 284,
   "id": "782318f8-4fea-43eb-b30d-b6e3af2ae026",
   "metadata": {},
   "outputs": [
    {
     "data": {
      "image/png": "[encoded data removed]",
      "text/plain": [
       "<Figure size 1500x500 with 2 Axes>"
      ]
     },
     "metadata": {},
     "output_type": "display_data"
    }
   ],
   "source": [
    "plot_attention(cross_attn_w)\n",
    "# plot_attention(cross_attn_w, example_idx=2)"
   ]
  },
  {
   "cell_type": "markdown",
   "id": "210efe9b-24f9-4e1a-a115-29347d9849eb",
   "metadata": {
    "jp-MarkdownHeadingCollapsed": true,
    "tags": []
   },
   "source": [
    "#### Test Transformer decoder layer"
   ]
  },
  {
   "cell_type": "code",
   "execution_count": 325,
   "id": "533d8ca2-80a3-4cba-8294-96b91d78838d",
   "metadata": {},
   "outputs": [],
   "source": []
  },
  {
   "cell_type": "code",
   "execution_count": 361,
   "id": "4897d643-f2b1-4d58-9803-cd3de1251543",
   "metadata": {
    "scrolled": true,
    "tags": []
   },
   "outputs": [
    {
     "name": "stdout",
     "output_type": "stream",
     "text": [
      "TransformerDecoderLayer(\n",
      "  (self_attn): MultiHeadSelfAttention(\n",
      "    (attention_heads): ModuleList(\n",
      "      (0-3): 4 x SelfAttentionHead(\n",
      "        (dropout): Dropout(p=0.1, inplace=False)\n",
      "        (_softmax): Softmax(dim=-1)\n",
      "        (w_q): Linear(in_features=512, out_features=512, bias=False)\n",
      "        (w_k): Linear(in_features=512, out_features=512, bias=False)\n",
      "        (w_v): Linear(in_features=512, out_features=512, bias=False)\n",
      "      )\n",
      "    )\n",
      "    (output_layer): Sequential(\n",
      "      (0): Linear(in_features=2048, out_features=512, bias=False)\n",
      "      (1): Dropout(p=0.1, inplace=False)\n",
      "    )\n",
      "  )\n",
      "  (cross_attn): MultiHeadSelfAttention(\n",
      "    (attention_heads): ModuleList(\n",
      "      (0-3): 4 x SelfAttentionHead(\n",
      "        (dropout): Dropout(p=0.1, inplace=False)\n",
      "        (_softmax): Softmax(dim=-1)\n",
      "        (w_q): Linear(in_features=512, out_features=512, bias=False)\n",
      "        (w_k): Linear(in_features=512, out_features=512, bias=False)\n",
      "        (w_v): Linear(in_features=512, out_features=512, bias=False)\n",
      "      )\n",
      "    )\n",
      "    (output_layer): Sequential(\n",
      "      (0): Linear(in_features=2048, out_features=512, bias=False)\n",
      "      (1): Dropout(p=0.1, inplace=False)\n",
      "    )\n",
      "  )\n",
      "  (norm1): LayerNormalization(\n",
      "    (layer): LayerNorm((512,), eps=1e-06, elementwise_affine=True)\n",
      "  )\n",
      "  (norm2): LayerNormalization(\n",
      "    (layer): LayerNorm((512,), eps=1e-06, elementwise_affine=True)\n",
      "  )\n",
      "  (ff): Sequential(\n",
      "    (0): Linear(in_features=512, out_features=2048, bias=True)\n",
      "    (1): GELU(approximate='none')\n",
      "    (2): Linear(in_features=2048, out_features=512, bias=True)\n",
      "  )\n",
      "  (norm3): LayerNorm((512,), eps=1e-05, elementwise_affine=True)\n",
      "  (dropout): Dropout(p=0.1, inplace=False)\n",
      ")\n"
     ]
    },
    {
     "data": {
      "text/plain": [
       "=================================================================\n",
       "Layer (type:depth-idx)                   Param #\n",
       "=================================================================\n",
       "TransformerDecoderLayer                  --\n",
       "├─MultiHeadSelfAttention: 1-1            --\n",
       "│    └─ModuleList: 2-1                   --\n",
       "│    │    └─SelfAttentionHead: 3-1       786,432\n",
       "│    │    └─SelfAttentionHead: 3-2       786,432\n",
       "│    │    └─SelfAttentionHead: 3-3       786,432\n",
       "│    │    └─SelfAttentionHead: 3-4       786,432\n",
       "│    └─Sequential: 2-2                   --\n",
       "│    │    └─Linear: 3-5                  1,048,576\n",
       "│    │    └─Dropout: 3-6                 --\n",
       "├─MultiHeadSelfAttention: 1-2            --\n",
       "│    └─ModuleList: 2-3                   --\n",
       "│    │    └─SelfAttentionHead: 3-7       786,432\n",
       "│    │    └─SelfAttentionHead: 3-8       786,432\n",
       "│    │    └─SelfAttentionHead: 3-9       786,432\n",
       "│    │    └─SelfAttentionHead: 3-10      786,432\n",
       "│    └─Sequential: 2-4                   --\n",
       "│    │    └─Linear: 3-11                 1,048,576\n",
       "│    │    └─Dropout: 3-12                --\n",
       "├─LayerNormalization: 1-3                --\n",
       "│    └─LayerNorm: 2-5                    1,024\n",
       "├─LayerNormalization: 1-4                --\n",
       "│    └─LayerNorm: 2-6                    1,024\n",
       "├─Sequential: 1-5                        --\n",
       "│    └─Linear: 2-7                       1,050,624\n",
       "│    └─GELU: 2-8                         --\n",
       "│    └─Linear: 2-9                       1,049,088\n",
       "├─LayerNorm: 1-6                         1,024\n",
       "├─Dropout: 1-7                           --\n",
       "=================================================================\n",
       "Total params: 10,491,392\n",
       "Trainable params: 10,491,392\n",
       "Non-trainable params: 0\n",
       "================================================================="
      ]
     },
     "execution_count": 361,
     "metadata": {},
     "output_type": "execute_result"
    }
   ],
   "source": [
    "dec_layer = TransformerDecoderLayer().cuda()\n",
    "print(dec_layer)\n",
    "dec_layer.eval()\n",
    "summary(dec_layer)"
   ]
  },
  {
   "cell_type": "code",
   "execution_count": 339,
   "id": "bcce6003-ae85-4ab6-987b-a48bc6065ede",
   "metadata": {},
   "outputs": [
    {
     "data": {
      "text/plain": [
       "(torch.Size([4, 16, 512]),\n",
       " torch.Size([4, 4, 16, 16]),\n",
       " torch.Size([4, 4, 16, 48]))"
      ]
     },
     "execution_count": 339,
     "metadata": {},
     "output_type": "execute_result"
    }
   ],
   "source": [
    "dec_out, self_attn_w, cross_attn_w = dec_layer(\n",
    "    inp=inp_emb, \n",
    "    encoder_out=learned_tokens, \n",
    "    src_mask=sample[\"source_mask\"].cuda(), \n",
    "    target_mask=sample[\"target_mask\"].cuda(), \n",
    "    debug=False\n",
    ")\n",
    "dec_out.shape, self_attn_w.shape, cross_attn_w.shape"
   ]
  },
  {
   "cell_type": "code",
   "execution_count": 340,
   "id": "b40adf66-9db3-48af-887a-accf56026b39",
   "metadata": {},
   "outputs": [
    {
     "data": {
      "image/png": "[encoded data removed]",
      "text/plain": [
       "<Figure size 1500x500 with 4 Axes>"
      ]
     },
     "metadata": {},
     "output_type": "display_data"
    },
    {
     "data": {
      "image/png": "[encoded data removed]",
      "text/plain": [
       "<Figure size 1500x500 with 4 Axes>"
      ]
     },
     "metadata": {},
     "output_type": "display_data"
    }
   ],
   "source": [
    "plot_attention(self_attn_w)\n",
    "plot_attention(cross_attn_w)"
   ]
  },
  {
   "cell_type": "markdown",
   "id": "2ecee6b6-431b-4a64-a958-296b07ff4022",
   "metadata": {
    "jp-MarkdownHeadingCollapsed": true,
    "tags": []
   },
   "source": [
    "#### Test Transformer decoder"
   ]
  },
  {
   "cell_type": "code",
   "execution_count": 367,
   "id": "a5ebf21e-d456-4f85-bb0c-fd1056c517f3",
   "metadata": {
    "scrolled": true,
    "tags": []
   },
   "outputs": [
    {
     "name": "stdout",
     "output_type": "stream",
     "text": [
      "TransformerDecoder(\n",
      "  (layers): ModuleList(\n",
      "    (0-1): 2 x TransformerDecoderLayer(\n",
      "      (self_attn): MultiHeadSelfAttention(\n",
      "        (attention_heads): ModuleList(\n",
      "          (0-3): 4 x SelfAttentionHead(\n",
      "            (dropout): Dropout(p=0.1, inplace=False)\n",
      "            (_softmax): Softmax(dim=-1)\n",
      "            (w_q): Linear(in_features=512, out_features=512, bias=False)\n",
      "            (w_k): Linear(in_features=512, out_features=512, bias=False)\n",
      "            (w_v): Linear(in_features=512, out_features=512, bias=False)\n",
      "          )\n",
      "        )\n",
      "        (output_layer): Sequential(\n",
      "          (0): Linear(in_features=2048, out_features=512, bias=False)\n",
      "          (1): Dropout(p=0.1, inplace=False)\n",
      "        )\n",
      "      )\n",
      "      (cross_attn): MultiHeadSelfAttention(\n",
      "        (attention_heads): ModuleList(\n",
      "          (0-3): 4 x SelfAttentionHead(\n",
      "            (dropout): Dropout(p=0.1, inplace=False)\n",
      "            (_softmax): Softmax(dim=-1)\n",
      "            (w_q): Linear(in_features=512, out_features=512, bias=False)\n",
      "            (w_k): Linear(in_features=512, out_features=512, bias=False)\n",
      "            (w_v): Linear(in_features=512, out_features=512, bias=False)\n",
      "          )\n",
      "        )\n",
      "        (output_layer): Sequential(\n",
      "          (0): Linear(in_features=2048, out_features=512, bias=False)\n",
      "          (1): Dropout(p=0.1, inplace=False)\n",
      "        )\n",
      "      )\n",
      "      (norm1): LayerNormalization(\n",
      "        (layer): LayerNorm((512,), eps=1e-06, elementwise_affine=True)\n",
      "      )\n",
      "      (norm2): LayerNormalization(\n",
      "        (layer): LayerNorm((512,), eps=1e-06, elementwise_affine=True)\n",
      "      )\n",
      "      (ff): Sequential(\n",
      "        (0): Linear(in_features=512, out_features=2048, bias=True)\n",
      "        (1): GELU(approximate='none')\n",
      "        (2): Linear(in_features=2048, out_features=512, bias=True)\n",
      "      )\n",
      "      (norm3): LayerNorm((512,), eps=1e-05, elementwise_affine=True)\n",
      "      (dropout): Dropout(p=0.1, inplace=False)\n",
      "    )\n",
      "  )\n",
      ")\n"
     ]
    },
    {
     "data": {
      "text/plain": [
       "===========================================================================\n",
       "Layer (type:depth-idx)                             Param #\n",
       "===========================================================================\n",
       "TransformerDecoder                                 --\n",
       "├─ModuleList: 1-1                                  --\n",
       "│    └─TransformerDecoderLayer: 2-1                --\n",
       "│    │    └─MultiHeadSelfAttention: 3-1            4,194,304\n",
       "│    │    └─MultiHeadSelfAttention: 3-2            4,194,304\n",
       "│    │    └─LayerNormalization: 3-3                1,024\n",
       "│    │    └─LayerNormalization: 3-4                1,024\n",
       "│    │    └─Sequential: 3-5                        2,099,712\n",
       "│    │    └─LayerNorm: 3-6                         1,024\n",
       "│    │    └─Dropout: 3-7                           --\n",
       "│    └─TransformerDecoderLayer: 2-2                --\n",
       "│    │    └─MultiHeadSelfAttention: 3-8            4,194,304\n",
       "│    │    └─MultiHeadSelfAttention: 3-9            4,194,304\n",
       "│    │    └─LayerNormalization: 3-10               1,024\n",
       "│    │    └─LayerNormalization: 3-11               1,024\n",
       "│    │    └─Sequential: 3-12                       2,099,712\n",
       "│    │    └─LayerNorm: 3-13                        1,024\n",
       "│    │    └─Dropout: 3-14                          --\n",
       "===========================================================================\n",
       "Total params: 20,982,784\n",
       "Trainable params: 20,982,784\n",
       "Non-trainable params: 0\n",
       "==========================================================================="
      ]
     },
     "execution_count": 367,
     "metadata": {},
     "output_type": "execute_result"
    }
   ],
   "source": [
    "dec = TransformerDecoder(num_layers=2).cuda()\n",
    "print(dec)\n",
    "dec.eval()\n",
    "summary(model=dec)"
   ]
  },
  {
   "cell_type": "markdown",
   "id": "e752f70e-c412-41b4-9131-f53d563a6f27",
   "metadata": {
    "jp-MarkdownHeadingCollapsed": true,
    "tags": []
   },
   "source": [
    "#### Test Transformer Decoder"
   ]
  },
  {
   "cell_type": "code",
   "execution_count": 368,
   "id": "4eab8990-184b-4854-980e-ef4887300b2d",
   "metadata": {},
   "outputs": [
    {
     "data": {
      "text/plain": [
       "(torch.Size([4, 16, 512]),\n",
       " torch.Size([4, 2, 4, 16, 16]),\n",
       " torch.Size([4, 2, 4, 16, 48]))"
      ]
     },
     "execution_count": 368,
     "metadata": {},
     "output_type": "execute_result"
    }
   ],
   "source": [
    "dec_out, self_attn_ws, cross_attn_ws = dec(\n",
    "    inp=inp_emb, \n",
    "    encoder_out=learned_tokens, \n",
    "    src_mask=sample[\"source_mask\"].cuda(), \n",
    "    target_mask=sample[\"target_mask\"].cuda(), \n",
    "    debug=False\n",
    ")\n",
    "\n",
    "dec_out.shape, self_attn_ws.shape, cross_attn_ws.shape"
   ]
  },
  {
   "cell_type": "code",
   "execution_count": 369,
   "id": "b9223039-9374-4537-ba0f-82ee9392fd8d",
   "metadata": {},
   "outputs": [
    {
     "data": {
      "image/png": "[encoded data removed]",
      "text/plain": [
       "<Figure size 1500x500 with 8 Axes>"
      ]
     },
     "metadata": {},
     "output_type": "display_data"
    },
    {
     "data": {
      "image/png": "[encoded data removed]",
      "text/plain": [
       "<Figure size 1500x500 with 8 Axes>"
      ]
     },
     "metadata": {},
     "output_type": "display_data"
    }
   ],
   "source": [
    "plot_attention(self_attn_ws)\n",
    "plot_attention(cross_attn_ws)"
   ]
  },
  {
   "cell_type": "markdown",
   "id": "2e365900-13ff-4dd8-b789-6f45b15c0564",
   "metadata": {
    "jp-MarkdownHeadingCollapsed": true,
    "tags": []
   },
   "source": [
    "#### Action Generator"
   ]
  },
  {
   "cell_type": "code",
   "execution_count": 390,
   "id": "a9fef7ba-432f-448c-bac6-c3651e1f1203",
   "metadata": {},
   "outputs": [
    {
     "name": "stdout",
     "output_type": "stream",
     "text": [
      "ActionGenerator(\n",
      "  (proj): Sequential(\n",
      "    (0): Linear(in_features=512, out_features=52, bias=True)\n",
      "    (1): Dropout(p=0.15, inplace=False)\n",
      "  )\n",
      "  (_softmax): LogSoftmax(dim=-1)\n",
      ")\n"
     ]
    },
    {
     "data": {
      "text/plain": [
       "=================================================================\n",
       "Layer (type:depth-idx)                   Param #\n",
       "=================================================================\n",
       "ActionGenerator                          --\n",
       "├─Sequential: 1-1                        --\n",
       "│    └─Linear: 2-1                       26,676\n",
       "│    └─Dropout: 2-2                      --\n",
       "├─LogSoftmax: 1-2                        --\n",
       "=================================================================\n",
       "Total params: 26,676\n",
       "Trainable params: 26,676\n",
       "Non-trainable params: 0\n",
       "================================================================="
      ]
     },
     "execution_count": 390,
     "metadata": {},
     "output_type": "execute_result"
    }
   ],
   "source": [
    "generator = ActionGenerator().cuda()\n",
    "print(generator)\n",
    "summary(generator)"
   ]
  },
  {
   "cell_type": "code",
   "execution_count": 392,
   "id": "1d0d5c2e-48c9-48b6-ae7b-1181d594a6be",
   "metadata": {},
   "outputs": [
    {
     "data": {
      "text/plain": [
       "torch.Size([4, 16, 52])"
      ]
     },
     "execution_count": 392,
     "metadata": {},
     "output_type": "execute_result"
    }
   ],
   "source": [
    "preds = generator(dec_out)\n",
    "preds.shape"
   ]
  },
  {
   "cell_type": "code",
   "execution_count": 393,
   "id": "11da4b21-4c84-41dc-a3e1-690efebd81f8",
   "metadata": {},
   "outputs": [
    {
     "data": {
      "text/plain": [
       "(torch.Size([4]), tensor([5, 5, 5, 5], device='cuda:0'))"
      ]
     },
     "execution_count": 393,
     "metadata": {},
     "output_type": "execute_result"
    }
   ],
   "source": [
    "predicted_next_tok = preds[:, -1, :].argmax(dim=-1)\n",
    "predicted_next_tok.shape, predicted_next_tok"
   ]
  },
  {
   "cell_type": "markdown",
   "id": "bb14293b-b031-477b-a643-3811927b1bb1",
   "metadata": {
    "tags": []
   },
   "source": [
    "### RT-1 Decoder"
   ]
  },
  {
   "cell_type": "code",
   "execution_count": 399,
   "id": "86f893fa-9324-4244-aad2-a66db2243700",
   "metadata": {
    "scrolled": true,
    "tags": []
   },
   "outputs": [
    {
     "name": "stdout",
     "output_type": "stream",
     "text": [
      "RT1Decoder(\n",
      "  (target_embedding): Embedding(52, 512, padding_idx=0)\n",
      "  (token_embedding): Linear(in_features=512, out_features=512, bias=False)\n",
      "  (pos_embedding): PositionalEncoder()\n",
      "  (transformer): TransformerDecoder(\n",
      "    (layers): ModuleList(\n",
      "      (0): TransformerDecoderLayer(\n",
      "        (self_attn): MultiHeadSelfAttention(\n",
      "          (attention_heads): ModuleList(\n",
      "            (0-3): 4 x SelfAttentionHead(\n",
      "              (dropout): Dropout(p=0.15, inplace=False)\n",
      "              (_softmax): Softmax(dim=-1)\n",
      "              (w_q): Linear(in_features=512, out_features=512, bias=False)\n",
      "              (w_k): Linear(in_features=512, out_features=512, bias=False)\n",
      "              (w_v): Linear(in_features=512, out_features=512, bias=False)\n",
      "            )\n",
      "          )\n",
      "          (output_layer): Sequential(\n",
      "            (0): Linear(in_features=2048, out_features=512, bias=False)\n",
      "            (1): Dropout(p=0.15, inplace=False)\n",
      "          )\n",
      "        )\n",
      "        (cross_attn): MultiHeadSelfAttention(\n",
      "          (attention_heads): ModuleList(\n",
      "            (0-3): 4 x SelfAttentionHead(\n",
      "              (dropout): Dropout(p=0.15, inplace=False)\n",
      "              (_softmax): Softmax(dim=-1)\n",
      "              (w_q): Linear(in_features=512, out_features=512, bias=False)\n",
      "              (w_k): Linear(in_features=512, out_features=512, bias=False)\n",
      "              (w_v): Linear(in_features=512, out_features=512, bias=False)\n",
      "            )\n",
      "          )\n",
      "          (output_layer): Sequential(\n",
      "            (0): Linear(in_features=2048, out_features=512, bias=False)\n",
      "            (1): Dropout(p=0.15, inplace=False)\n",
      "          )\n",
      "        )\n",
      "        (norm1): LayerNormalization(\n",
      "          (layer): LayerNorm((512,), eps=1e-06, elementwise_affine=True)\n",
      "        )\n",
      "        (norm2): LayerNormalization(\n",
      "          (layer): LayerNorm((512,), eps=1e-06, elementwise_affine=True)\n",
      "        )\n",
      "        (ff): Sequential(\n",
      "          (0): Linear(in_features=512, out_features=2048, bias=True)\n",
      "          (1): GELU(approximate='none')\n",
      "          (2): Linear(in_features=2048, out_features=512, bias=True)\n",
      "        )\n",
      "        (norm3): LayerNorm((512,), eps=1e-05, elementwise_affine=True)\n",
      "        (dropout): Dropout(p=0.15, inplace=False)\n",
      "      )\n",
      "    )\n",
      "  )\n",
      "  (norm): LayerNormalization(\n",
      "    (layer): LayerNorm((512,), eps=1e-06, elementwise_affine=True)\n",
      "  )\n",
      "  (action_generator): ActionGenerator(\n",
      "    (proj): Sequential(\n",
      "      (0): Linear(in_features=512, out_features=52, bias=True)\n",
      "      (1): Dropout(p=0.15, inplace=False)\n",
      "    )\n",
      "    (_softmax): LogSoftmax(dim=-1)\n",
      "  )\n",
      ")\n"
     ]
    },
    {
     "data": {
      "text/plain": [
       "================================================================================\n",
       "Layer (type:depth-idx)                                  Param #\n",
       "================================================================================\n",
       "RT1Decoder                                              --\n",
       "├─Embedding: 1-1                                        26,624\n",
       "├─Linear: 1-2                                           262,144\n",
       "├─PositionalEncoder: 1-3                                --\n",
       "├─TransformerDecoder: 1-4                               --\n",
       "│    └─ModuleList: 2-1                                  --\n",
       "│    │    └─TransformerDecoderLayer: 3-1                10,491,392\n",
       "├─LayerNormalization: 1-5                               --\n",
       "│    └─LayerNorm: 2-2                                   1,024\n",
       "├─ActionGenerator: 1-6                                  --\n",
       "│    └─Sequential: 2-3                                  --\n",
       "│    │    └─Linear: 3-2                                 26,676\n",
       "│    │    └─Dropout: 3-3                                --\n",
       "│    └─LogSoftmax: 2-4                                  --\n",
       "================================================================================\n",
       "Total params: 10,807,860\n",
       "Trainable params: 10,807,860\n",
       "Non-trainable params: 0\n",
       "================================================================================"
      ]
     },
     "execution_count": 399,
     "metadata": {},
     "output_type": "execute_result"
    }
   ],
   "source": [
    "decoder = RT1Decoder(num_decoder_layers=1).cuda()\n",
    "print(decoder)\n",
    "decoder.eval()\n",
    "summary(model=decoder)"
   ]
  },
  {
   "cell_type": "code",
   "execution_count": 400,
   "id": "f6e2b178-1da0-43ec-a681-62db97ece25c",
   "metadata": {},
   "outputs": [
    {
     "name": "stdout",
     "output_type": "stream",
     "text": [
      "CPU times: user 2 µs, sys: 0 ns, total: 2 µs\n",
      "Wall time: 4.05 µs\n"
     ]
    },
    {
     "data": {
      "text/plain": [
       "(torch.Size([4, 16, 52]),\n",
       " torch.Size([4, 1, 4, 16, 16]),\n",
       " torch.Size([4, 1, 4, 16, 48]))"
      ]
     },
     "execution_count": 400,
     "metadata": {},
     "output_type": "execute_result"
    }
   ],
   "source": [
    "%time\n",
    "\n",
    "preds, self_attn_ws, cross_attn_ws = decoder(\n",
    "    inp=sample[\"motor_cmd\"][\"decoder_inp_ids\"].cuda(), \n",
    "    encoder_out=learned_tokens, \n",
    "    src_mask=sample[\"source_mask\"].cuda(), \n",
    "    target_mask=sample[\"target_mask\"].cuda(), \n",
    "    debug=False\n",
    ")\n",
    "\n",
    "preds.shape, self_attn_ws.shape, cross_attn_ws.shape"
   ]
  },
  {
   "cell_type": "markdown",
   "id": "3cde5f94-8a3c-458d-94da-9655d7ddb2d6",
   "metadata": {
    "tags": []
   },
   "source": [
    "### RT-1 "
   ]
  },
  {
   "cell_type": "code",
   "execution_count": null,
   "id": "f033aac5-7312-47d8-8ff8-8044ebb2fd8f",
   "metadata": {},
   "outputs": [],
   "source": [
    "class RT1(pl.LightningModule):\n",
    "    def __init__(\n",
    "        self\n",
    "    ):\n",
    "        super().__init__()\n",
    "        self.encoder = RT1Encder()\n",
    "        self.decoder = RT1Decoder()\n",
    "        \n",
    "    def forward(self, input_ids, attn_mask, token_type_ids, imgs):\n",
    "        \n",
    "        tokens = self.encode(input_ids, attn_mask, token_type_ids, imgs)\n",
    "        pass\n",
    "    \n",
    "    def encode(self, input_ids, attn_mask, token_type_ids, imgs):\n",
    "        return self.encoder(input_ids, attn_mask, token_type_ids, imgs)\n",
    "    \n",
    "    def decode(        \n",
    "        self, \n",
    "        inp:torch.Tensor, \n",
    "        encoder_out:torch.Tensor,\n",
    "        src_mask:torch.Tensor=None, \n",
    "        target_mask:torch.tensor=None,\n",
    "        return_weights:bool=True,\n",
    "        debug:bool=False\n",
    "    ):\n",
    "        return self.decoder(y, enc_outputs, src_mask, tgt_mask)\n",
    "    \n",
    "    def configure_optimizers(self):\n",
    "        pass\n",
    "    \n",
    "    def training_step(self, batch, batch_idx):\n",
    "        pass\n",
    "    \n",
    "    def validation_step(self, batch, batch_idx):\n",
    "        pass\n",
    "    \n",
    "    def test_step(self, batch, batch_idx):\n",
    "        pass\n",
    "    \n",
    "    def compute_loss(self, outputs, targets):\n",
    "        pass"
   ]
  },
  {
   "cell_type": "code",
   "execution_count": null,
   "id": "715fd461-7028-49de-bcb9-e8464433f548",
   "metadata": {},
   "outputs": [],
   "source": []
  },
  {
   "cell_type": "code",
   "execution_count": null,
   "id": "4a346bbe-d174-40a9-a807-e2cd63665ec6",
   "metadata": {},
   "outputs": [],
   "source": []
  },
  {
   "cell_type": "code",
   "execution_count": null,
   "id": "3e2bebcb-a94a-4272-b68d-5eeee9dbd638",
   "metadata": {},
   "outputs": [],
   "source": []
  }
 ],
 "metadata": {
  "kernelspec": {
   "display_name": "SMF-BE",
   "language": "python",
   "name": "smf-be"
  },
  "language_info": {
   "codemirror_mode": {
    "name": "ipython",
    "version": 3
   },
   "file_extension": ".py",
   "mimetype": "text/x-python",
   "name": "python",
   "nbconvert_exporter": "python",
   "pygments_lexer": "ipython3",
   "version": "3.10.4"
  }
 },
 "nbformat": 4,
 "nbformat_minor": 5
}
