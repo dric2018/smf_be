{
 "cells": [
  {
   "cell_type": "markdown",
   "id": "11449575-6314-4708-9193-b279891e836c",
   "metadata": {},
   "source": [
    "## Device check"
   ]
  },
  {
   "cell_type": "code",
   "execution_count": 1,
   "id": "2f302c0d-40f1-4bac-bf57-df54c89e72f1",
   "metadata": {},
   "outputs": [
    {
     "name": "stdout",
     "output_type": "stream",
     "text": [
      "Wed Oct 25 01:04:16 2023       \n",
      "+-----------------------------------------------------------------------------+\n",
      "| NVIDIA-SMI 525.60.13    Driver Version: 525.60.13    CUDA Version: 12.0     |\n",
      "|-------------------------------+----------------------+----------------------+\n",
      "| GPU  Name        Persistence-M| Bus-Id        Disp.A | Volatile Uncorr. ECC |\n",
      "| Fan  Temp  Perf  Pwr:Usage/Cap|         Memory-Usage | GPU-Util  Compute M. |\n",
      "|                               |                      |               MIG M. |\n",
      "|===============================+======================+======================|\n",
      "|   0  Tesla V100-SXM2...  On   | 00000000:16:00.0 Off |                    0 |\n",
      "| N/A   30C    P0    38W / 300W |      0MiB / 32768MiB |      0%      Default |\n",
      "|                               |                      |                  N/A |\n",
      "+-------------------------------+----------------------+----------------------+\n",
      "                                                                               \n",
      "+-----------------------------------------------------------------------------+\n",
      "| Processes:                                                                  |\n",
      "|  GPU   GI   CI        PID   Type   Process name                  GPU Memory |\n",
      "|        ID   ID                                                   Usage      |\n",
      "|=============================================================================|\n",
      "|  No running processes found                                                 |\n",
      "+-----------------------------------------------------------------------------+\n"
     ]
    }
   ],
   "source": [
    "!nvidia-smi"
   ]
  },
  {
   "cell_type": "markdown",
   "id": "c33ee382-8c34-4130-99d3-80d5abdfbf1a",
   "metadata": {},
   "source": [
    "## Packages"
   ]
  },
  {
   "cell_type": "code",
   "execution_count": 2,
   "id": "5d150586-d672-4999-9a7f-743a7d0d3854",
   "metadata": {},
   "outputs": [],
   "source": [
    "import warnings\n",
    "warnings.filterwarnings(action=\"ignore\")"
   ]
  },
  {
   "cell_type": "code",
   "execution_count": 267,
   "id": "e2664559-8789-4785-83d6-26327fe5ed23",
   "metadata": {},
   "outputs": [],
   "source": [
    "import albumentations as A\n",
    "from albumentations.pytorch import ToTensorV2\n",
    "\n",
    "import lightning.pytorch as pl\n",
    "import logging\n",
    "logging.basicConfig(level=\"INFO\")\n",
    "\n",
    "import math\n",
    "from matplotlib import pyplot\n",
    "\n",
    "import numpy as np\n",
    "\n",
    "import os\n",
    "\n",
    "import pandas as pd\n",
    "from pprint import pprint\n",
    "\n",
    "import sys\n",
    "sys.path.append(\"../src\")\n",
    "\n",
    "from tqdm import tqdm\n",
    "import torch\n",
    "import torch.nn as nn\n",
    "import torch.nn.functional as F\n",
    "from torchinfo import summary"
   ]
  },
  {
   "cell_type": "code",
   "execution_count": 46,
   "id": "b09a35d4-17a4-437a-ad75-cfdbf9215827",
   "metadata": {},
   "outputs": [
    {
     "name": "stdout",
     "output_type": "stream",
     "text": [
      "The autoreload extension is already loaded. To reload it, use:\n",
      "  %reload_ext autoreload\n"
     ]
    }
   ],
   "source": [
    "os.environ[\"TOKENIZERS_PARALLELISM\"] = \"false\"\n",
    "%load_ext autoreload\n",
    "%autoreload 2"
   ]
  },
  {
   "cell_type": "code",
   "execution_count": 190,
   "id": "5273f979-011c-4122-930a-126665f3c088",
   "metadata": {},
   "outputs": [],
   "source": [
    "from einops import pack, unpack, repeat, reduce, rearrange"
   ]
  },
  {
   "cell_type": "code",
   "execution_count": 321,
   "id": "2ef863cc-4128-49a3-a156-fbdc859a9fd2",
   "metadata": {},
   "outputs": [],
   "source": [
    "import config\n",
    "from dataloader import BEDataset, BEDataModule\n",
    "import token_learner\n",
    "from transformer import PositionalEncoder, MultiHeadAttention, FeedFowardLayer, generate_masks, generate_causal_attention_mask\n",
    "\n",
    "from film_layers import FiLMBlockV2, FiLMEncoder, ResBlockDWConv\n",
    "from rt1 import RT1Encoder\n",
    "from utils.data_utils import History\n",
    "from utils.model_utils import TextEncoder, ImageFeatureExtractor, plot_self_attention\n"
   ]
  },
  {
   "cell_type": "markdown",
   "id": "c23b26cc-b5a8-4a5a-9e6c-6d2721d34c58",
   "metadata": {
    "jp-MarkdownHeadingCollapsed": true,
    "tags": []
   },
   "source": [
    "## Load data summary"
   ]
  },
  {
   "cell_type": "code",
   "execution_count": 6,
   "id": "9e68541d-e1c2-48df-a18d-c37c9da42002",
   "metadata": {},
   "outputs": [
    {
     "data": {
      "text/html": [
       "<div>\n",
       "<style scoped>\n",
       "    .dataframe tbody tr th:only-of-type {\n",
       "        vertical-align: middle;\n",
       "    }\n",
       "\n",
       "    .dataframe tbody tr th {\n",
       "        vertical-align: top;\n",
       "    }\n",
       "\n",
       "    .dataframe thead th {\n",
       "        text-align: right;\n",
       "    }\n",
       "</style>\n",
       "<table border=\"1\" class=\"dataframe\">\n",
       "  <thead>\n",
       "    <tr style=\"text-align: right;\">\n",
       "      <th></th>\n",
       "      <th>sample_ID</th>\n",
       "      <th>in_state</th>\n",
       "      <th>goal_state</th>\n",
       "      <th>action_description</th>\n",
       "      <th>motor_cmd</th>\n",
       "      <th>len_action_desc</th>\n",
       "      <th>len_motor_cmd</th>\n",
       "      <th>version</th>\n",
       "    </tr>\n",
       "  </thead>\n",
       "  <tbody>\n",
       "    <tr>\n",
       "      <th>0</th>\n",
       "      <td>7294</td>\n",
       "      <td>0</td>\n",
       "      <td>10</td>\n",
       "      <td>put the fork to the right of buttermilk</td>\n",
       "      <td>:FORK GREEN POSE-9 :BUTTERMILK GREEN POSE-2 :F...</td>\n",
       "      <td>8</td>\n",
       "      <td>11</td>\n",
       "      <td>v2</td>\n",
       "    </tr>\n",
       "    <tr>\n",
       "      <th>1</th>\n",
       "      <td>405</td>\n",
       "      <td>0</td>\n",
       "      <td>8</td>\n",
       "      <td>move the bottle backwards</td>\n",
       "      <td>:BOTTLE RED POSE-2 :BOTTLE  #'*backward-transf...</td>\n",
       "      <td>4</td>\n",
       "      <td>8</td>\n",
       "      <td>v1</td>\n",
       "    </tr>\n",
       "    <tr>\n",
       "      <th>2</th>\n",
       "      <td>4235</td>\n",
       "      <td>0</td>\n",
       "      <td>10</td>\n",
       "      <td>put the bottle to the left of breakfast-cereal</td>\n",
       "      <td>:BOTTLE RED POSE-7 :BREAKFAST-CEREAL BLUE POSE...</td>\n",
       "      <td>8</td>\n",
       "      <td>11</td>\n",
       "      <td>v2</td>\n",
       "    </tr>\n",
       "    <tr>\n",
       "      <th>3</th>\n",
       "      <td>6990</td>\n",
       "      <td>0</td>\n",
       "      <td>10</td>\n",
       "      <td>put the milk in front of bottle</td>\n",
       "      <td>:MILK BLUE POSE-8 :BOTTLE RED POSE-4 :MILK  #'...</td>\n",
       "      <td>7</td>\n",
       "      <td>11</td>\n",
       "      <td>v2</td>\n",
       "    </tr>\n",
       "    <tr>\n",
       "      <th>4</th>\n",
       "      <td>7096</td>\n",
       "      <td>0</td>\n",
       "      <td>10</td>\n",
       "      <td>put the cup in front of glasses</td>\n",
       "      <td>:CUP GREEN POSE-6 :GLASSES RED POSE-2 :CUP  #'...</td>\n",
       "      <td>7</td>\n",
       "      <td>11</td>\n",
       "      <td>v2</td>\n",
       "    </tr>\n",
       "  </tbody>\n",
       "</table>\n",
       "</div>"
      ],
      "text/plain": [
       "   sample_ID  in_state  goal_state  \\\n",
       "0       7294         0          10   \n",
       "1        405         0           8   \n",
       "2       4235         0          10   \n",
       "3       6990         0          10   \n",
       "4       7096         0          10   \n",
       "\n",
       "                               action_description  \\\n",
       "0         put the fork to the right of buttermilk   \n",
       "1                       move the bottle backwards   \n",
       "2  put the bottle to the left of breakfast-cereal   \n",
       "3                 put the milk in front of bottle   \n",
       "4                 put the cup in front of glasses   \n",
       "\n",
       "                                           motor_cmd  len_action_desc  \\\n",
       "0  :FORK GREEN POSE-9 :BUTTERMILK GREEN POSE-2 :F...                8   \n",
       "1  :BOTTLE RED POSE-2 :BOTTLE  #'*backward-transf...                4   \n",
       "2  :BOTTLE RED POSE-7 :BREAKFAST-CEREAL BLUE POSE...                8   \n",
       "3  :MILK BLUE POSE-8 :BOTTLE RED POSE-4 :MILK  #'...                7   \n",
       "4  :CUP GREEN POSE-6 :GLASSES RED POSE-2 :CUP  #'...                7   \n",
       "\n",
       "   len_motor_cmd version  \n",
       "0             11      v2  \n",
       "1              8      v1  \n",
       "2             11      v2  \n",
       "3             11      v2  \n",
       "4             11      v2  "
      ]
     },
     "execution_count": 6,
     "metadata": {},
     "output_type": "execute_result"
    }
   ],
   "source": [
    "csv = pd.read_csv(os.path.join(config.DATASET_PATH, \"train.csv\"))\n",
    "\n",
    "csv.head()"
   ]
  },
  {
   "cell_type": "code",
   "execution_count": 7,
   "id": "5e7cd7ee-95e6-450a-b7bf-35a626daf357",
   "metadata": {},
   "outputs": [
    {
     "data": {
      "text/plain": [
       "4876"
      ]
     },
     "execution_count": 7,
     "metadata": {},
     "output_type": "execute_result"
    }
   ],
   "source": [
    "# building data object\n",
    "ds = BEDataset(\n",
    "    df=csv    \n",
    ")\n",
    "\n",
    "len(ds)"
   ]
  },
  {
   "cell_type": "code",
   "execution_count": 8,
   "id": "28ccf421-7092-4d19-b7a8-84d4864f34c3",
   "metadata": {},
   "outputs": [
    {
     "name": "stdout",
     "output_type": "stream",
     "text": [
      "Dataset size:  4876\n",
      "====================================================================================================\n",
      "ID\t:  9401\n",
      ">> InState\t:  torch.Size([3, 224, 224])\n",
      ">> Desc\t:\n",
      "{'ids': tensor([  101,  2404,  1996,  5442,  2000,  1996,  2157,  1997, 12256, 17130,\n",
      "         2378,   102,     0,     0,     0,     0]),\n",
      " 'length': 8,\n",
      " 'mask': tensor([1, 1, 1, 1, 1, 1, 1, 1, 1, 1, 1, 1, 0, 0, 0, 0]),\n",
      " 'raw': 'put the knife to the right of mondamin',\n",
      " 'token_type_ids': tensor([0, 0, 0, 0, 0, 0, 0, 0, 0, 0, 0, 0, 0, 0, 0, 0])}\n",
      ">> Cmd\t:\n",
      "{'ids': tensor([ 0, 17, 41, 30, 18, 41, 36, 17, 48, 18,  2,  2,  2,  2,  2,  2]),\n",
      " 'length': 11,\n",
      " 'mask': tensor([1, 1, 1, 1, 1, 1, 1, 1, 1, 1, 1, 0, 0, 0, 0, 0]),\n",
      " 'raw': ':KNIFE GREEN POSE-10 :MONDAMIN GREEN POSE-3 :KNIFE  '\n",
      "        \"#'*rightward-transformation*  :MONDAMIN\"}\n",
      "====================================================================================================\n"
     ]
    }
   ],
   "source": [
    "# fetching example\n",
    "rand_idx = np.random.randint(low=0, high=len(ds))\n",
    "ex = ds[rand_idx]\n",
    "\n",
    "print(\"Dataset size: \", len(ds))\n",
    "print(\"=\"*100)\n",
    "print(\"ID\\t: \", ex[\"sample_id\"])\n",
    "print(\">> InState\\t: \", ex[\"in_state\"].shape)\n",
    "print(\">> Desc\\t:\")\n",
    "pprint(ex[\"action_desc\"])\n",
    "print(\">> Cmd\\t:\")\n",
    "pprint(ex[\"motor_cmd\"])\n",
    "print(\"=\"*100)"
   ]
  },
  {
   "cell_type": "markdown",
   "id": "e425b526-43d7-483b-b3bc-02028bfb4b7b",
   "metadata": {
    "jp-MarkdownHeadingCollapsed": true,
    "tags": []
   },
   "source": [
    "## Data Module"
   ]
  },
  {
   "cell_type": "code",
   "execution_count": 9,
   "id": "820bb68f-3341-4d6e-9cea-80dbdf2de002",
   "metadata": {},
   "outputs": [
    {
     "name": "stdout",
     "output_type": "stream",
     "text": [
      "Total # examples: 4876\n"
     ]
    },
    {
     "name": "stderr",
     "output_type": "stream",
     "text": [
      "INFO:root:Training on 3610 samples.\n",
      "INFO:root:Validating on 1266 samples.\n"
     ]
    }
   ],
   "source": [
    "dm = BEDataModule()\n",
    "dm.setup()"
   ]
  },
  {
   "cell_type": "code",
   "execution_count": 10,
   "id": "383eaa10-47d7-4620-928e-8fbcd6889d89",
   "metadata": {},
   "outputs": [],
   "source": [
    "# print(\"=\"*100)\n",
    "# logging.info(\"\\n>> train data loader\")\n",
    "# print(f\"# train batches\\t: {len(dm.train_dataloader())}\")\n",
    "# for data in dm.train_dataloader():\n",
    "#     # pprint(data)\n",
    "#     sample_id, in_state, ad, cmd = data[\"sample_id\"], data[\"in_state\"], data[\"action_desc\"], data[\"motor_cmd\"]\n",
    "#     print(\"In \\t\\t\\t: \", in_state.shape)\n",
    "#     print(\"Action desc \\t\\t: \", ad[\"ids\"].shape)\n",
    "#     print(\"Action desc (len) \\t: \", ad[\"length\"].shape)\n",
    "#     print(\"CMD \\t\\t\\t: \", cmd[\"ids\"].shape)\n",
    "#     print(\"CMD(len) \\t\\t: \", cmd[\"length\"].shape)\n",
    "#     break\n",
    "\n",
    "# print(\"\\nIDs & decided tokens\")\n",
    "# for data in dm.train_dataloader():\n",
    "#     print(data[\"action_desc\"][\"ids\"][0].tolist())\n",
    "#     print(dm.train_ds._decode_inputs(data[\"action_desc\"][\"ids\"][0].tolist()))\n",
    "#     print()\n",
    "#     print(data[\"motor_cmd\"][\"ids\"][0].tolist())\n",
    "#     print(dm.train_ds._decode_outputs(data[\"motor_cmd\"][\"ids\"][0].tolist()))\n",
    "\n",
    "#     break\n",
    "    \n",
    "# print(\"=\"*100)"
   ]
  },
  {
   "cell_type": "markdown",
   "id": "fd6bfcb6-3d67-4d4a-934d-95af834e1a07",
   "metadata": {
    "tags": []
   },
   "source": [
    "## Fetch batch"
   ]
  },
  {
   "cell_type": "code",
   "execution_count": 147,
   "id": "e7c22a7a-16f8-4411-8839-8b724fc29869",
   "metadata": {},
   "outputs": [
    {
     "name": "stdout",
     "output_type": "stream",
     "text": [
      "CPU times: user 11.5 ms, sys: 167 ms, total: 179 ms\n",
      "Wall time: 1.55 s\n"
     ]
    },
    {
     "data": {
      "text/plain": [
       "torch.Size([8, 3, 224, 224])"
      ]
     },
     "execution_count": 147,
     "metadata": {},
     "output_type": "execute_result"
    }
   ],
   "source": [
    "%%time\n",
    "sample = next(iter(dm.train_dataloader()))\n",
    "sample[\"in_state\"].shape"
   ]
  },
  {
   "cell_type": "markdown",
   "id": "4dcf2c24-6b59-4e40-ad31-a298e2680aa5",
   "metadata": {
    "tags": []
   },
   "source": [
    "### Utils"
   ]
  },
  {
   "cell_type": "code",
   "execution_count": 150,
   "id": "f7492783-692e-461a-a05a-7e9aa2e95644",
   "metadata": {},
   "outputs": [
    {
     "name": "stdout",
     "output_type": "stream",
     "text": [
      "CPU times: user 96.7 ms, sys: 3.87 ms, total: 101 ms\n",
      "Wall time: 100 ms\n"
     ]
    },
    {
     "data": {
      "text/plain": [
       "torch.Size([8, 3, 6, 224, 224])"
      ]
     },
     "execution_count": 150,
     "metadata": {},
     "output_type": "execute_result"
    }
   ],
   "source": [
    "# %%time \n",
    "\n",
    "# history = History(imgs=sample[\"in_state\"])\n",
    "\n",
    "# history.carousel.shape"
   ]
  },
  {
   "cell_type": "code",
   "execution_count": 189,
   "id": "a42c26b8-f1ad-4a9c-badc-608f7aacc87b",
   "metadata": {
    "scrolled": true,
    "tags": []
   },
   "outputs": [],
   "source": [
    "# history.display_history()"
   ]
  },
  {
   "cell_type": "markdown",
   "id": "59b32ff7-02ee-4fa3-b3b9-7885f558072b",
   "metadata": {},
   "source": [
    "## Model Design"
   ]
  },
  {
   "cell_type": "markdown",
   "id": "52bcf1ad-8562-458b-b07c-226d1ed3dbe0",
   "metadata": {},
   "source": [
    "<!-- ![RT1 model architecture](../../imgs/rt1+.png) -->\n",
    "<center>\n",
    "    <img src=\"../imgs/rt1+.png\" alt=\"RT1 model architecture\" width=\"300\" height=\"400\">\n",
    "\n",
    "<center>"
   ]
  },
  {
   "cell_type": "markdown",
   "id": "130cea30-c012-4a53-a94b-7651270e4c38",
   "metadata": {},
   "source": [
    "### Encoder"
   ]
  },
  {
   "cell_type": "markdown",
   "id": "2c4d547d-b935-42b3-bafa-ded2cddaec51",
   "metadata": {
    "jp-MarkdownHeadingCollapsed": true,
    "tags": []
   },
   "source": [
    "#### Test Text Encoder"
   ]
  },
  {
   "cell_type": "code",
   "execution_count": 12,
   "id": "2cbe10a4-0a68-429f-a18c-dfb4012920ff",
   "metadata": {},
   "outputs": [],
   "source": [
    "# te = TextEncoder(freeze=True).cuda()\n",
    "# summary(model=te, col_names=[\"num_params\", \"trainable\"])"
   ]
  },
  {
   "cell_type": "code",
   "execution_count": 13,
   "id": "1790e904-591d-4ee3-8ae3-f9ee204dbe31",
   "metadata": {
    "tags": []
   },
   "outputs": [],
   "source": [
    "# emb = te(\n",
    "#     inp_ids=sample[\"action_desc\"][\"ids\"].cuda(),\n",
    "#     mask=sample[\"action_desc\"][\"mask\"].cuda(),\n",
    "#     tok_type_ids=sample[\"action_desc\"][\"token_type_ids\"].cuda()\n",
    "# )\n",
    "\n",
    "# emb.shape"
   ]
  },
  {
   "cell_type": "markdown",
   "id": "491611ae-2f70-404b-b04c-a401bad6fc56",
   "metadata": {
    "jp-MarkdownHeadingCollapsed": true,
    "tags": []
   },
   "source": [
    "#### Test Img Feature Extractor"
   ]
  },
  {
   "cell_type": "code",
   "execution_count": 14,
   "id": "d55d73ba-efef-4d32-81cb-520974830c74",
   "metadata": {
    "tags": []
   },
   "outputs": [],
   "source": [
    "# fe = ImageFeatureExtractor(pretrained=True, arch=\"resnet34\").cuda()\n",
    "\n",
    "# summary(fe, col_names=[\"num_params\", \"trainable\"])"
   ]
  },
  {
   "cell_type": "code",
   "execution_count": 15,
   "id": "34e9d6e5-ca31-4b20-8fe1-07412fcb4f33",
   "metadata": {},
   "outputs": [],
   "source": [
    "# img_ftrs = fe(sample[\"in_state\"].cuda())\n",
    "\n",
    "# img_ftrs.shape"
   ]
  },
  {
   "cell_type": "markdown",
   "id": "beea6fe0-fc93-4c1d-9f7d-ae8194f9bb29",
   "metadata": {
    "jp-MarkdownHeadingCollapsed": true,
    "tags": []
   },
   "source": [
    "#### Test FiLM Block"
   ]
  },
  {
   "cell_type": "code",
   "execution_count": 16,
   "id": "b36b8d53-a51d-4dfd-9cd6-0dabc3e1b614",
   "metadata": {},
   "outputs": [],
   "source": [
    "# film_block = FiLMBlockV2().cuda()\n",
    "# print(film_block)\n",
    "# summary(model=film_block)"
   ]
  },
  {
   "cell_type": "code",
   "execution_count": 17,
   "id": "ab1a5658-8b44-4fd9-8a3e-e2c3f2380864",
   "metadata": {},
   "outputs": [],
   "source": [
    "# text_cond_ftrs = film_block(\n",
    "#     img_features=img_ftrs, \n",
    "#     conditioning=emb\n",
    "# )\n",
    "\n",
    "# text_cond_ftrs.shape"
   ]
  },
  {
   "cell_type": "markdown",
   "id": "15e75562-714a-480f-9b03-be898c3aebd4",
   "metadata": {
    "jp-MarkdownHeadingCollapsed": true,
    "tags": []
   },
   "source": [
    "#### Test Residual FiLM Block"
   ]
  },
  {
   "cell_type": "code",
   "execution_count": 18,
   "id": "2ca31d01-12cd-4fbf-af23-1dbecfe2b4d1",
   "metadata": {},
   "outputs": [],
   "source": [
    "# dw_res = ResBlockDWConv(512, 512).cuda()\n",
    "# summary(model=dw_res)"
   ]
  },
  {
   "cell_type": "code",
   "execution_count": 19,
   "id": "f44cd288-29c5-41ef-be96-72a066bfbeaf",
   "metadata": {},
   "outputs": [],
   "source": [
    "# text_cond_ftrs_res = dw_res(\n",
    "#     img_features=img_ftrs, \n",
    "#     conditioning=emb\n",
    "# )\n",
    "\n",
    "# text_cond_ftrs_res.shape"
   ]
  },
  {
   "cell_type": "markdown",
   "id": "00506f45-07c7-40fc-927c-3e307e91b23f",
   "metadata": {
    "jp-MarkdownHeadingCollapsed": true,
    "tags": []
   },
   "source": [
    "#### Test FiLM Encoder"
   ]
  },
  {
   "cell_type": "code",
   "execution_count": 20,
   "id": "09a904d1-b1ef-40b2-9344-f2580105ee41",
   "metadata": {
    "tags": []
   },
   "outputs": [],
   "source": [
    "# film_encoder = FiLMEncoder(\n",
    "#     arch=\"resnet34\",\n",
    "#     n_res_blocks=6,\n",
    "# ).cuda()\n",
    "\n",
    "# # print(film_encoder)\n",
    "# summary(model=film_encoder)"
   ]
  },
  {
   "cell_type": "code",
   "execution_count": 21,
   "id": "2b70f6a7-c6b5-4743-8ecf-9cfa122dd7ea",
   "metadata": {},
   "outputs": [],
   "source": [
    "# %%time\n",
    "\n",
    "# out = film_encoder(\n",
    "#     x= sample[\"in_state\"].cuda(),\n",
    "#     conditioning= emb\n",
    "# )\n",
    "\n",
    "# out.shape"
   ]
  },
  {
   "cell_type": "markdown",
   "id": "d217cc28-4eb7-4f76-86ee-51dd6ae8f248",
   "metadata": {
    "jp-MarkdownHeadingCollapsed": true,
    "tags": []
   },
   "source": [
    "#### Token Learner"
   ]
  },
  {
   "cell_type": "code",
   "execution_count": 22,
   "id": "8f2da760-c2ee-4ff1-97bd-8859562a484a",
   "metadata": {},
   "outputs": [],
   "source": [
    "# N, C, H_W = out.shape\n",
    "# N, C, H_W"
   ]
  },
  {
   "cell_type": "code",
   "execution_count": 23,
   "id": "cb960649-ad52-4a6f-be9a-279263b0ae0a",
   "metadata": {},
   "outputs": [],
   "source": [
    "# tokL_v11 = token_learner.TokenLearnerModuleV11(feature_shape=(N, H_W, C)).cuda()\n",
    "# print(tokL_v11)\n",
    "# summary(model=tokL_v11)"
   ]
  },
  {
   "cell_type": "code",
   "execution_count": 24,
   "id": "cb43cec1-32e2-4f1d-bb5a-3ba026a57fa4",
   "metadata": {},
   "outputs": [],
   "source": [
    "# learned_tokens = tokL_v11(out.view(N, H_W, C))\n",
    "# learned_tokens.shape"
   ]
  },
  {
   "cell_type": "code",
   "execution_count": null,
   "id": "6e045e3a-4d75-454a-9fdd-c5205f332a2b",
   "metadata": {},
   "outputs": [],
   "source": []
  },
  {
   "cell_type": "markdown",
   "id": "21ce81c2-ecfd-49cf-8613-b806d585dfb0",
   "metadata": {
    "jp-MarkdownHeadingCollapsed": true,
    "tags": []
   },
   "source": [
    "#### RT-1 Encoder"
   ]
  },
  {
   "cell_type": "code",
   "execution_count": 154,
   "id": "3ad67e60-baf3-449f-83f7-ad5256cbcda3",
   "metadata": {},
   "outputs": [
    {
     "data": {
      "text/plain": [
       "torch.Size([8, 6, 512, 8])"
      ]
     },
     "execution_count": 154,
     "metadata": {},
     "output_type": "execute_result"
    }
   ],
   "source": [
    "tokenized_inputs = torch.empty((B, config.NUM_HISTORY+1, config.D_MODEL, config.NUM_LEARNED_TOKENS))\n",
    "tokenized_inputs.shape"
   ]
  },
  {
   "cell_type": "code",
   "execution_count": 155,
   "id": "2174f4e4-27fd-48a0-b6e5-ab44322bae6c",
   "metadata": {},
   "outputs": [
    {
     "data": {
      "text/plain": [
       "torch.Size([8, 48, 512])"
      ]
     },
     "execution_count": 155,
     "metadata": {},
     "output_type": "execute_result"
    }
   ],
   "source": [
    "tokenized_inputs.view(B, -1, config.D_MODEL).shape"
   ]
  },
  {
   "cell_type": "code",
   "execution_count": 156,
   "id": "e5bcca40-17d4-4d6b-802b-bc3c901b8a41",
   "metadata": {},
   "outputs": [
    {
     "data": {
      "text/plain": [
       "torch.Size([8, 3, 6, 224, 224])"
      ]
     },
     "execution_count": 156,
     "metadata": {},
     "output_type": "execute_result"
    }
   ],
   "source": [
    "history.carousel.shape"
   ]
  },
  {
   "cell_type": "code",
   "execution_count": null,
   "id": "2eb1c38a-1e35-4cae-867f-78051273b703",
   "metadata": {},
   "outputs": [],
   "source": [
    "history.carousel.[0, :, ]"
   ]
  },
  {
   "cell_type": "code",
   "execution_count": 182,
   "id": "d56dd9db-abff-4cb9-b8af-b1b68e3e7ced",
   "metadata": {
    "tags": []
   },
   "outputs": [
    {
     "data": {
      "text/plain": [
       "==============================================================================================================\n",
       "Layer (type:depth-idx)                                       Param #                   Trainable\n",
       "==============================================================================================================\n",
       "RT1Encoder                                                   --                        Partial\n",
       "├─TextEncoder: 1-1                                           --                        False\n",
       "│    └─BertModel: 2-1                                        --                        False\n",
       "│    │    └─BertEmbeddings: 3-1                              (15,891,456)              False\n",
       "│    │    └─BertEncoder: 3-2                                 (12,609,536)              False\n",
       "│    │    └─BertPooler: 3-3                                  (262,656)                 False\n",
       "│    └─Dropout: 2-2                                          --                        --\n",
       "├─FiLMEncoder: 1-2                                           --                        Partial\n",
       "│    └─ImageFeatureExtractor: 2-3                            --                        Partial\n",
       "│    │    └─ResNet: 3-4                                      21,797,672                Partial\n",
       "│    │    └─Sequential: 3-5                                  (21,284,672)              False\n",
       "│    └─ModuleList: 2-4                                       --                        True\n",
       "│    │    └─ResBlockDWConv: 3-6                              1,056,768                 True\n",
       "│    │    └─ResBlockDWConv: 3-7                              1,056,768                 True\n",
       "│    │    └─ResBlockDWConv: 3-8                              1,056,768                 True\n",
       "│    │    └─ResBlockDWConv: 3-9                              1,056,768                 True\n",
       "│    │    └─ResBlockDWConv: 3-10                             1,056,768                 True\n",
       "│    │    └─ResBlockDWConv: 3-11                             1,056,768                 True\n",
       "│    │    └─ResBlockDWConv: 3-12                             1,056,768                 True\n",
       "│    │    └─ResBlockDWConv: 3-13                             1,056,768                 True\n",
       "│    │    └─ResBlockDWConv: 3-14                             1,056,768                 True\n",
       "│    │    └─ResBlockDWConv: 3-15                             1,056,768                 True\n",
       "│    │    └─ResBlockDWConv: 3-16                             1,056,768                 True\n",
       "│    │    └─ResBlockDWConv: 3-17                             1,056,768                 True\n",
       "├─TokenLearnerModuleV11: 1-3                                 --                        True\n",
       "│    └─LayerNormalization: 2-5                               --                        True\n",
       "│    │    └─LayerNorm: 3-18                                  1,024                     True\n",
       "│    └─FeedFowardLayer: 2-6                                  --                        True\n",
       "│    │    └─Linear: 3-19                                     32,832                    True\n",
       "│    │    └─GELU: 3-20                                       --                        --\n",
       "│    │    └─Linear: 3-21                                     520                       True\n",
       "│    │    └─Dropout: 3-22                                    --                        --\n",
       "==============================================================================================================\n",
       "Total params: 84,561,584\n",
       "Trainable params: 13,228,592\n",
       "Non-trainable params: 71,332,992\n",
       "=============================================================================================================="
      ]
     },
     "execution_count": 182,
     "metadata": {},
     "output_type": "execute_result"
    }
   ],
   "source": [
    "encoder = RT1Encoder(cnn_bacnbone=\"resnet34\").to(config.DEVICE)\n",
    "summary(model=encoder, col_names=[\"num_params\", \"trainable\"])"
   ]
  },
  {
   "cell_type": "code",
   "execution_count": 183,
   "id": "7405de1c-ea97-4908-aa25-7858478627c0",
   "metadata": {},
   "outputs": [
    {
     "name": "stdout",
     "output_type": "stream",
     "text": [
      "CPU times: user 17.2 ms, sys: 9.84 ms, total: 27 ms\n",
      "Wall time: 25.9 ms\n"
     ]
    },
    {
     "data": {
      "text/plain": [
       "(torch.Size([8, 512]), torch.Size([8, 512, 8]))"
      ]
     },
     "execution_count": 183,
     "metadata": {},
     "output_type": "execute_result"
    }
   ],
   "source": [
    "%%time \n",
    "\n",
    "src_enc, tokens = encoder._encode(\n",
    "    input_ids=sample[\"action_desc\"][\"ids\"].cuda(),\n",
    "    attn_mask=sample[\"action_desc\"][\"mask\"].cuda(),\n",
    "    token_type_ids=sample[\"action_desc\"][\"token_type_ids\"].cuda(),\n",
    "    imgs=sample[\"in_state\"].cuda()\n",
    ")\n",
    "\n",
    "src_enc.shape, tokens.shape"
   ]
  },
  {
   "cell_type": "code",
   "execution_count": 207,
   "id": "59c4bf9c-28e7-4034-815e-cdea7826c2ef",
   "metadata": {},
   "outputs": [
    {
     "name": "stdout",
     "output_type": "stream",
     "text": [
      "CPU times: user 185 ms, sys: 53.8 ms, total: 239 ms\n",
      "Wall time: 311 ms\n"
     ]
    },
    {
     "data": {
      "text/plain": [
       "torch.Size([8, 48, 512])"
      ]
     },
     "execution_count": 207,
     "metadata": {},
     "output_type": "execute_result"
    }
   ],
   "source": [
    "%%time\n",
    "\n",
    "src_enc, tokenized_inputs = encoder(\n",
    "    input_ids=sample[\"action_desc\"][\"ids\"].cuda(),\n",
    "    attn_mask=sample[\"action_desc\"][\"mask\"].cuda(),\n",
    "    token_type_ids=sample[\"action_desc\"][\"token_type_ids\"].cuda(),\n",
    "    imgs=sample[\"in_state\"].cuda()\n",
    ")\n",
    "\n",
    "tokenized_inputs.shape, tokenized_inputs.device"
   ]
  },
  {
   "cell_type": "markdown",
   "id": "029e620f-5541-4a49-acdf-43ec4b3cce02",
   "metadata": {},
   "source": [
    "### Decoder"
   ]
  },
  {
   "cell_type": "code",
   "execution_count": 239,
   "id": "113b0f75-f651-49bb-bf86-f8a6e7ed8ec1",
   "metadata": {},
   "outputs": [],
   "source": [
    "pos_encoding = PositionalEncoder().cuda()"
   ]
  },
  {
   "cell_type": "code",
   "execution_count": 240,
   "id": "4234188a-1349-4007-998a-ef75ab9e0bf4",
   "metadata": {},
   "outputs": [
    {
     "name": "stdout",
     "output_type": "stream",
     "text": [
      "torch.Size([8, 48, 512])\n"
     ]
    }
   ],
   "source": [
    "pos_enc = pos_encoding(tokenized_inputs)\n",
    "print(pos_enc.shape)\n",
    "\n",
    "learned_tokens = tokenized_inputs + pos_enc"
   ]
  },
  {
   "cell_type": "code",
   "execution_count": 248,
   "id": "282610d7-fecb-4a9f-b63b-2dfb7db52624",
   "metadata": {},
   "outputs": [
    {
     "data": {
      "text/plain": [
       "torch.Size([48, 48])"
      ]
     },
     "execution_count": 248,
     "metadata": {},
     "output_type": "execute_result"
    }
   ],
   "source": [
    "attn_mask = generate_causal_attention_mask()\n",
    "attn_mask.shape"
   ]
  },
  {
   "cell_type": "code",
   "execution_count": null,
   "id": "6e11506d-24e5-4b3f-b027-595874487e95",
   "metadata": {},
   "outputs": [],
   "source": []
  },
  {
   "cell_type": "markdown",
   "id": "4ce2c336-d441-4f0d-a879-e4337d2abc7e",
   "metadata": {
    "tags": []
   },
   "source": [
    "#### Transformer Decoder"
   ]
  },
  {
   "cell_type": "markdown",
   "id": "998a4574-0dde-433d-8a5d-f1a76bf4c54d",
   "metadata": {},
   "source": [
    "#### Cross Attention Layer"
   ]
  },
  {
   "cell_type": "code",
   "execution_count": 340,
   "id": "0d496107-d853-4e1b-bbfc-651fecdb28ed",
   "metadata": {},
   "outputs": [],
   "source": [
    "class CrossAttention(nn.Module):\n",
    "    def __init__(self, embed_dim, num_heads, dropout_rate):\n",
    "        super(CrossAttention, self).__init__()\n",
    "        \n",
    "        self.inf = 1e9\n",
    "        self.embed_dim = embed_dim\n",
    "        self.num_heads = num_heads\n",
    "        self.d_k = self.embed_dim // self.num_heads\n",
    "        \n",
    "        # Linear transformations for queries, keys, and values for input and output sequences\n",
    "        self.w_q_input = nn.Linear(embed_dim, embed_dim, bias=False)\n",
    "        self.w_k_input = nn.Linear(embed_dim, embed_dim, bias=False)\n",
    "        self.w_v_input = nn.Linear(embed_dim, embed_dim, bias=False)\n",
    "        self.w_q_output = nn.Linear(embed_dim, embed_dim, bias=False)\n",
    "        self.w_k_output = nn.Linear(embed_dim, embed_dim, bias=False)\n",
    "        self.w_v_output = nn.Linear(embed_dim, embed_dim, bias=False)\n",
    "\n",
    "        self.dropout = nn.Dropout(dropout_rate)\n",
    "        self._softmax = nn.Softmax(dim=-1)\n",
    "\n",
    "    def forward(self, input_seq, output_seq):\n",
    "        input_shape = input_seq.shape\n",
    "        output_shape = output_seq.shape\n",
    "\n",
    "        # Linear transformations + split into num_heads for both input and output sequences\n",
    "        q_input = self.w_q_input(input_seq).view(input_shape[0], -1, self.num_heads, self.d_k)\n",
    "        k_input = self.w_k_input(input_seq).view(input_shape[0], -1, self.num_heads, self.d_k)\n",
    "        v_input = self.w_v_input(input_seq).view(input_shape[0], -1, self.num_heads, self.d_k)\n",
    "        q_output = self.w_q_output(output_seq).view(output_shape[0], -1, self.num_heads, self.d_k)\n",
    "        k_output = self.w_k_output(output_seq).view(output_shape[0], -1, self.num_heads, self.d_k)\n",
    "        v_output = self.w_v_output(output_seq).view(output_shape[0], -1, self.num_heads, self.d_k)\n",
    "\n",
    "        # Transpose dimensions for input and output sequences\n",
    "        q_input = q_input.transpose(1, 2)\n",
    "        k_input = k_input.transpose(1, 2)\n",
    "        v_input = v_input.transpose(1, 2)\n",
    "        q_output = q_output.transpose(1, 2)\n",
    "        k_output = k_output.transpose(1, 2)\n",
    "        v_output = v_output.transpose(1, 2)\n",
    "\n",
    "        # Calculate cross-attention scores\n",
    "        attn_scores = torch.matmul(q_output, k_input.transpose(-2, -1))  # (B, num_heads, L_output, L_input)\n",
    "        attn_scores = attn_scores / math.sqrt(self.embed_dim)\n",
    "\n",
    "        # Softmax\n",
    "        attn_W = self._softmax(attn_scores)\n",
    "        attn_W = self.dropout(attn_W)\n",
    "\n",
    "        # Calculate cross-attention values\n",
    "        attn_values = torch.matmul(attn_W, v_input)  # (B, num_heads, L_output, embed_dim)\n",
    "\n",
    "        return attn_values, attn_W"
   ]
  },
  {
   "cell_type": "code",
   "execution_count": 332,
   "id": "42e36a9c-e3ec-4623-8999-0183764bde42",
   "metadata": {},
   "outputs": [],
   "source": [
    "input_seq = torch.randn(3, 10, 512) \n",
    "output_seq = torch.randn(3, 12, 512)  \n"
   ]
  },
  {
   "cell_type": "code",
   "execution_count": 341,
   "id": "ca69d5f6-a9b8-4694-8641-e3dbdfaf6102",
   "metadata": {},
   "outputs": [
    {
     "data": {
      "text/plain": [
       "(torch.Size([3, 4, 12, 128]), torch.Size([3, 4, 12, 10]))"
      ]
     },
     "execution_count": 341,
     "metadata": {},
     "output_type": "execute_result"
    }
   ],
   "source": [
    "num_heads = 4\n",
    "cross_attention = CrossAttention(embed_dim=512, num_heads=num_heads, dropout_rate=0.1)\n",
    "cross_attention.eval()\n",
    "\n",
    "attention_v, attention_w = cross_attention(input_seq, output_seq)\n",
    "attention_v.shape, attention_w.shape"
   ]
  },
  {
   "cell_type": "markdown",
   "id": "da189f62-b8fd-4688-83f6-870d4bcb51ca",
   "metadata": {},
   "source": [
    "#### Plot Cross attention"
   ]
  },
  {
   "cell_type": "code",
   "execution_count": 342,
   "id": "782318f8-4fea-43eb-b30d-b6e3af2ae026",
   "metadata": {},
   "outputs": [
    {
     "data": {
      "image/png": "[encoded data removed]",
      "text/plain": [
       "<Figure size 1500x500 with 4 Axes>"
      ]
     },
     "metadata": {},
     "output_type": "display_data"
    }
   ],
   "source": [
    "fig, axes = pyplot.subplots(1, num_heads, figsize=(15, 5))\n",
    "for head_idx in range(num_heads):\n",
    "    attention_weights_example_head = attention_w[example_idx, head_idx].cpu().detach().numpy()\n",
    "    ax = axes[head_idx]\n",
    "    ax.imshow(attention_weights_example_head, cmap='viridis')\n",
    "    ax.set_title(f'Head {head_idx + 1}')\n",
    "pyplot.show()"
   ]
  },
  {
   "cell_type": "code",
   "execution_count": null,
   "id": "cc2ef82d-0772-4576-ad9f-90f9f3c1d0ac",
   "metadata": {},
   "outputs": [],
   "source": []
  },
  {
   "cell_type": "code",
   "execution_count": null,
   "id": "56bd8cb6-34d5-44a3-8239-2e3d1a2eed27",
   "metadata": {},
   "outputs": [],
   "source": []
  },
  {
   "cell_type": "code",
   "execution_count": 278,
   "id": "9ed6e737-6829-499b-adf5-a4424f253444",
   "metadata": {},
   "outputs": [],
   "source": [
    "class TransformerDecoderLayer(nn.Module):\n",
    "    def __init__(\n",
    "        self, \n",
    "        d_model:int=config.D_MODEL, \n",
    "        nhead:int=config.N_HEADS, \n",
    "        dim_feedforward:int=config.D_FF, \n",
    "        dropout:float=config.DECODER_DROPOUT_RATE\n",
    "    ):\n",
    "        super().__init__()\n",
    "\n",
    "        # Multi-head self-attention\n",
    "        self.self_attn = MultiHeadAttention()\n",
    "        \n",
    "        # Layer normalization 1\n",
    "        self.norm1 = LayerNormalization()\n",
    "        \n",
    "        self.multihead_attn = MultiHeadAttention()\n",
    "\n",
    "        # Layer normalization 2\n",
    "        self.norm2 = LayerNormalization()\n",
    "        \n",
    "        # Position-wise feed-forward network\n",
    "        self.ff = nn.Sequential(\n",
    "            nn.Linear(d_model, dim_feedforward),\n",
    "            nn.GELU(),\n",
    "            nn.Linear(dim_feedforward, d_model)\n",
    "        )\n",
    "        \n",
    "        # Layer normalization after feed-forward\n",
    "        self.norm3 = nn.LayerNorm(d_model)\n",
    "        \n",
    "        # Dropout\n",
    "        self.dropout = nn.Dropout(dropout)\n",
    "\n",
    "    def forward(\n",
    "        self, \n",
    "        inp:torch.Tensor, \n",
    "        mask:torch.Tensor=None, \n",
    "        return_weights:bool=False\n",
    "    ):\n",
    "        \n",
    "        # Layer normalization 1\n",
    "        inp = self.norm1(inp)\n",
    "        \n",
    "        # Multi-head self-attention\n",
    "        attn_W = None\n",
    "        self_attn_output = self.self_attn(inp, inp, inp, mask=mask)\n",
    "        if return_weights:\n",
    "            self_attn_output, attn_W = self_attn_output\n",
    "        \n",
    "        # Apply dropout and add the residual connection\n",
    "        inp = inp + self.dropout(self_attn_output)\n",
    "        \n",
    "        # Layer normalization 2\n",
    "        out = self.norm2(inp)\n",
    "        \n",
    "        # Apply FF\n",
    "        ff_out = self.dropout(self.ff(out))\n",
    "        \n",
    "        # Add the residual connection\n",
    "        inp = inp + ff_out\n",
    "\n",
    "        return inp, attn_W\n",
    "    \n",
    "\n",
    "class TransformerDecoder(nn.Module):\n",
    "    def __init__(\n",
    "        self, \n",
    "        num_layers:int=config.N_DECODER_LAYERS\n",
    "    ):\n",
    "        super().__init__()\n",
    "        \n",
    "        self.num_layers = num_layers\n",
    "        # self.target_embedding = nn.Embedding(\n",
    "        #     num_embeddings=config.TARGET_VOCAB_SIZE, \n",
    "        #     embedding_dim=config.D_MODEL, \n",
    "        #     padding_idx=config.TARGETS_MAPPING[\"[PAD]\"]\n",
    "        # )\n",
    "        \n",
    "        # token embedding\n",
    "        self.token_embedding = nn.Linear(in_features=config.NUM_TOKENIZED_INPUTS, out_features=config.D_FF)\n",
    "               \n",
    "        # transformer layers\n",
    "        self.layers = nn.ModuleList([\n",
    "            TransformerDecoderLayer()\n",
    "            for _ in range(num_layers)\n",
    "        ])\n",
    "        \n",
    "        self._initialize()\n",
    "    \n",
    "    def _initialize(self):\n",
    "        \n",
    "        # Glorot / fan_avg. Initialization\n",
    "        for p in self.parameters():\n",
    "            if p.dim() > 1:\n",
    "                nn.init.xavier_uniform(p)\n",
    "            \n",
    "    def forward(\n",
    "        self, \n",
    "        inp:torch.Tensor, \n",
    "        mask:torch.Tensor=None, \n",
    "    ):\n",
    "        \n",
    "        B, T, D = inp.shape\n",
    "        \n",
    "        # positions = torch.eye(T).repeat(B, 1, 1)\n",
    "        \n",
    "        # embed tokens\n",
    "        inp = self.token_embedding(inp)\n",
    "        # inp = inp + self.position_embedding(positions) # positions to be added \n",
    "        \n",
    "        # run attention self-attention modules\n",
    "        attn_Ws = []\n",
    "        for layer in self.layers:\n",
    "            inp, attn_W = layer(inp, mask=mask)\n",
    "            if attn_W is not None:\n",
    "                attn_Ws.append(attn_W)\n",
    "                \n",
    "        return inp, attn_Ws"
   ]
  },
  {
   "cell_type": "markdown",
   "id": "3ae3f321-d559-4e51-be2f-49145979574e",
   "metadata": {},
   "source": [
    "#### Test MultiHeadAttention Layer"
   ]
  },
  {
   "cell_type": "code",
   "execution_count": 318,
   "id": "8e1ff1f4-1702-476f-bc0a-0e9c73b7c3d9",
   "metadata": {},
   "outputs": [
    {
     "name": "stdout",
     "output_type": "stream",
     "text": [
      "MultiHeadAttention(\n",
      "  (w_q): Linear(in_features=512, out_features=512, bias=False)\n",
      "  (w_k): Linear(in_features=512, out_features=512, bias=False)\n",
      "  (w_v): Linear(in_features=512, out_features=512, bias=False)\n",
      "  (dropout): Dropout(p=0.1, inplace=False)\n",
      "  (_softmax): Softmax(dim=-1)\n",
      "  (output_layer): Linear(in_features=512, out_features=512, bias=True)\n",
      ")\n"
     ]
    },
    {
     "data": {
      "text/plain": [
       "=================================================================\n",
       "Layer (type:depth-idx)                   Param #\n",
       "=================================================================\n",
       "MultiHeadAttention                       --\n",
       "├─Linear: 1-1                            262,144\n",
       "├─Linear: 1-2                            262,144\n",
       "├─Linear: 1-3                            262,144\n",
       "├─Dropout: 1-4                           --\n",
       "├─Softmax: 1-5                           --\n",
       "├─Linear: 1-6                            262,656\n",
       "=================================================================\n",
       "Total params: 1,049,088\n",
       "Trainable params: 1,049,088\n",
       "Non-trainable params: 0\n",
       "================================================================="
      ]
     },
     "execution_count": 318,
     "metadata": {},
     "output_type": "execute_result"
    }
   ],
   "source": [
    "mha = MultiHeadAttention().cuda()\n",
    "print(mha)\n",
    "summary(mha)"
   ]
  },
  {
   "cell_type": "code",
   "execution_count": 319,
   "id": "04796d95-349d-4d81-817a-7f23d8f15541",
   "metadata": {},
   "outputs": [
    {
     "name": "stdout",
     "output_type": "stream",
     "text": [
      "q: torch.Size([8, 48, 512]) - k: torch.Size([8, 48, 512]) - v: torch.Size([8, 48, 512]) \n"
     ]
    },
    {
     "data": {
      "text/plain": [
       "(torch.Size([8, 48, 512]), torch.Size([8, 8, 48, 48]))"
      ]
     },
     "execution_count": 319,
     "metadata": {},
     "output_type": "execute_result"
    }
   ],
   "source": [
    "mem, attn_w = mha(q=learned_tokens, k=learned_tokens, v=learned_tokens, return_weights=True)\n",
    "\n",
    "mem.shape, attn_w.shape"
   ]
  },
  {
   "cell_type": "code",
   "execution_count": 320,
   "id": "9a90db1a-ba0d-44c1-bd01-09f08133fb4a",
   "metadata": {},
   "outputs": [
    {
     "data": {
      "image/png": "[encoded data removed]",
      "text/plain": [
       "<Figure size 1500x500 with 8 Axes>"
      ]
     },
     "metadata": {},
     "output_type": "display_data"
    },
    {
     "data": {
      "image/png": "[encoded data removed]",
      "text/plain": [
       "<Figure size 1500x500 with 8 Axes>"
      ]
     },
     "metadata": {},
     "output_type": "display_data"
    },
    {
     "data": {
      "image/png": "[encoded data removed]",
      "text/plain": [
       "<Figure size 1500x500 with 8 Axes>"
      ]
     },
     "metadata": {},
     "output_type": "display_data"
    }
   ],
   "source": [
    "plot_self_attention(attn_w)\n",
    "plot_self_attention(attn_w, example_idx=2)\n",
    "plot_self_attention(attn_w, example_idx=4)"
   ]
  },
  {
   "cell_type": "code",
   "execution_count": null,
   "id": "dd136fd2-05dc-4569-8f29-626562bc10f0",
   "metadata": {},
   "outputs": [],
   "source": []
  },
  {
   "cell_type": "code",
   "execution_count": null,
   "id": "b68a8a60-29d5-4103-8083-a83daa383ccf",
   "metadata": {},
   "outputs": [],
   "source": []
  },
  {
   "cell_type": "markdown",
   "id": "210efe9b-24f9-4e1a-a115-29347d9849eb",
   "metadata": {
    "jp-MarkdownHeadingCollapsed": true,
    "tags": []
   },
   "source": [
    "#### Test Transformer decoder"
   ]
  },
  {
   "cell_type": "code",
   "execution_count": 257,
   "id": "a5ebf21e-d456-4f85-bb0c-fd1056c517f3",
   "metadata": {
    "tags": []
   },
   "outputs": [
    {
     "data": {
      "text/plain": [
       "=================================================================\n",
       "Layer (type:depth-idx)                   Param #\n",
       "=================================================================\n",
       "TransformerDecoder                       --\n",
       "├─Linear: 1-1                            25,088\n",
       "├─ModuleList: 1-2                        --\n",
       "│    └─TransformerDecoderLayer: 2-1      --\n",
       "│    │    └─MultiHeadAttention: 3-1      1,049,088\n",
       "│    │    └─LayerNormalization: 3-2      1,024\n",
       "│    │    └─MultiHeadAttention: 3-3      1,049,088\n",
       "│    │    └─LayerNormalization: 3-4      1,024\n",
       "│    │    └─Sequential: 3-5              525,312\n",
       "│    │    └─LayerNorm: 3-6               1,024\n",
       "│    │    └─Dropout: 3-7                 --\n",
       "│    └─TransformerDecoderLayer: 2-2      --\n",
       "│    │    └─MultiHeadAttention: 3-8      1,049,088\n",
       "│    │    └─LayerNormalization: 3-9      1,024\n",
       "│    │    └─MultiHeadAttention: 3-10     1,049,088\n",
       "│    │    └─LayerNormalization: 3-11     1,024\n",
       "│    │    └─Sequential: 3-12             525,312\n",
       "│    │    └─LayerNorm: 3-13              1,024\n",
       "│    │    └─Dropout: 3-14                --\n",
       "│    └─TransformerDecoderLayer: 2-3      --\n",
       "│    │    └─MultiHeadAttention: 3-15     1,049,088\n",
       "│    │    └─LayerNormalization: 3-16     1,024\n",
       "│    │    └─MultiHeadAttention: 3-17     1,049,088\n",
       "│    │    └─LayerNormalization: 3-18     1,024\n",
       "│    │    └─Sequential: 3-19             525,312\n",
       "│    │    └─LayerNorm: 3-20              1,024\n",
       "│    │    └─Dropout: 3-21                --\n",
       "│    └─TransformerDecoderLayer: 2-4      --\n",
       "│    │    └─MultiHeadAttention: 3-22     1,049,088\n",
       "│    │    └─LayerNormalization: 3-23     1,024\n",
       "│    │    └─MultiHeadAttention: 3-24     1,049,088\n",
       "│    │    └─LayerNormalization: 3-25     1,024\n",
       "│    │    └─Sequential: 3-26             525,312\n",
       "│    │    └─LayerNorm: 3-27              1,024\n",
       "│    │    └─Dropout: 3-28                --\n",
       "│    └─TransformerDecoderLayer: 2-5      --\n",
       "│    │    └─MultiHeadAttention: 3-29     1,049,088\n",
       "│    │    └─LayerNormalization: 3-30     1,024\n",
       "│    │    └─MultiHeadAttention: 3-31     1,049,088\n",
       "│    │    └─LayerNormalization: 3-32     1,024\n",
       "│    │    └─Sequential: 3-33             525,312\n",
       "│    │    └─LayerNorm: 3-34              1,024\n",
       "│    │    └─Dropout: 3-35                --\n",
       "│    └─TransformerDecoderLayer: 2-6      --\n",
       "│    │    └─MultiHeadAttention: 3-36     1,049,088\n",
       "│    │    └─LayerNormalization: 3-37     1,024\n",
       "│    │    └─MultiHeadAttention: 3-38     1,049,088\n",
       "│    │    └─LayerNormalization: 3-39     1,024\n",
       "│    │    └─Sequential: 3-40             525,312\n",
       "│    │    └─LayerNorm: 3-41              1,024\n",
       "│    │    └─Dropout: 3-42                --\n",
       "=================================================================\n",
       "Total params: 15,784,448\n",
       "Trainable params: 15,784,448\n",
       "Non-trainable params: 0\n",
       "================================================================="
      ]
     },
     "execution_count": 257,
     "metadata": {},
     "output_type": "execute_result"
    }
   ],
   "source": [
    "dec = TransformerDecoder()\n",
    "summary(model=dec)"
   ]
  },
  {
   "cell_type": "code",
   "execution_count": null,
   "id": "4eab8990-184b-4854-980e-ef4887300b2d",
   "metadata": {},
   "outputs": [],
   "source": [
    "dec_out = dec(\n",
    "    src=src_enc, \n",
    "    encoder_outputs=tokens,\n",
    "    y=None #sample[\"motor_cmd\"][\"ids\"].cuda()\n",
    ")"
   ]
  },
  {
   "cell_type": "code",
   "execution_count": null,
   "id": "3f252ad6-5c3a-44ce-ab3d-4d4d75d1960a",
   "metadata": {},
   "outputs": [],
   "source": [
    "src_enc.shape"
   ]
  },
  {
   "cell_type": "markdown",
   "id": "2e365900-13ff-4dd8-b789-6f45b15c0564",
   "metadata": {
    "jp-MarkdownHeadingCollapsed": true,
    "tags": []
   },
   "source": [
    "#### Action Generator"
   ]
  },
  {
   "cell_type": "code",
   "execution_count": 251,
   "id": "929f0bc4-3be4-4b84-a52a-7235e9af947e",
   "metadata": {},
   "outputs": [],
   "source": [
    "class ActionGenerator(nn.Module):\n",
    "    def __init__(\n",
    "        self,\n",
    "        d_model:int=config.D_MODEL, \n",
    "        vocab_size:int=len(config.TARGETS),\n",
    "        action_bins:int=config.ACTION_BINS,\n",
    "        num_actons:int=config.NUM_ACTION_SLOTS\n",
    "    ):\n",
    "        super().__init__()\n",
    "        \n",
    "        # attrs\n",
    "        self.action_bins = action_bins\n",
    "        \n",
    "        # layers\n",
    "        self.norm = LayerNormalization()\n",
    "        self.proj = nn.Linear(in_features=d_model, out_features=vocab_size)\n",
    "        self._softmax = nn.LogSoftmax(dim=-1)\n",
    "\n",
    "    def forward(self, tokens):\n",
    "        \n",
    "        out = self.norm(tokens)\n",
    "        out = self.proj(out)\n",
    "        out = self._softmax(out)\n",
    "        \n",
    "        return out\n",
    "    "
   ]
  },
  {
   "cell_type": "code",
   "execution_count": 252,
   "id": "a9fef7ba-432f-448c-bac6-c3651e1f1203",
   "metadata": {},
   "outputs": [
    {
     "name": "stdout",
     "output_type": "stream",
     "text": [
      "ActionGenerator(\n",
      "  (norm): LayerNormalization(\n",
      "    (layer): LayerNorm((512,), eps=1e-06, elementwise_affine=True)\n",
      "  )\n",
      "  (proj): Linear(in_features=512, out_features=52, bias=True)\n",
      "  (_softmax): LogSoftmax(dim=-1)\n",
      ")\n"
     ]
    },
    {
     "data": {
      "text/plain": [
       "=================================================================\n",
       "Layer (type:depth-idx)                   Param #\n",
       "=================================================================\n",
       "ActionGenerator                          --\n",
       "├─LayerNormalization: 1-1                --\n",
       "│    └─LayerNorm: 2-1                    1,024\n",
       "├─Linear: 1-2                            26,676\n",
       "├─LogSoftmax: 1-3                        --\n",
       "=================================================================\n",
       "Total params: 27,700\n",
       "Trainable params: 27,700\n",
       "Non-trainable params: 0\n",
       "================================================================="
      ]
     },
     "execution_count": 252,
     "metadata": {},
     "output_type": "execute_result"
    }
   ],
   "source": [
    "generator = ActionGenerator().cuda()\n",
    "print(generator)\n",
    "summary(generator)"
   ]
  },
  {
   "cell_type": "code",
   "execution_count": null,
   "id": "1013f117-e5e3-4b2c-b14b-d2260e40f351",
   "metadata": {},
   "outputs": [],
   "source": [
    "N, C, T = tokens.shape\n",
    "\n",
    "N, C, T"
   ]
  },
  {
   "cell_type": "code",
   "execution_count": null,
   "id": "ce3a76ea-ae3b-403a-b8e2-a817f50498fa",
   "metadata": {},
   "outputs": [],
   "source": [
    "actions = generator(tokens.view(N, T, C))\n",
    "\n",
    "actions.shape"
   ]
  },
  {
   "cell_type": "markdown",
   "id": "bb14293b-b031-477b-a643-3811927b1bb1",
   "metadata": {
    "jp-MarkdownHeadingCollapsed": true,
    "tags": []
   },
   "source": [
    "### RT-1 Decoder"
   ]
  },
  {
   "cell_type": "code",
   "execution_count": null,
   "id": "ba0ec749-1fbf-4072-b191-b6e3ad2f243f",
   "metadata": {},
   "outputs": [],
   "source": [
    "class RT1Decoder(nn.Module):\n",
    "    def __init__(self):\n",
    "        super().__init__()\n",
    "        \n",
    "        self.positional_encoder = PositionalEncoder()\n",
    "        self.transformer = TransformerDecoder()\n",
    "        self.action_generator = ActionGenerator()\n",
    "        \n",
    "    def _decode_predictions(self, preds, method:str=\"greedy\"):\n",
    "        \"\"\"\n",
    "            Args:\n",
    "                preds: predictions (logits)\n",
    "                method: decoding strategy. one of [\"greedy\", \"beam-search\"]\n",
    "                \n",
    "            Returns:\n",
    "                actions: decoded predictions as sequence of actions.\n",
    "            \n",
    "        \"\"\"\n",
    "        pass\n",
    "    \n",
    "    def forward(self, learned_tokens):\n",
    "        \n",
    "        # positional encoding\n",
    "        pos_enc = self.positional_encoder(imgs)\n",
    "        \n",
    "        # Generate attention mask\n",
    "        attention_mask = generate_causal_attention_mask()\n",
    "        # Add positional encoding\n",
    "        pos_enc = pos_encoding(learned_tokens)\n",
    "        # print(pos_enc.shape)\n",
    "        learned_tokens = learned_tokens + pos_enc\n",
    "        # Attend to learned tokens\n",
    "        attended_tokens = self.transformer(learned_tokens, mask = ~attention_mask)\n",
    "        out = reduce(attended_tokens, 'b (f n) d -> b f d', 'mean', f = (config.NUM_HISTORY + 1))\n",
    "        \n",
    "        # generate outputs\n",
    "        logits = self.action_generator(out)\n",
    "        \n",
    "        return logits"
   ]
  },
  {
   "cell_type": "code",
   "execution_count": null,
   "id": "86f893fa-9324-4244-aad2-a66db2243700",
   "metadata": {},
   "outputs": [],
   "source": []
  },
  {
   "cell_type": "markdown",
   "id": "3cde5f94-8a3c-458d-94da-9655d7ddb2d6",
   "metadata": {
    "jp-MarkdownHeadingCollapsed": true,
    "tags": []
   },
   "source": [
    "### RT-1 "
   ]
  },
  {
   "cell_type": "code",
   "execution_count": null,
   "id": "f033aac5-7312-47d8-8ff8-8044ebb2fd8f",
   "metadata": {},
   "outputs": [],
   "source": [
    "class RT1(pl.LightningModule):\n",
    "    def __init__(\n",
    "        self\n",
    "    ):\n",
    "        super().__init__()\n",
    "        self.encoder = RT1Encder()\n",
    "        self.decoder = RT1Decoder()\n",
    "        \n",
    "    def forward(self, input_ids, attn_mask, token_type_ids, imgs):\n",
    "        \n",
    "        tokens = self.encode(input_ids, attn_mask, token_type_ids, imgs)\n",
    "        out = self.decode(tokens, )\n",
    "    \n",
    "    def encode(self, input_ids, attn_mask, token_type_ids, imgs):\n",
    "        return self.encoder(input_ids, attn_mask, token_type_ids, imgs)\n",
    "    \n",
    "    def decode(self, enc_outputs, x_mask, y, y_mask):\n",
    "        return self.decoder(y, enc_outputs, src_mask, tgt_mask)\n",
    "    \n",
    "    def configure_optimizers(self):\n",
    "        pass\n",
    "    \n",
    "    def training_step(self, batch, batch_idx):\n",
    "        pass\n",
    "    \n",
    "    def validation_step(self, batch, batch_idx):\n",
    "        pass\n",
    "    \n",
    "    def test_step(self, batch, batch_idx):\n",
    "        pass\n",
    "    \n",
    "    def compute_loss(self, outputs, targets):\n",
    "        pass"
   ]
  },
  {
   "cell_type": "code",
   "execution_count": null,
   "id": "715fd461-7028-49de-bcb9-e8464433f548",
   "metadata": {},
   "outputs": [],
   "source": []
  },
  {
   "cell_type": "code",
   "execution_count": null,
   "id": "4a346bbe-d174-40a9-a807-e2cd63665ec6",
   "metadata": {},
   "outputs": [],
   "source": []
  },
  {
   "cell_type": "code",
   "execution_count": null,
   "id": "3e2bebcb-a94a-4272-b68d-5eeee9dbd638",
   "metadata": {},
   "outputs": [],
   "source": []
  }
 ],
 "metadata": {
  "kernelspec": {
   "display_name": "SMF-BE",
   "language": "python",
   "name": "smf-be"
  },
  "language_info": {
   "codemirror_mode": {
    "name": "ipython",
    "version": 3
   },
   "file_extension": ".py",
   "mimetype": "text/x-python",
   "name": "python",
   "nbconvert_exporter": "python",
   "pygments_lexer": "ipython3",
   "version": "3.10.4"
  }
 },
 "nbformat": 4,
 "nbformat_minor": 5
}
