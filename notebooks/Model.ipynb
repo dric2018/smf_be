{
 "cells": [
  {
   "cell_type": "markdown",
   "id": "11449575-6314-4708-9193-b279891e836c",
   "metadata": {},
   "source": [
    "## Device check"
   ]
  },
  {
   "cell_type": "code",
   "execution_count": 1,
   "id": "2f302c0d-40f1-4bac-bf57-df54c89e72f1",
   "metadata": {},
   "outputs": [
    {
     "name": "stdout",
     "output_type": "stream",
     "text": [
      "Thu Oct 26 02:41:33 2023       \n",
      "+-----------------------------------------------------------------------------+\n",
      "| NVIDIA-SMI 525.60.13    Driver Version: 525.60.13    CUDA Version: 12.0     |\n",
      "|-------------------------------+----------------------+----------------------+\n",
      "| GPU  Name        Persistence-M| Bus-Id        Disp.A | Volatile Uncorr. ECC |\n",
      "| Fan  Temp  Perf  Pwr:Usage/Cap|         Memory-Usage | GPU-Util  Compute M. |\n",
      "|                               |                      |               MIG M. |\n",
      "|===============================+======================+======================|\n",
      "|   0  Tesla V100-SXM2...  On   | 00000000:B2:00.0 Off |                    0 |\n",
      "| N/A   30C    P0    39W / 300W |      0MiB / 32768MiB |      0%      Default |\n",
      "|                               |                      |                  N/A |\n",
      "+-------------------------------+----------------------+----------------------+\n",
      "                                                                               \n",
      "+-----------------------------------------------------------------------------+\n",
      "| Processes:                                                                  |\n",
      "|  GPU   GI   CI        PID   Type   Process name                  GPU Memory |\n",
      "|        ID   ID                                                   Usage      |\n",
      "|=============================================================================|\n",
      "|  No running processes found                                                 |\n",
      "+-----------------------------------------------------------------------------+\n"
     ]
    }
   ],
   "source": [
    "!nvidia-smi"
   ]
  },
  {
   "cell_type": "markdown",
   "id": "c33ee382-8c34-4130-99d3-80d5abdfbf1a",
   "metadata": {},
   "source": [
    "## Packages"
   ]
  },
  {
   "cell_type": "code",
   "execution_count": 2,
   "id": "5d150586-d672-4999-9a7f-743a7d0d3854",
   "metadata": {},
   "outputs": [],
   "source": [
    "import warnings\n",
    "warnings.filterwarnings(action=\"ignore\")"
   ]
  },
  {
   "cell_type": "code",
   "execution_count": 3,
   "id": "e2664559-8789-4785-83d6-26327fe5ed23",
   "metadata": {},
   "outputs": [],
   "source": [
    "import albumentations as A\n",
    "from albumentations.pytorch import ToTensorV2\n",
    "\n",
    "import lightning.pytorch as pl\n",
    "import logging\n",
    "logging.basicConfig(level=\"INFO\")\n",
    "\n",
    "import math\n",
    "from matplotlib import pyplot\n",
    "\n",
    "import numpy as np\n",
    "\n",
    "import os\n",
    "\n",
    "import pandas as pd\n",
    "from pprint import pprint\n",
    "\n",
    "import sys\n",
    "sys.path.append(\"../src\")\n",
    "\n",
    "import timm\n",
    "from tqdm import tqdm\n",
    "import torch\n",
    "import torch.nn as nn\n",
    "import torch.nn.functional as F\n",
    "from torchinfo import summary"
   ]
  },
  {
   "cell_type": "code",
   "execution_count": 4,
   "id": "b09a35d4-17a4-437a-ad75-cfdbf9215827",
   "metadata": {},
   "outputs": [],
   "source": [
    "os.environ[\"TOKENIZERS_PARALLELISM\"] = \"false\"\n",
    "%load_ext autoreload\n",
    "%autoreload 2"
   ]
  },
  {
   "cell_type": "code",
   "execution_count": 5,
   "id": "5273f979-011c-4122-930a-126665f3c088",
   "metadata": {},
   "outputs": [],
   "source": [
    "from einops import pack, unpack, repeat, reduce, rearrange"
   ]
  },
  {
   "cell_type": "code",
   "execution_count": 71,
   "id": "2ef863cc-4128-49a3-a156-fbdc859a9fd2",
   "metadata": {},
   "outputs": [],
   "source": [
    "import config\n",
    "from dataloader import BEDataset, BEDataModule\n",
    "import token_learner\n",
    "from transformer import PositionalEncoder, MultiHeadSelfAttention, FeedFowardLayer, generate_masks, generate_causal_attention_mask\n",
    "\n",
    "from film_layers import FiLMBlockV2, FiLMEncoder, ResBlockDWConv\n",
    "from rt1 import RT1Encoder\n",
    "from utils.data_utils import History\n",
    "from utils.model_utils import TextEncoder, ImageFeatureExtractor, plot_self_attention\n"
   ]
  },
  {
   "cell_type": "markdown",
   "id": "e425b526-43d7-483b-b3bc-02028bfb4b7b",
   "metadata": {
    "tags": []
   },
   "source": [
    "## Data Module"
   ]
  },
  {
   "cell_type": "code",
   "execution_count": null,
   "id": "9e68541d-e1c2-48df-a18d-c37c9da42002",
   "metadata": {},
   "outputs": [],
   "source": [
    "# csv = pd.read_csv(os.path.join(config.DATASET_PATH, \"train.csv\"))\n",
    "\n",
    "# csv.head()"
   ]
  },
  {
   "cell_type": "code",
   "execution_count": 8,
   "id": "820bb68f-3341-4d6e-9cea-80dbdf2de002",
   "metadata": {},
   "outputs": [
    {
     "name": "stdout",
     "output_type": "stream",
     "text": [
      "Total # examples: 4876\n"
     ]
    },
    {
     "name": "stderr",
     "output_type": "stream",
     "text": [
      "INFO:root:Training on 3915 samples.\n",
      "INFO:root:Validating on 961 samples.\n"
     ]
    }
   ],
   "source": [
    "dm = BEDataModule()\n",
    "dm.setup()"
   ]
  },
  {
   "cell_type": "code",
   "execution_count": null,
   "id": "383eaa10-47d7-4620-928e-8fbcd6889d89",
   "metadata": {},
   "outputs": [],
   "source": [
    "# print(\"=\"*100)\n",
    "# logging.info(\"\\n>> train data loader\")\n",
    "# print(f\"# train batches\\t: {len(dm.train_dataloader())}\")\n",
    "# for data in dm.train_dataloader():\n",
    "#     # pprint(data)\n",
    "#     sample_id, in_state, ad, cmd = data[\"sample_id\"], data[\"in_state\"], data[\"action_desc\"], data[\"motor_cmd\"]\n",
    "#     print(\"In \\t\\t\\t: \", in_state.shape)\n",
    "#     print(\"Action desc \\t\\t: \", ad[\"ids\"].shape)\n",
    "#     print(\"Action desc (len) \\t: \", ad[\"length\"].shape)\n",
    "#     print(\"CMD \\t\\t\\t: \", cmd[\"ids\"].shape)\n",
    "#     print(\"CMD(len) \\t\\t: \", cmd[\"length\"].shape)\n",
    "#     break\n",
    "\n",
    "# print(\"\\nIDs & decided tokens\")\n",
    "# for data in dm.train_dataloader():\n",
    "#     print(data[\"action_desc\"][\"ids\"][0].tolist())\n",
    "#     print(dm.train_ds._decode_inputs(data[\"action_desc\"][\"ids\"][0].tolist()))\n",
    "#     print()\n",
    "#     print(data[\"motor_cmd\"][\"ids\"][0].tolist())\n",
    "#     print(dm.train_ds._decode_outputs(data[\"motor_cmd\"][\"ids\"][0].tolist()))\n",
    "\n",
    "#     break\n",
    "    \n",
    "# print(\"=\"*100)"
   ]
  },
  {
   "cell_type": "markdown",
   "id": "fd6bfcb6-3d67-4d4a-934d-95af834e1a07",
   "metadata": {
    "tags": []
   },
   "source": [
    "## Fetch batch"
   ]
  },
  {
   "cell_type": "code",
   "execution_count": 9,
   "id": "e7c22a7a-16f8-4411-8839-8b724fc29869",
   "metadata": {},
   "outputs": [
    {
     "name": "stdout",
     "output_type": "stream",
     "text": [
      "CPU times: user 1.04 s, sys: 996 ms, total: 2.04 s\n",
      "Wall time: 4.8 s\n"
     ]
    },
    {
     "data": {
      "text/plain": [
       "torch.Size([4, 3, 288, 288])"
      ]
     },
     "execution_count": 9,
     "metadata": {},
     "output_type": "execute_result"
    }
   ],
   "source": [
    "%%time\n",
    "sample = next(iter(dm.train_dataloader()))\n",
    "sample[\"in_state\"].shape"
   ]
  },
  {
   "cell_type": "markdown",
   "id": "59b32ff7-02ee-4fa3-b3b9-7885f558072b",
   "metadata": {},
   "source": [
    "## Model Design"
   ]
  },
  {
   "cell_type": "markdown",
   "id": "52bcf1ad-8562-458b-b07c-226d1ed3dbe0",
   "metadata": {},
   "source": [
    "<!-- ![RT1 model architecture](../../imgs/rt1+.png) -->\n",
    "<center>\n",
    "    <img src=\"../imgs/rt1+.png\" alt=\"RT1 model architecture\" width=\"300\" height=\"400\">\n",
    "\n",
    "<center>"
   ]
  },
  {
   "cell_type": "markdown",
   "id": "130cea30-c012-4a53-a94b-7651270e4c38",
   "metadata": {},
   "source": [
    "### Encoder"
   ]
  },
  {
   "cell_type": "markdown",
   "id": "2c4d547d-b935-42b3-bafa-ded2cddaec51",
   "metadata": {
    "jp-MarkdownHeadingCollapsed": true,
    "tags": []
   },
   "source": [
    "#### Test Text Encoder"
   ]
  },
  {
   "cell_type": "code",
   "execution_count": 27,
   "id": "2cbe10a4-0a68-429f-a18c-dfb4012920ff",
   "metadata": {},
   "outputs": [],
   "source": [
    "# te = TextEncoder(freeze=True).cuda()\n",
    "# summary(model=te, col_names=[\"num_params\", \"trainable\"])"
   ]
  },
  {
   "cell_type": "code",
   "execution_count": null,
   "id": "28ae92bc-9841-4e53-811d-bce73315b39a",
   "metadata": {},
   "outputs": [],
   "source": []
  },
  {
   "cell_type": "code",
   "execution_count": 13,
   "id": "1790e904-591d-4ee3-8ae3-f9ee204dbe31",
   "metadata": {
    "tags": []
   },
   "outputs": [],
   "source": [
    "# emb = te(\n",
    "#     inp_ids=sample[\"action_desc\"][\"ids\"].cuda(),\n",
    "#     mask=sample[\"action_desc\"][\"mask\"].cuda(),\n",
    "#     tok_type_ids=sample[\"action_desc\"][\"token_type_ids\"].cuda()\n",
    "# )\n",
    "\n",
    "# emb.shape"
   ]
  },
  {
   "cell_type": "markdown",
   "id": "491611ae-2f70-404b-b04c-a401bad6fc56",
   "metadata": {
    "jp-MarkdownHeadingCollapsed": true,
    "tags": []
   },
   "source": [
    "#### Test Img Feature Extractor"
   ]
  },
  {
   "cell_type": "code",
   "execution_count": null,
   "id": "d55d73ba-efef-4d32-81cb-520974830c74",
   "metadata": {
    "tags": []
   },
   "outputs": [],
   "source": [
    "# fe = ImageFeatureExtractor(pretrained=True, arch=\"efficientnet_b3\").cuda()\n",
    "\n",
    "# summary(fe, col_names=[\"num_params\", \"trainable\"])"
   ]
  },
  {
   "cell_type": "code",
   "execution_count": null,
   "id": "34e9d6e5-ca31-4b20-8fe1-07412fcb4f33",
   "metadata": {},
   "outputs": [],
   "source": [
    "# img_ftrs = fe(sample[\"in_state\"].cuda())\n",
    "\n",
    "# img_ftrs.shape"
   ]
  },
  {
   "cell_type": "code",
   "execution_count": null,
   "id": "d0654b94-9396-49ca-8708-5018cce9eb70",
   "metadata": {},
   "outputs": [],
   "source": []
  },
  {
   "cell_type": "markdown",
   "id": "beea6fe0-fc93-4c1d-9f7d-ae8194f9bb29",
   "metadata": {
    "jp-MarkdownHeadingCollapsed": true,
    "tags": []
   },
   "source": [
    "#### Test FiLM Block"
   ]
  },
  {
   "cell_type": "code",
   "execution_count": 16,
   "id": "b36b8d53-a51d-4dfd-9cd6-0dabc3e1b614",
   "metadata": {},
   "outputs": [],
   "source": [
    "# film_block = FiLMBlockV2().cuda()\n",
    "# print(film_block)\n",
    "# summary(model=film_block)"
   ]
  },
  {
   "cell_type": "code",
   "execution_count": 17,
   "id": "ab1a5658-8b44-4fd9-8a3e-e2c3f2380864",
   "metadata": {},
   "outputs": [],
   "source": [
    "# text_cond_ftrs = film_block(\n",
    "#     img_features=img_ftrs, \n",
    "#     conditioning=emb\n",
    "# )\n",
    "\n",
    "# text_cond_ftrs.shape"
   ]
  },
  {
   "cell_type": "markdown",
   "id": "15e75562-714a-480f-9b03-be898c3aebd4",
   "metadata": {
    "jp-MarkdownHeadingCollapsed": true,
    "tags": []
   },
   "source": [
    "#### Test Residual FiLM Block"
   ]
  },
  {
   "cell_type": "code",
   "execution_count": 18,
   "id": "2ca31d01-12cd-4fbf-af23-1dbecfe2b4d1",
   "metadata": {},
   "outputs": [],
   "source": [
    "# dw_res = ResBlockDWConv(512, 512).cuda()\n",
    "# summary(model=dw_res)"
   ]
  },
  {
   "cell_type": "code",
   "execution_count": 19,
   "id": "f44cd288-29c5-41ef-be96-72a066bfbeaf",
   "metadata": {},
   "outputs": [],
   "source": [
    "# text_cond_ftrs_res = dw_res(\n",
    "#     img_features=img_ftrs, \n",
    "#     conditioning=emb\n",
    "# )\n",
    "\n",
    "# text_cond_ftrs_res.shape"
   ]
  },
  {
   "cell_type": "markdown",
   "id": "00506f45-07c7-40fc-927c-3e307e91b23f",
   "metadata": {
    "jp-MarkdownHeadingCollapsed": true,
    "tags": []
   },
   "source": [
    "#### Test FiLM Encoder"
   ]
  },
  {
   "cell_type": "code",
   "execution_count": 20,
   "id": "09a904d1-b1ef-40b2-9344-f2580105ee41",
   "metadata": {
    "tags": []
   },
   "outputs": [],
   "source": [
    "# film_encoder = FiLMEncoder(\n",
    "#     arch=\"resnet34\",\n",
    "#     n_res_blocks=6,\n",
    "# ).cuda()\n",
    "\n",
    "# # print(film_encoder)\n",
    "# summary(model=film_encoder)"
   ]
  },
  {
   "cell_type": "code",
   "execution_count": 21,
   "id": "2b70f6a7-c6b5-4743-8ecf-9cfa122dd7ea",
   "metadata": {},
   "outputs": [],
   "source": [
    "# %%time\n",
    "\n",
    "# out = film_encoder(\n",
    "#     x= sample[\"in_state\"].cuda(),\n",
    "#     conditioning= emb\n",
    "# )\n",
    "\n",
    "# out.shape"
   ]
  },
  {
   "cell_type": "markdown",
   "id": "d217cc28-4eb7-4f76-86ee-51dd6ae8f248",
   "metadata": {
    "jp-MarkdownHeadingCollapsed": true,
    "tags": []
   },
   "source": [
    "#### Token Learner"
   ]
  },
  {
   "cell_type": "code",
   "execution_count": 22,
   "id": "8f2da760-c2ee-4ff1-97bd-8859562a484a",
   "metadata": {},
   "outputs": [],
   "source": [
    "# N, C, H_W = out.shape\n",
    "# N, C, H_W"
   ]
  },
  {
   "cell_type": "code",
   "execution_count": 23,
   "id": "cb960649-ad52-4a6f-be9a-279263b0ae0a",
   "metadata": {},
   "outputs": [],
   "source": [
    "# tokL_v11 = token_learner.TokenLearnerModuleV11(feature_shape=(N, H_W, C)).cuda()\n",
    "# print(tokL_v11)\n",
    "# summary(model=tokL_v11)"
   ]
  },
  {
   "cell_type": "code",
   "execution_count": 24,
   "id": "cb43cec1-32e2-4f1d-bb5a-3ba026a57fa4",
   "metadata": {},
   "outputs": [],
   "source": [
    "# learned_tokens = tokL_v11(out.view(N, H_W, C))\n",
    "# learned_tokens.shape"
   ]
  },
  {
   "cell_type": "code",
   "execution_count": null,
   "id": "6e045e3a-4d75-454a-9fdd-c5205f332a2b",
   "metadata": {},
   "outputs": [],
   "source": []
  },
  {
   "cell_type": "code",
   "execution_count": 154,
   "id": "3ad67e60-baf3-449f-83f7-ad5256cbcda3",
   "metadata": {},
   "outputs": [
    {
     "data": {
      "text/plain": [
       "torch.Size([8, 6, 512, 8])"
      ]
     },
     "execution_count": 154,
     "metadata": {},
     "output_type": "execute_result"
    }
   ],
   "source": [
    "tokenized_inputs = torch.empty((B, config.NUM_HISTORY+1, config.D_MODEL, config.NUM_LEARNED_TOKENS))\n",
    "tokenized_inputs.shape"
   ]
  },
  {
   "cell_type": "markdown",
   "id": "21ce81c2-ecfd-49cf-8613-b806d585dfb0",
   "metadata": {
    "jp-MarkdownHeadingCollapsed": true,
    "tags": []
   },
   "source": [
    "#### RT-1 Encoder"
   ]
  },
  {
   "cell_type": "code",
   "execution_count": 35,
   "id": "d56dd9db-abff-4cb9-b8af-b1b68e3e7ced",
   "metadata": {
    "tags": []
   },
   "outputs": [
    {
     "name": "stderr",
     "output_type": "stream",
     "text": [
      "INFO:timm.models._builder:Loading pretrained weights from Hugging Face hub (timm/efficientnet_b3.ra2_in1k)\n",
      "INFO:timm.models._hub:[timm/efficientnet_b3.ra2_in1k] Safe alternative available for 'pytorch_model.bin' (as 'model.safetensors'). Loading weights using safetensors.\n"
     ]
    },
    {
     "data": {
      "text/plain": [
       "==============================================================================================================\n",
       "Layer (type:depth-idx)                                       Param #                   Trainable\n",
       "==============================================================================================================\n",
       "RT1Encoder                                                   --                        Partial\n",
       "├─TextEncoder: 1-1                                           --                        False\n",
       "│    └─BertModel: 2-1                                        --                        False\n",
       "│    │    └─BertEmbeddings: 3-1                              (15,891,456)              False\n",
       "│    │    └─BertEncoder: 3-2                                 (12,609,536)              False\n",
       "│    │    └─BertPooler: 3-3                                  (262,656)                 False\n",
       "│    └─Dropout: 2-2                                          --                        --\n",
       "├─FiLMEncoder: 1-2                                           --                        True\n",
       "│    └─ImageFeatureExtractor: 2-3                            --                        True\n",
       "│    │    └─EfficientNetFeatures: 3-4                        10,103,336                True\n",
       "│    │    └─VisionLanguageHead: 3-5                          197,120                   True\n",
       "│    └─ModuleList: 2-4                                       --                        True\n",
       "│    │    └─ResBlockDWConv: 3-6                              1,056,768                 True\n",
       "│    │    └─ResBlockDWConv: 3-7                              1,056,768                 True\n",
       "│    │    └─ResBlockDWConv: 3-8                              1,056,768                 True\n",
       "│    │    └─ResBlockDWConv: 3-9                              1,056,768                 True\n",
       "│    │    └─ResBlockDWConv: 3-10                             1,056,768                 True\n",
       "│    │    └─ResBlockDWConv: 3-11                             1,056,768                 True\n",
       "├─TokenLearnerModuleV11: 1-3                                 --                        True\n",
       "│    └─LayerNormalization: 2-5                               --                        True\n",
       "│    │    └─LayerNorm: 3-12                                  1,024                     True\n",
       "│    └─FeedFowardLayer: 2-6                                  --                        True\n",
       "│    │    └─Linear: 3-13                                     65,664                    True\n",
       "│    │    └─GELU: 3-14                                       --                        --\n",
       "│    │    └─Linear: 3-15                                     1,032                     True\n",
       "│    │    └─Dropout: 3-16                                    --                        --\n",
       "==============================================================================================================\n",
       "Total params: 45,472,432\n",
       "Trainable params: 16,708,784\n",
       "Non-trainable params: 28,763,648\n",
       "=============================================================================================================="
      ]
     },
     "execution_count": 35,
     "metadata": {},
     "output_type": "execute_result"
    }
   ],
   "source": [
    "encoder = RT1Encoder(\n",
    "    cnn_bacnbone=\"efficientnet_b3\", num_res_blocks=6, freeze_cnn_backbone=False\n",
    ").to(config.DEVICE)\n",
    "\n",
    "summary(model=encoder, col_names=[\"num_params\", \"trainable\"])"
   ]
  },
  {
   "cell_type": "code",
   "execution_count": 36,
   "id": "7405de1c-ea97-4908-aa25-7858478627c0",
   "metadata": {},
   "outputs": [
    {
     "name": "stdout",
     "output_type": "stream",
     "text": [
      "CPU times: user 988 ms, sys: 1.13 s, total: 2.12 s\n",
      "Wall time: 14.9 s\n"
     ]
    },
    {
     "data": {
      "text/plain": [
       "(torch.Size([4, 512]), torch.Size([4, 512, 8]))"
      ]
     },
     "execution_count": 36,
     "metadata": {},
     "output_type": "execute_result"
    }
   ],
   "source": [
    "%%time \n",
    "\n",
    "src_enc, tokens = encoder._encode(\n",
    "    input_ids=sample[\"action_desc\"][\"ids\"].cuda(),\n",
    "    attn_mask=sample[\"action_desc\"][\"mask\"].cuda(),\n",
    "    token_type_ids=sample[\"action_desc\"][\"token_type_ids\"].cuda(),\n",
    "    imgs=sample[\"in_state\"].cuda()\n",
    ")\n",
    "\n",
    "src_enc.shape, tokens.shape"
   ]
  },
  {
   "cell_type": "code",
   "execution_count": 37,
   "id": "59c4bf9c-28e7-4034-815e-cdea7826c2ef",
   "metadata": {},
   "outputs": [
    {
     "name": "stdout",
     "output_type": "stream",
     "text": [
      "CPU times: user 263 ms, sys: 170 ms, total: 433 ms\n",
      "Wall time: 2.48 s\n"
     ]
    },
    {
     "data": {
      "text/plain": [
       "(torch.Size([4, 48, 512]), device(type='cuda', index=0))"
      ]
     },
     "execution_count": 37,
     "metadata": {},
     "output_type": "execute_result"
    }
   ],
   "source": [
    "%%time\n",
    "\n",
    "src_enc, tokenized_inputs = encoder(\n",
    "    input_ids=sample[\"action_desc\"][\"ids\"].cuda(),\n",
    "    attn_mask=sample[\"action_desc\"][\"mask\"].cuda(),\n",
    "    token_type_ids=sample[\"action_desc\"][\"token_type_ids\"].cuda(),\n",
    "    imgs=sample[\"in_state\"].cuda()\n",
    ")\n",
    "\n",
    "tokenized_inputs.shape, tokenized_inputs.device"
   ]
  },
  {
   "cell_type": "markdown",
   "id": "029e620f-5541-4a49-acdf-43ec4b3cce02",
   "metadata": {},
   "source": [
    "### Decoder"
   ]
  },
  {
   "cell_type": "code",
   "execution_count": 38,
   "id": "113b0f75-f651-49bb-bf86-f8a6e7ed8ec1",
   "metadata": {},
   "outputs": [],
   "source": [
    "pos_encoding = PositionalEncoder(seq_len=config.NUM_TOKENIZED_INPUTS).cuda()"
   ]
  },
  {
   "cell_type": "code",
   "execution_count": 39,
   "id": "b15c6175-95d5-4935-b881-a3e2d3aa99d8",
   "metadata": {},
   "outputs": [
    {
     "data": {
      "text/plain": [
       "tensor([0.6933, 0.5674, 0.5251], device='cuda:0', grad_fn=<SliceBackward0>)"
      ]
     },
     "execution_count": 39,
     "metadata": {},
     "output_type": "execute_result"
    }
   ],
   "source": [
    "tokenized_inputs[0, 0][:3]"
   ]
  },
  {
   "cell_type": "code",
   "execution_count": 40,
   "id": "4234188a-1349-4007-998a-ef75ab9e0bf4",
   "metadata": {},
   "outputs": [
    {
     "name": "stdout",
     "output_type": "stream",
     "text": [
      "torch.Size([4, 48, 512])\n"
     ]
    }
   ],
   "source": [
    "pos_enc = pos_encoding(tokenized_inputs)\n",
    "print(pos_enc.shape)\n",
    "\n",
    "learned_tokens = tokenized_inputs + pos_enc"
   ]
  },
  {
   "cell_type": "code",
   "execution_count": 41,
   "id": "646c9b86-81e7-4e9d-b055-c05e16f15143",
   "metadata": {},
   "outputs": [
    {
     "data": {
      "text/plain": [
       "tensor([15.6886, 13.8378, 11.8820], device='cuda:0', grad_fn=<SliceBackward0>)"
      ]
     },
     "execution_count": 41,
     "metadata": {},
     "output_type": "execute_result"
    }
   ],
   "source": [
    "pos_enc[0, 0][:3]"
   ]
  },
  {
   "cell_type": "code",
   "execution_count": 42,
   "id": "56763ee6-7e8d-4ced-a5a4-d8e39a5192ed",
   "metadata": {},
   "outputs": [
    {
     "data": {
      "text/plain": [
       "tensor([16.3819, 14.4052, 12.4072], device='cuda:0', grad_fn=<SliceBackward0>)"
      ]
     },
     "execution_count": 42,
     "metadata": {},
     "output_type": "execute_result"
    }
   ],
   "source": [
    "learned_tokens[0, 0][:3]"
   ]
  },
  {
   "cell_type": "code",
   "execution_count": 43,
   "id": "282610d7-fecb-4a9f-b63b-2dfb7db52624",
   "metadata": {},
   "outputs": [
    {
     "data": {
      "text/plain": [
       "torch.Size([48, 48])"
      ]
     },
     "execution_count": 43,
     "metadata": {},
     "output_type": "execute_result"
    }
   ],
   "source": [
    "attn_mask = generate_causal_attention_mask()\n",
    "attn_mask.shape"
   ]
  },
  {
   "cell_type": "code",
   "execution_count": null,
   "id": "6e11506d-24e5-4b3f-b027-595874487e95",
   "metadata": {},
   "outputs": [],
   "source": []
  },
  {
   "cell_type": "markdown",
   "id": "4ce2c336-d441-4f0d-a879-e4337d2abc7e",
   "metadata": {
    "tags": []
   },
   "source": [
    "#### Transformer Decoder"
   ]
  },
  {
   "cell_type": "markdown",
   "id": "998a4574-0dde-433d-8a5d-f1a76bf4c54d",
   "metadata": {
    "jp-MarkdownHeadingCollapsed": true,
    "tags": []
   },
   "source": [
    "#### Cross Attention Layer"
   ]
  },
  {
   "cell_type": "code",
   "execution_count": 340,
   "id": "0d496107-d853-4e1b-bbfc-651fecdb28ed",
   "metadata": {},
   "outputs": [],
   "source": [
    "class CrossAttentionHead(nn.Module):\n",
    "    def __init__(\n",
    "        self, \n",
    "        embed_dim:int=config.D_MODEL, \n",
    "        dropout_rate:float=config.DROPOUT_RATE\n",
    "    ):\n",
    "        super().__init__()\n",
    "        self.inf = 1e9\n",
    "        self.embed_dim = embed_dim\n",
    "        self.dropout_rate = dropout_rate\n",
    "        \n",
    "        # Linear transformations for queries, keys, and values for input sequences\n",
    "        self.w_q_input = nn.Linear(embed_dim, embed_dim, bias=False)\n",
    "        self.w_k_input = nn.Linear(embed_dim, embed_dim, bias=False)\n",
    "        self.w_v_input = nn.Linear(embed_dim, embed_dim, bias=False)\n",
    "        \n",
    "        # Linear transformations for queries, keys, and values for output sequences\n",
    "        self.w_q_output = nn.Linear(embed_dim, embed_dim, bias=False)\n",
    "        self.w_k_output = nn.Linear(embed_dim, embed_dim, bias=False)\n",
    "        self.w_v_output = nn.Linear(embed_dim, embed_dim, bias=False)\n",
    "\n",
    "        self.dropout = nn.Dropout(dropout_rate)\n",
    "        self._softmax = nn.Softmax(dim=-1)\n",
    "\n",
    "    def forward(self, input_seq, output_seq):\n",
    "        \n",
    "        input_shape = input_seq.shape\n",
    "        output_shape = output_seq.shape\n",
    "\n",
    "        # Linear transformations + split into num_heads for both input and output sequences\n",
    "        q_input = self.w_q_input(input_seq)\n",
    "        k_input = self.w_k_input(input_seq)\n",
    "        v_input = self.w_v_input(input_seq)\n",
    "        \n",
    "        q_output = self.w_q_output(output_seq)\n",
    "        k_output = self.w_k_output(output_seq)\n",
    "        v_output = self.w_v_output(output_seq)\n",
    "\n",
    "        # Transpose dimensions for input and output sequences\n",
    "        q_input = q_input.transpose(1, 2)\n",
    "        k_input = k_input.transpose(1, 2)\n",
    "        v_input = v_input.transpose(1, 2)\n",
    "        q_output = q_output.transpose(1, 2)\n",
    "        k_output = k_output.transpose(1, 2)\n",
    "        v_output = v_output.transpose(1, 2)\n",
    "\n",
    "        # Calculate cross-attention scores\n",
    "        attn_scores = torch.matmul(q_output, k_input.transpose(-2, -1))  # (B, num_heads, L_output, L_input)\n",
    "        attn_scores = attn_scores / math.sqrt(self.embed_dim)\n",
    "\n",
    "        # Softmax\n",
    "        attn_W = self._softmax(attn_scores)\n",
    "        attn_W = self.dropout(attn_W)\n",
    "\n",
    "        # Calculate cross-attention values\n",
    "        attn_values = torch.matmul(attn_W, v_input)  # (B, num_heads, L_output, embed_dim)\n",
    "\n",
    "        return attn_values, attn_W\n",
    "        \n",
    "\n",
    "class CrossAttention(nn.Module):\n",
    "    def __init__(self, embed_dim, num_heads, dropout_rate):\n",
    "        super(CrossAttention, self).__init__()\n",
    "        \n",
    "        self.inf = 1e9\n",
    "        self.embed_dim = embed_dim\n",
    "        self.num_heads = num_heads\n",
    "        self.d_k = self.embed_dim // self.num_heads\n",
    "        \n",
    "        # Linear transformations for queries, keys, and values for input and output sequences\n",
    "        self.w_q_input = nn.Linear(embed_dim, embed_dim, bias=False)\n",
    "        self.w_k_input = nn.Linear(embed_dim, embed_dim, bias=False)\n",
    "        self.w_v_input = nn.Linear(embed_dim, embed_dim, bias=False)\n",
    "        self.w_q_output = nn.Linear(embed_dim, embed_dim, bias=False)\n",
    "        self.w_k_output = nn.Linear(embed_dim, embed_dim, bias=False)\n",
    "        self.w_v_output = nn.Linear(embed_dim, embed_dim, bias=False)\n",
    "\n",
    "        self.dropout = nn.Dropout(dropout_rate)\n",
    "        self._softmax = nn.Softmax(dim=-1)\n",
    "\n",
    "    def forward(self, input_seq, output_seq):\n",
    "        input_shape = input_seq.shape\n",
    "        output_shape = output_seq.shape\n",
    "\n",
    "        # Linear transformations + split into num_heads for both input and output sequences\n",
    "        q_input = self.w_q_input(input_seq).view(input_shape[0], -1, self.num_heads, self.d_k)\n",
    "        k_input = self.w_k_input(input_seq).view(input_shape[0], -1, self.num_heads, self.d_k)\n",
    "        v_input = self.w_v_input(input_seq).view(input_shape[0], -1, self.num_heads, self.d_k)\n",
    "        q_output = self.w_q_output(output_seq).view(output_shape[0], -1, self.num_heads, self.d_k)\n",
    "        k_output = self.w_k_output(output_seq).view(output_shape[0], -1, self.num_heads, self.d_k)\n",
    "        v_output = self.w_v_output(output_seq).view(output_shape[0], -1, self.num_heads, self.d_k)\n",
    "\n",
    "        # Transpose dimensions for input and output sequences\n",
    "        q_input = q_input.transpose(1, 2)\n",
    "        k_input = k_input.transpose(1, 2)\n",
    "        v_input = v_input.transpose(1, 2)\n",
    "        q_output = q_output.transpose(1, 2)\n",
    "        k_output = k_output.transpose(1, 2)\n",
    "        v_output = v_output.transpose(1, 2)\n",
    "\n",
    "        # Calculate cross-attention scores\n",
    "        attn_scores = torch.matmul(q_output, k_input.transpose(-2, -1))  # (B, num_heads, L_output, L_input)\n",
    "        attn_scores = attn_scores / math.sqrt(self.embed_dim)\n",
    "\n",
    "        # Softmax\n",
    "        attn_W = self._softmax(attn_scores)\n",
    "        attn_W = self.dropout(attn_W)\n",
    "\n",
    "        # Calculate cross-attention values\n",
    "        attn_values = torch.matmul(attn_W, v_input)  # (B, num_heads, L_output, embed_dim)\n",
    "\n",
    "        return attn_values, attn_W"
   ]
  },
  {
   "cell_type": "code",
   "execution_count": 345,
   "id": "42e36a9c-e3ec-4623-8999-0183764bde42",
   "metadata": {},
   "outputs": [],
   "source": [
    "input_seq = torch.randn(3, 10, 512) \n",
    "output_seq = torch.randn(3, 12, 512)  "
   ]
  },
  {
   "cell_type": "code",
   "execution_count": null,
   "id": "386858f0-9d60-483e-8d2e-bb67b8d4246a",
   "metadata": {},
   "outputs": [],
   "source": [
    "num_heads = 4\n",
    "cross_attention = CrossAttention(embed_dim=512, num_heads=num_heads, dropout_rate=0.1)\n",
    "\n",
    "summary(cross_attention"
   ]
  },
  {
   "cell_type": "code",
   "execution_count": 346,
   "id": "ca69d5f6-a9b8-4694-8641-e3dbdfaf6102",
   "metadata": {},
   "outputs": [
    {
     "data": {
      "text/plain": [
       "(torch.Size([3, 4, 12, 128]), torch.Size([3, 4, 12, 10]))"
      ]
     },
     "execution_count": 346,
     "metadata": {},
     "output_type": "execute_result"
    }
   ],
   "source": [
    "cross_attention.eval()\n",
    "\n",
    "attention_v, attention_w = cross_attention(input_seq, output_seq)\n",
    "attention_v.shape, attention_w.shape"
   ]
  },
  {
   "cell_type": "markdown",
   "id": "da189f62-b8fd-4688-83f6-870d4bcb51ca",
   "metadata": {
    "jp-MarkdownHeadingCollapsed": true,
    "tags": []
   },
   "source": [
    "#### Plot Cross attention"
   ]
  },
  {
   "cell_type": "code",
   "execution_count": 347,
   "id": "782318f8-4fea-43eb-b30d-b6e3af2ae026",
   "metadata": {},
   "outputs": [
    {
     "data": {
      "image/png": "[encoded data removed]",
      "text/plain": [
       "<Figure size 1500x500 with 4 Axes>"
      ]
     },
     "metadata": {},
     "output_type": "display_data"
    }
   ],
   "source": [
    "fig, axes = pyplot.subplots(1, num_heads, figsize=(15, 5))\n",
    "for head_idx in range(num_heads):\n",
    "    attention_weights_example_head = attention_w[example_idx, head_idx].cpu().detach().numpy()\n",
    "    ax = axes[head_idx]\n",
    "    ax.imshow(attention_weights_example_head, cmap='viridis')\n",
    "    ax.set_title(f'Head {head_idx + 1}')\n",
    "pyplot.show()"
   ]
  },
  {
   "cell_type": "code",
   "execution_count": null,
   "id": "cc2ef82d-0772-4576-ad9f-90f9f3c1d0ac",
   "metadata": {},
   "outputs": [],
   "source": []
  },
  {
   "cell_type": "code",
   "execution_count": null,
   "id": "56bd8cb6-34d5-44a3-8239-2e3d1a2eed27",
   "metadata": {},
   "outputs": [],
   "source": []
  },
  {
   "cell_type": "code",
   "execution_count": 278,
   "id": "9ed6e737-6829-499b-adf5-a4424f253444",
   "metadata": {},
   "outputs": [],
   "source": [
    "class TransformerDecoderLayer(nn.Module):\n",
    "    def __init__(\n",
    "        self, \n",
    "        d_model:int=config.D_MODEL, \n",
    "        nhead:int=config.N_HEADS, \n",
    "        dim_feedforward:int=config.D_FF, \n",
    "        dropout:float=config.DECODER_DROPOUT_RATE\n",
    "    ):\n",
    "        super().__init__()\n",
    "\n",
    "        # Multi-head self-attention\n",
    "        self.self_attn = MultiHeadAttention()\n",
    "        \n",
    "        # Layer normalization 1\n",
    "        self.norm1 = LayerNormalization()\n",
    "        \n",
    "        self.multihead_attn = MultiHeadAttention()\n",
    "\n",
    "        # Layer normalization 2\n",
    "        self.norm2 = LayerNormalization()\n",
    "        \n",
    "        # Position-wise feed-forward network\n",
    "        self.ff = nn.Sequential(\n",
    "            nn.Linear(d_model, dim_feedforward),\n",
    "            nn.GELU(),\n",
    "            nn.Linear(dim_feedforward, d_model)\n",
    "        )\n",
    "        \n",
    "        # Layer normalization after feed-forward\n",
    "        self.norm3 = nn.LayerNorm(d_model)\n",
    "        \n",
    "        # Dropout\n",
    "        self.dropout = nn.Dropout(dropout)\n",
    "\n",
    "    def forward(\n",
    "        self, \n",
    "        inp:torch.Tensor, \n",
    "        mask:torch.Tensor=None, \n",
    "        return_weights:bool=False\n",
    "    ):\n",
    "        \n",
    "        # Layer normalization 1\n",
    "        inp = self.norm1(inp)\n",
    "        \n",
    "        # Multi-head self-attention\n",
    "        attn_W = None\n",
    "        self_attn_output = self.self_attn(inp, inp, inp, mask=mask)\n",
    "        if return_weights:\n",
    "            self_attn_output, attn_W = self_attn_output\n",
    "        \n",
    "        # Apply dropout and add the residual connection\n",
    "        inp = inp + self.dropout(self_attn_output)\n",
    "        \n",
    "        # Layer normalization 2\n",
    "        out = self.norm2(inp)\n",
    "        \n",
    "        # Apply FF\n",
    "        ff_out = self.dropout(self.ff(out))\n",
    "        \n",
    "        # Add the residual connection\n",
    "        inp = inp + ff_out\n",
    "\n",
    "        return inp, attn_W\n",
    "    \n",
    "\n",
    "class TransformerDecoder(nn.Module):\n",
    "    def __init__(\n",
    "        self, \n",
    "        num_layers:int=config.N_DECODER_LAYERS\n",
    "    ):\n",
    "        super().__init__()\n",
    "        \n",
    "        self.num_layers = num_layers\n",
    "        # self.target_embedding = nn.Embedding(\n",
    "        #     num_embeddings=config.TARGET_VOCAB_SIZE, \n",
    "        #     embedding_dim=config.D_MODEL, \n",
    "        #     padding_idx=config.TARGETS_MAPPING[\"[PAD]\"]\n",
    "        # )\n",
    "        \n",
    "        # token embedding\n",
    "        self.token_embedding = nn.Linear(in_features=config.NUM_TOKENIZED_INPUTS, out_features=config.D_FF)\n",
    "               \n",
    "        # transformer layers\n",
    "        self.layers = nn.ModuleList([\n",
    "            TransformerDecoderLayer()\n",
    "            for _ in range(num_layers)\n",
    "        ])\n",
    "        \n",
    "        self._initialize()\n",
    "    \n",
    "    def _initialize(self):\n",
    "        \n",
    "        # Glorot / fan_avg. Initialization\n",
    "        for p in self.parameters():\n",
    "            if p.dim() > 1:\n",
    "                nn.init.xavier_uniform(p)\n",
    "            \n",
    "    def forward(\n",
    "        self, \n",
    "        inp:torch.Tensor, \n",
    "        mask:torch.Tensor=None, \n",
    "    ):\n",
    "        \n",
    "        B, T, D = inp.shape\n",
    "        \n",
    "        # positions = torch.eye(T).repeat(B, 1, 1)\n",
    "        \n",
    "        # embed tokens\n",
    "        inp = self.token_embedding(inp)\n",
    "        # inp = inp + self.position_embedding(positions) # positions to be added \n",
    "        \n",
    "        # run attention self-attention modules\n",
    "        attn_Ws = []\n",
    "        for layer in self.layers:\n",
    "            inp, attn_W = layer(inp, mask=mask)\n",
    "            if attn_W is not None:\n",
    "                attn_Ws.append(attn_W)\n",
    "                \n",
    "        return inp, attn_Ws"
   ]
  },
  {
   "cell_type": "markdown",
   "id": "3ae3f321-d559-4e51-be2f-49145979574e",
   "metadata": {
    "tags": []
   },
   "source": [
    "#### Test MultiHeadAttention Layer"
   ]
  },
  {
   "cell_type": "code",
   "execution_count": 70,
   "id": "801a09f2-d7e8-48f7-8664-1efae4c1ae6d",
   "metadata": {},
   "outputs": [],
   "source": [
    "\n",
    "# class SelfAttentionHead(nn.Module):\n",
    "#     def __init__(self, d_model:int=config.D_MODEL):\n",
    "#         super(SelfAttentionHead, self).__init__()\n",
    "#         self.inf = 1e9\n",
    "#         self.d_k = d_model\n",
    "        \n",
    "#         self.dropout = nn.Dropout(config.DROPOUT_RATE)\n",
    "#         self._softmax = nn.Softmax(dim=-1)\n",
    "\n",
    "#         self.w_q = nn.Linear(d_model, d_model, bias=False)\n",
    "#         self.w_k = nn.Linear(d_model, d_model, bias=False)\n",
    "#         self.w_v = nn.Linear(d_model, d_model, bias=False)\n",
    "        \n",
    "#         self.output_layer = nn.Linear(d_model, d_model)\n",
    "\n",
    "#     def self_attention(\n",
    "#         self, \n",
    "#         inp:toch.Tensor, \n",
    "#         mask=None, \n",
    "#         return_weights=True\n",
    "#     ):\n",
    "#         # Linear calculation\n",
    "#         q = self.w_q(inp)\n",
    "#         k = self.w_k(inp)\n",
    "#         v = self.w_v(inp)\n",
    "\n",
    "#         # Scaled Dot-Product Attention\n",
    "#         matmul_qk = torch.matmul(q, k.transpose(-2, -1))\n",
    "#         scaled_attention_logits = matmul_qk / math.sqrt(self.d_k)\n",
    "\n",
    "#         if mask is not None:\n",
    "#             scaled_attention_logits += (mask * -self.inf)\n",
    "\n",
    "#         attention_weights = self._softmax(scaled_attention_logits)\n",
    "#         attention_weights = self.dropout(attention_weights)\n",
    "\n",
    "#         output = torch.matmul(attention_weights, v)\n",
    "\n",
    "#         if return_weights:\n",
    "#             return output, attention_weights\n",
    "#         else:\n",
    "#             return output, None\n",
    "\n",
    "#     def forward(\n",
    "#         self, \n",
    "#         inp:torch.Tensor, \n",
    "#         mask=None, \n",
    "#         return_weights=False\n",
    "#     ):\n",
    "        \n",
    "#         attn_values, attn_W = self.self_attention(\n",
    "#             inp, \n",
    "#             mask=mask, \n",
    "#             return_weights=return_weights\n",
    "#         )\n",
    "        \n",
    "#         return attn_values, attn_W\n",
    "\n",
    "# class MultiHeadSelfAttention(nn.Module):\n",
    "#     def __init__(\n",
    "#         self, \n",
    "#         d_model:int=config.D_MODEL, \n",
    "#         num_heads:int=config.N_HEADS\n",
    "#     ):\n",
    "#         super(MultiHeadSelfAttention, self).__init__()\n",
    "        \n",
    "#         self.num_heads = num_heads\n",
    "#         self.head_dim = d_model // num_heads\n",
    "\n",
    "#         self.attention_heads = nn.ModuleList([SelfAttentionHead(d_model) for _ in range(num_heads)])\n",
    "\n",
    "#     def forward(\n",
    "#         self, \n",
    "#         inp:torch.Tensor,  \n",
    "#         mask=None, \n",
    "#         return_weights=True\n",
    "#     ):\n",
    "#         B = inp.shape[0]\n",
    "        \n",
    "#         head_outputs = [head(inp, mask=mask, return_weights=return_weights) for head in self.attention_heads]\n",
    "\n",
    "#         # Combine the results from different heads\n",
    "#         combined_output = torch.cat(\n",
    "#             [output[0].view(B, -1, self.num_heads, self.head_dim) for output in head_outputs], \n",
    "#             dim=-1\n",
    "#         )\n",
    "#         attention_weights = torch.stack(\n",
    "#             [output[1] for output in head_outputs], \n",
    "#             dim=1\n",
    "#         )\n",
    "\n",
    "#         return combined_output, attention_weights\n"
   ]
  },
  {
   "cell_type": "code",
   "execution_count": 72,
   "id": "8e1ff1f4-1702-476f-bc0a-0e9c73b7c3d9",
   "metadata": {
    "scrolled": true,
    "tags": []
   },
   "outputs": [
    {
     "name": "stdout",
     "output_type": "stream",
     "text": [
      "MultiHeadSelfAttention(\n",
      "  (attention_heads): ModuleList(\n",
      "    (0-7): 8 x SelfAttentionHead(\n",
      "      (dropout): Dropout(p=0.15, inplace=False)\n",
      "      (_softmax): Softmax(dim=-1)\n",
      "      (w_q): Linear(in_features=512, out_features=512, bias=False)\n",
      "      (w_k): Linear(in_features=512, out_features=512, bias=False)\n",
      "      (w_v): Linear(in_features=512, out_features=512, bias=False)\n",
      "      (output_layer): Linear(in_features=512, out_features=512, bias=True)\n",
      "    )\n",
      "  )\n",
      ")\n"
     ]
    },
    {
     "data": {
      "text/plain": [
       "=================================================================\n",
       "Layer (type:depth-idx)                   Param #\n",
       "=================================================================\n",
       "MultiHeadSelfAttention                   --\n",
       "├─ModuleList: 1-1                        --\n",
       "│    └─SelfAttentionHead: 2-1            --\n",
       "│    │    └─Dropout: 3-1                 --\n",
       "│    │    └─Softmax: 3-2                 --\n",
       "│    │    └─Linear: 3-3                  262,144\n",
       "│    │    └─Linear: 3-4                  262,144\n",
       "│    │    └─Linear: 3-5                  262,144\n",
       "│    │    └─Linear: 3-6                  262,656\n",
       "│    └─SelfAttentionHead: 2-2            --\n",
       "│    │    └─Dropout: 3-7                 --\n",
       "│    │    └─Softmax: 3-8                 --\n",
       "│    │    └─Linear: 3-9                  262,144\n",
       "│    │    └─Linear: 3-10                 262,144\n",
       "│    │    └─Linear: 3-11                 262,144\n",
       "│    │    └─Linear: 3-12                 262,656\n",
       "│    └─SelfAttentionHead: 2-3            --\n",
       "│    │    └─Dropout: 3-13                --\n",
       "│    │    └─Softmax: 3-14                --\n",
       "│    │    └─Linear: 3-15                 262,144\n",
       "│    │    └─Linear: 3-16                 262,144\n",
       "│    │    └─Linear: 3-17                 262,144\n",
       "│    │    └─Linear: 3-18                 262,656\n",
       "│    └─SelfAttentionHead: 2-4            --\n",
       "│    │    └─Dropout: 3-19                --\n",
       "│    │    └─Softmax: 3-20                --\n",
       "│    │    └─Linear: 3-21                 262,144\n",
       "│    │    └─Linear: 3-22                 262,144\n",
       "│    │    └─Linear: 3-23                 262,144\n",
       "│    │    └─Linear: 3-24                 262,656\n",
       "│    └─SelfAttentionHead: 2-5            --\n",
       "│    │    └─Dropout: 3-25                --\n",
       "│    │    └─Softmax: 3-26                --\n",
       "│    │    └─Linear: 3-27                 262,144\n",
       "│    │    └─Linear: 3-28                 262,144\n",
       "│    │    └─Linear: 3-29                 262,144\n",
       "│    │    └─Linear: 3-30                 262,656\n",
       "│    └─SelfAttentionHead: 2-6            --\n",
       "│    │    └─Dropout: 3-31                --\n",
       "│    │    └─Softmax: 3-32                --\n",
       "│    │    └─Linear: 3-33                 262,144\n",
       "│    │    └─Linear: 3-34                 262,144\n",
       "│    │    └─Linear: 3-35                 262,144\n",
       "│    │    └─Linear: 3-36                 262,656\n",
       "│    └─SelfAttentionHead: 2-7            --\n",
       "│    │    └─Dropout: 3-37                --\n",
       "│    │    └─Softmax: 3-38                --\n",
       "│    │    └─Linear: 3-39                 262,144\n",
       "│    │    └─Linear: 3-40                 262,144\n",
       "│    │    └─Linear: 3-41                 262,144\n",
       "│    │    └─Linear: 3-42                 262,656\n",
       "│    └─SelfAttentionHead: 2-8            --\n",
       "│    │    └─Dropout: 3-43                --\n",
       "│    │    └─Softmax: 3-44                --\n",
       "│    │    └─Linear: 3-45                 262,144\n",
       "│    │    └─Linear: 3-46                 262,144\n",
       "│    │    └─Linear: 3-47                 262,144\n",
       "│    │    └─Linear: 3-48                 262,656\n",
       "=================================================================\n",
       "Total params: 8,392,704\n",
       "Trainable params: 8,392,704\n",
       "Non-trainable params: 0\n",
       "================================================================="
      ]
     },
     "execution_count": 72,
     "metadata": {},
     "output_type": "execute_result"
    }
   ],
   "source": [
    "mha = MultiHeadSelfAttention().cuda()\n",
    "print(mha)\n",
    "summary(mha)"
   ]
  },
  {
   "cell_type": "code",
   "execution_count": 73,
   "id": "04796d95-349d-4d81-817a-7f23d8f15541",
   "metadata": {},
   "outputs": [
    {
     "data": {
      "text/plain": [
       "(torch.Size([4, 48, 8, 512]), torch.Size([4, 8, 48, 48]))"
      ]
     },
     "execution_count": 73,
     "metadata": {},
     "output_type": "execute_result"
    }
   ],
   "source": [
    "mem, attn_w = mha(inp=learned_tokens, return_weights=True)\n",
    "\n",
    "mem.shape, attn_w.shape"
   ]
  },
  {
   "cell_type": "code",
   "execution_count": null,
   "id": "9a90db1a-ba0d-44c1-bd01-09f08133fb4a",
   "metadata": {},
   "outputs": [],
   "source": [
    "plot_self_attention(attn_w)\n",
    "plot_self_attention(attn_w, example_idx=2)"
   ]
  },
  {
   "cell_type": "code",
   "execution_count": null,
   "id": "dd136fd2-05dc-4569-8f29-626562bc10f0",
   "metadata": {},
   "outputs": [],
   "source": []
  },
  {
   "cell_type": "code",
   "execution_count": null,
   "id": "b68a8a60-29d5-4103-8083-a83daa383ccf",
   "metadata": {},
   "outputs": [],
   "source": []
  },
  {
   "cell_type": "markdown",
   "id": "210efe9b-24f9-4e1a-a115-29347d9849eb",
   "metadata": {
    "jp-MarkdownHeadingCollapsed": true,
    "tags": []
   },
   "source": [
    "#### Test Transformer decoder"
   ]
  },
  {
   "cell_type": "code",
   "execution_count": 257,
   "id": "a5ebf21e-d456-4f85-bb0c-fd1056c517f3",
   "metadata": {
    "tags": []
   },
   "outputs": [
    {
     "data": {
      "text/plain": [
       "=================================================================\n",
       "Layer (type:depth-idx)                   Param #\n",
       "=================================================================\n",
       "TransformerDecoder                       --\n",
       "├─Linear: 1-1                            25,088\n",
       "├─ModuleList: 1-2                        --\n",
       "│    └─TransformerDecoderLayer: 2-1      --\n",
       "│    │    └─MultiHeadAttention: 3-1      1,049,088\n",
       "│    │    └─LayerNormalization: 3-2      1,024\n",
       "│    │    └─MultiHeadAttention: 3-3      1,049,088\n",
       "│    │    └─LayerNormalization: 3-4      1,024\n",
       "│    │    └─Sequential: 3-5              525,312\n",
       "│    │    └─LayerNorm: 3-6               1,024\n",
       "│    │    └─Dropout: 3-7                 --\n",
       "│    └─TransformerDecoderLayer: 2-2      --\n",
       "│    │    └─MultiHeadAttention: 3-8      1,049,088\n",
       "│    │    └─LayerNormalization: 3-9      1,024\n",
       "│    │    └─MultiHeadAttention: 3-10     1,049,088\n",
       "│    │    └─LayerNormalization: 3-11     1,024\n",
       "│    │    └─Sequential: 3-12             525,312\n",
       "│    │    └─LayerNorm: 3-13              1,024\n",
       "│    │    └─Dropout: 3-14                --\n",
       "│    └─TransformerDecoderLayer: 2-3      --\n",
       "│    │    └─MultiHeadAttention: 3-15     1,049,088\n",
       "│    │    └─LayerNormalization: 3-16     1,024\n",
       "│    │    └─MultiHeadAttention: 3-17     1,049,088\n",
       "│    │    └─LayerNormalization: 3-18     1,024\n",
       "│    │    └─Sequential: 3-19             525,312\n",
       "│    │    └─LayerNorm: 3-20              1,024\n",
       "│    │    └─Dropout: 3-21                --\n",
       "│    └─TransformerDecoderLayer: 2-4      --\n",
       "│    │    └─MultiHeadAttention: 3-22     1,049,088\n",
       "│    │    └─LayerNormalization: 3-23     1,024\n",
       "│    │    └─MultiHeadAttention: 3-24     1,049,088\n",
       "│    │    └─LayerNormalization: 3-25     1,024\n",
       "│    │    └─Sequential: 3-26             525,312\n",
       "│    │    └─LayerNorm: 3-27              1,024\n",
       "│    │    └─Dropout: 3-28                --\n",
       "│    └─TransformerDecoderLayer: 2-5      --\n",
       "│    │    └─MultiHeadAttention: 3-29     1,049,088\n",
       "│    │    └─LayerNormalization: 3-30     1,024\n",
       "│    │    └─MultiHeadAttention: 3-31     1,049,088\n",
       "│    │    └─LayerNormalization: 3-32     1,024\n",
       "│    │    └─Sequential: 3-33             525,312\n",
       "│    │    └─LayerNorm: 3-34              1,024\n",
       "│    │    └─Dropout: 3-35                --\n",
       "│    └─TransformerDecoderLayer: 2-6      --\n",
       "│    │    └─MultiHeadAttention: 3-36     1,049,088\n",
       "│    │    └─LayerNormalization: 3-37     1,024\n",
       "│    │    └─MultiHeadAttention: 3-38     1,049,088\n",
       "│    │    └─LayerNormalization: 3-39     1,024\n",
       "│    │    └─Sequential: 3-40             525,312\n",
       "│    │    └─LayerNorm: 3-41              1,024\n",
       "│    │    └─Dropout: 3-42                --\n",
       "=================================================================\n",
       "Total params: 15,784,448\n",
       "Trainable params: 15,784,448\n",
       "Non-trainable params: 0\n",
       "================================================================="
      ]
     },
     "execution_count": 257,
     "metadata": {},
     "output_type": "execute_result"
    }
   ],
   "source": [
    "dec = TransformerDecoder()\n",
    "summary(model=dec)"
   ]
  },
  {
   "cell_type": "code",
   "execution_count": null,
   "id": "4eab8990-184b-4854-980e-ef4887300b2d",
   "metadata": {},
   "outputs": [],
   "source": [
    "dec_out = dec(\n",
    "    src=src_enc, \n",
    "    encoder_outputs=tokens,\n",
    "    y=None #sample[\"motor_cmd\"][\"ids\"].cuda()\n",
    ")"
   ]
  },
  {
   "cell_type": "code",
   "execution_count": null,
   "id": "3f252ad6-5c3a-44ce-ab3d-4d4d75d1960a",
   "metadata": {},
   "outputs": [],
   "source": [
    "src_enc.shape"
   ]
  },
  {
   "cell_type": "markdown",
   "id": "2e365900-13ff-4dd8-b789-6f45b15c0564",
   "metadata": {
    "jp-MarkdownHeadingCollapsed": true,
    "tags": []
   },
   "source": [
    "#### Action Generator"
   ]
  },
  {
   "cell_type": "code",
   "execution_count": 251,
   "id": "929f0bc4-3be4-4b84-a52a-7235e9af947e",
   "metadata": {},
   "outputs": [],
   "source": [
    "class ActionGenerator(nn.Module):\n",
    "    def __init__(\n",
    "        self,\n",
    "        d_model:int=config.D_MODEL, \n",
    "        vocab_size:int=len(config.TARGETS),\n",
    "        action_bins:int=config.ACTION_BINS,\n",
    "        num_actons:int=config.NUM_ACTION_SLOTS\n",
    "    ):\n",
    "        super().__init__()\n",
    "        \n",
    "        # attrs\n",
    "        self.action_bins = action_bins\n",
    "        \n",
    "        # layers\n",
    "        self.norm = LayerNormalization()\n",
    "        self.proj = nn.Linear(in_features=d_model, out_features=vocab_size)\n",
    "        self._softmax = nn.LogSoftmax(dim=-1)\n",
    "\n",
    "    def forward(self, tokens):\n",
    "        \n",
    "        out = self.norm(tokens)\n",
    "        out = self.proj(out)\n",
    "        out = self._softmax(out)\n",
    "        \n",
    "        return out\n",
    "    "
   ]
  },
  {
   "cell_type": "code",
   "execution_count": 252,
   "id": "a9fef7ba-432f-448c-bac6-c3651e1f1203",
   "metadata": {},
   "outputs": [
    {
     "name": "stdout",
     "output_type": "stream",
     "text": [
      "ActionGenerator(\n",
      "  (norm): LayerNormalization(\n",
      "    (layer): LayerNorm((512,), eps=1e-06, elementwise_affine=True)\n",
      "  )\n",
      "  (proj): Linear(in_features=512, out_features=52, bias=True)\n",
      "  (_softmax): LogSoftmax(dim=-1)\n",
      ")\n"
     ]
    },
    {
     "data": {
      "text/plain": [
       "=================================================================\n",
       "Layer (type:depth-idx)                   Param #\n",
       "=================================================================\n",
       "ActionGenerator                          --\n",
       "├─LayerNormalization: 1-1                --\n",
       "│    └─LayerNorm: 2-1                    1,024\n",
       "├─Linear: 1-2                            26,676\n",
       "├─LogSoftmax: 1-3                        --\n",
       "=================================================================\n",
       "Total params: 27,700\n",
       "Trainable params: 27,700\n",
       "Non-trainable params: 0\n",
       "================================================================="
      ]
     },
     "execution_count": 252,
     "metadata": {},
     "output_type": "execute_result"
    }
   ],
   "source": [
    "generator = ActionGenerator().cuda()\n",
    "print(generator)\n",
    "summary(generator)"
   ]
  },
  {
   "cell_type": "code",
   "execution_count": null,
   "id": "1013f117-e5e3-4b2c-b14b-d2260e40f351",
   "metadata": {},
   "outputs": [],
   "source": [
    "N, C, T = tokens.shape\n",
    "\n",
    "N, C, T"
   ]
  },
  {
   "cell_type": "code",
   "execution_count": null,
   "id": "ce3a76ea-ae3b-403a-b8e2-a817f50498fa",
   "metadata": {},
   "outputs": [],
   "source": [
    "actions = generator(tokens.view(N, T, C))\n",
    "\n",
    "actions.shape"
   ]
  },
  {
   "cell_type": "markdown",
   "id": "bb14293b-b031-477b-a643-3811927b1bb1",
   "metadata": {
    "jp-MarkdownHeadingCollapsed": true,
    "tags": []
   },
   "source": [
    "### RT-1 Decoder"
   ]
  },
  {
   "cell_type": "code",
   "execution_count": null,
   "id": "ba0ec749-1fbf-4072-b191-b6e3ad2f243f",
   "metadata": {},
   "outputs": [],
   "source": [
    "class RT1Decoder(nn.Module):\n",
    "    def __init__(self):\n",
    "        super().__init__()\n",
    "        \n",
    "        self.positional_encoder = PositionalEncoder()\n",
    "        self.transformer = TransformerDecoder()\n",
    "        self.action_generator = ActionGenerator()\n",
    "        \n",
    "    def _decode_predictions(self, preds, method:str=\"greedy\"):\n",
    "        \"\"\"\n",
    "            Args:\n",
    "                preds: predictions (logits)\n",
    "                method: decoding strategy. one of [\"greedy\", \"beam-search\"]\n",
    "                \n",
    "            Returns:\n",
    "                actions: decoded predictions as sequence of actions.\n",
    "            \n",
    "        \"\"\"\n",
    "        pass\n",
    "    \n",
    "    def forward(self, learned_tokens):\n",
    "        \n",
    "        # positional encoding\n",
    "        pos_enc = self.positional_encoder(imgs)\n",
    "        \n",
    "        # Generate attention mask\n",
    "        attention_mask = generate_causal_attention_mask()\n",
    "        # Add positional encoding\n",
    "        pos_enc = pos_encoding(learned_tokens)\n",
    "        # print(pos_enc.shape)\n",
    "        learned_tokens = learned_tokens + pos_enc\n",
    "        # Attend to learned tokens\n",
    "        attended_tokens = self.transformer(learned_tokens, mask = ~attention_mask)\n",
    "        out = reduce(attended_tokens, 'b (f n) d -> b f d', 'mean', f = (config.NUM_HISTORY + 1))\n",
    "        \n",
    "        # generate outputs\n",
    "        logits = self.action_generator(out)\n",
    "        \n",
    "        return logits"
   ]
  },
  {
   "cell_type": "code",
   "execution_count": null,
   "id": "86f893fa-9324-4244-aad2-a66db2243700",
   "metadata": {},
   "outputs": [],
   "source": []
  },
  {
   "cell_type": "markdown",
   "id": "3cde5f94-8a3c-458d-94da-9655d7ddb2d6",
   "metadata": {
    "jp-MarkdownHeadingCollapsed": true,
    "tags": []
   },
   "source": [
    "### RT-1 "
   ]
  },
  {
   "cell_type": "code",
   "execution_count": null,
   "id": "f033aac5-7312-47d8-8ff8-8044ebb2fd8f",
   "metadata": {},
   "outputs": [],
   "source": [
    "class RT1(pl.LightningModule):\n",
    "    def __init__(\n",
    "        self\n",
    "    ):\n",
    "        super().__init__()\n",
    "        self.encoder = RT1Encder()\n",
    "        self.decoder = RT1Decoder()\n",
    "        \n",
    "    def forward(self, input_ids, attn_mask, token_type_ids, imgs):\n",
    "        \n",
    "        tokens = self.encode(input_ids, attn_mask, token_type_ids, imgs)\n",
    "        out = self.decode(tokens, )\n",
    "    \n",
    "    def encode(self, input_ids, attn_mask, token_type_ids, imgs):\n",
    "        return self.encoder(input_ids, attn_mask, token_type_ids, imgs)\n",
    "    \n",
    "    def decode(self, enc_outputs, x_mask, y, y_mask):\n",
    "        return self.decoder(y, enc_outputs, src_mask, tgt_mask)\n",
    "    \n",
    "    def configure_optimizers(self):\n",
    "        pass\n",
    "    \n",
    "    def training_step(self, batch, batch_idx):\n",
    "        pass\n",
    "    \n",
    "    def validation_step(self, batch, batch_idx):\n",
    "        pass\n",
    "    \n",
    "    def test_step(self, batch, batch_idx):\n",
    "        pass\n",
    "    \n",
    "    def compute_loss(self, outputs, targets):\n",
    "        pass"
   ]
  },
  {
   "cell_type": "code",
   "execution_count": null,
   "id": "715fd461-7028-49de-bcb9-e8464433f548",
   "metadata": {},
   "outputs": [],
   "source": []
  },
  {
   "cell_type": "code",
   "execution_count": null,
   "id": "4a346bbe-d174-40a9-a807-e2cd63665ec6",
   "metadata": {},
   "outputs": [],
   "source": []
  },
  {
   "cell_type": "code",
   "execution_count": null,
   "id": "3e2bebcb-a94a-4272-b68d-5eeee9dbd638",
   "metadata": {},
   "outputs": [],
   "source": []
  }
 ],
 "metadata": {
  "kernelspec": {
   "display_name": "SMF-BE",
   "language": "python",
   "name": "smf-be"
  },
  "language_info": {
   "codemirror_mode": {
    "name": "ipython",
    "version": 3
   },
   "file_extension": ".py",
   "mimetype": "text/x-python",
   "name": "python",
   "nbconvert_exporter": "python",
   "pygments_lexer": "ipython3",
   "version": "3.10.4"
  }
 },
 "nbformat": 4,
 "nbformat_minor": 5
}
