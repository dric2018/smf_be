{
 "cells": [
  {
   "cell_type": "code",
   "execution_count": 1,
   "id": "7d77a40d-8e01-420e-b572-fe22bd600f3b",
   "metadata": {},
   "outputs": [
    {
     "name": "stdout",
     "output_type": "stream",
     "text": [
      "Tue Nov  7 05:13:21 2023       \n",
      "+-----------------------------------------------------------------------------+\n",
      "| NVIDIA-SMI 525.60.13    Driver Version: 525.60.13    CUDA Version: 12.0     |\n",
      "|-------------------------------+----------------------+----------------------+\n",
      "| GPU  Name        Persistence-M| Bus-Id        Disp.A | Volatile Uncorr. ECC |\n",
      "| Fan  Temp  Perf  Pwr:Usage/Cap|         Memory-Usage | GPU-Util  Compute M. |\n",
      "|                               |                      |               MIG M. |\n",
      "|===============================+======================+======================|\n",
      "|   0  Tesla V100-SXM2...  On   | 00000000:3A:00.0 Off |                    0 |\n",
      "| N/A   29C    P0    41W / 300W |      0MiB / 32768MiB |      0%      Default |\n",
      "|                               |                      |                  N/A |\n",
      "+-------------------------------+----------------------+----------------------+\n",
      "                                                                               \n",
      "+-----------------------------------------------------------------------------+\n",
      "| Processes:                                                                  |\n",
      "|  GPU   GI   CI        PID   Type   Process name                  GPU Memory |\n",
      "|        ID   ID                                                   Usage      |\n",
      "|=============================================================================|\n",
      "|  No running processes found                                                 |\n",
      "+-----------------------------------------------------------------------------+\n"
     ]
    }
   ],
   "source": [
    "!nvidia-smi"
   ]
  },
  {
   "cell_type": "code",
   "execution_count": 2,
   "id": "92ff9e3c-a68b-4a84-ab94-c2cd07294dcd",
   "metadata": {},
   "outputs": [],
   "source": [
    "import warnings\n",
    "warnings.filterwarnings(action=\"ignore\")"
   ]
  },
  {
   "cell_type": "code",
   "execution_count": 3,
   "id": "0920d519-4636-47e0-977c-c0d6583ba014",
   "metadata": {},
   "outputs": [],
   "source": [
    "\n",
    "import lightning.pytorch as pl\n",
    "from lightning.pytorch import Trainer, seed_everything\n",
    "from lightning.pytorch.callbacks import RichProgressBar, TQDMProgressBar, ModelCheckpoint\n",
    "from lightning.pytorch.callbacks.progress.rich_progress import RichProgressBarTheme\n",
    "from lightning.pytorch.loggers import TensorBoardLogger, WandbLogger\n",
    "\n",
    "\n",
    "import logging\n",
    "logging.basicConfig(level=\"INFO\")\n",
    "\n",
    "import math\n",
    "from matplotlib import pyplot\n",
    "%matplotlib inline\n",
    "\n",
    "import numpy as np\n",
    "\n",
    "import os\n",
    "\n",
    "import pandas as pd\n",
    "from pprint import pprint\n",
    "\n",
    "import sys\n",
    "sys.path.append(\"../src\")\n",
    "\n",
    "import timm\n",
    "from tqdm.notebook import tqdm\n",
    "import torch\n",
    "import torch.nn as nn\n",
    "import torch.nn.functional as F\n",
    "from torchinfo import summary\n"
   ]
  },
  {
   "cell_type": "code",
   "execution_count": 4,
   "id": "67ae7b8b-5631-4c2b-a735-43e3cee5cf15",
   "metadata": {},
   "outputs": [],
   "source": [
    "%load_ext autoreload\n",
    "%autoreload 2"
   ]
  },
  {
   "cell_type": "code",
   "execution_count": 73,
   "id": "cec61ddc-e278-454c-b6ec-538359e04c73",
   "metadata": {},
   "outputs": [],
   "source": [
    "import config\n",
    "from dataloader import BEDataset, BEDataModule\n",
    "from film_layers import FiLMEncoder\n",
    "from token_learner import TokenLearnerV11\n",
    "from transformer import PositionalEncoder, SelfAttentionHead, MultiHeadSelfAttention, FeedFowardLayer, LayerNormalization, TransformerDecoderLayer, TransformerDecoder, generate_causal_attention_mask\n",
    "\n",
    "from rt1 import RT1Encoder, RT1Decoder, ActionGenerator, RT1\n",
    "from utils.model_utils import TextEncoder, ImageFeatureExtractor, plot_attention, fetch_random_sample_from_batch, greedy_decoding, decode_predictions\n",
    "import utils.data_utils as data_utils"
   ]
  },
  {
   "cell_type": "code",
   "execution_count": 6,
   "id": "6df6190a-d007-4387-b470-f7ea1063f9c9",
   "metadata": {},
   "outputs": [
    {
     "name": "stderr",
     "output_type": "stream",
     "text": [
      "INFO:root:Training on 3882 samples.\n",
      "INFO:root:Validating on 626 samples.\n",
      "INFO:root:Testing on 250 samples.\n"
     ]
    },
    {
     "name": "stdout",
     "output_type": "stream",
     "text": [
      "Total # examples: 4758\n"
     ]
    }
   ],
   "source": [
    "dm = BEDataModule()\n",
    "dm.setup()"
   ]
  },
  {
   "cell_type": "code",
   "execution_count": 7,
   "id": "4f9c0210-17c3-4054-af37-3658ddc4799f",
   "metadata": {},
   "outputs": [
    {
     "name": "stdout",
     "output_type": "stream",
     "text": [
      "dict_keys(['sample_id', 'in_state', 'action_desc', 'source_mask_tokens', 'source_mask', 'motor_cmd', 'target_mask'])\n",
      "CPU times: user 846 ms, sys: 905 ms, total: 1.75 s\n",
      "Wall time: 6.74 s\n"
     ]
    },
    {
     "data": {
      "text/plain": [
       "torch.Size([2, 3, 288, 288])"
      ]
     },
     "execution_count": 7,
     "metadata": {},
     "output_type": "execute_result"
    }
   ],
   "source": [
    "%%time\n",
    "batch = next(iter(dm.train_dataloader()))\n",
    "print(batch.keys())\n",
    "batch[\"in_state\"].shape"
   ]
  },
  {
   "cell_type": "code",
   "execution_count": 8,
   "id": "8ad9c86c-0345-4fe7-b85b-07cdb971a903",
   "metadata": {},
   "outputs": [],
   "source": [
    "input_ids=batch[\"action_desc\"][\"ids\"].cuda()\n",
    "attn_mask=batch[\"action_desc\"][\"mask\"].cuda()\n",
    "token_type_ids=batch[\"action_desc\"][\"token_type_ids\"].cuda()\n",
    "imgs=batch[\"in_state\"].cuda()\n",
    "decoder_inp=batch[\"motor_cmd\"][\"decoder_inp_ids\"].cuda()\n",
    "src_mask=(batch[\"source_mask\"].cuda(), batch[\"source_mask_tokens\"].cuda())\n",
    "target_mask=batch[\"target_mask\"].cuda()"
   ]
  },
  {
   "cell_type": "markdown",
   "id": "cc0c1196-5985-487f-a6aa-bf33d3bd849e",
   "metadata": {},
   "source": [
    "## Encoder"
   ]
  },
  {
   "cell_type": "code",
   "execution_count": 74,
   "id": "0eddddc7-c329-464c-9304-9a15d1e45748",
   "metadata": {},
   "outputs": [
    {
     "name": "stderr",
     "output_type": "stream",
     "text": [
      "INFO:timm.models._builder:Loading pretrained weights from Hugging Face hub (timm/resnet18.a1_in1k)\n",
      "INFO:timm.models._hub:[timm/resnet18.a1_in1k] Safe alternative available for 'pytorch_model.bin' (as 'model.safetensors'). Loading weights using safetensors.\n"
     ]
    },
    {
     "data": {
      "text/plain": [
       "==============================================================================================================\n",
       "Layer (type:depth-idx)                                       Param #                   Trainable\n",
       "==============================================================================================================\n",
       "RT1Encoder                                                   --                        Partial\n",
       "├─TextEncoder: 1-1                                           --                        False\n",
       "│    └─BertModel: 2-1                                        --                        False\n",
       "│    │    └─BertEmbeddings: 3-1                              (15,891,456)              False\n",
       "│    │    └─BertEncoder: 3-2                                 (12,609,536)              False\n",
       "│    │    └─BertPooler: 3-3                                  (262,656)                 False\n",
       "│    └─Dropout: 2-2                                          --                        --\n",
       "├─FiLMEncoder: 1-2                                           --                        Partial\n",
       "│    └─ImageFeatureExtractor: 2-3                            --                        Partial\n",
       "│    │    └─FeatureListNet: 3-4                              (11,176,512)              False\n",
       "│    │    └─VisionLanguageHead: 3-5                          262,656                   True\n",
       "│    └─ModuleList: 2-4                                       --                        True\n",
       "│    │    └─ResBlockDWConv: 3-6                              1,056,768                 True\n",
       "│    │    └─ResBlockDWConv: 3-7                              1,056,768                 True\n",
       "├─TokenLearnerV11: 1-3                                       --                        True\n",
       "│    └─Sequential: 2-5                                       --                        True\n",
       "│    │    └─LayerNormalization: 3-8                          1,024                     True\n",
       "│    │    └─Linear: 3-9                                      32,832                    True\n",
       "│    │    └─GELU: 3-10                                       --                        --\n",
       "│    │    └─Dropout: 3-11                                    --                        --\n",
       "│    │    └─Linear: 3-12                                     520                       True\n",
       "==============================================================================================================\n",
       "Total params: 42,350,728\n",
       "Trainable params: 2,410,568\n",
       "Non-trainable params: 39,940,160\n",
       "=============================================================================================================="
      ]
     },
     "execution_count": 74,
     "metadata": {},
     "output_type": "execute_result"
    }
   ],
   "source": [
    "encoder = RT1Encoder(\n",
    "    cnn_bacnbone=\"resnet18\", \n",
    "    num_res_blocks=2, \n",
    "    freeze_cnn_backbone=True\n",
    ").to(config.DEVICE)\n",
    "\n",
    "summary(model=encoder, col_names=[\"num_params\", \"trainable\"])"
   ]
  },
  {
   "cell_type": "markdown",
   "id": "26a30269-7972-4572-aa27-81368b51fd7c",
   "metadata": {
    "jp-MarkdownHeadingCollapsed": true,
    "tags": []
   },
   "source": [
    "### Token Learner"
   ]
  },
  {
   "cell_type": "code",
   "execution_count": 41,
   "id": "4960274f-8980-4d4c-9979-8f264d8b9195",
   "metadata": {},
   "outputs": [],
   "source": [
    "tlnr = TokenLearnerV11().cuda()"
   ]
  },
  {
   "cell_type": "code",
   "execution_count": 42,
   "id": "fc32fbbc-1896-4b74-a08e-3d11a0413aa0",
   "metadata": {
    "scrolled": true,
    "tags": []
   },
   "outputs": [
    {
     "name": "stdout",
     "output_type": "stream",
     "text": [
      "TokenLearnerV11(\n",
      "  (token_masking): Sequential(\n",
      "    (0): LayerNormalization(\n",
      "      (layer): LayerNorm((512,), eps=1e-06, elementwise_affine=True)\n",
      "    )\n",
      "    (1): Linear(in_features=512, out_features=64, bias=True)\n",
      "    (2): GELU(approximate='none')\n",
      "    (3): Dropout(p=0.0, inplace=False)\n",
      "    (4): Linear(in_features=64, out_features=8, bias=True)\n",
      "  )\n",
      ")\n"
     ]
    },
    {
     "data": {
      "text/plain": [
       "=================================================================\n",
       "Layer (type:depth-idx)                   Param #\n",
       "=================================================================\n",
       "TokenLearnerV11                          --\n",
       "├─Sequential: 1-1                        --\n",
       "│    └─LayerNormalization: 2-1           --\n",
       "│    │    └─LayerNorm: 3-1               1,024\n",
       "│    └─Linear: 2-2                       32,832\n",
       "│    └─GELU: 2-3                         --\n",
       "│    └─Dropout: 2-4                      --\n",
       "│    └─Linear: 2-5                       520\n",
       "=================================================================\n",
       "Total params: 34,376\n",
       "Trainable params: 34,376\n",
       "Non-trainable params: 0\n",
       "================================================================="
      ]
     },
     "execution_count": 42,
     "metadata": {},
     "output_type": "execute_result"
    }
   ],
   "source": [
    "print(tlnr)\n",
    "summary(tlnr)"
   ]
  },
  {
   "cell_type": "code",
   "execution_count": 70,
   "id": "ef75807e-409f-41aa-acea-825661054841",
   "metadata": {
    "tags": []
   },
   "outputs": [
    {
     "name": "stdout",
     "output_type": "stream",
     "text": [
      "torch.Size([2, 512, 8]) torch.Size([2, 8, 81])\n"
     ]
    },
    {
     "data": {
      "image/png": "[encoded data removed]",
      "text/plain": [
       "<Figure size 640x480 with 1 Axes>"
      ]
     },
     "metadata": {},
     "output_type": "display_data"
    }
   ],
   "source": [
    "_, o, vl_toks, ws = encoder._encode(\n",
    "    input_ids=input_ids, \n",
    "    attn_mask=attn_mask, \n",
    "    token_type_ids=token_type_ids, \n",
    "    imgs=imgs, \n",
    "    return_vl_tokens=True\n",
    ")\n",
    "\n",
    "print(o.shape, ws.shape)\n",
    "\n",
    "pyplot.imshow(ws[0].cpu().detach().numpy(), cmap='GnBu')\n",
    "pyplot.title(f'Attention weights')\n",
    "pyplot.show()"
   ]
  },
  {
   "cell_type": "markdown",
   "id": "8f548aa8-bcb1-412a-a0a5-927b50abf2d0",
   "metadata": {},
   "source": [
    "### Encoder forward"
   ]
  },
  {
   "cell_type": "code",
   "execution_count": null,
   "id": "0c6a1d42-36e9-4b3a-8fec-77da1ca31529",
   "metadata": {},
   "outputs": [],
   "source": [
    "%%time\n",
    "\n",
    "text_enc_h_state, learned_tokens, spatial_attn_weights = encoder(\n",
    "    input_ids=input_ids,\n",
    "    attn_mask=attn_mask,\n",
    "    token_type_ids=token_type_ids,\n",
    "    imgs=imgs\n",
    ")\n",
    "\n",
    "learned_tokens.shape, text_enc_h_state.shape, spatial_attn_weights.shape"
   ]
  },
  {
   "cell_type": "code",
   "execution_count": null,
   "id": "954f6cbb-e969-48cc-aad2-d007b21f7d5c",
   "metadata": {},
   "outputs": [],
   "source": []
  },
  {
   "cell_type": "code",
   "execution_count": null,
   "id": "7942af50-3fac-4857-89ce-2a832b4f3954",
   "metadata": {},
   "outputs": [],
   "source": []
  },
  {
   "cell_type": "code",
   "execution_count": null,
   "id": "2cbc167a-e0dd-4495-a28b-728a5434cbed",
   "metadata": {},
   "outputs": [],
   "source": []
  },
  {
   "cell_type": "code",
   "execution_count": null,
   "id": "3f735344-d5e5-4193-a4f8-bde3804622fb",
   "metadata": {},
   "outputs": [],
   "source": []
  },
  {
   "cell_type": "code",
   "execution_count": null,
   "id": "08e79f87-9541-47da-87f3-b514ffc3006c",
   "metadata": {},
   "outputs": [],
   "source": []
  }
 ],
 "metadata": {
  "kernelspec": {
   "display_name": "SMF-BE",
   "language": "python",
   "name": "smf-be"
  },
  "language_info": {
   "codemirror_mode": {
    "name": "ipython",
    "version": 3
   },
   "file_extension": ".py",
   "mimetype": "text/x-python",
   "name": "python",
   "nbconvert_exporter": "python",
   "pygments_lexer": "ipython3",
   "version": "3.10.4"
  }
 },
 "nbformat": 4,
 "nbformat_minor": 5
}
