{
 "cells": [
  {
   "cell_type": "code",
   "execution_count": 1,
   "id": "c7bf9339-13d5-4614-b607-d1f550132b94",
   "metadata": {},
   "outputs": [
    {
     "name": "stdout",
     "output_type": "stream",
     "text": [
      "Tue Jan  2 08:46:18 2024       \n",
      "+---------------------------------------------------------------------------------------+\n",
      "| NVIDIA-SMI 545.23.08              Driver Version: 545.23.08    CUDA Version: 12.3     |\n",
      "|-----------------------------------------+----------------------+----------------------+\n",
      "| GPU  Name                 Persistence-M | Bus-Id        Disp.A | Volatile Uncorr. ECC |\n",
      "| Fan  Temp   Perf          Pwr:Usage/Cap |         Memory-Usage | GPU-Util  Compute M. |\n",
      "|                                         |                      |               MIG M. |\n",
      "|=========================================+======================+======================|\n",
      "|   0  Tesla V100-SXM2-32GB           On  | 00000000:15:00.0 Off |                    0 |\n",
      "| N/A   32C    P0              60W / 300W |      0MiB / 32768MiB |      0%      Default |\n",
      "|                                         |                      |                  N/A |\n",
      "+-----------------------------------------+----------------------+----------------------+\n",
      "                                                                                         \n",
      "+---------------------------------------------------------------------------------------+\n",
      "| Processes:                                                                            |\n",
      "|  GPU   GI   CI        PID   Type   Process name                            GPU Memory |\n",
      "|        ID   ID                                                             Usage      |\n",
      "|=======================================================================================|\n",
      "|  No running processes found                                                           |\n",
      "+---------------------------------------------------------------------------------------+\n"
     ]
    }
   ],
   "source": [
    "!nvidia-smi"
   ]
  },
  {
   "cell_type": "code",
   "execution_count": 2,
   "id": "cbb6a20f-892a-40e4-af92-05de09135f76",
   "metadata": {},
   "outputs": [],
   "source": [
    "import warnings\n",
    "warnings.filterwarnings(action=\"ignore\")"
   ]
  },
  {
   "cell_type": "code",
   "execution_count": 3,
   "id": "2522cbc2-4214-45af-85b7-f3549e411049",
   "metadata": {},
   "outputs": [],
   "source": [
    "import lightning.pytorch as pl\n",
    "from lightning.pytorch import Trainer, seed_everything\n",
    "\n",
    "import os\n",
    "\n",
    "from pprint import pprint\n",
    "\n",
    "import sys\n",
    "sys.path.append(\"../src\")\n",
    "\n",
    "from tqdm.auto import tqdm\n",
    "import torch\n",
    "import torch.nn as nn\n",
    "from torch.optim import lr_scheduler\n",
    "from torchinfo import summary"
   ]
  },
  {
   "cell_type": "code",
   "execution_count": 4,
   "id": "23dcf435-8c97-49b8-87a5-42353b27a8da",
   "metadata": {},
   "outputs": [],
   "source": [
    "%load_ext autoreload\n",
    "%autoreload 2\n",
    "\n",
    "os.environ[\"TOKENIZERS_PARALLELISM\"] = \"false\"\n",
    "os.environ[\"CUDA_LAUNCH_BLOCKING\"] = \"1\"\n",
    "os.environ[\"WANDB__SERVICE_WAIT\"] = \"300\""
   ]
  },
  {
   "cell_type": "code",
   "execution_count": 5,
   "id": "b29375a1-7c3f-456b-8f77-713494ea42a5",
   "metadata": {},
   "outputs": [],
   "source": [
    "import config\n",
    "\n",
    "from dataloader import BEDataModule\n",
    "\n",
    "from rt1 import RTCRAM\n",
    "from utils.model_utils import training_step, validation_step, run_experiment "
   ]
  },
  {
   "cell_type": "markdown",
   "id": "d832e26d-6760-4e1a-85e6-97bd9a2a2803",
   "metadata": {},
   "source": [
    "## Build data module\n"
   ]
  },
  {
   "cell_type": "code",
   "execution_count": 6,
   "id": "1c63a0b1-c292-4e90-ab2c-b35b411e9d3c",
   "metadata": {},
   "outputs": [],
   "source": [
    "dm = BEDataModule()\n",
    "# dm.setup()"
   ]
  },
  {
   "cell_type": "markdown",
   "id": "42036b65-24c1-4ed4-b503-79434d8a2a08",
   "metadata": {},
   "source": [
    "## Build model\n"
   ]
  },
  {
   "cell_type": "code",
   "execution_count": 7,
   "id": "f8a8f261-04a8-4cc3-93df-c2ea0a7a5433",
   "metadata": {},
   "outputs": [
    {
     "name": "stderr",
     "output_type": "stream",
     "text": [
      "INFO:timm.models._builder:Loading pretrained weights from Hugging Face hub (timm/efficientnet_b3.ra2_in1k)\n",
      "INFO:timm.models._hub:[timm/efficientnet_b3.ra2_in1k] Safe alternative available for 'pytorch_model.bin' (as 'model.safetensors'). Loading weights using safetensors.\n"
     ]
    }
   ],
   "source": [
    "rt1 = RTCRAM(\n",
    "    cnn_bacnbone=config.SELECTED_CNN_BACKBONE, \n",
    "    num_res_blocks=config.NUM_RES_BLOCKS,\n",
    "    freeze_cnn_backbone=config.FREEZE_CNN,\n",
    "    args=None\n",
    ").cuda()"
   ]
  },
  {
   "cell_type": "code",
   "execution_count": 8,
   "id": "c156a53d-dccc-4cd4-a2b7-073e0817105c",
   "metadata": {},
   "outputs": [
    {
     "data": {
      "text/plain": [
       "==========================================================================================\n",
       "Layer (type:depth-idx)                                            Param #\n",
       "==========================================================================================\n",
       "RTCRAM                                                            --\n",
       "├─RTEncoder: 1-1                                                  --\n",
       "│    └─TextEncoder: 2-1                                           --\n",
       "│    │    └─BertModel: 3-1                                        (28,763,648)\n",
       "│    │    └─Dropout: 3-2                                          --\n",
       "│    └─FiLMEncoder: 2-2                                           --\n",
       "│    │    └─ImageFeatureExtractor: 3-3                            10,300,456\n",
       "│    │    └─ModuleList: 3-4                                       6,340,608\n",
       "│    └─TokenLearnerV11: 2-3                                       --\n",
       "│    │    └─Sequential: 3-5                                       134,408\n",
       "├─RTDecoder: 1-2                                                  --\n",
       "│    └─TransformerDecoder: 2-4                                    --\n",
       "│    │    └─EmbeddingLayer: 3-6                                   52,224\n",
       "│    │    └─ModuleList: 3-7                                       6,308,864\n",
       "│    └─LayerNorm: 2-5                                             1,024\n",
       "│    └─ActionGenerator: 2-6                                       --\n",
       "│    │    └─Sequential: 3-8                                       26,163\n",
       "├─CrossEntropyLoss: 1-3                                           --\n",
       "├─CharErrorRate: 1-4                                              --\n",
       "├─WordErrorRate: 1-5                                              --\n",
       "==========================================================================================\n",
       "Total params: 51,927,395\n",
       "Trainable params: 13,060,411\n",
       "Non-trainable params: 38,866,984\n",
       "=========================================================================================="
      ]
     },
     "execution_count": 8,
     "metadata": {},
     "output_type": "execute_result"
    }
   ],
   "source": [
    "# print(rt1)\n",
    "summary(model=rt1)"
   ]
  },
  {
   "cell_type": "markdown",
   "id": "b8ac21f1-cf9d-442e-a642-138be9f0106a",
   "metadata": {},
   "source": [
    "## Training config"
   ]
  },
  {
   "cell_type": "code",
   "execution_count": 9,
   "id": "6b195d67-368c-4d9b-a886-ecc8657aa785",
   "metadata": {},
   "outputs": [],
   "source": [
    "loss_fn = nn.CrossEntropyLoss(\n",
    "    ignore_index=config.TGT_PAD_TOK_ID, \n",
    "    label_smoothing=config.LABEL_SMOOTHING\n",
    ")\n",
    "opt = getattr(torch.optim, config.OPTIMIZER)(\n",
    "    params=[p for p in rt1.parameters() if p.requires_grad], \n",
    "    lr=config.LR,\n",
    "    weight_decay=config.WEIGHT_DECAY\n",
    ")\n",
    "\n",
    "scheduler = getattr(lr_scheduler, config.LR_SCHEDULER[\"type\"])(**config.LR_SCHEDULER[\"params\"], optimizer=opt)"
   ]
  },
  {
   "cell_type": "markdown",
   "id": "c2a28025-69e4-4722-9157-0f4b75785706",
   "metadata": {},
   "source": [
    "## Run experiment"
   ]
  },
  {
   "cell_type": "code",
   "execution_count": null,
   "id": "39c67dfe-3f7a-4ff0-a76b-131ca91aae34",
   "metadata": {},
   "outputs": [
    {
     "name": "stderr",
     "output_type": "stream",
     "text": [
      "INFO:root:Training on 3868 samples.\n",
      "INFO:root:Validating on 640 samples.\n",
      "INFO:root:Testing on 250 samples.\n"
     ]
    },
    {
     "name": "stdout",
     "output_type": "stream",
     "text": [
      "Total # examples: 4758\n"
     ]
    },
    {
     "name": "stderr",
     "output_type": "stream",
     "text": [
      "Epoch 1/80 - (Train 96.7%): : 34it [06:12, 10.94s/it, train_loss=4.0983, train_loss_step=4.0983, val_CER=0.6855, val_Loss=7.0422, val_WER=0.9375]                          \n",
      "Epoch 2/80 - (Train 96.7%): : 34it [06:03, 10.68s/it, train_loss=3.4416, train_loss_step=3.4416, val_CER=0.7967, val_Loss=7.0422, val_WER=0.9375]                          \n",
      "Epoch 3/80 - (Train 96.7%): : 34it [06:04, 10.73s/it, train_loss=3.1508, train_loss_step=3.1508, val_CER=0.6694, val_Loss=7.0422, val_WER=0.7500]                          \n",
      "Epoch 4/80 - (Train 96.7%): : 34it [06:00, 10.60s/it, train_loss=2.8846, train_loss_step=2.8846, val_CER=1.1652, val_Loss=6.7168, val_WER=0.6250]                          \n",
      "Epoch 5/80 - (Train 96.7%): : 34it [06:05, 10.75s/it, train_loss=2.6442, train_loss_step=2.6442, val_CER=0.7402, val_Loss=6.7168, val_WER=0.8125]                          \n",
      "Epoch 6/80 - (Train 96.7%): : 34it [06:07, 10.80s/it, train_loss=2.4402, train_loss_step=2.4402, val_CER=1.1870, val_Loss=6.7168, val_WER=0.7500]                          \n",
      "Epoch 7/80 - (Train 96.7%): : 34it [06:09, 10.86s/it, train_loss=2.2573, train_loss_step=2.2573, val_CER=1.1197, val_Loss=6.7168, val_WER=0.8750]                          \n",
      "Epoch 8/80 - (Train 96.7%): : 34it [06:10, 10.88s/it, train_loss=2.0998, train_loss_step=2.0998, val_CER=1.2966, val_Loss=6.6097, val_WER=0.6875]                          \n",
      "Epoch 9/80 - (Train 96.7%): : 34it [06:05, 10.76s/it, train_loss=1.9717, train_loss_step=1.9717, val_CER=1.1750, val_Loss=6.6097, val_WER=0.7500]                          \n",
      "Epoch 10/80 - (Train 36.7%):  47%|█████████▊           | 14/30 [02:42<02:06,  7.93s/it, CER=0.9231, WER=0.8125, train_loss=1.9717, train_loss_step=1.8893, val_loss=6.6097]"
     ]
    }
   ],
   "source": [
    "trained_model = run_experiment(\n",
    "    model=rt1, \n",
    "    dm=dm, \n",
    "    opt=opt, \n",
    "    loss_fn=loss_fn,\n",
    "    scheduler=scheduler\n",
    ")"
   ]
  },
  {
   "cell_type": "code",
   "execution_count": null,
   "id": "5cbfea61-409d-4185-9566-b46378c663c4",
   "metadata": {},
   "outputs": [],
   "source": []
  },
  {
   "cell_type": "code",
   "execution_count": null,
   "id": "8f298804-71ae-4f0c-9786-aff22709dd68",
   "metadata": {},
   "outputs": [],
   "source": []
  }
 ],
 "metadata": {
  "kernelspec": {
   "display_name": "Python 3 (ipykernel)",
   "language": "python",
   "name": "python3"
  },
  "language_info": {
   "codemirror_mode": {
    "name": "ipython",
    "version": 3
   },
   "file_extension": ".py",
   "mimetype": "text/x-python",
   "name": "python",
   "nbconvert_exporter": "python",
   "pygments_lexer": "ipython3",
   "version": "3.10.4"
  }
 },
 "nbformat": 4,
 "nbformat_minor": 5
}
