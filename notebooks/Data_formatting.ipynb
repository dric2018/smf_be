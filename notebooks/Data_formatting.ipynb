{
 "cells": [
  {
   "cell_type": "markdown",
   "id": "f46d0e98-6550-42b0-84c8-813788ec55f9",
   "metadata": {},
   "source": [
    "## Packages"
   ]
  },
  {
   "cell_type": "code",
   "execution_count": 1,
   "id": "006dd18b-ff30-4869-bcfb-0fd6b2c6f0a5",
   "metadata": {},
   "outputs": [],
   "source": [
    "import IPython\n",
    "%load_ext autoreload\n",
    "\n",
    "%autoreload 2"
   ]
  },
  {
   "cell_type": "code",
   "execution_count": 2,
   "id": "04b4eaab-6c4c-434a-81e1-81119a711bbd",
   "metadata": {},
   "outputs": [],
   "source": [
    "from addict import Dict\n",
    "import albumentations as A\n",
    "from albumentations.pytorch import ToTensorV2\n",
    "\n",
    "import logging\n",
    "\n",
    "from matplotlib import pyplot\n",
    "\n",
    "import numpy as np\n",
    "\n",
    "import os\n",
    "import os.path as osp\n",
    "\n",
    "import pandas as pd\n",
    "from pprint import pprint\n",
    "from PIL import Image\n",
    "\n",
    "import sys\n",
    "from tqdm import tqdm\n",
    "\n",
    "import torch\n",
    "from torch.nn.utils.rnn import pad_sequence\n",
    "from torch.utils.data import Dataset, DataLoader\n",
    "\n",
    "from typing import Union, Any, List\n",
    "\n",
    "# Logger config\n",
    "logging.basicConfig(level=\"INFO\")"
   ]
  },
  {
   "cell_type": "code",
   "execution_count": 3,
   "id": "18f1a0a3-7e45-4b8b-b56d-c0402a2f2c03",
   "metadata": {},
   "outputs": [],
   "source": [
    "sys.path.append(\"../src\")"
   ]
  },
  {
   "cell_type": "code",
   "execution_count": 4,
   "id": "1d3f5462-d903-4eaf-aba4-1a6b732153cd",
   "metadata": {},
   "outputs": [],
   "source": [
    "import config\n",
    "import vocabulary as vocab"
   ]
  },
  {
   "cell_type": "markdown",
   "id": "b2e65581-9732-4129-9421-5b25d970a9fe",
   "metadata": {},
   "source": [
    "## Config"
   ]
  },
  {
   "cell_type": "code",
   "execution_count": 5,
   "id": "152a8450-cd06-4d37-8954-2ec18ade13a1",
   "metadata": {},
   "outputs": [],
   "source": [
    "DATASET_DIR = \"../../../dataset/robot_manipulations/\"\n",
    "FINAL_DATASET_DIR = \"../../../dataset/robot_manipulations/\""
   ]
  },
  {
   "cell_type": "code",
   "execution_count": 6,
   "id": "663ec845-e600-4c58-adb1-211ac1925746",
   "metadata": {},
   "outputs": [
    {
     "data": {
      "text/plain": [
       "['v1', 'v2', 'dataset.csv', 'train.csv', 'test.csv']"
      ]
     },
     "execution_count": 6,
     "metadata": {},
     "output_type": "execute_result"
    }
   ],
   "source": [
    "os.listdir(FINAL_DATASET_DIR)"
   ]
  },
  {
   "cell_type": "markdown",
   "id": "b21c1c83-5c50-4cfc-bcc6-ed4a6987a758",
   "metadata": {
    "tags": []
   },
   "source": [
    "## Pre-processing"
   ]
  },
  {
   "cell_type": "markdown",
   "id": "218309e9-0c61-4df8-8619-8ec93f269d3a",
   "metadata": {
    "jp-MarkdownHeadingCollapsed": true,
    "tags": []
   },
   "source": [
    "### Merge Datasets"
   ]
  },
  {
   "cell_type": "code",
   "execution_count": 8,
   "id": "b42cb709-d378-413f-a917-fa604e25143b",
   "metadata": {},
   "outputs": [
    {
     "data": {
      "text/plain": [
       "((1970, 8), (3156, 8))"
      ]
     },
     "execution_count": 8,
     "metadata": {},
     "output_type": "execute_result"
    }
   ],
   "source": [
    "v1 = pd.read_csv(osp.join(FINAL_DATASET_DIR, \"v1\", \"updated_train.csv\"))\n",
    "v2 = pd.read_csv(osp.join(FINAL_DATASET_DIR, \"v2\", \"updated_trainV2.csv\"))\n",
    "\n",
    "v1.shape, v2.shape"
   ]
  },
  {
   "cell_type": "code",
   "execution_count": 9,
   "id": "228ec3de-070f-403e-933e-5fc83715c012",
   "metadata": {},
   "outputs": [
    {
     "data": {
      "text/html": [
       "<div>\n",
       "<style scoped>\n",
       "    .dataframe tbody tr th:only-of-type {\n",
       "        vertical-align: middle;\n",
       "    }\n",
       "\n",
       "    .dataframe tbody tr th {\n",
       "        vertical-align: top;\n",
       "    }\n",
       "\n",
       "    .dataframe thead th {\n",
       "        text-align: right;\n",
       "    }\n",
       "</style>\n",
       "<table border=\"1\" class=\"dataframe\">\n",
       "  <thead>\n",
       "    <tr style=\"text-align: right;\">\n",
       "      <th></th>\n",
       "      <th>sample_ID</th>\n",
       "      <th>in_state</th>\n",
       "      <th>goal_state</th>\n",
       "      <th>validator</th>\n",
       "      <th>action_description</th>\n",
       "      <th>motor_cmd</th>\n",
       "      <th>len_action_desc</th>\n",
       "      <th>len_motor_cmd</th>\n",
       "    </tr>\n",
       "  </thead>\n",
       "  <tbody>\n",
       "    <tr>\n",
       "      <th>0</th>\n",
       "      <td>1005</td>\n",
       "      <td>0</td>\n",
       "      <td>9</td>\n",
       "      <td>amihretu</td>\n",
       "      <td>put the :BOTTLE to the left of :BOTTLE</td>\n",
       "      <td>:BOTTLE BLUE POSE-9 :BOTTLE RED POSE-2 :BOTTLE...</td>\n",
       "      <td>8</td>\n",
       "      <td>11</td>\n",
       "    </tr>\n",
       "    <tr>\n",
       "      <th>1</th>\n",
       "      <td>1011</td>\n",
       "      <td>0</td>\n",
       "      <td>9</td>\n",
       "      <td>amihretu</td>\n",
       "      <td>move the :BOTTLE left</td>\n",
       "      <td>:BOTTLE BLUE POSE-3 :BOTTLE  #'*leftward-trans...</td>\n",
       "      <td>4</td>\n",
       "      <td>8</td>\n",
       "    </tr>\n",
       "    <tr>\n",
       "      <th>2</th>\n",
       "      <td>1012</td>\n",
       "      <td>0</td>\n",
       "      <td>9</td>\n",
       "      <td>amihretu</td>\n",
       "      <td>put the :BOTTLE to the right of :MUG</td>\n",
       "      <td>:BOTTLE BLUE POSE-7 :MUG RED POSE-3 :BOTTLE  #...</td>\n",
       "      <td>8</td>\n",
       "      <td>11</td>\n",
       "    </tr>\n",
       "    <tr>\n",
       "      <th>3</th>\n",
       "      <td>1013</td>\n",
       "      <td>0</td>\n",
       "      <td>9</td>\n",
       "      <td>amihretu</td>\n",
       "      <td>shift the :CUP backwards</td>\n",
       "      <td>:CUP RED POSE-4 :CUP  #'*backward-transformati...</td>\n",
       "      <td>4</td>\n",
       "      <td>8</td>\n",
       "    </tr>\n",
       "    <tr>\n",
       "      <th>4</th>\n",
       "      <td>1015</td>\n",
       "      <td>0</td>\n",
       "      <td>9</td>\n",
       "      <td>amihretu</td>\n",
       "      <td>shift the :BOTTLE forwards</td>\n",
       "      <td>:BOTTLE GREEN POSE-3 :BOTTLE  #'*forward-trans...</td>\n",
       "      <td>4</td>\n",
       "      <td>8</td>\n",
       "    </tr>\n",
       "  </tbody>\n",
       "</table>\n",
       "</div>"
      ],
      "text/plain": [
       "   sample_ID  in_state  goal_state validator  \\\n",
       "0       1005         0           9  amihretu   \n",
       "1       1011         0           9  amihretu   \n",
       "2       1012         0           9  amihretu   \n",
       "3       1013         0           9  amihretu   \n",
       "4       1015         0           9  amihretu   \n",
       "\n",
       "                       action_description  \\\n",
       "0  put the :BOTTLE to the left of :BOTTLE   \n",
       "1                   move the :BOTTLE left   \n",
       "2    put the :BOTTLE to the right of :MUG   \n",
       "3                shift the :CUP backwards   \n",
       "4              shift the :BOTTLE forwards   \n",
       "\n",
       "                                           motor_cmd  len_action_desc  \\\n",
       "0  :BOTTLE BLUE POSE-9 :BOTTLE RED POSE-2 :BOTTLE...                8   \n",
       "1  :BOTTLE BLUE POSE-3 :BOTTLE  #'*leftward-trans...                4   \n",
       "2  :BOTTLE BLUE POSE-7 :MUG RED POSE-3 :BOTTLE  #...                8   \n",
       "3  :CUP RED POSE-4 :CUP  #'*backward-transformati...                4   \n",
       "4  :BOTTLE GREEN POSE-3 :BOTTLE  #'*forward-trans...                4   \n",
       "\n",
       "   len_motor_cmd  \n",
       "0             11  \n",
       "1              8  \n",
       "2             11  \n",
       "3              8  \n",
       "4              8  "
      ]
     },
     "execution_count": 9,
     "metadata": {},
     "output_type": "execute_result"
    }
   ],
   "source": [
    "v1.head()"
   ]
  },
  {
   "cell_type": "code",
   "execution_count": 10,
   "id": "0315746d-e960-4ec9-846e-141accd0f592",
   "metadata": {},
   "outputs": [
    {
     "data": {
      "text/html": [
       "<div>\n",
       "<style scoped>\n",
       "    .dataframe tbody tr th:only-of-type {\n",
       "        vertical-align: middle;\n",
       "    }\n",
       "\n",
       "    .dataframe tbody tr th {\n",
       "        vertical-align: top;\n",
       "    }\n",
       "\n",
       "    .dataframe thead th {\n",
       "        text-align: right;\n",
       "    }\n",
       "</style>\n",
       "<table border=\"1\" class=\"dataframe\">\n",
       "  <thead>\n",
       "    <tr style=\"text-align: right;\">\n",
       "      <th></th>\n",
       "      <th>sample_ID</th>\n",
       "      <th>in_state</th>\n",
       "      <th>goal_state</th>\n",
       "      <th>validator</th>\n",
       "      <th>action_description</th>\n",
       "      <th>motor_cmd</th>\n",
       "      <th>len_action_desc</th>\n",
       "      <th>len_motor_cmd</th>\n",
       "    </tr>\n",
       "  </thead>\n",
       "  <tbody>\n",
       "    <tr>\n",
       "      <th>0</th>\n",
       "      <td>8208</td>\n",
       "      <td>0</td>\n",
       "      <td>10</td>\n",
       "      <td>amihretu</td>\n",
       "      <td>put the :SPOON in front of :GLOVE</td>\n",
       "      <td>:SPOON RED POSE-9 :GLOVE RED POSE-3 :SPOON  #'...</td>\n",
       "      <td>7</td>\n",
       "      <td>11</td>\n",
       "    </tr>\n",
       "    <tr>\n",
       "      <th>1</th>\n",
       "      <td>8329</td>\n",
       "      <td>0</td>\n",
       "      <td>10</td>\n",
       "      <td>amihretu</td>\n",
       "      <td>put the :BOWL behind :BOWL</td>\n",
       "      <td>:BOWL RED POSE-9 :BOWL BLUE POSE-4 :BOWL  #'*b...</td>\n",
       "      <td>5</td>\n",
       "      <td>11</td>\n",
       "    </tr>\n",
       "    <tr>\n",
       "      <th>2</th>\n",
       "      <td>8350</td>\n",
       "      <td>0</td>\n",
       "      <td>10</td>\n",
       "      <td>amihretu</td>\n",
       "      <td>put the :FORK to the left of :MUG</td>\n",
       "      <td>:FORK BLUE POSE-8 :MUG BLUE POSE-3 :FORK  #'*l...</td>\n",
       "      <td>8</td>\n",
       "      <td>11</td>\n",
       "    </tr>\n",
       "    <tr>\n",
       "      <th>3</th>\n",
       "      <td>8369</td>\n",
       "      <td>0</td>\n",
       "      <td>10</td>\n",
       "      <td>amihretu</td>\n",
       "      <td>put the :KNIFE to the left of :GLASSES</td>\n",
       "      <td>:KNIFE GREEN POSE-6 :GLASSES BLUE POSE-1 :KNIF...</td>\n",
       "      <td>8</td>\n",
       "      <td>11</td>\n",
       "    </tr>\n",
       "    <tr>\n",
       "      <th>4</th>\n",
       "      <td>8395</td>\n",
       "      <td>0</td>\n",
       "      <td>10</td>\n",
       "      <td>amihretu</td>\n",
       "      <td>put the :KNIFE to the left of :GLASSES</td>\n",
       "      <td>:KNIFE GREEN POSE-6 :GLASSES BLUE POSE-1 :KNIF...</td>\n",
       "      <td>8</td>\n",
       "      <td>11</td>\n",
       "    </tr>\n",
       "  </tbody>\n",
       "</table>\n",
       "</div>"
      ],
      "text/plain": [
       "   sample_ID  in_state  goal_state validator  \\\n",
       "0       8208         0          10  amihretu   \n",
       "1       8329         0          10  amihretu   \n",
       "2       8350         0          10  amihretu   \n",
       "3       8369         0          10  amihretu   \n",
       "4       8395         0          10  amihretu   \n",
       "\n",
       "                       action_description  \\\n",
       "0       put the :SPOON in front of :GLOVE   \n",
       "1              put the :BOWL behind :BOWL   \n",
       "2       put the :FORK to the left of :MUG   \n",
       "3  put the :KNIFE to the left of :GLASSES   \n",
       "4  put the :KNIFE to the left of :GLASSES   \n",
       "\n",
       "                                           motor_cmd  len_action_desc  \\\n",
       "0  :SPOON RED POSE-9 :GLOVE RED POSE-3 :SPOON  #'...                7   \n",
       "1  :BOWL RED POSE-9 :BOWL BLUE POSE-4 :BOWL  #'*b...                5   \n",
       "2  :FORK BLUE POSE-8 :MUG BLUE POSE-3 :FORK  #'*l...                8   \n",
       "3  :KNIFE GREEN POSE-6 :GLASSES BLUE POSE-1 :KNIF...                8   \n",
       "4  :KNIFE GREEN POSE-6 :GLASSES BLUE POSE-1 :KNIF...                8   \n",
       "\n",
       "   len_motor_cmd  \n",
       "0             11  \n",
       "1             11  \n",
       "2             11  \n",
       "3             11  \n",
       "4             11  "
      ]
     },
     "execution_count": 10,
     "metadata": {},
     "output_type": "execute_result"
    }
   ],
   "source": [
    "v2.head()"
   ]
  },
  {
   "cell_type": "code",
   "execution_count": 11,
   "id": "84c866ca-90f3-4ba4-9255-2ad1b9d78c9b",
   "metadata": {
    "scrolled": true,
    "tags": []
   },
   "outputs": [
    {
     "data": {
      "text/plain": [
       "852"
      ]
     },
     "execution_count": 11,
     "metadata": {},
     "output_type": "execute_result"
    }
   ],
   "source": [
    "n_collisions = len(set(v1.sample_ID.tolist()).intersection(set(v2.sample_ID.tolist())))\n",
    "n_collisions"
   ]
  },
  {
   "cell_type": "code",
   "execution_count": 12,
   "id": "6d96429a-72d8-41e9-9286-2d6db19f6fc6",
   "metadata": {},
   "outputs": [],
   "source": [
    "v1[\"version\"] = \"v1\"\n",
    "v2[\"version\"] = \"v2\""
   ]
  },
  {
   "cell_type": "code",
   "execution_count": 13,
   "id": "874cfdf6-9702-450c-a25a-7ef0cf0b8871",
   "metadata": {},
   "outputs": [
    {
     "data": {
      "text/html": [
       "<div>\n",
       "<style scoped>\n",
       "    .dataframe tbody tr th:only-of-type {\n",
       "        vertical-align: middle;\n",
       "    }\n",
       "\n",
       "    .dataframe tbody tr th {\n",
       "        vertical-align: top;\n",
       "    }\n",
       "\n",
       "    .dataframe thead th {\n",
       "        text-align: right;\n",
       "    }\n",
       "</style>\n",
       "<table border=\"1\" class=\"dataframe\">\n",
       "  <thead>\n",
       "    <tr style=\"text-align: right;\">\n",
       "      <th></th>\n",
       "      <th>sample_ID</th>\n",
       "      <th>in_state</th>\n",
       "      <th>goal_state</th>\n",
       "      <th>validator</th>\n",
       "      <th>action_description</th>\n",
       "      <th>motor_cmd</th>\n",
       "      <th>len_action_desc</th>\n",
       "      <th>len_motor_cmd</th>\n",
       "      <th>version</th>\n",
       "    </tr>\n",
       "  </thead>\n",
       "  <tbody>\n",
       "    <tr>\n",
       "      <th>0</th>\n",
       "      <td>1005</td>\n",
       "      <td>0</td>\n",
       "      <td>9</td>\n",
       "      <td>amihretu</td>\n",
       "      <td>put the :BOTTLE to the left of :BOTTLE</td>\n",
       "      <td>:BOTTLE BLUE POSE-9 :BOTTLE RED POSE-2 :BOTTLE...</td>\n",
       "      <td>8</td>\n",
       "      <td>11</td>\n",
       "      <td>v1</td>\n",
       "    </tr>\n",
       "    <tr>\n",
       "      <th>1</th>\n",
       "      <td>1011</td>\n",
       "      <td>0</td>\n",
       "      <td>9</td>\n",
       "      <td>amihretu</td>\n",
       "      <td>move the :BOTTLE left</td>\n",
       "      <td>:BOTTLE BLUE POSE-3 :BOTTLE  #'*leftward-trans...</td>\n",
       "      <td>4</td>\n",
       "      <td>8</td>\n",
       "      <td>v1</td>\n",
       "    </tr>\n",
       "  </tbody>\n",
       "</table>\n",
       "</div>"
      ],
      "text/plain": [
       "   sample_ID  in_state  goal_state validator  \\\n",
       "0       1005         0           9  amihretu   \n",
       "1       1011         0           9  amihretu   \n",
       "\n",
       "                       action_description  \\\n",
       "0  put the :BOTTLE to the left of :BOTTLE   \n",
       "1                   move the :BOTTLE left   \n",
       "\n",
       "                                           motor_cmd  len_action_desc  \\\n",
       "0  :BOTTLE BLUE POSE-9 :BOTTLE RED POSE-2 :BOTTLE...                8   \n",
       "1  :BOTTLE BLUE POSE-3 :BOTTLE  #'*leftward-trans...                4   \n",
       "\n",
       "   len_motor_cmd version  \n",
       "0             11      v1  \n",
       "1              8      v1  "
      ]
     },
     "execution_count": 13,
     "metadata": {},
     "output_type": "execute_result"
    }
   ],
   "source": [
    "v1.head(n=2)"
   ]
  },
  {
   "cell_type": "code",
   "execution_count": 14,
   "id": "198313f7-236d-432e-97f6-a5690d7a6dbb",
   "metadata": {},
   "outputs": [
    {
     "data": {
      "text/html": [
       "<div>\n",
       "<style scoped>\n",
       "    .dataframe tbody tr th:only-of-type {\n",
       "        vertical-align: middle;\n",
       "    }\n",
       "\n",
       "    .dataframe tbody tr th {\n",
       "        vertical-align: top;\n",
       "    }\n",
       "\n",
       "    .dataframe thead th {\n",
       "        text-align: right;\n",
       "    }\n",
       "</style>\n",
       "<table border=\"1\" class=\"dataframe\">\n",
       "  <thead>\n",
       "    <tr style=\"text-align: right;\">\n",
       "      <th></th>\n",
       "      <th>sample_ID</th>\n",
       "      <th>in_state</th>\n",
       "      <th>goal_state</th>\n",
       "      <th>validator</th>\n",
       "      <th>action_description</th>\n",
       "      <th>motor_cmd</th>\n",
       "      <th>len_action_desc</th>\n",
       "      <th>len_motor_cmd</th>\n",
       "      <th>version</th>\n",
       "    </tr>\n",
       "  </thead>\n",
       "  <tbody>\n",
       "    <tr>\n",
       "      <th>0</th>\n",
       "      <td>8208</td>\n",
       "      <td>0</td>\n",
       "      <td>10</td>\n",
       "      <td>amihretu</td>\n",
       "      <td>put the :SPOON in front of :GLOVE</td>\n",
       "      <td>:SPOON RED POSE-9 :GLOVE RED POSE-3 :SPOON  #'...</td>\n",
       "      <td>7</td>\n",
       "      <td>11</td>\n",
       "      <td>v2</td>\n",
       "    </tr>\n",
       "    <tr>\n",
       "      <th>1</th>\n",
       "      <td>8329</td>\n",
       "      <td>0</td>\n",
       "      <td>10</td>\n",
       "      <td>amihretu</td>\n",
       "      <td>put the :BOWL behind :BOWL</td>\n",
       "      <td>:BOWL RED POSE-9 :BOWL BLUE POSE-4 :BOWL  #'*b...</td>\n",
       "      <td>5</td>\n",
       "      <td>11</td>\n",
       "      <td>v2</td>\n",
       "    </tr>\n",
       "  </tbody>\n",
       "</table>\n",
       "</div>"
      ],
      "text/plain": [
       "   sample_ID  in_state  goal_state validator  \\\n",
       "0       8208         0          10  amihretu   \n",
       "1       8329         0          10  amihretu   \n",
       "\n",
       "                  action_description  \\\n",
       "0  put the :SPOON in front of :GLOVE   \n",
       "1         put the :BOWL behind :BOWL   \n",
       "\n",
       "                                           motor_cmd  len_action_desc  \\\n",
       "0  :SPOON RED POSE-9 :GLOVE RED POSE-3 :SPOON  #'...                7   \n",
       "1  :BOWL RED POSE-9 :BOWL BLUE POSE-4 :BOWL  #'*b...                5   \n",
       "\n",
       "   len_motor_cmd version  \n",
       "0             11      v2  \n",
       "1             11      v2  "
      ]
     },
     "execution_count": 14,
     "metadata": {},
     "output_type": "execute_result"
    }
   ],
   "source": [
    "v2.head(n=2)"
   ]
  },
  {
   "cell_type": "code",
   "execution_count": 15,
   "id": "b8c90faa-a22b-4a76-9e02-c4b9bb7efe22",
   "metadata": {},
   "outputs": [
    {
     "data": {
      "text/html": [
       "<div>\n",
       "<style scoped>\n",
       "    .dataframe tbody tr th:only-of-type {\n",
       "        vertical-align: middle;\n",
       "    }\n",
       "\n",
       "    .dataframe tbody tr th {\n",
       "        vertical-align: top;\n",
       "    }\n",
       "\n",
       "    .dataframe thead th {\n",
       "        text-align: right;\n",
       "    }\n",
       "</style>\n",
       "<table border=\"1\" class=\"dataframe\">\n",
       "  <thead>\n",
       "    <tr style=\"text-align: right;\">\n",
       "      <th></th>\n",
       "      <th>index</th>\n",
       "      <th>sample_ID</th>\n",
       "      <th>in_state</th>\n",
       "      <th>goal_state</th>\n",
       "      <th>validator</th>\n",
       "      <th>action_description</th>\n",
       "      <th>motor_cmd</th>\n",
       "      <th>len_action_desc</th>\n",
       "      <th>len_motor_cmd</th>\n",
       "      <th>version</th>\n",
       "    </tr>\n",
       "  </thead>\n",
       "  <tbody>\n",
       "    <tr>\n",
       "      <th>1818</th>\n",
       "      <td>161</td>\n",
       "      <td>1355</td>\n",
       "      <td>0</td>\n",
       "      <td>9</td>\n",
       "      <td>amihretu</td>\n",
       "      <td>put the :BOTTLE to the left of :MUG</td>\n",
       "      <td>:BOTTLE BLUE POSE-6 :MUG BLUE POSE-1 :BOTTLE  ...</td>\n",
       "      <td>8</td>\n",
       "      <td>11</td>\n",
       "      <td>v1</td>\n",
       "    </tr>\n",
       "    <tr>\n",
       "      <th>2517</th>\n",
       "      <td>1909</td>\n",
       "      <td>1834</td>\n",
       "      <td>0</td>\n",
       "      <td>10</td>\n",
       "      <td>mdanso</td>\n",
       "      <td>put the :CUP in front of :BREAKFAST-CEREAL</td>\n",
       "      <td>:CUP GREEN POSE-9 :BREAKFAST-CEREAL BLUE POSE-...</td>\n",
       "      <td>7</td>\n",
       "      <td>11</td>\n",
       "      <td>v2</td>\n",
       "    </tr>\n",
       "  </tbody>\n",
       "</table>\n",
       "</div>"
      ],
      "text/plain": [
       "      index  sample_ID  in_state  goal_state validator  \\\n",
       "1818    161       1355         0           9  amihretu   \n",
       "2517   1909       1834         0          10    mdanso   \n",
       "\n",
       "                              action_description  \\\n",
       "1818         put the :BOTTLE to the left of :MUG   \n",
       "2517  put the :CUP in front of :BREAKFAST-CEREAL   \n",
       "\n",
       "                                              motor_cmd  len_action_desc  \\\n",
       "1818  :BOTTLE BLUE POSE-6 :MUG BLUE POSE-1 :BOTTLE  ...                8   \n",
       "2517  :CUP GREEN POSE-9 :BREAKFAST-CEREAL BLUE POSE-...                7   \n",
       "\n",
       "      len_motor_cmd version  \n",
       "1818             11      v1  \n",
       "2517             11      v2  "
      ]
     },
     "execution_count": 15,
     "metadata": {},
     "output_type": "execute_result"
    }
   ],
   "source": [
    "df = pd.concat([v1, v2]).sample(frac=1.).reset_index()\n",
    "\n",
    "df.sample(n=2)"
   ]
  },
  {
   "cell_type": "code",
   "execution_count": 16,
   "id": "e4e071d6-c0db-48ea-beb5-b9743849b078",
   "metadata": {},
   "outputs": [
    {
     "data": {
      "text/plain": [
       "(5126, 10)"
      ]
     },
     "execution_count": 16,
     "metadata": {},
     "output_type": "execute_result"
    }
   ],
   "source": [
    "df.shape"
   ]
  },
  {
   "cell_type": "code",
   "execution_count": 17,
   "id": "c0c06eeb-c30b-4292-aff0-c777c951fdd0",
   "metadata": {},
   "outputs": [
    {
     "data": {
      "text/html": [
       "<div>\n",
       "<style scoped>\n",
       "    .dataframe tbody tr th:only-of-type {\n",
       "        vertical-align: middle;\n",
       "    }\n",
       "\n",
       "    .dataframe tbody tr th {\n",
       "        vertical-align: top;\n",
       "    }\n",
       "\n",
       "    .dataframe thead th {\n",
       "        text-align: right;\n",
       "    }\n",
       "</style>\n",
       "<table border=\"1\" class=\"dataframe\">\n",
       "  <thead>\n",
       "    <tr style=\"text-align: right;\">\n",
       "      <th></th>\n",
       "      <th>count</th>\n",
       "      <th>mean</th>\n",
       "      <th>std</th>\n",
       "      <th>min</th>\n",
       "      <th>25%</th>\n",
       "      <th>50%</th>\n",
       "      <th>75%</th>\n",
       "      <th>max</th>\n",
       "    </tr>\n",
       "  </thead>\n",
       "  <tbody>\n",
       "    <tr>\n",
       "      <th>index</th>\n",
       "      <td>5126.0</td>\n",
       "      <td>1349.601053</td>\n",
       "      <td>847.745597</td>\n",
       "      <td>0.0</td>\n",
       "      <td>640.25</td>\n",
       "      <td>1281.0</td>\n",
       "      <td>1921.75</td>\n",
       "      <td>3155.0</td>\n",
       "    </tr>\n",
       "    <tr>\n",
       "      <th>sample_ID</th>\n",
       "      <td>5126.0</td>\n",
       "      <td>3469.328326</td>\n",
       "      <td>2680.043037</td>\n",
       "      <td>5.0</td>\n",
       "      <td>1419.25</td>\n",
       "      <td>2776.5</td>\n",
       "      <td>4676.25</td>\n",
       "      <td>10002.0</td>\n",
       "    </tr>\n",
       "    <tr>\n",
       "      <th>in_state</th>\n",
       "      <td>5126.0</td>\n",
       "      <td>0.003902</td>\n",
       "      <td>0.197507</td>\n",
       "      <td>0.0</td>\n",
       "      <td>0.00</td>\n",
       "      <td>0.0</td>\n",
       "      <td>0.00</td>\n",
       "      <td>10.0</td>\n",
       "    </tr>\n",
       "    <tr>\n",
       "      <th>goal_state</th>\n",
       "      <td>5126.0</td>\n",
       "      <td>9.420406</td>\n",
       "      <td>0.659789</td>\n",
       "      <td>0.0</td>\n",
       "      <td>9.00</td>\n",
       "      <td>9.0</td>\n",
       "      <td>10.00</td>\n",
       "      <td>10.0</td>\n",
       "    </tr>\n",
       "    <tr>\n",
       "      <th>len_action_desc</th>\n",
       "      <td>5126.0</td>\n",
       "      <td>6.650605</td>\n",
       "      <td>1.560940</td>\n",
       "      <td>4.0</td>\n",
       "      <td>5.00</td>\n",
       "      <td>7.0</td>\n",
       "      <td>8.00</td>\n",
       "      <td>8.0</td>\n",
       "    </tr>\n",
       "    <tr>\n",
       "      <th>len_motor_cmd</th>\n",
       "      <td>5126.0</td>\n",
       "      <td>10.374756</td>\n",
       "      <td>1.218803</td>\n",
       "      <td>6.0</td>\n",
       "      <td>11.00</td>\n",
       "      <td>11.0</td>\n",
       "      <td>11.00</td>\n",
       "      <td>11.0</td>\n",
       "    </tr>\n",
       "  </tbody>\n",
       "</table>\n",
       "</div>"
      ],
      "text/plain": [
       "                  count         mean          std  min      25%     50%  \\\n",
       "index            5126.0  1349.601053   847.745597  0.0   640.25  1281.0   \n",
       "sample_ID        5126.0  3469.328326  2680.043037  5.0  1419.25  2776.5   \n",
       "in_state         5126.0     0.003902     0.197507  0.0     0.00     0.0   \n",
       "goal_state       5126.0     9.420406     0.659789  0.0     9.00     9.0   \n",
       "len_action_desc  5126.0     6.650605     1.560940  4.0     5.00     7.0   \n",
       "len_motor_cmd    5126.0    10.374756     1.218803  6.0    11.00    11.0   \n",
       "\n",
       "                     75%      max  \n",
       "index            1921.75   3155.0  \n",
       "sample_ID        4676.25  10002.0  \n",
       "in_state            0.00     10.0  \n",
       "goal_state         10.00     10.0  \n",
       "len_action_desc     8.00      8.0  \n",
       "len_motor_cmd      11.00     11.0  "
      ]
     },
     "execution_count": 17,
     "metadata": {},
     "output_type": "execute_result"
    }
   ],
   "source": [
    "df.describe().transpose()"
   ]
  },
  {
   "cell_type": "code",
   "execution_count": 18,
   "id": "9071121a-4bf5-421b-905d-c80e16906e8c",
   "metadata": {},
   "outputs": [
    {
     "name": "stdout",
     "output_type": "stream",
     "text": [
      "<class 'pandas.core.frame.DataFrame'>\n",
      "RangeIndex: 5126 entries, 0 to 5125\n",
      "Data columns (total 10 columns):\n",
      " #   Column              Non-Null Count  Dtype \n",
      "---  ------              --------------  ----- \n",
      " 0   index               5126 non-null   int64 \n",
      " 1   sample_ID           5126 non-null   int64 \n",
      " 2   in_state            5126 non-null   int64 \n",
      " 3   goal_state          5126 non-null   int64 \n",
      " 4   validator           5126 non-null   object\n",
      " 5   action_description  5126 non-null   object\n",
      " 6   motor_cmd           5126 non-null   object\n",
      " 7   len_action_desc     5126 non-null   int64 \n",
      " 8   len_motor_cmd       5126 non-null   int64 \n",
      " 9   version             5126 non-null   object\n",
      "dtypes: int64(6), object(4)\n",
      "memory usage: 400.6+ KB\n"
     ]
    }
   ],
   "source": [
    "df.info()"
   ]
  },
  {
   "cell_type": "markdown",
   "id": "a35828be-9712-4152-9282-7d3aab644b7b",
   "metadata": {
    "tags": []
   },
   "source": [
    "## Fixing object identifiers in instructions"
   ]
  },
  {
   "cell_type": "markdown",
   "id": "3ee27d59-7eae-4360-9f47-320b1fc53b2f",
   "metadata": {
    "jp-MarkdownHeadingCollapsed": true,
    "tags": []
   },
   "source": [
    "### Load merged dataset"
   ]
  },
  {
   "cell_type": "code",
   "execution_count": null,
   "id": "e46e4c71-bf37-44e5-abe8-aa3cc5728aae",
   "metadata": {},
   "outputs": [],
   "source": []
  },
  {
   "cell_type": "code",
   "execution_count": 8,
   "id": "882c1662-94cf-44fd-893b-c133e34e7329",
   "metadata": {},
   "outputs": [
    {
     "data": {
      "text/plain": [
       "(5126, 10)"
      ]
     },
     "execution_count": 8,
     "metadata": {},
     "output_type": "execute_result"
    }
   ],
   "source": [
    "df = pd.read_csv(osp.join(FINAL_DATASET_DIR, \"dataset.csv\"))\n",
    "\n",
    "df.shape"
   ]
  },
  {
   "cell_type": "code",
   "execution_count": 9,
   "id": "af81ca87-3042-40a0-a03c-5b32b0dab7bd",
   "metadata": {},
   "outputs": [
    {
     "data": {
      "text/plain": [
       "{':POT': 'pot',\n",
       " ':BLUE-METAL-PLATE': 'blue-metal-plate',\n",
       " ':SPOON': 'spoon',\n",
       " ':SHOE': 'shoe',\n",
       " ':FORK': 'fork',\n",
       " ':BOTTLE': 'bottle',\n",
       " ':GLASSES': 'glasses',\n",
       " ':SPATULA': 'spatula',\n",
       " ':CEREAL': 'cereal',\n",
       " ':WEISSWURST': 'weisswurst',\n",
       " ':BREAKFAST-CEREAL': 'breakfast-cereal',\n",
       " ':GLOVE': 'glove',\n",
       " ':BUTTERMILK': 'buttermilk',\n",
       " ':RED-METAL-PLATE': 'red-metal-plate',\n",
       " ':KNIFE': 'knife',\n",
       " ':MONDAMIN': 'mondamin',\n",
       " ':MUG': 'mug',\n",
       " ':CAP': 'cap',\n",
       " ':BOWL': 'bowl',\n",
       " ':CUBE': 'cube',\n",
       " ':MILK': 'milk',\n",
       " ':PLATE': 'plate',\n",
       " ':CUP': 'cup',\n",
       " ':TRAY': 'tray'}"
      ]
     },
     "execution_count": 9,
     "metadata": {},
     "output_type": "execute_result"
    }
   ],
   "source": [
    "OBJECTS_FIXMAP = {obj:obj.split(\":\")[1].lower() for obj in vocab.OBJECTS}\n",
    "OBJECTS_FIXMAP"
   ]
  },
  {
   "cell_type": "code",
   "execution_count": 10,
   "id": "77c00edb-606a-457e-9c58-e1348230bf45",
   "metadata": {},
   "outputs": [],
   "source": [
    "df[\"action_description\"] = df.action_description.replace(OBJECTS_FIXMAP, regex=True)"
   ]
  },
  {
   "cell_type": "code",
   "execution_count": 11,
   "id": "6776d778-5e79-4f70-b759-ff7bdb892f48",
   "metadata": {},
   "outputs": [
    {
     "data": {
      "text/html": [
       "<div>\n",
       "<style scoped>\n",
       "    .dataframe tbody tr th:only-of-type {\n",
       "        vertical-align: middle;\n",
       "    }\n",
       "\n",
       "    .dataframe tbody tr th {\n",
       "        vertical-align: top;\n",
       "    }\n",
       "\n",
       "    .dataframe thead th {\n",
       "        text-align: right;\n",
       "    }\n",
       "</style>\n",
       "<table border=\"1\" class=\"dataframe\">\n",
       "  <thead>\n",
       "    <tr style=\"text-align: right;\">\n",
       "      <th></th>\n",
       "      <th>index</th>\n",
       "      <th>sample_ID</th>\n",
       "      <th>in_state</th>\n",
       "      <th>goal_state</th>\n",
       "      <th>validator</th>\n",
       "      <th>action_description</th>\n",
       "      <th>motor_cmd</th>\n",
       "      <th>len_action_desc</th>\n",
       "      <th>len_motor_cmd</th>\n",
       "      <th>version</th>\n",
       "    </tr>\n",
       "  </thead>\n",
       "  <tbody>\n",
       "    <tr>\n",
       "      <th>0</th>\n",
       "      <td>186</td>\n",
       "      <td>8667</td>\n",
       "      <td>0</td>\n",
       "      <td>10</td>\n",
       "      <td>amihretu</td>\n",
       "      <td>put the knife to the left of cup</td>\n",
       "      <td>:KNIFE GREEN POSE-7 :CUP BLUE POSE-3 :KNIFE  #...</td>\n",
       "      <td>8</td>\n",
       "      <td>11</td>\n",
       "      <td>v2</td>\n",
       "    </tr>\n",
       "    <tr>\n",
       "      <th>1</th>\n",
       "      <td>3107</td>\n",
       "      <td>5906</td>\n",
       "      <td>0</td>\n",
       "      <td>10</td>\n",
       "      <td>dmusingu</td>\n",
       "      <td>put the bottle behind glove</td>\n",
       "      <td>:BOTTLE GREEN POSE-9 :GLOVE RED POSE-5 :BOTTLE...</td>\n",
       "      <td>5</td>\n",
       "      <td>11</td>\n",
       "      <td>v2</td>\n",
       "    </tr>\n",
       "  </tbody>\n",
       "</table>\n",
       "</div>"
      ],
      "text/plain": [
       "   index  sample_ID  in_state  goal_state validator  \\\n",
       "0    186       8667         0          10  amihretu   \n",
       "1   3107       5906         0          10  dmusingu   \n",
       "\n",
       "                 action_description  \\\n",
       "0  put the knife to the left of cup   \n",
       "1       put the bottle behind glove   \n",
       "\n",
       "                                           motor_cmd  len_action_desc  \\\n",
       "0  :KNIFE GREEN POSE-7 :CUP BLUE POSE-3 :KNIFE  #...                8   \n",
       "1  :BOTTLE GREEN POSE-9 :GLOVE RED POSE-5 :BOTTLE...                5   \n",
       "\n",
       "   len_motor_cmd version  \n",
       "0             11      v2  \n",
       "1             11      v2  "
      ]
     },
     "execution_count": 11,
     "metadata": {},
     "output_type": "execute_result"
    }
   ],
   "source": [
    "df.head(n=2)"
   ]
  },
  {
   "cell_type": "code",
   "execution_count": 12,
   "id": "c792bc4d-3bd5-4ea3-b0ec-0c2f984ae73b",
   "metadata": {},
   "outputs": [
    {
     "data": {
      "text/plain": [
       "604"
      ]
     },
     "execution_count": 12,
     "metadata": {},
     "output_type": "execute_result"
    }
   ],
   "source": [
    "df.action_description.nunique()"
   ]
  },
  {
   "cell_type": "code",
   "execution_count": 15,
   "id": "d8a9b1ff-dbda-4b0d-9e52-2e34353e0404",
   "metadata": {},
   "outputs": [
    {
     "data": {
      "text/plain": [
       "(250, 10)"
      ]
     },
     "execution_count": 15,
     "metadata": {},
     "output_type": "execute_result"
    }
   ],
   "source": [
    "test_samples = df.drop_duplicates(subset=\"action_description\").sample(n=250, random_state=config.SEED).reset_index(drop=True)\n",
    "test_samples.shape"
   ]
  },
  {
   "cell_type": "code",
   "execution_count": 16,
   "id": "49e539ed-6242-4ac9-b675-09357d14f68b",
   "metadata": {},
   "outputs": [
    {
     "data": {
      "text/html": [
       "<div>\n",
       "<style scoped>\n",
       "    .dataframe tbody tr th:only-of-type {\n",
       "        vertical-align: middle;\n",
       "    }\n",
       "\n",
       "    .dataframe tbody tr th {\n",
       "        vertical-align: top;\n",
       "    }\n",
       "\n",
       "    .dataframe thead th {\n",
       "        text-align: right;\n",
       "    }\n",
       "</style>\n",
       "<table border=\"1\" class=\"dataframe\">\n",
       "  <thead>\n",
       "    <tr style=\"text-align: right;\">\n",
       "      <th></th>\n",
       "      <th>index</th>\n",
       "      <th>sample_ID</th>\n",
       "      <th>in_state</th>\n",
       "      <th>goal_state</th>\n",
       "      <th>validator</th>\n",
       "      <th>action_description</th>\n",
       "      <th>motor_cmd</th>\n",
       "      <th>len_action_desc</th>\n",
       "      <th>len_motor_cmd</th>\n",
       "      <th>version</th>\n",
       "    </tr>\n",
       "  </thead>\n",
       "  <tbody>\n",
       "    <tr>\n",
       "      <th>0</th>\n",
       "      <td>535</td>\n",
       "      <td>2146</td>\n",
       "      <td>0</td>\n",
       "      <td>9</td>\n",
       "      <td>cmanouan</td>\n",
       "      <td>put the fork to the left of mondamin</td>\n",
       "      <td>:FORK RED POSE-13 :MONDAMIN BLUE POSE-11 :FORK...</td>\n",
       "      <td>8</td>\n",
       "      <td>11</td>\n",
       "      <td>v1</td>\n",
       "    </tr>\n",
       "    <tr>\n",
       "      <th>1</th>\n",
       "      <td>530</td>\n",
       "      <td>9975</td>\n",
       "      <td>0</td>\n",
       "      <td>10</td>\n",
       "      <td>amihretu</td>\n",
       "      <td>move the breakfast-cereal right</td>\n",
       "      <td>:BREAKFAST-CEREAL BLUE POSE-3 :BREAKFAST-CEREA...</td>\n",
       "      <td>5</td>\n",
       "      <td>8</td>\n",
       "      <td>v2</td>\n",
       "    </tr>\n",
       "    <tr>\n",
       "      <th>2</th>\n",
       "      <td>1331</td>\n",
       "      <td>3679</td>\n",
       "      <td>0</td>\n",
       "      <td>9</td>\n",
       "      <td>mdanso</td>\n",
       "      <td>move the cereal forwards</td>\n",
       "      <td>:CEREAL BLUE POSE-11 :CEREAL  #'*forward-trans...</td>\n",
       "      <td>4</td>\n",
       "      <td>8</td>\n",
       "      <td>v1</td>\n",
       "    </tr>\n",
       "    <tr>\n",
       "      <th>3</th>\n",
       "      <td>1758</td>\n",
       "      <td>1571</td>\n",
       "      <td>0</td>\n",
       "      <td>10</td>\n",
       "      <td>mdanso</td>\n",
       "      <td>put the breakfast-cereal to the left of plate</td>\n",
       "      <td>:BREAKFAST-CEREAL GREEN POSE-7 :PLATE RED POSE...</td>\n",
       "      <td>8</td>\n",
       "      <td>11</td>\n",
       "      <td>v2</td>\n",
       "    </tr>\n",
       "    <tr>\n",
       "      <th>4</th>\n",
       "      <td>2661</td>\n",
       "      <td>3711</td>\n",
       "      <td>0</td>\n",
       "      <td>9</td>\n",
       "      <td>dmusingu</td>\n",
       "      <td>shift the knife forwards</td>\n",
       "      <td>:KNIFE GREEN POSE-2 :KNIFE  #'*forward-transfo...</td>\n",
       "      <td>5</td>\n",
       "      <td>8</td>\n",
       "      <td>v2</td>\n",
       "    </tr>\n",
       "    <tr>\n",
       "      <th>...</th>\n",
       "      <td>...</td>\n",
       "      <td>...</td>\n",
       "      <td>...</td>\n",
       "      <td>...</td>\n",
       "      <td>...</td>\n",
       "      <td>...</td>\n",
       "      <td>...</td>\n",
       "      <td>...</td>\n",
       "      <td>...</td>\n",
       "      <td>...</td>\n",
       "    </tr>\n",
       "    <tr>\n",
       "      <th>245</th>\n",
       "      <td>1881</td>\n",
       "      <td>829</td>\n",
       "      <td>0</td>\n",
       "      <td>9</td>\n",
       "      <td>dmusingu</td>\n",
       "      <td>put the bottle behind pot</td>\n",
       "      <td>:BOTTLE RED POSE-6 :POT BLUE POSE-2 :BOTTLE  #...</td>\n",
       "      <td>5</td>\n",
       "      <td>11</td>\n",
       "      <td>v1</td>\n",
       "    </tr>\n",
       "    <tr>\n",
       "      <th>246</th>\n",
       "      <td>544</td>\n",
       "      <td>2165</td>\n",
       "      <td>0</td>\n",
       "      <td>9</td>\n",
       "      <td>cmanouan</td>\n",
       "      <td>put the fork behind mondamin</td>\n",
       "      <td>:FORK GREEN POSE-13 :MONDAMIN BLUE POSE-11 :FO...</td>\n",
       "      <td>5</td>\n",
       "      <td>11</td>\n",
       "      <td>v1</td>\n",
       "    </tr>\n",
       "    <tr>\n",
       "      <th>247</th>\n",
       "      <td>76</td>\n",
       "      <td>8200</td>\n",
       "      <td>0</td>\n",
       "      <td>10</td>\n",
       "      <td>amihretu</td>\n",
       "      <td>put the milk behind fork</td>\n",
       "      <td>:MILK GREEN POSE-8 :FORK BLUE POSE-5 :MILK  #'...</td>\n",
       "      <td>5</td>\n",
       "      <td>11</td>\n",
       "      <td>v2</td>\n",
       "    </tr>\n",
       "    <tr>\n",
       "      <th>248</th>\n",
       "      <td>1622</td>\n",
       "      <td>1335</td>\n",
       "      <td>0</td>\n",
       "      <td>8</td>\n",
       "      <td>mdanso</td>\n",
       "      <td>put the fork in front of blue-metal-plate</td>\n",
       "      <td>:FORK BLUE POSE-7 :BLUE-METAL-PLATE GREEN POSE...</td>\n",
       "      <td>7</td>\n",
       "      <td>11</td>\n",
       "      <td>v2</td>\n",
       "    </tr>\n",
       "    <tr>\n",
       "      <th>249</th>\n",
       "      <td>2065</td>\n",
       "      <td>2332</td>\n",
       "      <td>0</td>\n",
       "      <td>10</td>\n",
       "      <td>mdanso</td>\n",
       "      <td>put the cereal in front of bowl</td>\n",
       "      <td>:CEREAL RED POSE-10 :BOWL GREEN POSE-2 :CEREAL...</td>\n",
       "      <td>7</td>\n",
       "      <td>11</td>\n",
       "      <td>v2</td>\n",
       "    </tr>\n",
       "  </tbody>\n",
       "</table>\n",
       "<p>250 rows × 10 columns</p>\n",
       "</div>"
      ],
      "text/plain": [
       "     index  sample_ID  in_state  goal_state validator  \\\n",
       "0      535       2146         0           9  cmanouan   \n",
       "1      530       9975         0          10  amihretu   \n",
       "2     1331       3679         0           9    mdanso   \n",
       "3     1758       1571         0          10    mdanso   \n",
       "4     2661       3711         0           9  dmusingu   \n",
       "..     ...        ...       ...         ...       ...   \n",
       "245   1881        829         0           9  dmusingu   \n",
       "246    544       2165         0           9  cmanouan   \n",
       "247     76       8200         0          10  amihretu   \n",
       "248   1622       1335         0           8    mdanso   \n",
       "249   2065       2332         0          10    mdanso   \n",
       "\n",
       "                                action_description  \\\n",
       "0             put the fork to the left of mondamin   \n",
       "1                 move the breakfast-cereal right    \n",
       "2                         move the cereal forwards   \n",
       "3    put the breakfast-cereal to the left of plate   \n",
       "4                        shift the knife forwards    \n",
       "..                                             ...   \n",
       "245                      put the bottle behind pot   \n",
       "246                   put the fork behind mondamin   \n",
       "247                       put the milk behind fork   \n",
       "248      put the fork in front of blue-metal-plate   \n",
       "249                put the cereal in front of bowl   \n",
       "\n",
       "                                             motor_cmd  len_action_desc  \\\n",
       "0    :FORK RED POSE-13 :MONDAMIN BLUE POSE-11 :FORK...                8   \n",
       "1    :BREAKFAST-CEREAL BLUE POSE-3 :BREAKFAST-CEREA...                5   \n",
       "2    :CEREAL BLUE POSE-11 :CEREAL  #'*forward-trans...                4   \n",
       "3    :BREAKFAST-CEREAL GREEN POSE-7 :PLATE RED POSE...                8   \n",
       "4    :KNIFE GREEN POSE-2 :KNIFE  #'*forward-transfo...                5   \n",
       "..                                                 ...              ...   \n",
       "245  :BOTTLE RED POSE-6 :POT BLUE POSE-2 :BOTTLE  #...                5   \n",
       "246  :FORK GREEN POSE-13 :MONDAMIN BLUE POSE-11 :FO...                5   \n",
       "247  :MILK GREEN POSE-8 :FORK BLUE POSE-5 :MILK  #'...                5   \n",
       "248  :FORK BLUE POSE-7 :BLUE-METAL-PLATE GREEN POSE...                7   \n",
       "249  :CEREAL RED POSE-10 :BOWL GREEN POSE-2 :CEREAL...                7   \n",
       "\n",
       "     len_motor_cmd version  \n",
       "0               11      v1  \n",
       "1                8      v2  \n",
       "2                8      v1  \n",
       "3               11      v2  \n",
       "4                8      v2  \n",
       "..             ...     ...  \n",
       "245             11      v1  \n",
       "246             11      v1  \n",
       "247             11      v2  \n",
       "248             11      v2  \n",
       "249             11      v2  \n",
       "\n",
       "[250 rows x 10 columns]"
      ]
     },
     "execution_count": 16,
     "metadata": {},
     "output_type": "execute_result"
    }
   ],
   "source": [
    "test_samples"
   ]
  },
  {
   "cell_type": "code",
   "execution_count": 17,
   "id": "7dd81b0c-8bdd-4418-a562-ae4acd64b428",
   "metadata": {},
   "outputs": [
    {
     "data": {
      "text/plain": [
       "(4876, 10)"
      ]
     },
     "execution_count": 17,
     "metadata": {},
     "output_type": "execute_result"
    }
   ],
   "source": [
    "train_samples = df[~df.index.isin(test_samples.index)].reset_index(drop=True)\n",
    "train_samples.shape"
   ]
  },
  {
   "cell_type": "code",
   "execution_count": 18,
   "id": "ee5f6ec7-aff3-4c0f-b52c-b0d3e8556e62",
   "metadata": {},
   "outputs": [
    {
     "data": {
      "text/plain": [
       "True"
      ]
     },
     "execution_count": 18,
     "metadata": {},
     "output_type": "execute_result"
    }
   ],
   "source": [
    "(train_samples.shape[0] + test_samples.shape[0]) == df.shape[0]"
   ]
  },
  {
   "cell_type": "code",
   "execution_count": null,
   "id": "0cfcc787-2059-47ce-a96b-5576a2e044fa",
   "metadata": {},
   "outputs": [],
   "source": []
  },
  {
   "cell_type": "code",
   "execution_count": null,
   "id": "496cc530-3e38-448f-99f3-87181f483e88",
   "metadata": {},
   "outputs": [],
   "source": []
  },
  {
   "cell_type": "code",
   "execution_count": 19,
   "id": "0f59f51e-869b-4492-bfd0-2e3b3078faa8",
   "metadata": {},
   "outputs": [],
   "source": [
    "train_samples[[\n",
    "    \"sample_ID\",\n",
    "    \"in_state\",\n",
    "    \"goal_state\",\n",
    "    \"action_description\",\n",
    "    \"motor_cmd\",\n",
    "    \"len_action_desc\",\n",
    "    \"len_motor_cmd\",\n",
    "    \"version\"\n",
    "]].to_csv(osp.join(FINAL_DATASET_DIR, \"train.csv\"), index=False)\n",
    "\n",
    "test_samples[[\n",
    "    \"sample_ID\",\n",
    "    \"in_state\",\n",
    "    \"goal_state\",\n",
    "    \"action_description\",\n",
    "    \"motor_cmd\",\n",
    "    \"len_action_desc\",\n",
    "    \"len_motor_cmd\",\n",
    "    \"version\"\n",
    "]].to_csv(osp.join(FINAL_DATASET_DIR, \"test.csv\"), index=False)"
   ]
  },
  {
   "cell_type": "markdown",
   "id": "d2493518-b9db-4828-8900-b25a3d4631c5",
   "metadata": {},
   "source": [
    "# Edit sets"
   ]
  },
  {
   "cell_type": "code",
   "execution_count": 21,
   "id": "80d8d269-8320-4d64-9452-09f6a3356dfa",
   "metadata": {},
   "outputs": [],
   "source": [
    "train = pd.read_csv(osp.join(FINAL_DATASET_DIR, \"train.csv\"))"
   ]
  },
  {
   "cell_type": "code",
   "execution_count": 22,
   "id": "72c0a754-821a-4331-a770-0135d87ef7cd",
   "metadata": {},
   "outputs": [
    {
     "data": {
      "text/html": [
       "<div>\n",
       "<style scoped>\n",
       "    .dataframe tbody tr th:only-of-type {\n",
       "        vertical-align: middle;\n",
       "    }\n",
       "\n",
       "    .dataframe tbody tr th {\n",
       "        vertical-align: top;\n",
       "    }\n",
       "\n",
       "    .dataframe thead th {\n",
       "        text-align: right;\n",
       "    }\n",
       "</style>\n",
       "<table border=\"1\" class=\"dataframe\">\n",
       "  <thead>\n",
       "    <tr style=\"text-align: right;\">\n",
       "      <th></th>\n",
       "      <th>sample_ID</th>\n",
       "      <th>in_state</th>\n",
       "      <th>goal_state</th>\n",
       "      <th>action_description</th>\n",
       "      <th>motor_cmd</th>\n",
       "      <th>len_action_desc</th>\n",
       "      <th>len_motor_cmd</th>\n",
       "      <th>version</th>\n",
       "    </tr>\n",
       "  </thead>\n",
       "  <tbody>\n",
       "    <tr>\n",
       "      <th>0</th>\n",
       "      <td>7294</td>\n",
       "      <td>0</td>\n",
       "      <td>10</td>\n",
       "      <td>put the fork to the right of buttermilk</td>\n",
       "      <td>:FORK GREEN POSE-9 :BUTTERMILK GREEN POSE-2 :F...</td>\n",
       "      <td>8</td>\n",
       "      <td>11</td>\n",
       "      <td>v2</td>\n",
       "    </tr>\n",
       "    <tr>\n",
       "      <th>1</th>\n",
       "      <td>405</td>\n",
       "      <td>0</td>\n",
       "      <td>8</td>\n",
       "      <td>move the bottle backwards</td>\n",
       "      <td>:BOTTLE RED POSE-2 :BOTTLE  #'*backward-transf...</td>\n",
       "      <td>4</td>\n",
       "      <td>8</td>\n",
       "      <td>v1</td>\n",
       "    </tr>\n",
       "    <tr>\n",
       "      <th>2</th>\n",
       "      <td>4235</td>\n",
       "      <td>0</td>\n",
       "      <td>10</td>\n",
       "      <td>put the bottle to the left of breakfast-cereal</td>\n",
       "      <td>:BOTTLE RED POSE-7 :BREAKFAST-CEREAL BLUE POSE...</td>\n",
       "      <td>8</td>\n",
       "      <td>11</td>\n",
       "      <td>v2</td>\n",
       "    </tr>\n",
       "    <tr>\n",
       "      <th>3</th>\n",
       "      <td>6990</td>\n",
       "      <td>0</td>\n",
       "      <td>10</td>\n",
       "      <td>put the milk in front of bottle</td>\n",
       "      <td>:MILK BLUE POSE-8 :BOTTLE RED POSE-4 :MILK  #'...</td>\n",
       "      <td>7</td>\n",
       "      <td>11</td>\n",
       "      <td>v2</td>\n",
       "    </tr>\n",
       "    <tr>\n",
       "      <th>4</th>\n",
       "      <td>7096</td>\n",
       "      <td>0</td>\n",
       "      <td>10</td>\n",
       "      <td>put the cup in front of glasses</td>\n",
       "      <td>:CUP GREEN POSE-6 :GLASSES RED POSE-2 :CUP  #'...</td>\n",
       "      <td>7</td>\n",
       "      <td>11</td>\n",
       "      <td>v2</td>\n",
       "    </tr>\n",
       "  </tbody>\n",
       "</table>\n",
       "</div>"
      ],
      "text/plain": [
       "   sample_ID  in_state  goal_state  \\\n",
       "0       7294         0          10   \n",
       "1        405         0           8   \n",
       "2       4235         0          10   \n",
       "3       6990         0          10   \n",
       "4       7096         0          10   \n",
       "\n",
       "                               action_description  \\\n",
       "0         put the fork to the right of buttermilk   \n",
       "1                       move the bottle backwards   \n",
       "2  put the bottle to the left of breakfast-cereal   \n",
       "3                 put the milk in front of bottle   \n",
       "4                 put the cup in front of glasses   \n",
       "\n",
       "                                           motor_cmd  len_action_desc  \\\n",
       "0  :FORK GREEN POSE-9 :BUTTERMILK GREEN POSE-2 :F...                8   \n",
       "1  :BOTTLE RED POSE-2 :BOTTLE  #'*backward-transf...                4   \n",
       "2  :BOTTLE RED POSE-7 :BREAKFAST-CEREAL BLUE POSE...                8   \n",
       "3  :MILK BLUE POSE-8 :BOTTLE RED POSE-4 :MILK  #'...                7   \n",
       "4  :CUP GREEN POSE-6 :GLASSES RED POSE-2 :CUP  #'...                7   \n",
       "\n",
       "   len_motor_cmd version  \n",
       "0             11      v2  \n",
       "1              8      v1  \n",
       "2             11      v2  \n",
       "3             11      v2  \n",
       "4             11      v2  "
      ]
     },
     "execution_count": 22,
     "metadata": {},
     "output_type": "execute_result"
    }
   ],
   "source": [
    "train.head()"
   ]
  },
  {
   "cell_type": "code",
   "execution_count": 23,
   "id": "59850245-57b4-4844-8e7b-9c961b359c0b",
   "metadata": {},
   "outputs": [
    {
     "data": {
      "text/plain": [
       "(4876, 8)"
      ]
     },
     "execution_count": 23,
     "metadata": {},
     "output_type": "execute_result"
    }
   ],
   "source": [
    "train.shape"
   ]
  },
  {
   "cell_type": "code",
   "execution_count": 57,
   "id": "c950449f-a363-434c-b239-c7f5a8ceafca",
   "metadata": {},
   "outputs": [],
   "source": [
    "TO_REMOVE = [\n",
    "    121, 8536, 8732, 853, 8369, 8780, 2974, 8849, 8688, 86,\n",
    "    8600\n",
    "]"
   ]
  },
  {
   "cell_type": "code",
   "execution_count": 58,
   "id": "956675ba-5b49-4741-aeb1-62e5a4320c91",
   "metadata": {},
   "outputs": [],
   "source": [
    "train = train[~train[\"sample_ID\"].isin(TO_REMOVE)].reset_index(drop=True)\n",
    "train.to_csv(osp.join(FINAL_DATASET_DIR, \"train.csv\"), index=False)"
   ]
  },
  {
   "cell_type": "code",
   "execution_count": 59,
   "id": "81530c24-fe56-4951-a919-d89a8e8bcaa8",
   "metadata": {},
   "outputs": [
    {
     "data": {
      "text/plain": [
       "(4864, 8)"
      ]
     },
     "execution_count": 59,
     "metadata": {},
     "output_type": "execute_result"
    }
   ],
   "source": [
    "train.shape"
   ]
  },
  {
   "cell_type": "code",
   "execution_count": null,
   "id": "7afc4f98-53ea-40ee-9c83-72eb0d8d0e6e",
   "metadata": {},
   "outputs": [],
   "source": []
  },
  {
   "cell_type": "code",
   "execution_count": null,
   "id": "54e8a700-19b3-46e5-81f8-ad0e37629e37",
   "metadata": {},
   "outputs": [],
   "source": []
  },
  {
   "cell_type": "code",
   "execution_count": null,
   "id": "5b894f49-760b-418a-93bc-41f32673ac9f",
   "metadata": {},
   "outputs": [],
   "source": []
  },
  {
   "cell_type": "code",
   "execution_count": null,
   "id": "0a4719ad-7205-4292-936f-00f679947b8b",
   "metadata": {},
   "outputs": [],
   "source": []
  },
  {
   "cell_type": "code",
   "execution_count": 11,
   "id": "161c8c57-8311-4807-adad-c28ba607fd22",
   "metadata": {},
   "outputs": [],
   "source": [
    "\n",
    "# Define the root directory to start the search\n",
    "root_directory = osp.join(FINAL_DATASET_DIR, \"v2\")  # Replace with the path to your directory\n",
    "\n",
    "# Initialize lists to store folder names with incorrect file counts\n",
    "folders_with_incorrect_counts = []\n",
    "\n",
    "# Function to count files in a folder\n",
    "def count_files_in_folder(folder_path):\n",
    "    try:\n",
    "        file_count = len([f for f in os.listdir(folder_path) if os.path.isfile(os.path.join(folder_path, f))])\n",
    "        return file_count\n",
    "    except FileNotFoundError:\n",
    "        return 0"
   ]
  },
  {
   "cell_type": "code",
   "execution_count": 73,
   "id": "b807cfb1-7368-44d5-a55c-68569773eedb",
   "metadata": {},
   "outputs": [],
   "source": [
    "# Traverse subfolders and check file counts\n",
    "for root, dirs, files in os.walk(root_directory):\n",
    "    for folder_name in dirs:\n",
    "        folder_path = os.path.join(root, folder_name)\n",
    "        file_count = count_files_in_folder(folder_path)\n",
    "        \n",
    "        # Check if the file count is not 9 or 11\n",
    "        if file_count != 9 and file_count != 11:\n",
    "            folders_with_incorrect_counts.append(folder_name)"
   ]
  },
  {
   "cell_type": "code",
   "execution_count": 74,
   "id": "f1f01c2f-9c28-40d3-af7c-4a5411ca24d0",
   "metadata": {
    "scrolled": true,
    "tags": []
   },
   "outputs": [],
   "source": [
    "# # Print or store the folders with incorrect file counts\n",
    "# for folder_name in folders_with_incorrect_counts:\n",
    "#     print(f\"Folder '{folder_name}\")\n"
   ]
  },
  {
   "cell_type": "code",
   "execution_count": 76,
   "id": "0ee8f6ec-f7c5-4230-a963-65ddd7d2927f",
   "metadata": {},
   "outputs": [
    {
     "data": {
      "text/plain": [
       "276"
      ]
     },
     "execution_count": 76,
     "metadata": {},
     "output_type": "execute_result"
    }
   ],
   "source": [
    "len(folders_with_incorrect_counts)"
   ]
  },
  {
   "cell_type": "code",
   "execution_count": 81,
   "id": "8da3d5a5-e997-4d52-a000-16627fd5ab65",
   "metadata": {
    "scrolled": true,
    "tags": []
   },
   "outputs": [],
   "source": [
    "folders_with_incorrect_counts = [int(f) for f in folders_with_incorrect_counts]"
   ]
  },
  {
   "cell_type": "code",
   "execution_count": 82,
   "id": "e7b44cf6-c5af-4374-b587-0b41621fdb3f",
   "metadata": {
    "scrolled": true,
    "tags": []
   },
   "outputs": [
    {
     "data": {
      "text/plain": [
       "[382,\n",
       " 3012,\n",
       " 8600,\n",
       " 150,\n",
       " 232,\n",
       " 234,\n",
       " 929,\n",
       " 294,\n",
       " 51,\n",
       " 1637,\n",
       " 94,\n",
       " 2122,\n",
       " 21,\n",
       " 321,\n",
       " 829,\n",
       " 3471,\n",
       " 3354,\n",
       " 380,\n",
       " 162,\n",
       " 9178,\n",
       " 98,\n",
       " 23,\n",
       " 29,\n",
       " 371,\n",
       " 59,\n",
       " 195,\n",
       " 717,\n",
       " 3047,\n",
       " 3736,\n",
       " 253,\n",
       " 155,\n",
       " 314,\n",
       " 2085,\n",
       " 130,\n",
       " 8369,\n",
       " 110,\n",
       " 307,\n",
       " 3711,\n",
       " 1697,\n",
       " 105,\n",
       " 317,\n",
       " 3100,\n",
       " 273,\n",
       " 376,\n",
       " 3503,\n",
       " 67,\n",
       " 70,\n",
       " 3079,\n",
       " 121,\n",
       " 75,\n",
       " 7714,\n",
       " 357,\n",
       " 8780,\n",
       " 9210,\n",
       " 283,\n",
       " 2947,\n",
       " 40,\n",
       " 383,\n",
       " 2928,\n",
       " 4920,\n",
       " 56,\n",
       " 66,\n",
       " 26,\n",
       " 146,\n",
       " 1275,\n",
       " 306,\n",
       " 1131,\n",
       " 2747,\n",
       " 86,\n",
       " 129,\n",
       " 3153,\n",
       " 4129,\n",
       " 4847,\n",
       " 1562,\n",
       " 72,\n",
       " 27,\n",
       " 1726,\n",
       " 90,\n",
       " 156,\n",
       " 1022,\n",
       " 252,\n",
       " 261,\n",
       " 9019,\n",
       " 4097,\n",
       " 9399,\n",
       " 305,\n",
       " 9595,\n",
       " 3251,\n",
       " 3957,\n",
       " 790,\n",
       " 249,\n",
       " 325,\n",
       " 2715,\n",
       " 4388,\n",
       " 8952,\n",
       " 362,\n",
       " 374,\n",
       " 9084,\n",
       " 45,\n",
       " 1107,\n",
       " 313,\n",
       " 106,\n",
       " 1350,\n",
       " 265,\n",
       " 319,\n",
       " 8849,\n",
       " 365,\n",
       " 88,\n",
       " 2058,\n",
       " 6046,\n",
       " 2809,\n",
       " 288,\n",
       " 12,\n",
       " 76,\n",
       " 39,\n",
       " 225,\n",
       " 7653,\n",
       " 8688,\n",
       " 34,\n",
       " 74,\n",
       " 1414,\n",
       " 4630,\n",
       " 71,\n",
       " 102,\n",
       " 4358,\n",
       " 366,\n",
       " 84,\n",
       " 9431,\n",
       " 1418,\n",
       " 50,\n",
       " 853,\n",
       " 863,\n",
       " 131,\n",
       " 145,\n",
       " 8536,\n",
       " 1184,\n",
       " 83,\n",
       " 91,\n",
       " 68,\n",
       " 99,\n",
       " 3325,\n",
       " 3219,\n",
       " 3304,\n",
       " 260,\n",
       " 4466,\n",
       " 53,\n",
       " 54,\n",
       " 9,\n",
       " 9563,\n",
       " 3797,\n",
       " 4214,\n",
       " 220,\n",
       " 52,\n",
       " 35,\n",
       " 243,\n",
       " 32,\n",
       " 158,\n",
       " 236,\n",
       " 1058,\n",
       " 3881,\n",
       " 96,\n",
       " 378,\n",
       " 5,\n",
       " 4497,\n",
       " 125,\n",
       " 308,\n",
       " 3272,\n",
       " 48,\n",
       " 64,\n",
       " 31,\n",
       " 2892,\n",
       " 65,\n",
       " 2974,\n",
       " 109,\n",
       " 372,\n",
       " 142,\n",
       " 13,\n",
       " 1018,\n",
       " 8,\n",
       " 14,\n",
       " 89,\n",
       " 124,\n",
       " 4784,\n",
       " 160,\n",
       " 248,\n",
       " 73,\n",
       " 127,\n",
       " 24,\n",
       " 4888,\n",
       " 85,\n",
       " 126,\n",
       " 9519,\n",
       " 332,\n",
       " 291,\n",
       " 316,\n",
       " 222,\n",
       " 241,\n",
       " 356,\n",
       " 9142,\n",
       " 152,\n",
       " 108,\n",
       " 2833,\n",
       " 4816,\n",
       " 118,\n",
       " 144,\n",
       " 323,\n",
       " 55,\n",
       " 164,\n",
       " 141,\n",
       " 320,\n",
       " 2500,\n",
       " 1127,\n",
       " 134,\n",
       " 2158,\n",
       " 63,\n",
       " 1869,\n",
       " 140,\n",
       " 19,\n",
       " 379,\n",
       " 266,\n",
       " 1471,\n",
       " 1511,\n",
       " 20,\n",
       " 43,\n",
       " 226,\n",
       " 1621,\n",
       " 4759,\n",
       " 47,\n",
       " 255,\n",
       " 230,\n",
       " 3896,\n",
       " 38,\n",
       " 375,\n",
       " 93,\n",
       " 238,\n",
       " 287,\n",
       " 227,\n",
       " 250,\n",
       " 4647,\n",
       " 49,\n",
       " 278,\n",
       " 9116,\n",
       " 3132,\n",
       " 1224,\n",
       " 4434,\n",
       " 1873,\n",
       " 2037,\n",
       " 312,\n",
       " 80,\n",
       " 151,\n",
       " 25,\n",
       " 8395,\n",
       " 97,\n",
       " 3989,\n",
       " 33,\n",
       " 4960,\n",
       " 42,\n",
       " 3532,\n",
       " 224,\n",
       " 2777,\n",
       " 3586,\n",
       " 18,\n",
       " 9778,\n",
       " 359,\n",
       " 298,\n",
       " 104,\n",
       " 119,\n",
       " 3554,\n",
       " 30,\n",
       " 58,\n",
       " 154,\n",
       " 2865,\n",
       " 8732,\n",
       " 1062,\n",
       " 77,\n",
       " 890]"
      ]
     },
     "execution_count": 82,
     "metadata": {},
     "output_type": "execute_result"
    }
   ],
   "source": [
    "folders_with_incorrect_counts"
   ]
  },
  {
   "cell_type": "code",
   "execution_count": 83,
   "id": "3ede3451-8556-410c-8c76-239f2a2510e5",
   "metadata": {},
   "outputs": [],
   "source": [
    "train = train[~train[\"sample_ID\"].isin(folders_with_incorrect_counts)].reset_index(drop=True)\n",
    "train.to_csv(osp.join(FINAL_DATASET_DIR, \"train.csv\"), index=False)"
   ]
  },
  {
   "cell_type": "code",
   "execution_count": 84,
   "id": "7c0e50f3-1994-47e4-9439-4d1ff270b5ee",
   "metadata": {},
   "outputs": [
    {
     "data": {
      "text/plain": [
       "(4508, 8)"
      ]
     },
     "execution_count": 84,
     "metadata": {},
     "output_type": "execute_result"
    }
   ],
   "source": [
    "train.shape"
   ]
  },
  {
   "cell_type": "code",
   "execution_count": 85,
   "id": "21e93e89-6c87-4629-a820-e1f43461f593",
   "metadata": {},
   "outputs": [
    {
     "data": {
      "text/html": [
       "<div>\n",
       "<style scoped>\n",
       "    .dataframe tbody tr th:only-of-type {\n",
       "        vertical-align: middle;\n",
       "    }\n",
       "\n",
       "    .dataframe tbody tr th {\n",
       "        vertical-align: top;\n",
       "    }\n",
       "\n",
       "    .dataframe thead th {\n",
       "        text-align: right;\n",
       "    }\n",
       "</style>\n",
       "<table border=\"1\" class=\"dataframe\">\n",
       "  <thead>\n",
       "    <tr style=\"text-align: right;\">\n",
       "      <th></th>\n",
       "      <th>sample_ID</th>\n",
       "      <th>in_state</th>\n",
       "      <th>goal_state</th>\n",
       "      <th>action_description</th>\n",
       "      <th>motor_cmd</th>\n",
       "      <th>len_action_desc</th>\n",
       "      <th>len_motor_cmd</th>\n",
       "      <th>version</th>\n",
       "    </tr>\n",
       "  </thead>\n",
       "  <tbody>\n",
       "    <tr>\n",
       "      <th>0</th>\n",
       "      <td>7294</td>\n",
       "      <td>0</td>\n",
       "      <td>10</td>\n",
       "      <td>put the fork to the right of buttermilk</td>\n",
       "      <td>:FORK GREEN POSE-9 :BUTTERMILK GREEN POSE-2 :F...</td>\n",
       "      <td>8</td>\n",
       "      <td>11</td>\n",
       "      <td>v2</td>\n",
       "    </tr>\n",
       "    <tr>\n",
       "      <th>1</th>\n",
       "      <td>405</td>\n",
       "      <td>0</td>\n",
       "      <td>8</td>\n",
       "      <td>move the bottle backwards</td>\n",
       "      <td>:BOTTLE RED POSE-2 :BOTTLE  #'*backward-transf...</td>\n",
       "      <td>4</td>\n",
       "      <td>8</td>\n",
       "      <td>v1</td>\n",
       "    </tr>\n",
       "    <tr>\n",
       "      <th>2</th>\n",
       "      <td>4235</td>\n",
       "      <td>0</td>\n",
       "      <td>10</td>\n",
       "      <td>put the bottle to the left of breakfast-cereal</td>\n",
       "      <td>:BOTTLE RED POSE-7 :BREAKFAST-CEREAL BLUE POSE...</td>\n",
       "      <td>8</td>\n",
       "      <td>11</td>\n",
       "      <td>v2</td>\n",
       "    </tr>\n",
       "    <tr>\n",
       "      <th>3</th>\n",
       "      <td>6990</td>\n",
       "      <td>0</td>\n",
       "      <td>10</td>\n",
       "      <td>put the milk in front of bottle</td>\n",
       "      <td>:MILK BLUE POSE-8 :BOTTLE RED POSE-4 :MILK  #'...</td>\n",
       "      <td>7</td>\n",
       "      <td>11</td>\n",
       "      <td>v2</td>\n",
       "    </tr>\n",
       "    <tr>\n",
       "      <th>4</th>\n",
       "      <td>7096</td>\n",
       "      <td>0</td>\n",
       "      <td>10</td>\n",
       "      <td>put the cup in front of glasses</td>\n",
       "      <td>:CUP GREEN POSE-6 :GLASSES RED POSE-2 :CUP  #'...</td>\n",
       "      <td>7</td>\n",
       "      <td>11</td>\n",
       "      <td>v2</td>\n",
       "    </tr>\n",
       "  </tbody>\n",
       "</table>\n",
       "</div>"
      ],
      "text/plain": [
       "   sample_ID  in_state  goal_state  \\\n",
       "0       7294         0          10   \n",
       "1        405         0           8   \n",
       "2       4235         0          10   \n",
       "3       6990         0          10   \n",
       "4       7096         0          10   \n",
       "\n",
       "                               action_description  \\\n",
       "0         put the fork to the right of buttermilk   \n",
       "1                       move the bottle backwards   \n",
       "2  put the bottle to the left of breakfast-cereal   \n",
       "3                 put the milk in front of bottle   \n",
       "4                 put the cup in front of glasses   \n",
       "\n",
       "                                           motor_cmd  len_action_desc  \\\n",
       "0  :FORK GREEN POSE-9 :BUTTERMILK GREEN POSE-2 :F...                8   \n",
       "1  :BOTTLE RED POSE-2 :BOTTLE  #'*backward-transf...                4   \n",
       "2  :BOTTLE RED POSE-7 :BREAKFAST-CEREAL BLUE POSE...                8   \n",
       "3  :MILK BLUE POSE-8 :BOTTLE RED POSE-4 :MILK  #'...                7   \n",
       "4  :CUP GREEN POSE-6 :GLASSES RED POSE-2 :CUP  #'...                7   \n",
       "\n",
       "   len_motor_cmd version  \n",
       "0             11      v2  \n",
       "1              8      v1  \n",
       "2             11      v2  \n",
       "3             11      v2  \n",
       "4             11      v2  "
      ]
     },
     "execution_count": 85,
     "metadata": {},
     "output_type": "execute_result"
    }
   ],
   "source": [
    "train.head()"
   ]
  },
  {
   "cell_type": "markdown",
   "id": "37dea182-26a8-402f-bf1c-2fb817dacccb",
   "metadata": {},
   "source": [
    "## Test dataset"
   ]
  },
  {
   "cell_type": "code",
   "execution_count": 13,
   "id": "6cfe0b18-6cb1-4ddc-a383-14042e193b75",
   "metadata": {},
   "outputs": [
    {
     "data": {
      "text/plain": [
       "[]"
      ]
     },
     "execution_count": 13,
     "metadata": {},
     "output_type": "execute_result"
    }
   ],
   "source": [
    "folders_with_incorrect_counts = [int(f) for f in folders_with_incorrect_counts]\n",
    "folders_with_incorrect_counts"
   ]
  },
  {
   "cell_type": "code",
   "execution_count": 15,
   "id": "5d87b97d-4632-468a-8f19-b9d3f3adc377",
   "metadata": {},
   "outputs": [
    {
     "name": "stdout",
     "output_type": "stream",
     "text": [
      "(249, 8)\n"
     ]
    },
    {
     "data": {
      "text/html": [
       "<div>\n",
       "<style scoped>\n",
       "    .dataframe tbody tr th:only-of-type {\n",
       "        vertical-align: middle;\n",
       "    }\n",
       "\n",
       "    .dataframe tbody tr th {\n",
       "        vertical-align: top;\n",
       "    }\n",
       "\n",
       "    .dataframe thead th {\n",
       "        text-align: right;\n",
       "    }\n",
       "</style>\n",
       "<table border=\"1\" class=\"dataframe\">\n",
       "  <thead>\n",
       "    <tr style=\"text-align: right;\">\n",
       "      <th></th>\n",
       "      <th>sample_ID</th>\n",
       "      <th>in_state</th>\n",
       "      <th>goal_state</th>\n",
       "      <th>action_description</th>\n",
       "      <th>motor_cmd</th>\n",
       "      <th>len_action_desc</th>\n",
       "      <th>len_motor_cmd</th>\n",
       "      <th>version</th>\n",
       "    </tr>\n",
       "  </thead>\n",
       "  <tbody>\n",
       "    <tr>\n",
       "      <th>0</th>\n",
       "      <td>2146</td>\n",
       "      <td>0</td>\n",
       "      <td>9</td>\n",
       "      <td>put the fork to the left of mondamin</td>\n",
       "      <td>:FORK RED POSE-13 :MONDAMIN BLUE POSE-11 :FORK...</td>\n",
       "      <td>8</td>\n",
       "      <td>11</td>\n",
       "      <td>v1</td>\n",
       "    </tr>\n",
       "    <tr>\n",
       "      <th>1</th>\n",
       "      <td>9975</td>\n",
       "      <td>0</td>\n",
       "      <td>10</td>\n",
       "      <td>move the breakfast-cereal right</td>\n",
       "      <td>:BREAKFAST-CEREAL BLUE POSE-3 :BREAKFAST-CEREA...</td>\n",
       "      <td>5</td>\n",
       "      <td>8</td>\n",
       "      <td>v2</td>\n",
       "    </tr>\n",
       "    <tr>\n",
       "      <th>2</th>\n",
       "      <td>3679</td>\n",
       "      <td>0</td>\n",
       "      <td>9</td>\n",
       "      <td>move the cereal forwards</td>\n",
       "      <td>:CEREAL BLUE POSE-11 :CEREAL  #'*forward-trans...</td>\n",
       "      <td>4</td>\n",
       "      <td>8</td>\n",
       "      <td>v1</td>\n",
       "    </tr>\n",
       "    <tr>\n",
       "      <th>3</th>\n",
       "      <td>1571</td>\n",
       "      <td>0</td>\n",
       "      <td>10</td>\n",
       "      <td>put the breakfast-cereal to the left of plate</td>\n",
       "      <td>:BREAKFAST-CEREAL GREEN POSE-7 :PLATE RED POSE...</td>\n",
       "      <td>8</td>\n",
       "      <td>11</td>\n",
       "      <td>v2</td>\n",
       "    </tr>\n",
       "    <tr>\n",
       "      <th>4</th>\n",
       "      <td>3711</td>\n",
       "      <td>0</td>\n",
       "      <td>9</td>\n",
       "      <td>shift the knife forwards</td>\n",
       "      <td>:KNIFE GREEN POSE-2 :KNIFE  #'*forward-transfo...</td>\n",
       "      <td>5</td>\n",
       "      <td>8</td>\n",
       "      <td>v2</td>\n",
       "    </tr>\n",
       "  </tbody>\n",
       "</table>\n",
       "</div>"
      ],
      "text/plain": [
       "   sample_ID  in_state  goal_state  \\\n",
       "0       2146         0           9   \n",
       "1       9975         0          10   \n",
       "2       3679         0           9   \n",
       "3       1571         0          10   \n",
       "4       3711         0           9   \n",
       "\n",
       "                              action_description  \\\n",
       "0           put the fork to the left of mondamin   \n",
       "1               move the breakfast-cereal right    \n",
       "2                       move the cereal forwards   \n",
       "3  put the breakfast-cereal to the left of plate   \n",
       "4                      shift the knife forwards    \n",
       "\n",
       "                                           motor_cmd  len_action_desc  \\\n",
       "0  :FORK RED POSE-13 :MONDAMIN BLUE POSE-11 :FORK...                8   \n",
       "1  :BREAKFAST-CEREAL BLUE POSE-3 :BREAKFAST-CEREA...                5   \n",
       "2  :CEREAL BLUE POSE-11 :CEREAL  #'*forward-trans...                4   \n",
       "3  :BREAKFAST-CEREAL GREEN POSE-7 :PLATE RED POSE...                8   \n",
       "4  :KNIFE GREEN POSE-2 :KNIFE  #'*forward-transfo...                5   \n",
       "\n",
       "   len_motor_cmd version  \n",
       "0             11      v1  \n",
       "1              8      v2  \n",
       "2              8      v1  \n",
       "3             11      v2  \n",
       "4              8      v2  "
      ]
     },
     "execution_count": 15,
     "metadata": {},
     "output_type": "execute_result"
    }
   ],
   "source": [
    "test = pd.read_csv(osp.join(FINAL_DATASET_DIR, \"test.csv\"))\n",
    "print(test.shape)\n",
    "test.head()"
   ]
  },
  {
   "cell_type": "code",
   "execution_count": 9,
   "id": "d827f914-2823-465d-a5ed-3eb60003cc6e",
   "metadata": {},
   "outputs": [],
   "source": [
    "TO_REMOVE = [\n",
    "    8395\n",
    "]"
   ]
  },
  {
   "cell_type": "code",
   "execution_count": 10,
   "id": "7d4d85ae-4aac-4354-8987-421f3c1a4b0d",
   "metadata": {},
   "outputs": [
    {
     "name": "stdout",
     "output_type": "stream",
     "text": [
      "(249, 8)\n"
     ]
    }
   ],
   "source": [
    "test = test[~test[\"sample_ID\"].isin(TO_REMOVE)].reset_index(drop=True)\n",
    "print(test.shape)\n"
   ]
  },
  {
   "cell_type": "code",
   "execution_count": 14,
   "id": "2d2a0109-c0d0-4a8a-9efb-ae0559a5a2fb",
   "metadata": {},
   "outputs": [],
   "source": [
    "test.to_csv(osp.join(FINAL_DATASET_DIR, \"test.csv\"), index=False)"
   ]
  },
  {
   "cell_type": "code",
   "execution_count": null,
   "id": "42b539b8-d4dc-405a-99b4-ac2fd4cf76b4",
   "metadata": {},
   "outputs": [],
   "source": []
  }
 ],
 "metadata": {
  "kernelspec": {
   "display_name": "SMF-BE",
   "language": "python",
   "name": "smf-be"
  },
  "language_info": {
   "codemirror_mode": {
    "name": "ipython",
    "version": 3
   },
   "file_extension": ".py",
   "mimetype": "text/x-python",
   "name": "python",
   "nbconvert_exporter": "python",
   "pygments_lexer": "ipython3",
   "version": "3.10.4"
  }
 },
 "nbformat": 4,
 "nbformat_minor": 5
}
