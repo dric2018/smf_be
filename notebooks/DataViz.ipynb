{
 "cells": [
  {
   "cell_type": "markdown",
   "id": "15694634-601f-48c5-9a1a-6b04618be0de",
   "metadata": {},
   "source": [
    "## Device check"
   ]
  },
  {
   "cell_type": "code",
   "execution_count": 1,
   "id": "3d65a93f-c011-481d-8792-0d2f4b554c94",
   "metadata": {},
   "outputs": [
    {
     "name": "stdout",
     "output_type": "stream",
     "text": [
      "Fri Oct 20 03:15:53 2023       \n",
      "+-----------------------------------------------------------------------------+\n",
      "| NVIDIA-SMI 525.60.13    Driver Version: 525.60.13    CUDA Version: 12.0     |\n",
      "|-------------------------------+----------------------+----------------------+\n",
      "| GPU  Name        Persistence-M| Bus-Id        Disp.A | Volatile Uncorr. ECC |\n",
      "| Fan  Temp  Perf  Pwr:Usage/Cap|         Memory-Usage | GPU-Util  Compute M. |\n",
      "|                               |                      |               MIG M. |\n",
      "|===============================+======================+======================|\n",
      "|   0  Tesla V100-SXM2...  On   | 00000000:15:00.0 Off |                    0 |\n",
      "| N/A   27C    P0    42W / 300W |      0MiB / 32768MiB |      0%      Default |\n",
      "|                               |                      |                  N/A |\n",
      "+-------------------------------+----------------------+----------------------+\n",
      "                                                                               \n",
      "+-----------------------------------------------------------------------------+\n",
      "| Processes:                                                                  |\n",
      "|  GPU   GI   CI        PID   Type   Process name                  GPU Memory |\n",
      "|        ID   ID                                                   Usage      |\n",
      "|=============================================================================|\n",
      "|  No running processes found                                                 |\n",
      "+-----------------------------------------------------------------------------+\n"
     ]
    }
   ],
   "source": [
    "!nvidia-smi"
   ]
  },
  {
   "cell_type": "markdown",
   "id": "860237bb-25c0-4142-baf7-17f578127a71",
   "metadata": {},
   "source": [
    "## Packages"
   ]
  },
  {
   "cell_type": "code",
   "execution_count": 2,
   "id": "48043315-eb32-44f7-9675-97d825ef261a",
   "metadata": {
    "tags": []
   },
   "outputs": [
    {
     "name": "stderr",
     "output_type": "stream",
     "text": [
      "/ocean/projects/cis230036p/cmanouan/miniconda3/envs/smf_be/lib/python3.10/site-packages/tqdm/auto.py:22: TqdmWarning: IProgress not found. Please update jupyter and ipywidgets. See https://ipywidgets.readthedocs.io/en/stable/user_install.html\n",
      "  from .autonotebook import tqdm as notebook_tqdm\n"
     ]
    }
   ],
   "source": [
    "from matplotlib import pyplot\n",
    "import numpy as np\n",
    "import logging\n",
    "logging.basicConfig(level=\"INFO\")\n",
    "import os\n",
    "\n",
    "import pandas as pd\n",
    "from pprint import pprint\n",
    "from transformers import (AutoTokenizer, AutoModel, AdamW, AutoConfig, get_linear_schedule_with_warmup)\n",
    "from torch.utils.data import DataLoader\n",
    "\n",
    "import sys\n",
    "sys.path.append(\"../\")"
   ]
  },
  {
   "cell_type": "code",
   "execution_count": 3,
   "id": "cf4a95f2-497c-4e1c-a0a6-2f66b33f8f24",
   "metadata": {},
   "outputs": [],
   "source": [
    "os.environ[\"TOKENIZERS_PARALLELISM\"] = \"false\""
   ]
  },
  {
   "cell_type": "code",
   "execution_count": 4,
   "id": "3726c34f",
   "metadata": {},
   "outputs": [],
   "source": [
    "%load_ext autoreload\n",
    "%autoreload 2"
   ]
  },
  {
   "cell_type": "code",
   "execution_count": 5,
   "id": "0174cde1-64d5-401f-9bb2-29367fb8f8ee",
   "metadata": {
    "tags": []
   },
   "outputs": [
    {
     "name": "stderr",
     "output_type": "stream",
     "text": [
      "INFO:torch.distributed.nn.jit.instantiator:Created a temporary directory at /tmp/tmp1382fjii\n",
      "INFO:torch.distributed.nn.jit.instantiator:Writing /tmp/tmp1382fjii/_remote_module_non_scriptable.py\n"
     ]
    }
   ],
   "source": [
    "import config\n",
    "from dataloader import BEDataset, BEDataModule"
   ]
  },
  {
   "cell_type": "code",
   "execution_count": 6,
   "id": "9e7e7bda-e9e1-4615-a682-9e89e5206412",
   "metadata": {
    "tags": []
   },
   "outputs": [
    {
     "data": {
      "text/html": [
       "<div>\n",
       "<style scoped>\n",
       "    .dataframe tbody tr th:only-of-type {\n",
       "        vertical-align: middle;\n",
       "    }\n",
       "\n",
       "    .dataframe tbody tr th {\n",
       "        vertical-align: top;\n",
       "    }\n",
       "\n",
       "    .dataframe thead th {\n",
       "        text-align: right;\n",
       "    }\n",
       "</style>\n",
       "<table border=\"1\" class=\"dataframe\">\n",
       "  <thead>\n",
       "    <tr style=\"text-align: right;\">\n",
       "      <th></th>\n",
       "      <th>sample_ID</th>\n",
       "      <th>in_state</th>\n",
       "      <th>goal_state</th>\n",
       "      <th>action_description</th>\n",
       "      <th>motor_cmd</th>\n",
       "      <th>len_action_desc</th>\n",
       "      <th>len_motor_cmd</th>\n",
       "      <th>version</th>\n",
       "    </tr>\n",
       "  </thead>\n",
       "  <tbody>\n",
       "    <tr>\n",
       "      <th>0</th>\n",
       "      <td>7294</td>\n",
       "      <td>0</td>\n",
       "      <td>10</td>\n",
       "      <td>put the fork to the right of buttermilk</td>\n",
       "      <td>:FORK GREEN POSE-9 :BUTTERMILK GREEN POSE-2 :F...</td>\n",
       "      <td>8</td>\n",
       "      <td>11</td>\n",
       "      <td>v2</td>\n",
       "    </tr>\n",
       "    <tr>\n",
       "      <th>1</th>\n",
       "      <td>405</td>\n",
       "      <td>0</td>\n",
       "      <td>8</td>\n",
       "      <td>move the bottle backwards</td>\n",
       "      <td>:BOTTLE RED POSE-2 :BOTTLE  #'*backward-transf...</td>\n",
       "      <td>4</td>\n",
       "      <td>8</td>\n",
       "      <td>v1</td>\n",
       "    </tr>\n",
       "  </tbody>\n",
       "</table>\n",
       "</div>"
      ],
      "text/plain": [
       "   sample_ID  in_state  goal_state                       action_description  \\\n",
       "0       7294         0          10  put the fork to the right of buttermilk   \n",
       "1        405         0           8                move the bottle backwards   \n",
       "\n",
       "                                           motor_cmd  len_action_desc  \\\n",
       "0  :FORK GREEN POSE-9 :BUTTERMILK GREEN POSE-2 :F...                8   \n",
       "1  :BOTTLE RED POSE-2 :BOTTLE  #'*backward-transf...                4   \n",
       "\n",
       "   len_motor_cmd version  \n",
       "0             11      v2  \n",
       "1              8      v1  "
      ]
     },
     "execution_count": 6,
     "metadata": {},
     "output_type": "execute_result"
    }
   ],
   "source": [
    "csv = pd.read_csv(os.path.join(config.DATASET_PATH, \"train.csv\"))\n",
    "\n",
    "csv.head(n=2)"
   ]
  },
  {
   "cell_type": "code",
   "execution_count": 7,
   "id": "888b41c6-9b15-45da-8f83-f473a97d79db",
   "metadata": {
    "tags": []
   },
   "outputs": [
    {
     "data": {
      "text/plain": [
       "4876"
      ]
     },
     "execution_count": 7,
     "metadata": {},
     "output_type": "execute_result"
    }
   ],
   "source": [
    "# building data object\n",
    "ds = BEDataset(\n",
    "    df=csv    \n",
    ")\n",
    "\n",
    "len(ds)"
   ]
  },
  {
   "cell_type": "code",
   "execution_count": 8,
   "id": "07ef2ab8-8ecc-4d2c-a6cd-ead4f4caed0f",
   "metadata": {
    "scrolled": true,
    "tags": []
   },
   "outputs": [
    {
     "name": "stdout",
     "output_type": "stream",
     "text": [
      "Dataset size:  4876\n",
      "====================================================================================================\n",
      "ID\t:  9401\n",
      ">> InState\t:  torch.Size([3, 224, 224])\n",
      ">> Desc\t:\n",
      "{'ids': tensor([  101,  2404,  1996,  5442,  2000,  1996,  2157,  1997, 12256, 17130,\n",
      "         2378,   102,     0,     0,     0]),\n",
      " 'length': 8,\n",
      " 'mask': tensor([1, 1, 1, 1, 1, 1, 1, 1, 1, 1, 1, 1, 0, 0, 0]),\n",
      " 'raw': 'put the knife to the right of mondamin',\n",
      " 'token_type_ids': tensor([0, 0, 0, 0, 0, 0, 0, 0, 0, 0, 0, 0, 0, 0, 0])}\n",
      ">> Cmd\t:\n",
      "{'ids': tensor([ 0, 17, 41, 30, 18, 41, 36, 17, 48, 18,  2,  2,  2,  2,  2]),\n",
      " 'length': 11,\n",
      " 'mask': tensor([1, 1, 1, 1, 1, 1, 1, 1, 1, 1, 1, 0, 0, 0, 0]),\n",
      " 'raw': ':KNIFE GREEN POSE-10 :MONDAMIN GREEN POSE-3 :KNIFE  '\n",
      "        \"#'*rightward-transformation*  :MONDAMIN\"}\n",
      "====================================================================================================\n"
     ]
    }
   ],
   "source": [
    "# fetching example\n",
    "rand_idx = np.random.randint(low=0, high=len(ds))\n",
    "ex = ds[rand_idx]\n",
    "\n",
    "print(\"Dataset size: \", len(ds))\n",
    "print(\"=\"*100)\n",
    "print(\"ID\\t: \", ex[\"sample_id\"])\n",
    "print(\">> InState\\t: \", ex[\"in_state\"].shape)\n",
    "print(\">> Desc\\t:\")\n",
    "pprint(ex[\"action_desc\"])\n",
    "print(\">> Cmd\\t:\")\n",
    "pprint(ex[\"motor_cmd\"])\n",
    "print(\"=\"*100)"
   ]
  },
  {
   "cell_type": "code",
   "execution_count": 9,
   "id": "c258447e-6c36-4fd7-9fdd-1c555c71b5a9",
   "metadata": {},
   "outputs": [
    {
     "data": {
      "text/plain": [
       "'put the knife to the right of mondamin'"
      ]
     },
     "execution_count": 9,
     "metadata": {},
     "output_type": "execute_result"
    }
   ],
   "source": [
    "ex[\"action_desc\"]['raw']"
   ]
  },
  {
   "cell_type": "code",
   "execution_count": 10,
   "id": "99e5089b-785e-4fd8-a1cf-3d1756c8bbbe",
   "metadata": {
    "tags": []
   },
   "outputs": [
    {
     "data": {
      "text/plain": [
       "tensor([  101,  2404,  1996,  5442,  2000,  1996,  2157,  1997, 12256, 17130,\n",
       "         2378,   102,     0,     0,     0])"
      ]
     },
     "execution_count": 10,
     "metadata": {},
     "output_type": "execute_result"
    }
   ],
   "source": [
    "ex[\"action_desc\"]['ids']"
   ]
  },
  {
   "cell_type": "code",
   "execution_count": 11,
   "id": "7b66aa17",
   "metadata": {},
   "outputs": [
    {
     "data": {
      "text/plain": [
       "'put the knife to the right of mondamin'"
      ]
     },
     "execution_count": 11,
     "metadata": {},
     "output_type": "execute_result"
    }
   ],
   "source": [
    "ds._decode_inputs(ids=ex[\"action_desc\"]['ids'].tolist())"
   ]
  },
  {
   "cell_type": "code",
   "execution_count": 12,
   "id": "43e1157f-277b-42e1-95f6-8331f8918889",
   "metadata": {},
   "outputs": [
    {
     "data": {
      "text/plain": [
       "tensor([ 0, 17, 41, 30, 18, 41, 36, 17, 48, 18,  2,  2,  2,  2,  2])"
      ]
     },
     "execution_count": 12,
     "metadata": {},
     "output_type": "execute_result"
    }
   ],
   "source": [
    "ex[\"motor_cmd\"]['ids']"
   ]
  },
  {
   "cell_type": "code",
   "execution_count": 13,
   "id": "84badc92-e633-4413-9094-b243b06d3e5a",
   "metadata": {},
   "outputs": [
    {
     "data": {
      "text/plain": [
       "\":KNIFE GREEN POSE-10 :MONDAMIN GREEN POSE-3 :KNIFE #'*rightward-transformation* :MONDAMIN\""
      ]
     },
     "execution_count": 13,
     "metadata": {},
     "output_type": "execute_result"
    }
   ],
   "source": [
    "ds._decode_outputs(ids=ex[\"motor_cmd\"]['ids'].tolist())"
   ]
  },
  {
   "cell_type": "code",
   "execution_count": 14,
   "id": "9ec486ca-dd02-4983-9b4d-2f38498681a4",
   "metadata": {},
   "outputs": [],
   "source": [
    "def denormalize_img(\n",
    "    normalized_image, \n",
    "    mean:list=config.MEAN, \n",
    "    std:list=config.STD\n",
    "):\n",
    "    denormalized_image = normalized_image.clone()\n",
    "    for i in range(3):\n",
    "        denormalized_image[i] = (denormalized_image[i] * std[i]) + mean[i]\n",
    "    \n",
    "    denormalized_image = denormalized_image.permute(1, 2, 0).numpy()\n",
    "    \n",
    "    return denormalized_image\n"
   ]
  },
  {
   "cell_type": "code",
   "execution_count": 15,
   "id": "d91600d8-a11f-4947-a3d5-1a0c5e186f3e",
   "metadata": {
    "scrolled": true,
    "tags": []
   },
   "outputs": [],
   "source": [
    "# ## PS: we only de-normalize images for better visualization\n",
    "# for _ in range(5):\n",
    "#     rand_idx = np.random.randint(low=0, high=len(ds))\n",
    "#     ex = ds[rand_idx]\n",
    "\n",
    "#     fig, ax = pyplot.subplots(nrows=1, ncols=2, figsize=(8, 4))\n",
    "#     in_ = denormalize_img(ex[\"in_state\"])\n",
    "#     goal_ = denormalize_img(ex[\"goal_state\"])\n",
    "\n",
    "#     ax[0].imshow(in_)\n",
    "#     ax[1].imshow(goal_)\n",
    "\n",
    "#     desc = ex[\"action_desc\"][\"raw\"]\n",
    "#     fig.suptitle(f\"Instruction: {desc}\")\n",
    "\n",
    "#     pyplot.tight_layout()\n",
    "#     pyplot.show()\n",
    "\n",
    "#     # break"
   ]
  },
  {
   "cell_type": "markdown",
   "id": "1f8786bb-fee3-4857-9eb2-45710aaaa841",
   "metadata": {},
   "source": [
    "## Data loading pipeline"
   ]
  },
  {
   "cell_type": "markdown",
   "id": "fb63030c-be71-4acd-a10e-18777a2db849",
   "metadata": {},
   "source": [
    "### Create data module"
   ]
  },
  {
   "cell_type": "code",
   "execution_count": 16,
   "id": "8b196a5a-3cbb-4076-996c-dc430f6303f7",
   "metadata": {
    "tags": []
   },
   "outputs": [
    {
     "name": "stdout",
     "output_type": "stream",
     "text": [
      "Total # examples: 4876\n"
     ]
    },
    {
     "name": "stderr",
     "output_type": "stream",
     "text": [
      "INFO:root:Training on 3610 samples.\n",
      "INFO:root:Validating on 1266 samples.\n"
     ]
    }
   ],
   "source": [
    "dm = BEDataModule()\n",
    "dm.setup()"
   ]
  },
  {
   "cell_type": "markdown",
   "id": "ed3b4e99-0e12-4e4b-bfce-47c82aa87a93",
   "metadata": {},
   "source": [
    "### Test data loading I/O"
   ]
  },
  {
   "cell_type": "code",
   "execution_count": 18,
   "id": "03933699-9d63-4a04-acbf-3b42810efa3f",
   "metadata": {
    "tags": []
   },
   "outputs": [
    {
     "name": "stderr",
     "output_type": "stream",
     "text": [
      "INFO:root:\n",
      ">> train data loader\n"
     ]
    },
    {
     "name": "stdout",
     "output_type": "stream",
     "text": [
      "====================================================================================================\n",
      "# train batches\t: 452\n",
      "In \t\t\t:  torch.Size([8, 3, 224, 224])\n",
      "Action desc \t\t:  torch.Size([8, 15])\n",
      "Action desc (len) \t:  torch.Size([8])\n",
      "CMD \t\t\t:  torch.Size([8, 15])\n",
      "CMD(len) \t\t:  torch.Size([8])\n"
     ]
    },
    {
     "name": "stderr",
     "output_type": "stream",
     "text": [
      "INFO:root:\n",
      "\n",
      ">> val data loader\n"
     ]
    },
    {
     "name": "stdout",
     "output_type": "stream",
     "text": [
      "# validation batches\t: 159\n",
      "In \t\t\t:  torch.Size([8, 3, 224, 224])\n",
      "Action desc \t\t:  torch.Size([8, 15])\n",
      "Action desc (len) \t:  torch.Size([8])\n",
      "CMD \t\t\t:  torch.Size([8, 15])\n",
      "CMD(len) \t\t:  torch.Size([8])\n",
      "====================================================================================================\n"
     ]
    }
   ],
   "source": [
    "print(\"=\"*100)\n",
    "logging.info(\"\\n>> train data loader\")\n",
    "print(f\"# train batches\\t: {len(dm.train_dataloader())}\")\n",
    "for data in dm.train_dataloader():\n",
    "    # pprint(data)\n",
    "    sample_id, in_state, ad, cmd = data[\"sample_id\"], data[\"in_state\"], data[\"action_desc\"], data[\"motor_cmd\"]\n",
    "    print(\"In \\t\\t\\t: \", in_state.shape)\n",
    "    print(\"Action desc \\t\\t: \", ad[\"ids\"].shape)\n",
    "    print(\"Action desc (len) \\t: \", ad[\"length\"].shape)\n",
    "    print(\"CMD \\t\\t\\t: \", cmd[\"ids\"].shape)\n",
    "    print(\"CMD(len) \\t\\t: \", cmd[\"length\"].shape)\n",
    "    break\n",
    "\n",
    "logging.info(\"\\n\\n>> val data loader\")\n",
    "print(f\"# validation batches\\t: {len(dm.val_dataloader())}\")\n",
    "for data in dm.val_dataloader():\n",
    "    # pprint(data)\n",
    "    sample_id, in_state, ad, cmd = data[\"sample_id\"], data[\"in_state\"], data[\"action_desc\"], data[\"motor_cmd\"]\n",
    "    print(\"In \\t\\t\\t: \", in_state.shape)\n",
    "    print(\"Action desc \\t\\t: \", ad[\"ids\"].shape)\n",
    "    print(\"Action desc (len) \\t: \", ad[\"length\"].shape)\n",
    "    print(\"CMD \\t\\t\\t: \", cmd[\"ids\"].shape)\n",
    "    print(\"CMD(len) \\t\\t: \", cmd[\"length\"].shape)\n",
    "    break\n",
    "    \n",
    "print(\"=\"*100)"
   ]
  },
  {
   "cell_type": "code",
   "execution_count": null,
   "id": "f26b6641-1b33-406e-bc2b-bcd3429ed2ea",
   "metadata": {},
   "outputs": [],
   "source": []
  },
  {
   "cell_type": "code",
   "execution_count": null,
   "id": "0221588c-6899-47d7-835c-6af69f478840",
   "metadata": {},
   "outputs": [],
   "source": []
  },
  {
   "cell_type": "code",
   "execution_count": null,
   "id": "fecb92c1-21a7-4874-abfb-d2dca1fc6508",
   "metadata": {},
   "outputs": [],
   "source": []
  },
  {
   "cell_type": "code",
   "execution_count": null,
   "id": "9874eb7c-2112-4e4d-b653-c2f181c21c92",
   "metadata": {},
   "outputs": [],
   "source": []
  }
 ],
 "metadata": {
  "kernelspec": {
   "display_name": "SMF-BE",
   "language": "python",
   "name": "smf-be"
  },
  "language_info": {
   "codemirror_mode": {
    "name": "ipython",
    "version": 3
   },
   "file_extension": ".py",
   "mimetype": "text/x-python",
   "name": "python",
   "nbconvert_exporter": "python",
   "pygments_lexer": "ipython3",
   "version": "3.10.4"
  }
 },
 "nbformat": 4,
 "nbformat_minor": 5
}
