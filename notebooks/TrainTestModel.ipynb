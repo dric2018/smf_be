{
 "cells": [
  {
   "cell_type": "code",
   "execution_count": 1,
   "id": "c7bf9339-13d5-4614-b607-d1f550132b94",
   "metadata": {},
   "outputs": [
    {
     "name": "stdout",
     "output_type": "stream",
     "text": [
      "Sat Jan  6 08:17:56 2024       \n",
      "+---------------------------------------------------------------------------------------+\n",
      "| NVIDIA-SMI 545.23.08              Driver Version: 545.23.08    CUDA Version: 12.3     |\n",
      "|-----------------------------------------+----------------------+----------------------+\n",
      "| GPU  Name                 Persistence-M | Bus-Id        Disp.A | Volatile Uncorr. ECC |\n",
      "| Fan  Temp   Perf          Pwr:Usage/Cap |         Memory-Usage | GPU-Util  Compute M. |\n",
      "|                                         |                      |               MIG M. |\n",
      "|=========================================+======================+======================|\n",
      "|   0  Tesla V100-SXM2-32GB           On  | 00000000:89:00.0 Off |                    0 |\n",
      "| N/A   26C    P0              39W / 300W |      0MiB / 32768MiB |      0%      Default |\n",
      "|                                         |                      |                  N/A |\n",
      "+-----------------------------------------+----------------------+----------------------+\n",
      "                                                                                         \n",
      "+---------------------------------------------------------------------------------------+\n",
      "| Processes:                                                                            |\n",
      "|  GPU   GI   CI        PID   Type   Process name                            GPU Memory |\n",
      "|        ID   ID                                                             Usage      |\n",
      "|=======================================================================================|\n",
      "|  No running processes found                                                           |\n",
      "+---------------------------------------------------------------------------------------+\n"
     ]
    }
   ],
   "source": [
    "!nvidia-smi"
   ]
  },
  {
   "cell_type": "code",
   "execution_count": 2,
   "id": "cbb6a20f-892a-40e4-af92-05de09135f76",
   "metadata": {},
   "outputs": [],
   "source": [
    "import warnings\n",
    "warnings.filterwarnings(action=\"ignore\")"
   ]
  },
  {
   "cell_type": "code",
   "execution_count": 16,
   "id": "2522cbc2-4214-45af-85b7-f3549e411049",
   "metadata": {},
   "outputs": [],
   "source": [
    "import lightning.pytorch as pl\n",
    "from lightning.pytorch import Trainer, seed_everything\n",
    "import logging\n",
    "logging.basicConfig(level=\"INFO\")\n",
    "\n",
    "import os\n",
    "\n",
    "import pandas as pd\n",
    "from pprint import pprint\n",
    "\n",
    "\n",
    "from rich.progress import Progress\n",
    "\n",
    "import sys\n",
    "sys.path.append(\"../src\")\n",
    "\n",
    "import time\n",
    "\n",
    "from tqdm.auto import tqdm\n",
    "import torch\n",
    "import torch.nn as nn\n",
    "from torch.optim import lr_scheduler\n",
    "from torchinfo import summary\n",
    "\n",
    "import wandb\n"
   ]
  },
  {
   "cell_type": "code",
   "execution_count": 4,
   "id": "23dcf435-8c97-49b8-87a5-42353b27a8da",
   "metadata": {},
   "outputs": [],
   "source": [
    "%load_ext autoreload\n",
    "%autoreload 2\n",
    "\n",
    "os.environ[\"TOKENIZERS_PARALLELISM\"] = \"false\"\n",
    "os.environ[\"CUDA_LAUNCH_BLOCKING\"] = \"1\"\n",
    "os.environ[\"WANDB__SERVICE_WAIT\"] = \"300\""
   ]
  },
  {
   "cell_type": "code",
   "execution_count": 22,
   "id": "b29375a1-7c3f-456b-8f77-713494ea42a5",
   "metadata": {},
   "outputs": [],
   "source": [
    "import config\n",
    "\n",
    "from dataloader import BEDataModule\n",
    "\n",
    "from rt1 import RTCRAM\n",
    "import utils.model_utils as model_utils"
   ]
  },
  {
   "cell_type": "markdown",
   "id": "d832e26d-6760-4e1a-85e6-97bd9a2a2803",
   "metadata": {
    "tags": []
   },
   "source": [
    "## Build data module\n"
   ]
  },
  {
   "cell_type": "code",
   "execution_count": 10,
   "id": "1c63a0b1-c292-4e90-ab2c-b35b411e9d3c",
   "metadata": {},
   "outputs": [
    {
     "name": "stderr",
     "output_type": "stream",
     "text": [
      "INFO:root:Training on 4054 samples.\n",
      "INFO:root:Validating on 454 samples.\n",
      "INFO:root:Testing on 249 samples.\n"
     ]
    },
    {
     "name": "stdout",
     "output_type": "stream",
     "text": [
      "Total # examples: 4757\n"
     ]
    }
   ],
   "source": [
    "dm = BEDataModule()\n",
    "dm.setup()"
   ]
  },
  {
   "cell_type": "markdown",
   "id": "42036b65-24c1-4ed4-b503-79434d8a2a08",
   "metadata": {
    "jp-MarkdownHeadingCollapsed": true,
    "tags": []
   },
   "source": [
    "## Build model\n"
   ]
  },
  {
   "cell_type": "code",
   "execution_count": 15,
   "id": "f8a8f261-04a8-4cc3-93df-c2ea0a7a5433",
   "metadata": {},
   "outputs": [
    {
     "name": "stderr",
     "output_type": "stream",
     "text": [
      "INFO:timm.models._builder:Loading pretrained weights from Hugging Face hub (timm/efficientnet_b3.ra2_in1k)\n",
      "INFO:timm.models._hub:[timm/efficientnet_b3.ra2_in1k] Safe alternative available for 'pytorch_model.bin' (as 'model.safetensors'). Loading weights using safetensors.\n"
     ]
    }
   ],
   "source": [
    "# rt1 = RTCRAM(\n",
    "#     cnn_bacnbone=config.SELECTED_CNN_BACKBONE, \n",
    "#     num_res_blocks=config.NUM_RES_BLOCKS,\n",
    "#     freeze_cnn_backbone=config.FREEZE_CNN,\n",
    "#     args=None\n",
    "# ).cuda()"
   ]
  },
  {
   "cell_type": "code",
   "execution_count": 16,
   "id": "c156a53d-dccc-4cd4-a2b7-073e0817105c",
   "metadata": {},
   "outputs": [
    {
     "data": {
      "text/plain": [
       "==========================================================================================\n",
       "Layer (type:depth-idx)                                            Param #\n",
       "==========================================================================================\n",
       "RTCRAM                                                            --\n",
       "├─RTEncoder: 1-1                                                  --\n",
       "│    └─TextEncoder: 2-1                                           --\n",
       "│    │    └─BertModel: 3-1                                        (28,763,648)\n",
       "│    │    └─Dropout: 3-2                                          --\n",
       "│    └─FiLMEncoder: 2-2                                           --\n",
       "│    │    └─ImageFeatureExtractor: 3-3                            10,300,456\n",
       "│    │    └─ModuleList: 3-4                                       6,340,608\n",
       "│    └─TokenLearnerV11: 2-3                                       --\n",
       "│    │    └─Sequential: 3-5                                       134,408\n",
       "├─RTDecoder: 1-2                                                  --\n",
       "│    └─TransformerDecoder: 2-4                                    --\n",
       "│    │    └─EmbeddingLayer: 3-6                                   53,248\n",
       "│    │    └─ModuleList: 3-7                                       6,308,864\n",
       "│    └─LayerNorm: 2-5                                             1,024\n",
       "│    └─ActionGenerator: 2-6                                       --\n",
       "│    │    └─Sequential: 3-8                                       26,676\n",
       "├─CrossEntropyLoss: 1-3                                           --\n",
       "├─CharErrorRate: 1-4                                              --\n",
       "├─WordErrorRate: 1-5                                              --\n",
       "==========================================================================================\n",
       "Total params: 51,928,932\n",
       "Trainable params: 13,061,948\n",
       "Non-trainable params: 38,866,984\n",
       "=========================================================================================="
      ]
     },
     "execution_count": 16,
     "metadata": {},
     "output_type": "execute_result"
    }
   ],
   "source": [
    "# print(rt1)\n",
    "# summary(model=rt1)"
   ]
  },
  {
   "cell_type": "markdown",
   "id": "b8ac21f1-cf9d-442e-a642-138be9f0106a",
   "metadata": {
    "jp-MarkdownHeadingCollapsed": true,
    "tags": []
   },
   "source": [
    "## Training config"
   ]
  },
  {
   "cell_type": "code",
   "execution_count": 17,
   "id": "6b195d67-368c-4d9b-a886-ecc8657aa785",
   "metadata": {},
   "outputs": [],
   "source": [
    "# loss_fn = nn.CrossEntropyLoss(\n",
    "#     ignore_index=config.TGT_PAD_TOK_ID, \n",
    "#     label_smoothing=config.LABEL_SMOOTHING\n",
    "# )\n",
    "# opt = getattr(torch.optim, config.OPTIMIZER)(\n",
    "#     params=[p for p in rt1.parameters() if p.requires_grad], \n",
    "#     lr=config.LR,\n",
    "#     weight_decay=config.WEIGHT_DECAY\n",
    "# )\n",
    "\n",
    "# scheduler = getattr(lr_scheduler, config.LR_SCHEDULER[\"type\"])(**config.LR_SCHEDULER[\"params\"], optimizer=opt)"
   ]
  },
  {
   "cell_type": "code",
   "execution_count": 18,
   "id": "04426378-e951-461b-a933-ac425798c48d",
   "metadata": {},
   "outputs": [],
   "source": [
    "# out = model_utils.validation_step(model=rt1, batch=batch, loss_fn=loss_fn)"
   ]
  },
  {
   "cell_type": "code",
   "execution_count": 19,
   "id": "2f2df42e-07f3-4050-b080-5067b4a37bd2",
   "metadata": {},
   "outputs": [],
   "source": [
    "# out.keys()"
   ]
  },
  {
   "cell_type": "code",
   "execution_count": 20,
   "id": "f171fbbd-acd0-4936-a74c-cf36fc5723ef",
   "metadata": {},
   "outputs": [],
   "source": [
    "# preds= rt1.decoder.action_generator(out[\"logits\"]).argmax(-1)\n",
    "# preds"
   ]
  },
  {
   "cell_type": "code",
   "execution_count": 21,
   "id": "92388e9b-87dd-4f17-88bb-4d0d7244acc7",
   "metadata": {},
   "outputs": [],
   "source": [
    "# rt1.decode_predictions(preds)"
   ]
  },
  {
   "cell_type": "markdown",
   "id": "c2a28025-69e4-4722-9157-0f4b75785706",
   "metadata": {
    "jp-MarkdownHeadingCollapsed": true,
    "tags": []
   },
   "source": [
    "## Run experiment"
   ]
  },
  {
   "cell_type": "code",
   "execution_count": 22,
   "id": "39c67dfe-3f7a-4ff0-a76b-131ca91aae34",
   "metadata": {
    "scrolled": true,
    "tags": []
   },
   "outputs": [
    {
     "name": "stderr",
     "output_type": "stream",
     "text": [
      "ERROR:wandb.jupyter:Failed to detect the name of this notebook, you can set it manually with the WANDB_NOTEBOOK_NAME environment variable to enable code saving.\n",
      "\u001b[34m\u001b[1mwandb\u001b[0m: Currently logged in as: \u001b[33mdric225\u001b[0m (\u001b[33mjepsam-s23\u001b[0m). Use \u001b[1m`wandb login --relogin`\u001b[0m to force relogin\n"
     ]
    },
    {
     "data": {
      "text/html": [
       "wandb version 0.16.1 is available!  To upgrade, please run:\n",
       " $ pip install wandb --upgrade"
      ],
      "text/plain": [
       "<IPython.core.display.HTML object>"
      ]
     },
     "metadata": {},
     "output_type": "display_data"
    },
    {
     "data": {
      "text/html": [
       "Tracking run with wandb version 0.16.0"
      ],
      "text/plain": [
       "<IPython.core.display.HTML object>"
      ]
     },
     "metadata": {},
     "output_type": "display_data"
    },
    {
     "data": {
      "text/html": [
       "Run data is saved locally in <code>../wandb/run-20240106_030300-gcfg7g8s</code>"
      ],
      "text/plain": [
       "<IPython.core.display.HTML object>"
      ]
     },
     "metadata": {},
     "output_type": "display_data"
    },
    {
     "data": {
      "text/html": [
       "Syncing run <strong><a href='https://wandb.ai/jepsam-s23/SMF-Be/runs/gcfg7g8s' target=\"_blank\">be_model</a></strong> to <a href='https://wandb.ai/jepsam-s23/SMF-Be' target=\"_blank\">Weights & Biases</a> (<a href='https://wandb.me/run' target=\"_blank\">docs</a>)<br/>"
      ],
      "text/plain": [
       "<IPython.core.display.HTML object>"
      ]
     },
     "metadata": {},
     "output_type": "display_data"
    },
    {
     "data": {
      "text/html": [
       " View project at <a href='https://wandb.ai/jepsam-s23/SMF-Be' target=\"_blank\">https://wandb.ai/jepsam-s23/SMF-Be</a>"
      ],
      "text/plain": [
       "<IPython.core.display.HTML object>"
      ]
     },
     "metadata": {},
     "output_type": "display_data"
    },
    {
     "data": {
      "text/html": [
       " View run at <a href='https://wandb.ai/jepsam-s23/SMF-Be/runs/gcfg7g8s' target=\"_blank\">https://wandb.ai/jepsam-s23/SMF-Be/runs/gcfg7g8s</a>"
      ],
      "text/plain": [
       "<IPython.core.display.HTML object>"
      ]
     },
     "metadata": {},
     "output_type": "display_data"
    },
    {
     "name": "stderr",
     "output_type": "stream",
     "text": [
      "INFO:root:Training on 4052 samples.\n",
      "INFO:root:Validating on 456 samples.\n",
      "INFO:root:Testing on 250 samples.\n"
     ]
    },
    {
     "name": "stdout",
     "output_type": "stream",
     "text": [
      "Total # examples: 4758\n",
      "Loading model from checkpoint...\n",
      "Loading model from checkpoint...Complete!\n"
     ]
    },
    {
     "data": {
      "application/vnd.jupyter.widget-view+json": {
       "model_id": "f2d143b9e11a470e93c07fe5fc44db9b",
       "version_major": 2,
       "version_minor": 0
      },
      "text/plain": [
       "  0%|                                                                                                         …"
      ]
     },
     "metadata": {},
     "output_type": "display_data"
    },
    {
     "data": {
      "application/vnd.jupyter.widget-view+json": {
       "model_id": "bd4e80a788ea4b97a2c4771e86e87d3c",
       "version_major": 2,
       "version_minor": 0
      },
      "text/plain": [
       "  0%|                                                                                                         …"
      ]
     },
     "metadata": {},
     "output_type": "display_data"
    },
    {
     "data": {
      "application/vnd.jupyter.widget-view+json": {
       "model_id": "1fb3a6b4d9fc479c97f0cb572db016ad",
       "version_major": 2,
       "version_minor": 0
      },
      "text/plain": [
       "  0%|                                                                                                         …"
      ]
     },
     "metadata": {},
     "output_type": "display_data"
    },
    {
     "data": {
      "application/vnd.jupyter.widget-view+json": {
       "model_id": "cd02667e38244034b9ed387a486ea415",
       "version_major": 2,
       "version_minor": 0
      },
      "text/plain": [
       "  0%|                                                                                                         …"
      ]
     },
     "metadata": {},
     "output_type": "display_data"
    },
    {
     "data": {
      "application/vnd.jupyter.widget-view+json": {
       "model_id": "98316c96327c4dd3ab808903d42bbb8c",
       "version_major": 2,
       "version_minor": 0
      },
      "text/plain": [
       "  0%|                                                                                                         …"
      ]
     },
     "metadata": {},
     "output_type": "display_data"
    },
    {
     "data": {
      "application/vnd.jupyter.widget-view+json": {
       "model_id": "b12905bc34f34cfea48c7fbc7f052b6c",
       "version_major": 2,
       "version_minor": 0
      },
      "text/plain": [
       "  0%|                                                                                                         …"
      ]
     },
     "metadata": {},
     "output_type": "display_data"
    },
    {
     "data": {
      "application/vnd.jupyter.widget-view+json": {
       "model_id": "f50b33e48b464b5a960c2e9a0c4665e1",
       "version_major": 2,
       "version_minor": 0
      },
      "text/plain": [
       "  0%|                                                                                                         …"
      ]
     },
     "metadata": {},
     "output_type": "display_data"
    },
    {
     "data": {
      "application/vnd.jupyter.widget-view+json": {
       "model_id": "ec0ee34068b741868c20c5910d430595",
       "version_major": 2,
       "version_minor": 0
      },
      "text/plain": [
       "  0%|                                                                                                         …"
      ]
     },
     "metadata": {},
     "output_type": "display_data"
    },
    {
     "data": {
      "application/vnd.jupyter.widget-view+json": {
       "model_id": "545457dea0e24bcb92e3449d8a7e58db",
       "version_major": 2,
       "version_minor": 0
      },
      "text/plain": [
       "  0%|                                                                                                         …"
      ]
     },
     "metadata": {},
     "output_type": "display_data"
    },
    {
     "data": {
      "application/vnd.jupyter.widget-view+json": {
       "model_id": "d20aa8a86d4b4664b71fde4361709082",
       "version_major": 2,
       "version_minor": 0
      },
      "text/plain": [
       "  0%|                                                                                                         …"
      ]
     },
     "metadata": {},
     "output_type": "display_data"
    },
    {
     "data": {
      "application/vnd.jupyter.widget-view+json": {
       "model_id": "c1ea53e699d8415c9469603d69d3f189",
       "version_major": 2,
       "version_minor": 0
      },
      "text/plain": [
       "  0%|                                                                                                         …"
      ]
     },
     "metadata": {},
     "output_type": "display_data"
    },
    {
     "data": {
      "application/vnd.jupyter.widget-view+json": {
       "model_id": "9892b0263b4140219d13d64eadc53f97",
       "version_major": 2,
       "version_minor": 0
      },
      "text/plain": [
       "  0%|                                                                                                         …"
      ]
     },
     "metadata": {},
     "output_type": "display_data"
    },
    {
     "data": {
      "application/vnd.jupyter.widget-view+json": {
       "model_id": "7bc43d1e1f7e4811b65b84cde5926662",
       "version_major": 2,
       "version_minor": 0
      },
      "text/plain": [
       "  0%|                                                                                                         …"
      ]
     },
     "metadata": {},
     "output_type": "display_data"
    },
    {
     "data": {
      "application/vnd.jupyter.widget-view+json": {
       "model_id": "6d887a96ea914f7a900f0dc9914d7690",
       "version_major": 2,
       "version_minor": 0
      },
      "text/plain": [
       "  0%|                                                                                                         …"
      ]
     },
     "metadata": {},
     "output_type": "display_data"
    },
    {
     "data": {
      "application/vnd.jupyter.widget-view+json": {
       "model_id": "abe8c49435624bddb35d9df2d9f7f1cd",
       "version_major": 2,
       "version_minor": 0
      },
      "text/plain": [
       "  0%|                                                                                                         …"
      ]
     },
     "metadata": {},
     "output_type": "display_data"
    },
    {
     "data": {
      "application/vnd.jupyter.widget-view+json": {
       "model_id": "350b02b59c14492b9f3413804360115f",
       "version_major": 2,
       "version_minor": 0
      },
      "text/plain": [
       "  0%|                                                                                                         …"
      ]
     },
     "metadata": {},
     "output_type": "display_data"
    },
    {
     "data": {
      "application/vnd.jupyter.widget-view+json": {
       "model_id": "e772fcb0e0c642dea590a96a078ebb93",
       "version_major": 2,
       "version_minor": 0
      },
      "text/plain": [
       "  0%|                                                                                                         …"
      ]
     },
     "metadata": {},
     "output_type": "display_data"
    },
    {
     "data": {
      "application/vnd.jupyter.widget-view+json": {
       "model_id": "8f74d7d07a414ba28cb42101b3b6b176",
       "version_major": 2,
       "version_minor": 0
      },
      "text/plain": [
       "  0%|                                                                                                         …"
      ]
     },
     "metadata": {},
     "output_type": "display_data"
    },
    {
     "data": {
      "application/vnd.jupyter.widget-view+json": {
       "model_id": "010929a03eda4fe985ba2a4ff99bbe45",
       "version_major": 2,
       "version_minor": 0
      },
      "text/plain": [
       "  0%|                                                                                                         …"
      ]
     },
     "metadata": {},
     "output_type": "display_data"
    },
    {
     "data": {
      "application/vnd.jupyter.widget-view+json": {
       "model_id": "69d15c3ad7524679a02585d6592ef9b5",
       "version_major": 2,
       "version_minor": 0
      },
      "text/plain": [
       "  0%|                                                                                                         …"
      ]
     },
     "metadata": {},
     "output_type": "display_data"
    },
    {
     "data": {
      "application/vnd.jupyter.widget-view+json": {
       "model_id": "227af9c7a84a4295a2b072bd8a501985",
       "version_major": 2,
       "version_minor": 0
      },
      "text/plain": [
       "  0%|                                                                                                         …"
      ]
     },
     "metadata": {},
     "output_type": "display_data"
    },
    {
     "data": {
      "application/vnd.jupyter.widget-view+json": {
       "model_id": "cc222173373a43cf92676e360fe0fa00",
       "version_major": 2,
       "version_minor": 0
      },
      "text/plain": [
       "  0%|                                                                                                         …"
      ]
     },
     "metadata": {},
     "output_type": "display_data"
    },
    {
     "data": {
      "application/vnd.jupyter.widget-view+json": {
       "model_id": "692e2d5ea37e468d94558caaef43db81",
       "version_major": 2,
       "version_minor": 0
      },
      "text/plain": [
       "  0%|                                                                                                         …"
      ]
     },
     "metadata": {},
     "output_type": "display_data"
    }
   ],
   "source": [
    "dm = BEDataModule()\n",
    "\n",
    "run = wandb.init(\n",
    "    dir='../',\n",
    "    project='SMF-Be', \n",
    "    group=\"RT1-CRAM\", \n",
    "    name=\"be_model\", \n",
    "    reinit=True\n",
    ")\n",
    "\n",
    "trained_model = model_utils.run_experiment(\n",
    "    model=rt1, \n",
    "    dm=dm, \n",
    "    opt=opt, \n",
    "    loss_fn=loss_fn,\n",
    "    scheduler=scheduler,\n",
    "    resume_training=True,\n",
    "    epoch_resume=60\n",
    ")"
   ]
  },
  {
   "cell_type": "markdown",
   "id": "fd10690d-8ab2-46a3-aa72-231c5a31ba14",
   "metadata": {
    "tags": []
   },
   "source": [
    "## Test/Inference Procedure"
   ]
  },
  {
   "cell_type": "code",
   "execution_count": 7,
   "id": "3aa39e4b-e8ec-43b4-9580-e1a52259bf14",
   "metadata": {},
   "outputs": [
    {
     "data": {
      "text/plain": [
       "('cpu', 'cuda')"
      ]
     },
     "execution_count": 7,
     "metadata": {},
     "output_type": "execute_result"
    }
   ],
   "source": [
    "config.TEST_DEVICE, config.DEVICE"
   ]
  },
  {
   "cell_type": "code",
   "execution_count": 18,
   "id": "5cbfea61-409d-4185-9566-b46378c663c4",
   "metadata": {},
   "outputs": [
    {
     "name": "stdout",
     "output_type": "stream",
     "text": [
      "Sat Jan  6 08:26:26 2024       \n",
      "+---------------------------------------------------------------------------------------+\n",
      "| NVIDIA-SMI 545.23.08              Driver Version: 545.23.08    CUDA Version: 12.3     |\n",
      "|-----------------------------------------+----------------------+----------------------+\n",
      "| GPU  Name                 Persistence-M | Bus-Id        Disp.A | Volatile Uncorr. ECC |\n",
      "| Fan  Temp   Perf          Pwr:Usage/Cap |         Memory-Usage | GPU-Util  Compute M. |\n",
      "|                                         |                      |               MIG M. |\n",
      "|=========================================+======================+======================|\n",
      "|   0  Tesla V100-SXM2-32GB           On  | 00000000:89:00.0 Off |                    0 |\n",
      "| N/A   29C    P0              53W / 300W |   1105MiB / 32768MiB |      0%      Default |\n",
      "|                                         |                      |                  N/A |\n",
      "+-----------------------------------------+----------------------+----------------------+\n",
      "                                                                                         \n",
      "+---------------------------------------------------------------------------------------+\n",
      "| Processes:                                                                            |\n",
      "|  GPU   GI   CI        PID   Type   Process name                            GPU Memory |\n",
      "|        ID   ID                                                             Usage      |\n",
      "|=======================================================================================|\n",
      "|    0   N/A  N/A     45212      C   ...n/miniconda3/envs/smf_be/bin/python     1102MiB |\n",
      "+---------------------------------------------------------------------------------------+\n"
     ]
    }
   ],
   "source": [
    "!nvidia-smi"
   ]
  },
  {
   "cell_type": "code",
   "execution_count": 27,
   "id": "a7e8b39a-e63a-4fec-9330-dac5099fb315",
   "metadata": {},
   "outputs": [
    {
     "name": "stderr",
     "output_type": "stream",
     "text": [
      "INFO:root:Loading model from checkpoint...\n",
      "INFO:root:Creating instance of RTCRAM...\n",
      "INFO:timm.models._builder:Loading pretrained weights from Hugging Face hub (timm/efficientnet_b3.ra2_in1k)\n",
      "INFO:timm.models._hub:[timm/efficientnet_b3.ra2_in1k] Safe alternative available for 'pytorch_model.bin' (as 'model.safetensors'). Loading weights using safetensors.\n",
      "INFO:root:Preparing checkpoint...\n",
      "INFO:root:loading model state dict...\n",
      "INFO:root:Loading model from checkpoint...Complete!\n",
      "INFO:root:Running inference now...\n"
     ]
    },
    {
     "data": {
      "application/vnd.jupyter.widget-view+json": {
       "model_id": "1b08a9fd9e804e83905d2522c155e416",
       "version_major": 2,
       "version_minor": 0
      },
      "text/plain": [
       "Running inference:   0%|          | 0/4 [00:00<?, ?it/s]"
      ]
     },
     "metadata": {},
     "output_type": "display_data"
    },
    {
     "data": {
      "application/vnd.jupyter.widget-view+json": {
       "model_id": "",
       "version_major": 2,
       "version_minor": 0
      },
      "text/plain": [
       "Generating motor commands:   0%|          | 0/64 [00:00<?, ?it/s]"
      ]
     },
     "metadata": {},
     "output_type": "display_data"
    },
    {
     "data": {
      "application/vnd.jupyter.widget-view+json": {
       "model_id": "",
       "version_major": 2,
       "version_minor": 0
      },
      "text/plain": [
       "Generating motor commands:   0%|          | 0/64 [00:00<?, ?it/s]"
      ]
     },
     "metadata": {},
     "output_type": "display_data"
    },
    {
     "data": {
      "application/vnd.jupyter.widget-view+json": {
       "model_id": "",
       "version_major": 2,
       "version_minor": 0
      },
      "text/plain": [
       "Generating motor commands:   0%|          | 0/64 [00:00<?, ?it/s]"
      ]
     },
     "metadata": {},
     "output_type": "display_data"
    },
    {
     "data": {
      "application/vnd.jupyter.widget-view+json": {
       "model_id": "",
       "version_major": 2,
       "version_minor": 0
      },
      "text/plain": [
       "Generating motor commands:   0%|          | 0/64 [00:00<?, ?it/s]"
      ]
     },
     "metadata": {},
     "output_type": "display_data"
    },
    {
     "name": "stdout",
     "output_type": "stream",
     "text": [
      "**** Evaluatiion Report *****\n",
      "> Test Lev. distance\t: 8.4180\n",
      "> Success Rate\t\t: 43.7500%\n",
      "**** Evaluatiion Report *****\n"
     ]
    },
    {
     "data": {
      "text/plain": [
       "Index(['prediction', 'label', 'correct', 'distance'], dtype='object')"
      ]
     },
     "execution_count": 27,
     "metadata": {},
     "output_type": "execute_result"
    }
   ],
   "source": [
    "out = model_utils.inference_step(\n",
    "    test_loader=dm.test_dataloader(), \n",
    "    mode=\"eval\", \n",
    "    device=config.DEVICE\n",
    ")\n",
    "out.keys()"
   ]
  },
  {
   "cell_type": "code",
   "execution_count": 28,
   "id": "0794a82d-e3a2-4306-ad68-b9f0bd00e729",
   "metadata": {},
   "outputs": [
    {
     "data": {
      "text/html": [
       "<div>\n",
       "<style scoped>\n",
       "    .dataframe tbody tr th:only-of-type {\n",
       "        vertical-align: middle;\n",
       "    }\n",
       "\n",
       "    .dataframe tbody tr th {\n",
       "        vertical-align: top;\n",
       "    }\n",
       "\n",
       "    .dataframe thead th {\n",
       "        text-align: right;\n",
       "    }\n",
       "</style>\n",
       "<table border=\"1\" class=\"dataframe\">\n",
       "  <thead>\n",
       "    <tr style=\"text-align: right;\">\n",
       "      <th></th>\n",
       "      <th>prediction</th>\n",
       "      <th>label</th>\n",
       "      <th>correct</th>\n",
       "      <th>distance</th>\n",
       "    </tr>\n",
       "  </thead>\n",
       "  <tbody>\n",
       "    <tr>\n",
       "      <th>0</th>\n",
       "      <td>:FORK RED POSE-13 :FORK BLUE POSE-11 :FORK #'*...</td>\n",
       "      <td>:FORK RED POSE-13 :MONDAMIN BLUE POSE-11 :FORK...</td>\n",
       "      <td>0.0</td>\n",
       "      <td>14</td>\n",
       "    </tr>\n",
       "    <tr>\n",
       "      <th>1</th>\n",
       "      <td>:BREAKFAST-CEREAL BLUE POSE-3 :BREAKFAST-CEREA...</td>\n",
       "      <td>:BREAKFAST-CEREAL BLUE POSE-3 :BREAKFAST-CEREA...</td>\n",
       "      <td>1.0</td>\n",
       "      <td>0</td>\n",
       "    </tr>\n",
       "    <tr>\n",
       "      <th>2</th>\n",
       "      <td>:CEREAL BLUE POSE-11 :CEREAL #'*forward-transf...</td>\n",
       "      <td>:CEREAL BLUE POSE-11 :CEREAL #'*forward-transf...</td>\n",
       "      <td>1.0</td>\n",
       "      <td>0</td>\n",
       "    </tr>\n",
       "    <tr>\n",
       "      <th>3</th>\n",
       "      <td>:BREAKFAST-CEREAL RED POSE-7 :PLATE GREEN POSE...</td>\n",
       "      <td>:BREAKFAST-CEREAL GREEN POSE-7 :PLATE RED POSE...</td>\n",
       "      <td>0.0</td>\n",
       "      <td>6</td>\n",
       "    </tr>\n",
       "    <tr>\n",
       "      <th>4</th>\n",
       "      <td>:KNIFE BLUE POSE-10 :KNIFE GREEN POSE-3 :KNIFE...</td>\n",
       "      <td>:KNIFE GREEN POSE-2 :KNIFE #'*forward-transfor...</td>\n",
       "      <td>0.0</td>\n",
       "      <td>21</td>\n",
       "    </tr>\n",
       "    <tr>\n",
       "      <th>...</th>\n",
       "      <td>...</td>\n",
       "      <td>...</td>\n",
       "      <td>...</td>\n",
       "      <td>...</td>\n",
       "    </tr>\n",
       "    <tr>\n",
       "      <th>251</th>\n",
       "      <td>:SPOON RED POSE-9 :CAP BLUE POSE-1 :SPOON #'*f...</td>\n",
       "      <td>:SPOON RED POSE-9 :CAP BLUE POSE-1 :SPOON #'*f...</td>\n",
       "      <td>1.0</td>\n",
       "      <td>0</td>\n",
       "    </tr>\n",
       "    <tr>\n",
       "      <th>252</th>\n",
       "      <td>:CUP RED POSE-6 :BOTTLE BLUE POSE-2 :CUP #'*ri...</td>\n",
       "      <td>:CUP RED POSE-6 :CAP BLUE POSE-2 :CUP #'*right...</td>\n",
       "      <td>0.0</td>\n",
       "      <td>7</td>\n",
       "    </tr>\n",
       "    <tr>\n",
       "      <th>253</th>\n",
       "      <td>RED POSE-6 :CUP RED POSE-1 :CUP #'*forward-tra...</td>\n",
       "      <td>:CUP RED POSE-6 :RED-METAL-PLATE RED POSE-1 :C...</td>\n",
       "      <td>0.0</td>\n",
       "      <td>33</td>\n",
       "    </tr>\n",
       "    <tr>\n",
       "      <th>254</th>\n",
       "      <td>:CEREAL RED POSE-11 :CEREAL #'*leftward-transf...</td>\n",
       "      <td>:CEREAL RED POSE-11 :CEREAL #'*leftward-transf...</td>\n",
       "      <td>1.0</td>\n",
       "      <td>0</td>\n",
       "    </tr>\n",
       "    <tr>\n",
       "      <th>255</th>\n",
       "      <td>:CEREAL RED POSE-14 :BLUE-METAL-PLATE RED POSE...</td>\n",
       "      <td>:CEREAL RED POSE-14 :BLUE-METAL-PLATE RED POSE...</td>\n",
       "      <td>1.0</td>\n",
       "      <td>0</td>\n",
       "    </tr>\n",
       "  </tbody>\n",
       "</table>\n",
       "<p>256 rows × 4 columns</p>\n",
       "</div>"
      ],
      "text/plain": [
       "                                            prediction  \\\n",
       "0    :FORK RED POSE-13 :FORK BLUE POSE-11 :FORK #'*...   \n",
       "1    :BREAKFAST-CEREAL BLUE POSE-3 :BREAKFAST-CEREA...   \n",
       "2    :CEREAL BLUE POSE-11 :CEREAL #'*forward-transf...   \n",
       "3    :BREAKFAST-CEREAL RED POSE-7 :PLATE GREEN POSE...   \n",
       "4    :KNIFE BLUE POSE-10 :KNIFE GREEN POSE-3 :KNIFE...   \n",
       "..                                                 ...   \n",
       "251  :SPOON RED POSE-9 :CAP BLUE POSE-1 :SPOON #'*f...   \n",
       "252  :CUP RED POSE-6 :BOTTLE BLUE POSE-2 :CUP #'*ri...   \n",
       "253  RED POSE-6 :CUP RED POSE-1 :CUP #'*forward-tra...   \n",
       "254  :CEREAL RED POSE-11 :CEREAL #'*leftward-transf...   \n",
       "255  :CEREAL RED POSE-14 :BLUE-METAL-PLATE RED POSE...   \n",
       "\n",
       "                                                 label  correct  distance  \n",
       "0    :FORK RED POSE-13 :MONDAMIN BLUE POSE-11 :FORK...      0.0        14  \n",
       "1    :BREAKFAST-CEREAL BLUE POSE-3 :BREAKFAST-CEREA...      1.0         0  \n",
       "2    :CEREAL BLUE POSE-11 :CEREAL #'*forward-transf...      1.0         0  \n",
       "3    :BREAKFAST-CEREAL GREEN POSE-7 :PLATE RED POSE...      0.0         6  \n",
       "4    :KNIFE GREEN POSE-2 :KNIFE #'*forward-transfor...      0.0        21  \n",
       "..                                                 ...      ...       ...  \n",
       "251  :SPOON RED POSE-9 :CAP BLUE POSE-1 :SPOON #'*f...      1.0         0  \n",
       "252  :CUP RED POSE-6 :CAP BLUE POSE-2 :CUP #'*right...      0.0         7  \n",
       "253  :CUP RED POSE-6 :RED-METAL-PLATE RED POSE-1 :C...      0.0        33  \n",
       "254  :CEREAL RED POSE-11 :CEREAL #'*leftward-transf...      1.0         0  \n",
       "255  :CEREAL RED POSE-14 :BLUE-METAL-PLATE RED POSE...      1.0         0  \n",
       "\n",
       "[256 rows x 4 columns]"
      ]
     },
     "execution_count": 28,
     "metadata": {},
     "output_type": "execute_result"
    }
   ],
   "source": [
    "out"
   ]
  },
  {
   "cell_type": "code",
   "execution_count": null,
   "id": "34cf4f7b-a680-4644-8cf4-bfcf28d614c8",
   "metadata": {},
   "outputs": [],
   "source": []
  },
  {
   "cell_type": "code",
   "execution_count": null,
   "id": "2539711a-9241-408d-b0e0-f088baa836cc",
   "metadata": {},
   "outputs": [],
   "source": []
  }
 ],
 "metadata": {
  "kernelspec": {
   "display_name": "Python 3 (ipykernel)",
   "language": "python",
   "name": "python3"
  },
  "language_info": {
   "codemirror_mode": {
    "name": "ipython",
    "version": 3
   },
   "file_extension": ".py",
   "mimetype": "text/x-python",
   "name": "python",
   "nbconvert_exporter": "python",
   "pygments_lexer": "ipython3",
   "version": "3.10.4"
  }
 },
 "nbformat": 4,
 "nbformat_minor": 5
}
